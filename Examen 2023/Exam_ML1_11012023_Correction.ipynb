{
 "cells": [
  {
   "cell_type": "markdown",
   "metadata": {},
   "source": [
    "# TP noté \"Machine Learning 1\" <a class=\"tocSkip\">\n",
    "11 janvier 2023\n"
   ]
  },
  {
   "cell_type": "markdown",
   "metadata": {},
   "source": [
    "Les données proposées dans ce sujet sont des données synthétiques qui nous permettront d'examiner et mettre en oeuvre plusieurs des méthodes rencontrées dans l'unité. Ce sujet traitera ainsi de\n",
    "\n",
    "- régression de Poisson et régression linéaire\n",
    "- clustering (avec KMeans)\n",
    "- discrimination avec une régression logistique\n",
    "- estimation des performances par validation croisée\n",
    "- estimation d'incertitudes par bootstrap\n",
    "\n",
    "**Instructions** \n",
    "\n",
    "- répondre aux questions en utilisant _le langage de votre choix_, soit dans un Notebook Jupyter, soit dans un notebook Rstudio\n",
    "- vous ferez les calculs et tracerez les figures demandées. Vous insèrerez vos commentaires dans une cellule markdown/texte. _**Il est impératif de commenter ce que vous faites, pourquoi, et les résultats que vous obtenez ; le code seul ne vous rapportera qu'un peu plus de la moitié des points.**_  \n",
    "- vous pouvez même utiliser plusieurs langages si vous le souhaitez\n",
    "- tous documents autorisés\n",
    "- interdiction de communiquer avec d'autres intelligences, humaines ou artificielles. \n",
    "- en fin de session, vous rendrez votre notebook en le téléversant sur icampus\n",
    "\n",
    "\n",
    "**Les parties 2, 3, 4, 5 (partiellement) sont indépendantes** "
   ]
  },
  {
   "cell_type": "markdown",
   "metadata": {},
   "source": [
    "## 1 - Données"
   ]
  },
  {
   "cell_type": "markdown",
   "metadata": {},
   "source": [
    "- Charger le fichier `Data_2023.csv`.Vous appellerez `df` le dataframe.  \n",
    "- Combien ce fichier contient-il d'exemples, de variables ? \n",
    "- Quelles peuvent être les variables catégorielles ? \n"
   ]
  },
  {
   "cell_type": "code",
   "execution_count": 65,
   "metadata": {
    "ExecuteTime": {
     "end_time": "2024-01-06T17:14:51.422516700Z",
     "start_time": "2024-01-06T17:14:51.375507900Z"
    }
   },
   "outputs": [],
   "source": [
    "# Importation des différents packages requis pour les différentes tâches\n",
    "\n",
    "# Importation de 'pandas' (lecture de fichier et gestion de dataframe)\n",
    "import pandas as pd\n",
    "\n",
    "# Importation de 'seaborn' pour les représentations\n",
    "import seaborn as sns\n",
    "\n",
    "# Importe le fichier fournit par le professeur \n",
    "import GLMRegression\n",
    "\n",
    "# Importation de 'pyplot' pour afficher les graphiques\n",
    "import matplotlib.pyplot as plt\n",
    "\n",
    "# Importation de 'accuracy_score' & 'mean_squared_error' pour la régression logistique depuis sklearn\n",
    "from sklearn.metrics import accuracy_score, mean_squared_error\n",
    "\n",
    "# Importation de 'train_test_split' pour la régression logistique depuis sklearn\n",
    "from sklearn.model_selection import train_test_split\n",
    "\n",
    "# Importation de 'statsmodels.api' pour récupérer un modèle de GLM\n",
    "import statsmodels.api as sm"
   ]
  },
  {
   "cell_type": "code",
   "execution_count": 48,
   "metadata": {
    "ExecuteTime": {
     "end_time": "2024-01-06T16:38:54.327851500Z",
     "start_time": "2024-01-06T16:38:54.266166500Z"
    }
   },
   "outputs": [
    {
     "name": "stdout",
     "output_type": "stream",
     "text": [
      "Nous dénombrons au total 3639 observations, et on compte 10 variables.\n"
     ]
    },
    {
     "data": {
      "text/plain": "         v1 v2        v3  v4  v5   v6  v7  v8  v9  r\n0 -5.244266  A -2.544469 -12   0  0.0  -7 -19   8  0\n2 -7.882469  B  0.087773 -10   0  0.0 -11 -20   8  1\n3 -7.155857  A -0.713578 -13   0  1.0 -10 -24   7  1\n4  2.257337  B -2.380117   5   1  0.0   3   9  10  0\n5 -7.760821  B  3.101712  -5   1  0.0 -10 -14   8  1",
      "text/html": "<div>\n<style scoped>\n    .dataframe tbody tr th:only-of-type {\n        vertical-align: middle;\n    }\n\n    .dataframe tbody tr th {\n        vertical-align: top;\n    }\n\n    .dataframe thead th {\n        text-align: right;\n    }\n</style>\n<table border=\"1\" class=\"dataframe\">\n  <thead>\n    <tr style=\"text-align: right;\">\n      <th></th>\n      <th>v1</th>\n      <th>v2</th>\n      <th>v3</th>\n      <th>v4</th>\n      <th>v5</th>\n      <th>v6</th>\n      <th>v7</th>\n      <th>v8</th>\n      <th>v9</th>\n      <th>r</th>\n    </tr>\n  </thead>\n  <tbody>\n    <tr>\n      <th>0</th>\n      <td>-5.244266</td>\n      <td>A</td>\n      <td>-2.544469</td>\n      <td>-12</td>\n      <td>0</td>\n      <td>0.0</td>\n      <td>-7</td>\n      <td>-19</td>\n      <td>8</td>\n      <td>0</td>\n    </tr>\n    <tr>\n      <th>2</th>\n      <td>-7.882469</td>\n      <td>B</td>\n      <td>0.087773</td>\n      <td>-10</td>\n      <td>0</td>\n      <td>0.0</td>\n      <td>-11</td>\n      <td>-20</td>\n      <td>8</td>\n      <td>1</td>\n    </tr>\n    <tr>\n      <th>3</th>\n      <td>-7.155857</td>\n      <td>A</td>\n      <td>-0.713578</td>\n      <td>-13</td>\n      <td>0</td>\n      <td>1.0</td>\n      <td>-10</td>\n      <td>-24</td>\n      <td>7</td>\n      <td>1</td>\n    </tr>\n    <tr>\n      <th>4</th>\n      <td>2.257337</td>\n      <td>B</td>\n      <td>-2.380117</td>\n      <td>5</td>\n      <td>1</td>\n      <td>0.0</td>\n      <td>3</td>\n      <td>9</td>\n      <td>10</td>\n      <td>0</td>\n    </tr>\n    <tr>\n      <th>5</th>\n      <td>-7.760821</td>\n      <td>B</td>\n      <td>3.101712</td>\n      <td>-5</td>\n      <td>1</td>\n      <td>0.0</td>\n      <td>-10</td>\n      <td>-14</td>\n      <td>8</td>\n      <td>1</td>\n    </tr>\n  </tbody>\n</table>\n</div>"
     },
     "execution_count": 48,
     "metadata": {},
     "output_type": "execute_result"
    }
   ],
   "source": [
    "# Lecture du fichier .csv grâce à 'pandas' et on supprime les valeurs manquantes\n",
    "df = pd.read_csv('Data_2023.csv').dropna()\n",
    "\n",
    "# Récupère le nombre d'observations (lignes) et le nombre de variables (colonnes)\n",
    "print(f\"Nous dénombrons au total {df.shape[0]} observations, et on compte {df.shape[1]} variables.\")\n",
    "\n",
    "# Affichage des 5 premières valeurs pour visualiser les données\n",
    "df.head()"
   ]
  },
  {
   "cell_type": "code",
   "execution_count": 49,
   "outputs": [
    {
     "name": "stdout",
     "output_type": "stream",
     "text": [
      "v1    2435\n",
      "v2       2\n",
      "v3    3639\n",
      "v4      24\n",
      "v5       2\n",
      "v6      61\n",
      "v7      19\n",
      "v8      45\n",
      "v9      16\n",
      "r        2\n",
      "dtype: int64\n"
     ]
    }
   ],
   "source": [
    "# Afin de déterminer les variables catégorielles, nous cherchons à récupérer différentes informations concernant le type et le contenu de chaque colonne\n",
    "# Dans le cas de variables catégorielles, il est fréquent qu'il y ait peu de valeurs différentes (e.g : valeur binaire pour homme/femme) \n",
    "print(df.nunique())"
   ],
   "metadata": {
    "collapsed": false,
    "ExecuteTime": {
     "end_time": "2024-01-06T16:38:54.924003600Z",
     "start_time": "2024-01-06T16:38:54.876125200Z"
    }
   }
  },
  {
   "cell_type": "markdown",
   "source": [
    "On peut d'ores et déjà espérer voir les variables 'v2', 'v5' & 'r'."
   ],
   "metadata": {
    "collapsed": false
   }
  },
  {
   "cell_type": "markdown",
   "metadata": {},
   "source": [
    "- Examiner quelles sont les corrélations entre les différentes variables"
   ]
  },
  {
   "cell_type": "code",
   "execution_count": 50,
   "metadata": {
    "ExecuteTime": {
     "end_time": "2024-01-06T16:38:56.039948500Z",
     "start_time": "2024-01-06T16:38:55.714077200Z"
    }
   },
   "outputs": [
    {
     "data": {
      "text/plain": "<Axes: >"
     },
     "execution_count": 50,
     "metadata": {},
     "output_type": "execute_result"
    },
    {
     "data": {
      "text/plain": "<Figure size 640x480 with 2 Axes>",
      "image/png": "[encoded data removed]"
     },
     "metadata": {},
     "output_type": "display_data"
    }
   ],
   "source": [
    "# Définit la matrice de corrélation selon les différentes variables numériques. En effet, il est difficile d'exprimer la corrélation de la colonne \n",
    "# 'v2' (corréler la valeur 'A' avec '-5.24' n'est pas évident !)...\n",
    "correlation_matrix = df.corr(numeric_only = True)\n",
    "\n",
    "# Affiche une heatmap carrée où chaque case exprime la corrélation des variables entre l'abscisse et l'ordonnée\n",
    "sns.heatmap(df.corr(numeric_only = True))"
   ]
  },
  {
   "cell_type": "code",
   "execution_count": 51,
   "metadata": {
    "ExecuteTime": {
     "end_time": "2024-01-06T16:38:56.040445Z",
     "start_time": "2024-01-06T16:38:55.978940500Z"
    }
   },
   "outputs": [
    {
     "name": "stdout",
     "output_type": "stream",
     "text": [
      "Variables v1 and v4 have a correlation of 0.84\n",
      "Variables v1 and v7 have a correlation of 0.91\n",
      "Variables v1 and v8 have a correlation of 0.92\n",
      "Variables v4 and v1 have a correlation of 0.84\n",
      "Variables v4 and v7 have a correlation of 0.80\n",
      "Variables v4 and v8 have a correlation of 0.95\n",
      "Variables v7 and v1 have a correlation of 0.91\n",
      "Variables v7 and v4 have a correlation of 0.80\n",
      "Variables v7 and v8 have a correlation of 0.94\n",
      "Variables v8 and v1 have a correlation of 0.92\n",
      "Variables v8 and v4 have a correlation of 0.95\n",
      "Variables v8 and v7 have a correlation of 0.94\n"
     ]
    }
   ],
   "source": [
    "# Création d'une liste contenant les paires de variables à haute corrélation (Corr(X,Y)>0.7)\n",
    "duo_high_corr = []\n",
    "\n",
    "# On parcourt chaque ligne de notre matrice de corrélation\n",
    "for row in correlation_matrix.index:\n",
    "    # Puis chaque colonne de cette même matrice\n",
    "    for col in correlation_matrix.columns:\n",
    "        # Si l'on observe une corrélation pour un couple (i,j) telle que cette dernière possède une valeur absolue supérieure à 0.7, on l'enregistre\n",
    "        # Bien entendu, nous ne prendrons pas en compte les auto-corrélations qui sont toutes d'une valeur de 1 !\n",
    "        if (correlation_matrix.loc[row, col] > 0.7 or correlation_matrix.loc[row, col] < -0.7) and row != col:\n",
    "            # une fois dans cette condition, on ajoutera sous forme de tuple les index et la corrélation associée.\n",
    "            duo_high_corr.append((row, col, correlation_matrix.loc[row, col]))\n",
    "\n",
    "\n",
    "# Pour chaque duo de variables ayant une haute corrélation, on affiche les paires et la corrélation\n",
    "for pair in duo_high_corr:\n",
    "    print(f\"Variables {pair[0]} and {pair[1]} have a correlation of {pair[2]:.2f}\")"
   ]
  },
  {
   "cell_type": "markdown",
   "source": [
    "On observe donc des couples avec des corrélations importantes :\n",
    "- 'v1' :\n",
    "    - Corr(v1,v4) = 0.84\n",
    "    - Corr(v1,v7) = 0.91\n",
    "    - Corr(v1,v8) = 0.92\n",
    "- 'v4' :\n",
    "    - Corr(v4,v7) = 0.80\n",
    "    - Corr(v4,v8) = 0.95\n",
    "- 'v7' :\n",
    "    - Corr(v7,v8) = 0.94"
   ],
   "metadata": {
    "collapsed": false
   }
  },
  {
   "cell_type": "markdown",
   "metadata": {},
   "source": [
    "- Tracer les histogrammes des variables 1, 3, 5. Peut-on soupçonner qu'il y ait des sous ensembles d'exemples avec des comportements différents ? "
   ]
  },
  {
   "cell_type": "code",
   "execution_count": 52,
   "metadata": {
    "ExecuteTime": {
     "end_time": "2024-01-06T16:39:16.012560Z",
     "start_time": "2024-01-06T16:39:15.314689200Z"
    }
   },
   "outputs": [
    {
     "data": {
      "text/plain": "<Figure size 800x500 with 1 Axes>",
      "image/png": "[encoded data removed]"
     },
     "metadata": {},
     "output_type": "display_data"
    },
    {
     "data": {
      "text/plain": "<Figure size 800x500 with 1 Axes>",
      "image/png": "[encoded data removed]"
     },
     "metadata": {},
     "output_type": "display_data"
    },
    {
     "data": {
      "text/plain": "<Figure size 800x500 with 1 Axes>",
      "image/png": "[encoded data removed]"
     },
     "metadata": {},
     "output_type": "display_data"
    }
   ],
   "source": [
    "def plot_histograms(data = df, list_var=None, figsize = (8, 5)):\n",
    "    \"\"\"\n",
    "    Fonction définissant un histogramme pour une liste de variables passée en paramètre\n",
    "    :param data: jeu de données\n",
    "    :param list_var: liste contenant le nom des variables à plot sous histogramme depuis le jeu de données\n",
    "    :param figsize: (dimension du graphique)\n",
    "    :return: un histogramme pour chaque élément dans list_var (3 par défaut)\n",
    "    \"\"\"\n",
    "    if list_var is None:\n",
    "        list_var = ['v1', 'v3', 'v5']\n",
    "    for var in list_var:\n",
    "        f, ax = plt.subplots(figsize=(8, 5))\n",
    "        sns.histplot(data = df, x = var)\n",
    "        ax.set_title(f\"Histogramme de '{var}'\")\n",
    "        ax.set_xlabel(f\"Valeur de '{var}'\")\n",
    "        ax.set_ylabel('Occurrences')\n",
    "\n",
    "plot_histograms()"
   ]
  },
  {
   "cell_type": "markdown",
   "source": [
    "Pour la première variable **'v1'**, on observe globalement trois sous-ensembles. Le premier se situe vers **-7.5**, le second vers **0**, et enfin le dernier vers **5**.\n",
    "\n",
    "Pour la seconde variable **'v2'**, on observe cette fois-ci deux sous-ensembles. Le premier se situe vers **0**, tandis que le second réside vers **6**.\n",
    " \n",
    "Enfin, la dernière variable **\"v3'** dénote clairement deux sous-ensembles. Cela semble être une distribution binaire."
   ],
   "metadata": {
    "collapsed": false
   }
  },
  {
   "cell_type": "markdown",
   "metadata": {},
   "source": [
    "## 2 - Conversion\n",
    "\n",
    "La variable 2, `v2`, est catégorielle. Convertir cette variable en binaire, sur deux niveaux 0 et 1 ; et mettre à jour le dataframe `df`. Si vous n'arriviez pas à réaliser cette opération, charger le résultat `Data_2023b.csv` "
   ]
  },
  {
   "cell_type": "code",
   "execution_count": 53,
   "metadata": {
    "ExecuteTime": {
     "end_time": "2024-01-06T16:39:45.479876400Z",
     "start_time": "2024-01-06T16:39:45.411256200Z"
    }
   },
   "outputs": [
    {
     "data": {
      "text/plain": "         v1  v2        v3  v4  v5   v6  v7  v8  v9  r\n0 -5.244266   0 -2.544469 -12   0  0.0  -7 -19   8  0\n2 -7.882469   1  0.087773 -10   0  0.0 -11 -20   8  1\n3 -7.155857   0 -0.713578 -13   0  1.0 -10 -24   7  1\n4  2.257337   1 -2.380117   5   1  0.0   3   9  10  0\n5 -7.760821   1  3.101712  -5   1  0.0 -10 -14   8  1",
      "text/html": "<div>\n<style scoped>\n    .dataframe tbody tr th:only-of-type {\n        vertical-align: middle;\n    }\n\n    .dataframe tbody tr th {\n        vertical-align: top;\n    }\n\n    .dataframe thead th {\n        text-align: right;\n    }\n</style>\n<table border=\"1\" class=\"dataframe\">\n  <thead>\n    <tr style=\"text-align: right;\">\n      <th></th>\n      <th>v1</th>\n      <th>v2</th>\n      <th>v3</th>\n      <th>v4</th>\n      <th>v5</th>\n      <th>v6</th>\n      <th>v7</th>\n      <th>v8</th>\n      <th>v9</th>\n      <th>r</th>\n    </tr>\n  </thead>\n  <tbody>\n    <tr>\n      <th>0</th>\n      <td>-5.244266</td>\n      <td>0</td>\n      <td>-2.544469</td>\n      <td>-12</td>\n      <td>0</td>\n      <td>0.0</td>\n      <td>-7</td>\n      <td>-19</td>\n      <td>8</td>\n      <td>0</td>\n    </tr>\n    <tr>\n      <th>2</th>\n      <td>-7.882469</td>\n      <td>1</td>\n      <td>0.087773</td>\n      <td>-10</td>\n      <td>0</td>\n      <td>0.0</td>\n      <td>-11</td>\n      <td>-20</td>\n      <td>8</td>\n      <td>1</td>\n    </tr>\n    <tr>\n      <th>3</th>\n      <td>-7.155857</td>\n      <td>0</td>\n      <td>-0.713578</td>\n      <td>-13</td>\n      <td>0</td>\n      <td>1.0</td>\n      <td>-10</td>\n      <td>-24</td>\n      <td>7</td>\n      <td>1</td>\n    </tr>\n    <tr>\n      <th>4</th>\n      <td>2.257337</td>\n      <td>1</td>\n      <td>-2.380117</td>\n      <td>5</td>\n      <td>1</td>\n      <td>0.0</td>\n      <td>3</td>\n      <td>9</td>\n      <td>10</td>\n      <td>0</td>\n    </tr>\n    <tr>\n      <th>5</th>\n      <td>-7.760821</td>\n      <td>1</td>\n      <td>3.101712</td>\n      <td>-5</td>\n      <td>1</td>\n      <td>0.0</td>\n      <td>-10</td>\n      <td>-14</td>\n      <td>8</td>\n      <td>1</td>\n    </tr>\n  </tbody>\n</table>\n</div>"
     },
     "execution_count": 53,
     "metadata": {},
     "output_type": "execute_result"
    }
   ],
   "source": [
    "# On assigne un nouveau vecteur de valeurs à 'v2' où 'A' correspond à '0', et 'B' correspond à '1'\n",
    "df['v2'] = df['v2'].replace({'A' : 0, 'B' : 1})\n",
    "\n",
    "# On affiche les 5 premières valeurs de df\n",
    "df.head()"
   ]
  },
  {
   "cell_type": "code",
   "execution_count": 55,
   "metadata": {
    "ExecuteTime": {
     "end_time": "2024-01-06T16:40:34.909542300Z",
     "start_time": "2024-01-06T16:40:34.828788200Z"
    }
   },
   "outputs": [
    {
     "data": {
      "text/plain": "         v1  v2        v3  v4  v5   v6  v7  v8  v9  r\n0 -5.244266   0 -2.544469 -12   0  0.0  -7 -19   8  0\n2 -7.882469   1  0.087773 -10   0  0.0 -11 -20   8  1\n3 -7.155857   0 -0.713578 -13   0  1.0 -10 -24   7  1\n4  2.257337   1 -2.380117   5   1  0.0   3   9  10  0\n5 -7.760821   1  3.101712  -5   1  0.0 -10 -14   8  1",
      "text/html": "<div>\n<style scoped>\n    .dataframe tbody tr th:only-of-type {\n        vertical-align: middle;\n    }\n\n    .dataframe tbody tr th {\n        vertical-align: top;\n    }\n\n    .dataframe thead th {\n        text-align: right;\n    }\n</style>\n<table border=\"1\" class=\"dataframe\">\n  <thead>\n    <tr style=\"text-align: right;\">\n      <th></th>\n      <th>v1</th>\n      <th>v2</th>\n      <th>v3</th>\n      <th>v4</th>\n      <th>v5</th>\n      <th>v6</th>\n      <th>v7</th>\n      <th>v8</th>\n      <th>v9</th>\n      <th>r</th>\n    </tr>\n  </thead>\n  <tbody>\n    <tr>\n      <th>0</th>\n      <td>-5.244266</td>\n      <td>0</td>\n      <td>-2.544469</td>\n      <td>-12</td>\n      <td>0</td>\n      <td>0.0</td>\n      <td>-7</td>\n      <td>-19</td>\n      <td>8</td>\n      <td>0</td>\n    </tr>\n    <tr>\n      <th>2</th>\n      <td>-7.882469</td>\n      <td>1</td>\n      <td>0.087773</td>\n      <td>-10</td>\n      <td>0</td>\n      <td>0.0</td>\n      <td>-11</td>\n      <td>-20</td>\n      <td>8</td>\n      <td>1</td>\n    </tr>\n    <tr>\n      <th>3</th>\n      <td>-7.155857</td>\n      <td>0</td>\n      <td>-0.713578</td>\n      <td>-13</td>\n      <td>0</td>\n      <td>1.0</td>\n      <td>-10</td>\n      <td>-24</td>\n      <td>7</td>\n      <td>1</td>\n    </tr>\n    <tr>\n      <th>4</th>\n      <td>2.257337</td>\n      <td>1</td>\n      <td>-2.380117</td>\n      <td>5</td>\n      <td>1</td>\n      <td>0.0</td>\n      <td>3</td>\n      <td>9</td>\n      <td>10</td>\n      <td>0</td>\n    </tr>\n    <tr>\n      <th>5</th>\n      <td>-7.760821</td>\n      <td>1</td>\n      <td>3.101712</td>\n      <td>-5</td>\n      <td>1</td>\n      <td>0.0</td>\n      <td>-10</td>\n      <td>-14</td>\n      <td>8</td>\n      <td>1</td>\n    </tr>\n  </tbody>\n</table>\n</div>"
     },
     "execution_count": 55,
     "metadata": {},
     "output_type": "execute_result"
    }
   ],
   "source": [
    "# Permet de charger un jeu de données où v2 est catégorielle\n",
    "df_b = pd.read_csv(\"Data_2023b.csv\").dropna()\n",
    "\n",
    "# On affiche les 5 premières valeurs de df_b\n",
    "df_b.head()"
   ]
  },
  {
   "cell_type": "markdown",
   "source": [
    "On observe que le travail réalisé sur df est correcte. Pour cette raison, nous continuerons donc à exploiter df et non df_b car cela ne s'avère pas nécessaire."
   ],
   "metadata": {
    "collapsed": false
   }
  },
  {
   "cell_type": "markdown",
   "metadata": {},
   "source": [
    "## 3 - Discrimination (régression logistique)\n",
    "\n",
    "La réponse est la variable `r`. On cherche à prédire cette réponse `r` à partir des variables explicatives `v1` à `v9`. Si le dataframe contient des variables supplémentaires, vous ne les utiliserez pas pour la discrimination. \n",
    "\n",
    "- Séparer les données en une base d'apprentissage et une base de test, avec un ratio 2/3, 1/3. \n",
    "- Apprendre une régression logistique (classe `LogisticRegression` en python/sklearn, fonction `glm` avec le paramètre `family=binomial` en R ou en Python avec statsmodels)\n",
    "- Calculer les scores sur les bases de test et d'apprentissage. Ces scores sont-ils différents, commenter.\n",
    "- Calculer la matrice de confusion (sur la base de test !). Quel est le taux de faux positifs ? NB - Sous python, vous pouvez utiliser `pd.crosstab` pour calculer cette matrice de confusion\n",
    "- Apprendre la régression sur la base complète et calculer le score par validation croisée. Comparer le score obtenu par validation croisée à celui obtenu sur la base de test. Quel est l'intérêt de la validation croisée (au moins si les données sont en nombre faible) ?\n",
    "\n",
    "\n",
    "NB - la variable `v6` présente des valeurs manquantes NA. **Si** cela posait des difficultés à la méthode que vous employez, ce n'est pas obligé, vous pouvez (i) soit supprimer les lignes correspondantes (ii) soit utiliser le fichier `Data_2023c.csv` "
   ]
  },
  {
   "cell_type": "code",
   "execution_count": 76,
   "metadata": {
    "ExecuteTime": {
     "end_time": "2024-01-06T17:24:48.739114800Z",
     "start_time": "2024-01-06T17:24:48.643247700Z"
    }
   },
   "outputs": [],
   "source": [
    "# Dans un premier temps, on scinde notre dataframe en deux dataframes distincts X et Y\n",
    "\n",
    "# Variables prédictives (axis = 1 : drop a column)\n",
    "X = df.drop('r', axis=1)\n",
    "\n",
    "# Variable à prédire\n",
    "y = df['r']\n",
    "\n",
    "# On split le jeu de données sous forme de 2/3 (train set) - 1/3 (test set), random_state = 42 : permet d'avoir des résultats reproductibles. Afin \n",
    "# de s'assurer que les résultats soient cohérents durant l'évaluation et durant votre correction, un facteur de reproductibilité est préférable...\n",
    "X_train, X_test, y_train, y_test = train_test_split(X, y, test_size=0.33, random_state=42)"
   ]
  },
  {
   "cell_type": "code",
   "execution_count": 77,
   "outputs": [
    {
     "data": {
      "text/plain": "<class 'statsmodels.iolib.table.SimpleTable'>",
      "text/html": "<table class=\"simpletable\">\n<caption>Generalized Linear Model Regression Results</caption>\n<tr>\n  <th>Dep. Variable:</th>           <td>r</td>        <th>  No. Observations:  </th>  <td>  2438</td> \n</tr>\n<tr>\n  <th>Model:</th>                  <td>GLM</td>       <th>  Df Residuals:      </th>  <td>  2429</td> \n</tr>\n<tr>\n  <th>Model Family:</th>        <td>Binomial</td>     <th>  Df Model:          </th>  <td>     8</td> \n</tr>\n<tr>\n  <th>Link Function:</th>         <td>Logit</td>      <th>  Scale:             </th> <td>  1.0000</td>\n</tr>\n<tr>\n  <th>Method:</th>                <td>IRLS</td>       <th>  Log-Likelihood:    </th> <td> -1613.0</td>\n</tr>\n<tr>\n  <th>Date:</th>            <td>Sat, 06 Jan 2024</td> <th>  Deviance:          </th> <td>  3226.1</td>\n</tr>\n<tr>\n  <th>Time:</th>                <td>18:24:56</td>     <th>  Pearson chi2:      </th> <td>2.47e+03</td>\n</tr>\n<tr>\n  <th>No. Iterations:</th>          <td>4</td>        <th>  Pseudo R-squ. (CS):</th>  <td>0.05875</td>\n</tr>\n<tr>\n  <th>Covariance Type:</th>     <td>nonrobust</td>    <th>                     </th>     <td> </td>   \n</tr>\n</table>",
      "text/latex": "\\begin{center}\n\\begin{tabular}{lclc}\n\\toprule\n\\textbf{Dep. Variable:}   &        r         & \\textbf{  No. Observations:  } &    2438   \\\\\n\\textbf{Model:}           &       GLM        & \\textbf{  Df Residuals:      } &    2429   \\\\\n\\textbf{Model Family:}    &     Binomial     & \\textbf{  Df Model:          } &       8   \\\\\n\\textbf{Link Function:}   &      Logit       & \\textbf{  Scale:             } &   1.0000  \\\\\n\\textbf{Method:}          &       IRLS       & \\textbf{  Log-Likelihood:    } &  -1613.0  \\\\\n\\textbf{Date:}            & Sat, 06 Jan 2024 & \\textbf{  Deviance:          } &   3226.1  \\\\\n\\textbf{Time:}            &     18:24:56     & \\textbf{  Pearson chi2:      } & 2.47e+03  \\\\\n\\textbf{No. Iterations:}  &        4         & \\textbf{  Pseudo R-squ. (CS):} & 0.05875   \\\\\n\\textbf{Covariance Type:} &    nonrobust     & \\textbf{                     } &           \\\\\n\\bottomrule\n\\end{tabular}\n%\\caption{Generalized Linear Model Regression Results}\n\\end{center}"
     },
     "metadata": {},
     "output_type": "display_data"
    },
    {
     "data": {
      "text/plain": "          coef    std err          z   P>|z|     [0.025     0.975]  \\\nv1     -0.0027      0.023     -0.122   0.903     -0.047      0.041   \nv2     -0.2194      0.089     -2.470   0.013     -0.393     -0.045   \nv3      0.1123      0.018      6.380   0.000      0.078      0.147   \nv4      0.0195      0.053      0.364   0.716     -0.085      0.124   \nv5     -0.0383      0.089     -0.431   0.667     -0.213      0.136   \nv6      0.0458      0.007      6.464   0.000      0.032      0.060   \nv7     -0.1725      0.055     -3.163   0.002     -0.279     -0.066   \nv8      0.0459      0.051      0.893   0.372     -0.055      0.147   \nv9     -0.0224      0.009     -2.387   0.017     -0.041     -0.004   \n\n         p-value Code  \nv1  9.031211e-01       \nv2  1.349418e-02    *  \nv3  1.776306e-10  ***  \nv4  7.159808e-01       \nv5  6.668228e-01       \nv6  1.018276e-10  ***  \nv7  1.561776e-03   **  \nv8  3.718850e-01       \nv9  1.699264e-02    *  ",
      "text/html": "<div>\n<style scoped>\n    .dataframe tbody tr th:only-of-type {\n        vertical-align: middle;\n    }\n\n    .dataframe tbody tr th {\n        vertical-align: top;\n    }\n\n    .dataframe thead th {\n        text-align: right;\n    }\n</style>\n<table border=\"1\" class=\"dataframe\">\n  <thead>\n    <tr style=\"text-align: right;\">\n      <th></th>\n      <th>coef</th>\n      <th>std err</th>\n      <th>z</th>\n      <th>P&gt;|z|</th>\n      <th>[0.025</th>\n      <th>0.975]</th>\n      <th>p-value</th>\n      <th>Code</th>\n    </tr>\n  </thead>\n  <tbody>\n    <tr>\n      <th>v1</th>\n      <td>-0.0027</td>\n      <td>0.023</td>\n      <td>-0.122</td>\n      <td>0.903</td>\n      <td>-0.047</td>\n      <td>0.041</td>\n      <td>9.031211e-01</td>\n      <td></td>\n    </tr>\n    <tr>\n      <th>v2</th>\n      <td>-0.2194</td>\n      <td>0.089</td>\n      <td>-2.470</td>\n      <td>0.013</td>\n      <td>-0.393</td>\n      <td>-0.045</td>\n      <td>1.349418e-02</td>\n      <td>*</td>\n    </tr>\n    <tr>\n      <th>v3</th>\n      <td>0.1123</td>\n      <td>0.018</td>\n      <td>6.380</td>\n      <td>0.000</td>\n      <td>0.078</td>\n      <td>0.147</td>\n      <td>1.776306e-10</td>\n      <td>***</td>\n    </tr>\n    <tr>\n      <th>v4</th>\n      <td>0.0195</td>\n      <td>0.053</td>\n      <td>0.364</td>\n      <td>0.716</td>\n      <td>-0.085</td>\n      <td>0.124</td>\n      <td>7.159808e-01</td>\n      <td></td>\n    </tr>\n    <tr>\n      <th>v5</th>\n      <td>-0.0383</td>\n      <td>0.089</td>\n      <td>-0.431</td>\n      <td>0.667</td>\n      <td>-0.213</td>\n      <td>0.136</td>\n      <td>6.668228e-01</td>\n      <td></td>\n    </tr>\n    <tr>\n      <th>v6</th>\n      <td>0.0458</td>\n      <td>0.007</td>\n      <td>6.464</td>\n      <td>0.000</td>\n      <td>0.032</td>\n      <td>0.060</td>\n      <td>1.018276e-10</td>\n      <td>***</td>\n    </tr>\n    <tr>\n      <th>v7</th>\n      <td>-0.1725</td>\n      <td>0.055</td>\n      <td>-3.163</td>\n      <td>0.002</td>\n      <td>-0.279</td>\n      <td>-0.066</td>\n      <td>1.561776e-03</td>\n      <td>**</td>\n    </tr>\n    <tr>\n      <th>v8</th>\n      <td>0.0459</td>\n      <td>0.051</td>\n      <td>0.893</td>\n      <td>0.372</td>\n      <td>-0.055</td>\n      <td>0.147</td>\n      <td>3.718850e-01</td>\n      <td></td>\n    </tr>\n    <tr>\n      <th>v9</th>\n      <td>-0.0224</td>\n      <td>0.009</td>\n      <td>-2.387</td>\n      <td>0.017</td>\n      <td>-0.041</td>\n      <td>-0.004</td>\n      <td>1.699264e-02</td>\n      <td>*</td>\n    </tr>\n  </tbody>\n</table>\n</div>"
     },
     "metadata": {},
     "output_type": "display_data"
    },
    {
     "data": {
      "text/plain": "<IPython.core.display.HTML object>",
      "text/html": "Signif. codes:  0 '***' 0.001 '**' 0.01 '*' 0.05 '.' 0.1 ' ' 1"
     },
     "metadata": {},
     "output_type": "display_data"
    },
    {
     "data": {
      "text/plain": "<IPython.core.display.HTML object>",
      "text/html": "AIC with 9 ddl = 3244.06"
     },
     "metadata": {},
     "output_type": "display_data"
    }
   ],
   "source": [
    "# On définit ici le modèle GLM avec le training set. On pensera à définir la famille exponentielle comme Binomial\n",
    "modele_glm = sm.GLM(y_train, X_train, family=sm.families.Binomial()).fit()\n",
    "\n",
    "# On représente ensuite grâce à la méthode disponible au sein du fichier 'GLMRegression.py' les informations relatives au modèle\n",
    "GLMRegression.GLMsummary(modele_glm)"
   ],
   "metadata": {
    "collapsed": false,
    "ExecuteTime": {
     "end_time": "2024-01-06T17:24:56.493145600Z",
     "start_time": "2024-01-06T17:24:56.433130300Z"
    }
   }
  },
  {
   "cell_type": "code",
   "execution_count": 78,
   "metadata": {
    "ExecuteTime": {
     "end_time": "2024-01-06T17:25:00.370468700Z",
     "start_time": "2024-01-06T17:25:00.335749800Z"
    }
   },
   "outputs": [
    {
     "name": "stdout",
     "output_type": "stream",
     "text": [
      "Score_train : 0.603363412633306\n",
      "Score_test : 0.6228143213988343\n",
      "MSE_train : 0.23417469073219355\n",
      "MSE_test : 0.23433498245122641\n"
     ]
    }
   ],
   "source": [
    "# Désormais, nous cherchons à évaluer les performances de notre modèle en terme de prédiction\n",
    "y_train_pred = (modele_glm.predict(X_train) > 0.5).astype(int)\n",
    "y_test_pred = (modele_glm.predict(X_test) > 0.5).astype(int)\n",
    "\n",
    "print(\"Score_train :\", accuracy_score(y_train, y_train_pred))\n",
    "print(\"Score_test :\", accuracy_score(y_test, y_test_pred))\n",
    "\n",
    "# On affiche par ailleurs le MSE\n",
    "print(\"MSE_train :\", mean_squared_error(y_train, modele_glm.predict(X_train)))\n",
    "print(\"MSE_test :\", mean_squared_error(y_test, modele_glm.predict(X_test)))"
   ]
  },
  {
   "cell_type": "markdown",
   "source": [
    "On observe que les scores de test sont légèrement meilleurs même s'ils restent relativement similaires. Ceci se trouve être une très bonne nouvelle montrant que le modèle ne semble pas réaliser d'overfitting/underfitting. "
   ],
   "metadata": {
    "collapsed": false
   }
  },
  {
   "cell_type": "code",
   "execution_count": null,
   "metadata": {},
   "outputs": [],
   "source": []
  },
  {
   "cell_type": "markdown",
   "metadata": {},
   "source": [
    "## 4 - Régression linéaire et de Poisson\n",
    "\n",
    "On est ennuyé avec les valeurs manquantes dans la variable `v6`. On décide d'imputer ces valeurs manquantes. Pour cela, on va tenter de prédire les valeurs manquantes à partir des autres variables. \n",
    "\n",
    "Sous R, vous pourrez utilier la fonction `lm`, et sous Python, vous pourrez charger l'équivalent par `from LinearRegression_in_Python_like_in_R import lm`. Vous pouvez également utiliser un modèle linéaire généralisé `glm` ; sous Python vous pourrez utiliser la fonction `glm` de statsmodels, et les fonctions de résumé et de diagnostique selon `from GLMRegression_in_Python_like_in_R import GLMsummary, glm_residplot`\n",
    "\n",
    "\n",
    "- Suivant les outils que vous utilisez, vous pourrez ou pas utiliser la base `df` avec les valeurs manquantes. Le cas échéant, supprimer toutes les lignes sans NA pour la variable `v6`. Sous Python, vous pourrez utiliser `.dropna`, mais également`.notna()` pour accéder aux indices des lignes ne contenant pas de NA, et `.isna()` pour les lignes avec NA. \n",
    "\n",
    "**4.1 - Régression linéaire**\n",
    "- Effectuer une prédiction lineaire de `v6` en fonction des autres variables explicatives (les variables en `v.`, pas `r`)\n",
    "- Calculer l'erreur quadratique moyenne entre les valeurs exactes et prédites de `v6`. Vous pouvez éventuellement directement accéder à un prédicteur via une méthode `.predict()`, voire même directement aux residus via un attribut `.residuals` \n",
    "- Au vu des résultats, quelles sont les variables importantes\n",
    "- Examiner les graphes de diagnostic. Pouvez vous soupçonner une non linarité, pourquoi ? \n",
    "- Effectuer une nouvelle prédiction en ajoutant la variable `v3**2`. Que devient alors l'erreur quadratique moyenne ? La variable v5 est-elle utile ? \n",
    "- Si vous ajoutiez `v5**2` plutôt que `v3**2`, quelle seraient l'erreur quadratique moyenne ? Commentaires. \n",
    "\n",
    "**4.2 - Régression de Poisson**\n",
    "- Effectuer une régression de Poisson de `v6` en fonction des autres variables explicatives (les variables en `v.`, pas `r`)\n",
    "- Reprendre toutes les autres questions précémment traitées avec la régression linéaire (performances, variables à retenir, graphes de diagnostic, non-linéarité...)\n",
    "- Comparer les résulats obtenus par les deux approches et commenter"
   ]
  },
  {
   "cell_type": "markdown",
   "metadata": {},
   "source": [
    "**4.3 - Imputation**\n",
    "- Rempacer les données manquantes dans `df` en prédisant les valeurs manquantes à l'aide du modèle linéaire. \n",
    "Si vous ne voyez pas comment faire, utiliser `Data_2023c.csv` dans la suite. \n",
    "- Enfin, calculez une régression logistique pour prédire la variable $r$ et évaluez les performances (sur une base de test ou par validation croisée, comme en 3). Comparez le score au score obtenu précédentemment.  "
   ]
  },
  {
   "cell_type": "code",
   "execution_count": null,
   "metadata": {},
   "outputs": [],
   "source": []
  },
  {
   "cell_type": "code",
   "execution_count": null,
   "metadata": {},
   "outputs": [],
   "source": []
  },
  {
   "cell_type": "markdown",
   "metadata": {},
   "source": [
    "## Clustering\n",
    "\n",
    "Comme vous l'avez peut-être observé, on soupçonne que les données puissent être en fait composées de différents *clusters*, qui possèderaient des caractéristiques différentes. L'idées est alors qu'on pourrait -- peut-être, améliorer les performances de discrimination et utilisant des modèles différents sur chacun des clusters. \n",
    "\n",
    "Au vu des histogrammes, on teste l'hypothèse de 3 clusters. \n",
    "\n",
    "- Utiliser la méthode kmeans pour définir 3 clusters. Tracer les histogrammes de répartition des labels identifiés par kmeans. \n",
    "- Ajouter au dataframe une colonne 'km_labels' contenant le label du cluster pour chaque exemple. \n",
    "\n",
    "\n",
    "\n",
    "\n",
    "NB - Sous Python \n",
    "```\n",
    "from sklearn.cluster import KMeans\n",
    "kmeans = KMeans(...\n",
    "```\n",
    "\n"
   ]
  },
  {
   "cell_type": "code",
   "execution_count": null,
   "metadata": {},
   "outputs": [],
   "source": []
  },
  {
   "cell_type": "code",
   "execution_count": null,
   "metadata": {},
   "outputs": [],
   "source": []
  },
  {
   "cell_type": "code",
   "execution_count": null,
   "metadata": {},
   "outputs": [],
   "source": []
  },
  {
   "cell_type": "markdown",
   "metadata": {},
   "source": [
    "- Séparer votre dataframe en une base d'apprentissage `train` (les 3000 premières lignes) et une base de test `test` (les 1500 suivantes). \n",
    "- Pour chacun des groupes (vous pouvez filtrer vos données sur la valeur de la colonne 'km_labels')\n",
    "   - calculer un modèle de régression logistique \n",
    "   - et les performances correspondantes (score $s_i$, taux de faux positifs $t_i$) sur la base de test, pour les exemples du même groupe\n",
    "   - si $n_1$, $n_2$, $n_3$ sont les nombres d'exemples dans chacun des groupes, $s_1$, $s_2$, $s_3$ les scores dans chaque groupe, alors le score global sera \n",
    "$$\n",
    "   s = \\frac{n_1s_1  + n_2s_2 + n_3s_3} {n_1  + n_2 + n_3}\n",
    "$$\n",
    "   et pour le taux de faux positifs,\n",
    "$$\n",
    "   t = \\frac{n_1t_1  + n_2t_2 + n_3t_3} {n_1  + n_2 + n_3}\n",
    "$$\n",
    "- Comparez les performances aux performances obtenues précédemment et commentez   "
   ]
  },
  {
   "cell_type": "code",
   "execution_count": null,
   "metadata": {},
   "outputs": [],
   "source": []
  },
  {
   "cell_type": "code",
   "execution_count": null,
   "metadata": {},
   "outputs": [],
   "source": []
  },
  {
   "cell_type": "markdown",
   "metadata": {},
   "source": [
    "## Évaluation de la stabilité par bootstrap\n",
    "\n",
    "- Ré-échantillonnez l'ensemble `train` et générez le même nombre d'échantillons, puis apprenez vos modèles et calculez le score global comme précédemment sur la base de test _inchangée_. \n",
    "- Effectuez ceci disons B=200 fois, en stockant les valeurs de scores et taux de faux positifs. \n",
    "- Tracez les histogrammes des valeurs obtenues\n",
    "- Donnez les moyennes et intervalles de confiance correspondant. "
   ]
  },
  {
   "cell_type": "code",
   "execution_count": null,
   "metadata": {},
   "outputs": [],
   "source": []
  },
  {
   "cell_type": "code",
   "execution_count": null,
   "metadata": {},
   "outputs": [],
   "source": []
  },
  {
   "cell_type": "code",
   "execution_count": null,
   "metadata": {},
   "outputs": [],
   "source": []
  }
 ],
 "metadata": {
  "hide_input": false,
  "kernelspec": {
   "display_name": "Python 3 (ipykernel)",
   "language": "python",
   "name": "python3"
  },
  "language_info": {
   "codemirror_mode": {
    "name": "ipython",
    "version": 3
   },
   "file_extension": ".py",
   "mimetype": "text/x-python",
   "name": "python",
   "nbconvert_exporter": "python",
   "pygments_lexer": "ipython3",
   "version": "3.9.12"
  },
  "latex_envs": {
   "LaTeX_envs_menu_present": true,
   "autoclose": false,
   "autocomplete": true,
   "bibliofile": "latex_bib.bib",
   "cite_by": "apalike",
   "current_citInitial": 1,
   "eqLabelWithNumbers": true,
   "eqNumInitial": 1,
   "hotkeys": {
    "equation": "ctrl-e",
    "itemize": "Ctrl-I"
   },
   "labels_anchors": false,
   "latex_user_defs": false,
   "report_style_numbering": false,
   "user_envs_cfg": false
  },
  "nbTranslate": {
   "displayLangs": [
    "*"
   ],
   "hotkey": "alt-t",
   "langInMainMenu": true,
   "sourceLang": "en",
   "targetLang": "fr",
   "useGoogleTranslate": true
  },
  "pyVarInspector": {
   "cols": {
    "lenName": 16,
    "lenType": 16,
    "lenVar": 40
   },
   "types_to_exclude": [
    "module",
    "function",
    "builtin_function_or_method",
    "instance",
    "_Feature"
   ],
   "window_display": false
  },
  "toc": {
   "base_numbering": "1",
   "nav_menu": {},
   "number_sections": false,
   "sideBar": false,
   "skip_h1_title": false,
   "title_cell": "Table of Contents",
   "title_sidebar": "Contents",
   "toc_cell": false,
   "toc_position": {},
   "toc_section_display": true,
   "toc_window_display": false
  },
  "varInspector": {
   "cols": {
    "lenName": 16,
    "lenType": 16,
    "lenVar": 40
   },
   "kernels_config": {
    "python": {
     "delete_cmd_postfix": "",
     "delete_cmd_prefix": "del ",
     "library": "var_list.py",
     "varRefreshCmd": "print(var_dic_list())"
    },
    "r": {
     "delete_cmd_postfix": ") ",
     "delete_cmd_prefix": "rm(",
     "library": "var_list.r",
     "varRefreshCmd": "cat(var_dic_list()) "
    }
   },
   "types_to_exclude": [
    "module",
    "function",
    "builtin_function_or_method",
    "instance",
    "_Feature"
   ],
   "window_display": false
  }
 },
 "nbformat": 4,
 "nbformat_minor": 2
}
