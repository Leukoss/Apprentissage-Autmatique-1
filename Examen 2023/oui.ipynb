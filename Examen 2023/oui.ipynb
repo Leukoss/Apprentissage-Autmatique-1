{
 "cells": [
  {
   "cell_type": "markdown",
   "metadata": {},
   "source": [
    "# TP noté \"Machine Learning 1\" <a class=\"tocSkip\">\n",
    "11 janvier 2023\n"
   ]
  },
  {
   "cell_type": "markdown",
   "metadata": {},
   "source": [
    "Les données proposées dans ce sujet sont des données synthétiques qui nous permettront d'examiner et mettre en oeuvre plusieurs des méthodes rencontrées dans l'unité. Ce sujet traitera ainsi de\n",
    "\n",
    "- régression de Poisson et régression linéaire\n",
    "- clustering (avec KMeans)\n",
    "- discrimination avec une régression logistique\n",
    "- estimation des performances par validation croisée\n",
    "- estimation d'incertitudes par bootstrap\n",
    "\n",
    "**Instructions** \n",
    "\n",
    "- répondre aux questions en utilisant _le langage de votre choix_, soit dans un Notebook Jupyter, soit dans un notebook Rstudio\n",
    "- vous ferez les calculs et tracerez les figures demandées. Vous insèrerez vos commentaires dans une cellule markdown/texte. _**Il est impératif de commenter ce que vous faites, pourquoi, et les résultats que vous obtenez ; le code seul ne vous rapportera qu'un peu plus de la moitié des points.**_  \n",
    "- vous pouvez même utiliser plusieurs langages si vous le souhaitez\n",
    "- tous documents autorisés\n",
    "- interdiction de communiquer avec d'autres intelligences, humaines ou artificielles. \n",
    "- en fin de session, vous rendrez votre notebook en le téléversant sur icampus\n",
    "\n",
    "\n",
    "**Les parties 2, 3, 4, 5 (partiellement) sont indépendantes** "
   ]
  },
  {
   "cell_type": "markdown",
   "metadata": {},
   "source": [
    "## 1 - Données"
   ]
  },
  {
   "cell_type": "markdown",
   "metadata": {},
   "source": [
    "- Charger le fichier `Data_2023.csv`.Vous appellerez `df` le dataframe.  \n",
    "- Combien ce fichier contient-il d'exemples, de variables ? \n",
    "- Quelles peuvent être les variables catégorielles ? \n"
   ]
  },
  {
   "cell_type": "code",
   "execution_count": 1,
   "metadata": {
    "tags": [],
    "ExecuteTime": {
     "end_time": "2024-01-08T18:22:16.983996600Z",
     "start_time": "2024-01-08T18:22:16.968125600Z"
    }
   },
   "outputs": [],
   "source": [
    "import pandas as pd\n",
    "import seaborn as sns\n",
    "import matplotlib.pyplot as plt\n",
    "%matplotlib inline"
   ]
  },
  {
   "cell_type": "code",
   "execution_count": 2,
   "metadata": {
    "tags": [],
    "ExecuteTime": {
     "end_time": "2024-01-08T18:22:17.013260700Z",
     "start_time": "2024-01-08T18:22:16.984988600Z"
    }
   },
   "outputs": [
    {
     "data": {
      "text/plain": "         v1 v2        v3  v4  v5   v6  v7  v8  v9  r\n0 -5.244266  A -2.544469 -12   0  0.0  -7 -19   8  0\n1  6.000000  A  4.922793   4   0  NaN   6  11  10  0\n2 -7.882469  B  0.087773 -10   0  0.0 -11 -20   8  1\n3 -7.155857  A -0.713578 -13   0  1.0 -10 -24   7  1\n4  2.257337  B -2.380117   5   1  0.0   3   9  10  0",
      "text/html": "<div>\n<style scoped>\n    .dataframe tbody tr th:only-of-type {\n        vertical-align: middle;\n    }\n\n    .dataframe tbody tr th {\n        vertical-align: top;\n    }\n\n    .dataframe thead th {\n        text-align: right;\n    }\n</style>\n<table border=\"1\" class=\"dataframe\">\n  <thead>\n    <tr style=\"text-align: right;\">\n      <th></th>\n      <th>v1</th>\n      <th>v2</th>\n      <th>v3</th>\n      <th>v4</th>\n      <th>v5</th>\n      <th>v6</th>\n      <th>v7</th>\n      <th>v8</th>\n      <th>v9</th>\n      <th>r</th>\n    </tr>\n  </thead>\n  <tbody>\n    <tr>\n      <th>0</th>\n      <td>-5.244266</td>\n      <td>A</td>\n      <td>-2.544469</td>\n      <td>-12</td>\n      <td>0</td>\n      <td>0.0</td>\n      <td>-7</td>\n      <td>-19</td>\n      <td>8</td>\n      <td>0</td>\n    </tr>\n    <tr>\n      <th>1</th>\n      <td>6.000000</td>\n      <td>A</td>\n      <td>4.922793</td>\n      <td>4</td>\n      <td>0</td>\n      <td>NaN</td>\n      <td>6</td>\n      <td>11</td>\n      <td>10</td>\n      <td>0</td>\n    </tr>\n    <tr>\n      <th>2</th>\n      <td>-7.882469</td>\n      <td>B</td>\n      <td>0.087773</td>\n      <td>-10</td>\n      <td>0</td>\n      <td>0.0</td>\n      <td>-11</td>\n      <td>-20</td>\n      <td>8</td>\n      <td>1</td>\n    </tr>\n    <tr>\n      <th>3</th>\n      <td>-7.155857</td>\n      <td>A</td>\n      <td>-0.713578</td>\n      <td>-13</td>\n      <td>0</td>\n      <td>1.0</td>\n      <td>-10</td>\n      <td>-24</td>\n      <td>7</td>\n      <td>1</td>\n    </tr>\n    <tr>\n      <th>4</th>\n      <td>2.257337</td>\n      <td>B</td>\n      <td>-2.380117</td>\n      <td>5</td>\n      <td>1</td>\n      <td>0.0</td>\n      <td>3</td>\n      <td>9</td>\n      <td>10</td>\n      <td>0</td>\n    </tr>\n  </tbody>\n</table>\n</div>"
     },
     "execution_count": 2,
     "metadata": {},
     "output_type": "execute_result"
    }
   ],
   "source": [
    "df = pd.read_csv(\"Data_2023.csv\")\n",
    "df.head()"
   ]
  },
  {
   "cell_type": "code",
   "execution_count": 3,
   "metadata": {
    "tags": [],
    "ExecuteTime": {
     "end_time": "2024-01-08T18:22:17.053436600Z",
     "start_time": "2024-01-08T18:22:17.011772400Z"
    }
   },
   "outputs": [
    {
     "data": {
      "text/plain": "(4500, 10)"
     },
     "execution_count": 3,
     "metadata": {},
     "output_type": "execute_result"
    }
   ],
   "source": [
    "df.shape"
   ]
  },
  {
   "cell_type": "code",
   "execution_count": 4,
   "metadata": {
    "tags": [],
    "ExecuteTime": {
     "end_time": "2024-01-08T18:22:17.117916700Z",
     "start_time": "2024-01-08T18:22:17.016733200Z"
    }
   },
   "outputs": [
    {
     "name": "stdout",
     "output_type": "stream",
     "text": [
      "<class 'pandas.core.frame.DataFrame'>\n",
      "RangeIndex: 4500 entries, 0 to 4499\n",
      "Data columns (total 10 columns):\n",
      " #   Column  Non-Null Count  Dtype  \n",
      "---  ------  --------------  -----  \n",
      " 0   v1      4500 non-null   float64\n",
      " 1   v2      4500 non-null   object \n",
      " 2   v3      4500 non-null   float64\n",
      " 3   v4      4500 non-null   int64  \n",
      " 4   v5      4500 non-null   int64  \n",
      " 5   v6      3639 non-null   float64\n",
      " 6   v7      4500 non-null   int64  \n",
      " 7   v8      4500 non-null   int64  \n",
      " 8   v9      4500 non-null   int64  \n",
      " 9   r       4500 non-null   int64  \n",
      "dtypes: float64(3), int64(6), object(1)\n",
      "memory usage: 351.7+ KB\n"
     ]
    }
   ],
   "source": [
    "df.info()"
   ]
  },
  {
   "cell_type": "code",
   "execution_count": 5,
   "metadata": {
    "tags": [],
    "ExecuteTime": {
     "end_time": "2024-01-08T18:22:17.152637Z",
     "start_time": "2024-01-08T18:22:17.042028300Z"
    }
   },
   "outputs": [
    {
     "data": {
      "text/plain": "                v1           v3           v4           v5           v6  \\\ncount  4500.000000  4500.000000  4500.000000  4500.000000  3639.000000   \nmean     -0.484474     2.040934    -1.019556     0.513778     2.686452   \nstd       5.217181     3.369168     6.286066     0.499866     7.587627   \nmin      -8.000000   -11.511216   -13.000000     0.000000     0.000000   \n25%      -6.657009    -0.362757    -6.000000     0.000000     0.000000   \n50%       0.030863     1.098260     0.000000     1.000000     0.000000   \n75%       5.000000     5.524902     4.000000     1.000000     0.000000   \nmax       6.000000     9.395279    10.000000     1.000000    71.000000   \n\n                v7           v8           v9            r  \ncount  4500.000000  4500.000000  4500.000000  4500.000000  \nmean     -1.030000    -2.042444     7.959111     0.522444  \nstd       5.663313    11.382076     2.205918     0.499552  \nmin     -11.000000   -25.000000     1.000000     0.000000  \n25%      -6.000000   -13.000000     6.000000     0.000000  \n50%       0.000000     0.000000     8.000000     1.000000  \n75%       3.000000     7.000000     9.000000     1.000000  \nmax       8.000000    19.000000    16.000000     1.000000  ",
      "text/html": "<div>\n<style scoped>\n    .dataframe tbody tr th:only-of-type {\n        vertical-align: middle;\n    }\n\n    .dataframe tbody tr th {\n        vertical-align: top;\n    }\n\n    .dataframe thead th {\n        text-align: right;\n    }\n</style>\n<table border=\"1\" class=\"dataframe\">\n  <thead>\n    <tr style=\"text-align: right;\">\n      <th></th>\n      <th>v1</th>\n      <th>v3</th>\n      <th>v4</th>\n      <th>v5</th>\n      <th>v6</th>\n      <th>v7</th>\n      <th>v8</th>\n      <th>v9</th>\n      <th>r</th>\n    </tr>\n  </thead>\n  <tbody>\n    <tr>\n      <th>count</th>\n      <td>4500.000000</td>\n      <td>4500.000000</td>\n      <td>4500.000000</td>\n      <td>4500.000000</td>\n      <td>3639.000000</td>\n      <td>4500.000000</td>\n      <td>4500.000000</td>\n      <td>4500.000000</td>\n      <td>4500.000000</td>\n    </tr>\n    <tr>\n      <th>mean</th>\n      <td>-0.484474</td>\n      <td>2.040934</td>\n      <td>-1.019556</td>\n      <td>0.513778</td>\n      <td>2.686452</td>\n      <td>-1.030000</td>\n      <td>-2.042444</td>\n      <td>7.959111</td>\n      <td>0.522444</td>\n    </tr>\n    <tr>\n      <th>std</th>\n      <td>5.217181</td>\n      <td>3.369168</td>\n      <td>6.286066</td>\n      <td>0.499866</td>\n      <td>7.587627</td>\n      <td>5.663313</td>\n      <td>11.382076</td>\n      <td>2.205918</td>\n      <td>0.499552</td>\n    </tr>\n    <tr>\n      <th>min</th>\n      <td>-8.000000</td>\n      <td>-11.511216</td>\n      <td>-13.000000</td>\n      <td>0.000000</td>\n      <td>0.000000</td>\n      <td>-11.000000</td>\n      <td>-25.000000</td>\n      <td>1.000000</td>\n      <td>0.000000</td>\n    </tr>\n    <tr>\n      <th>25%</th>\n      <td>-6.657009</td>\n      <td>-0.362757</td>\n      <td>-6.000000</td>\n      <td>0.000000</td>\n      <td>0.000000</td>\n      <td>-6.000000</td>\n      <td>-13.000000</td>\n      <td>6.000000</td>\n      <td>0.000000</td>\n    </tr>\n    <tr>\n      <th>50%</th>\n      <td>0.030863</td>\n      <td>1.098260</td>\n      <td>0.000000</td>\n      <td>1.000000</td>\n      <td>0.000000</td>\n      <td>0.000000</td>\n      <td>0.000000</td>\n      <td>8.000000</td>\n      <td>1.000000</td>\n    </tr>\n    <tr>\n      <th>75%</th>\n      <td>5.000000</td>\n      <td>5.524902</td>\n      <td>4.000000</td>\n      <td>1.000000</td>\n      <td>0.000000</td>\n      <td>3.000000</td>\n      <td>7.000000</td>\n      <td>9.000000</td>\n      <td>1.000000</td>\n    </tr>\n    <tr>\n      <th>max</th>\n      <td>6.000000</td>\n      <td>9.395279</td>\n      <td>10.000000</td>\n      <td>1.000000</td>\n      <td>71.000000</td>\n      <td>8.000000</td>\n      <td>19.000000</td>\n      <td>16.000000</td>\n      <td>1.000000</td>\n    </tr>\n  </tbody>\n</table>\n</div>"
     },
     "execution_count": 5,
     "metadata": {},
     "output_type": "execute_result"
    }
   ],
   "source": [
    "df.describe()"
   ]
  },
  {
   "cell_type": "code",
   "execution_count": 6,
   "metadata": {
    "tags": [],
    "ExecuteTime": {
     "end_time": "2024-01-08T18:22:17.200748500Z",
     "start_time": "2024-01-08T18:22:17.074269200Z"
    }
   },
   "outputs": [
    {
     "data": {
      "text/plain": "array(['A', 'B'], dtype=object)"
     },
     "execution_count": 6,
     "metadata": {},
     "output_type": "execute_result"
    }
   ],
   "source": [
    "df.v2.unique()"
   ]
  },
  {
   "cell_type": "code",
   "execution_count": 7,
   "metadata": {
    "tags": [],
    "ExecuteTime": {
     "end_time": "2024-01-08T18:22:17.201244700Z",
     "start_time": "2024-01-08T18:22:17.081213200Z"
    }
   },
   "outputs": [],
   "source": [
    "df.v2 = df.v2.replace({\"A\":0, \"B\":1})"
   ]
  },
  {
   "cell_type": "code",
   "execution_count": 8,
   "metadata": {
    "tags": [],
    "ExecuteTime": {
     "end_time": "2024-01-08T18:22:17.234973400Z",
     "start_time": "2024-01-08T18:22:17.094604800Z"
    }
   },
   "outputs": [
    {
     "data": {
      "text/plain": "array([0, 1], dtype=int64)"
     },
     "execution_count": 8,
     "metadata": {},
     "output_type": "execute_result"
    }
   ],
   "source": [
    "df.v2.unique()"
   ]
  },
  {
   "cell_type": "code",
   "execution_count": 9,
   "metadata": {
    "tags": [],
    "ExecuteTime": {
     "end_time": "2024-01-08T18:22:17.238940600Z",
     "start_time": "2024-01-08T18:22:17.104525700Z"
    }
   },
   "outputs": [
    {
     "data": {
      "text/plain": "array([-12,   4, -10, -13,   5,  -5,   8,   3,   0,   1,   6,  -9,  -6,\n         9,  -1,   2,  -3,  -4,  -2,  -7, -11,   7,  -8,  10], dtype=int64)"
     },
     "execution_count": 9,
     "metadata": {},
     "output_type": "execute_result"
    }
   ],
   "source": [
    "df.v4.unique()"
   ]
  },
  {
   "cell_type": "code",
   "execution_count": 10,
   "metadata": {
    "tags": [],
    "ExecuteTime": {
     "end_time": "2024-01-08T18:22:17.239932100Z",
     "start_time": "2024-01-08T18:22:17.120396800Z"
    }
   },
   "outputs": [
    {
     "data": {
      "text/plain": "array([0, 1], dtype=int64)"
     },
     "execution_count": 10,
     "metadata": {},
     "output_type": "execute_result"
    }
   ],
   "source": [
    "df.v5.unique()"
   ]
  },
  {
   "cell_type": "code",
   "execution_count": 11,
   "metadata": {
    "tags": [],
    "ExecuteTime": {
     "end_time": "2024-01-08T18:22:17.270684900Z",
     "start_time": "2024-01-08T18:22:17.136765300Z"
    }
   },
   "outputs": [
    {
     "data": {
      "text/plain": "array([ 0., nan,  1., 11., 16., 47., 20., 14.,  5.,  6., 15.,  2.,  9.,\n        3., 12., 24., 13.,  8., 22., 50.,  4., 25., 10., 41., 18.,  7.,\n       26., 23., 64., 71., 19., 17., 37., 35., 43., 33., 21., 52., 30.,\n       28., 39., 46., 70., 32., 36., 44., 31., 29., 34., 55., 27., 45.,\n       58., 56., 40., 63., 60., 48., 49., 53., 57., 51.])"
     },
     "execution_count": 11,
     "metadata": {},
     "output_type": "execute_result"
    }
   ],
   "source": [
    "df.v6.unique()"
   ]
  },
  {
   "cell_type": "code",
   "execution_count": 12,
   "metadata": {
    "tags": [],
    "ExecuteTime": {
     "end_time": "2024-01-08T18:22:17.275148900Z",
     "start_time": "2024-01-08T18:22:17.159581Z"
    }
   },
   "outputs": [
    {
     "data": {
      "text/plain": "array([ -7,   6, -11, -10,   3,   2,  -3,   1,   8,   7,  -5,  -6,  -2,\n         4,   5,  -9,  -1,  -8,   0], dtype=int64)"
     },
     "execution_count": 12,
     "metadata": {},
     "output_type": "execute_result"
    }
   ],
   "source": [
    "df.v7.unique()"
   ]
  },
  {
   "cell_type": "code",
   "execution_count": 13,
   "metadata": {
    "tags": [],
    "ExecuteTime": {
     "end_time": "2024-01-08T18:22:17.290524600Z",
     "start_time": "2024-01-08T18:22:17.176941500Z"
    }
   },
   "outputs": [
    {
     "data": {
      "text/plain": "array([-19,  11, -20, -24,   9, -14,  10,   6,   3,   0,   1,  15,  12,\n        16, -15,   2, -10,  -6,   5,   7,  13, -23,  14,  -4,   8, -21,\n       -12, -16,   4, -13,  -7,  -2, -11,  -3, -18, -17, -22,  -1,  -5,\n        -9,  -8,  17,  18, -25,  19], dtype=int64)"
     },
     "execution_count": 13,
     "metadata": {},
     "output_type": "execute_result"
    }
   ],
   "source": [
    "df.v8.unique()"
   ]
  },
  {
   "cell_type": "code",
   "execution_count": 14,
   "metadata": {
    "tags": [],
    "ExecuteTime": {
     "end_time": "2024-01-08T18:22:17.302428400Z",
     "start_time": "2024-01-08T18:22:17.198268800Z"
    }
   },
   "outputs": [
    {
     "data": {
      "text/plain": "array([ 8, 10,  7,  9,  5, 11,  6, 12,  3, 14,  4,  2, 13, 15,  1, 16],\n      dtype=int64)"
     },
     "execution_count": 14,
     "metadata": {},
     "output_type": "execute_result"
    }
   ],
   "source": [
    "df.v9.unique()"
   ]
  },
  {
   "cell_type": "code",
   "execution_count": 15,
   "metadata": {
    "tags": [],
    "ExecuteTime": {
     "end_time": "2024-01-08T18:22:17.302428400Z",
     "start_time": "2024-01-08T18:22:17.214143300Z"
    }
   },
   "outputs": [
    {
     "data": {
      "text/plain": "array([0, 1], dtype=int64)"
     },
     "execution_count": 15,
     "metadata": {},
     "output_type": "execute_result"
    }
   ],
   "source": [
    "df.r.unique()"
   ]
  },
  {
   "cell_type": "code",
   "execution_count": 16,
   "metadata": {
    "tags": [],
    "ExecuteTime": {
     "end_time": "2024-01-08T18:22:17.429900600Z",
     "start_time": "2024-01-08T18:22:17.229516500Z"
    }
   },
   "outputs": [
    {
     "data": {
      "text/plain": "v1     0.000000\nv2     0.000000\nv3     0.000000\nv4     0.000000\nv5     0.000000\nv6    19.133333\nv7     0.000000\nv8     0.000000\nv9     0.000000\nr      0.000000\ndtype: float64"
     },
     "execution_count": 16,
     "metadata": {},
     "output_type": "execute_result"
    }
   ],
   "source": [
    "df.isna().sum()/df.shape[0]*100"
   ]
  },
  {
   "cell_type": "markdown",
   "metadata": {},
   "source": [
    "- Examiner quelles sont les corrélations entre les différentes variables"
   ]
  },
  {
   "cell_type": "code",
   "execution_count": 17,
   "metadata": {
    "tags": [],
    "ExecuteTime": {
     "end_time": "2024-01-08T18:22:17.829677Z",
     "start_time": "2024-01-08T18:22:17.243405600Z"
    }
   },
   "outputs": [
    {
     "data": {
      "text/plain": "<Figure size 1000x800 with 2 Axes>",
      "image/png": "[encoded data removed]"
     },
     "metadata": {},
     "output_type": "display_data"
    }
   ],
   "source": [
    "correlation_matrix = df.corr()\n",
    "\n",
    "plt.figure(figsize=(10, 8))\n",
    "\n",
    "sns.heatmap(correlation_matrix, annot=True, cmap='coolwarm', linewidths=.5)\n",
    "\n",
    "plt.show()"
   ]
  },
  {
   "cell_type": "markdown",
   "metadata": {},
   "source": [
    "- Tracer les histogrammes des variables 1, 3, 5. Peut-on soupçonner qu'il y ait des sous ensembles d'exemples avec des comportements différents ? "
   ]
  },
  {
   "cell_type": "code",
   "execution_count": 18,
   "metadata": {
    "tags": [],
    "ExecuteTime": {
     "end_time": "2024-01-08T18:22:19.538892400Z",
     "start_time": "2024-01-08T18:22:17.826700500Z"
    }
   },
   "outputs": [
    {
     "data": {
      "text/plain": "<Figure size 1500x500 with 4 Axes>",
      "image/png": "[encoded data removed]"
     },
     "metadata": {},
     "output_type": "display_data"
    }
   ],
   "source": [
    "variables_of_interest = ['v1', 'v3', 'v5']\n",
    "\n",
    "fig, axes = plt.subplots(nrows=int(len(variables_of_interest)/2+1), ncols=2, figsize=(15, 5))\n",
    "\n",
    "for i, variable in enumerate(variables_of_interest):\n",
    "    sns.histplot(df[variable], bins=20, kde=True, ax=axes[i//2, i%2])\n",
    "\n",
    "fig.suptitle('Histogrammes des Variables 1, 3 et 5', fontsize=16)\n",
    "\n",
    "plt.tight_layout()\n",
    "\n",
    "plt.show()"
   ]
  },
  {
   "cell_type": "markdown",
   "metadata": {},
   "source": [
    "## 2 - Conversion\n",
    "\n",
    "La variable 2, `v2`, est catégorielle. Convertir cette variable en binaire, sur deux niveaux 0 et 1 ; et mettre à jour le dataframe `df`. Si vous n'arriviez pas à réaliser cette opération, charger le résultat `Data_2023b.csv` "
   ]
  },
  {
   "cell_type": "markdown",
   "metadata": {},
   "source": [
    "déja fait"
   ]
  },
  {
   "cell_type": "code",
   "execution_count": 19,
   "metadata": {
    "tags": [],
    "ExecuteTime": {
     "end_time": "2024-01-08T18:22:19.539884600Z",
     "start_time": "2024-01-08T18:22:19.528972200Z"
    }
   },
   "outputs": [
    {
     "data": {
      "text/plain": "         v1  v2        v3  v4  v5   v6  v7  v8  v9  r\n0 -5.244266   0 -2.544469 -12   0  0.0  -7 -19   8  0\n1  6.000000   0  4.922793   4   0  NaN   6  11  10  0\n2 -7.882469   1  0.087773 -10   0  0.0 -11 -20   8  1\n3 -7.155857   0 -0.713578 -13   0  1.0 -10 -24   7  1\n4  2.257337   1 -2.380117   5   1  0.0   3   9  10  0",
      "text/html": "<div>\n<style scoped>\n    .dataframe tbody tr th:only-of-type {\n        vertical-align: middle;\n    }\n\n    .dataframe tbody tr th {\n        vertical-align: top;\n    }\n\n    .dataframe thead th {\n        text-align: right;\n    }\n</style>\n<table border=\"1\" class=\"dataframe\">\n  <thead>\n    <tr style=\"text-align: right;\">\n      <th></th>\n      <th>v1</th>\n      <th>v2</th>\n      <th>v3</th>\n      <th>v4</th>\n      <th>v5</th>\n      <th>v6</th>\n      <th>v7</th>\n      <th>v8</th>\n      <th>v9</th>\n      <th>r</th>\n    </tr>\n  </thead>\n  <tbody>\n    <tr>\n      <th>0</th>\n      <td>-5.244266</td>\n      <td>0</td>\n      <td>-2.544469</td>\n      <td>-12</td>\n      <td>0</td>\n      <td>0.0</td>\n      <td>-7</td>\n      <td>-19</td>\n      <td>8</td>\n      <td>0</td>\n    </tr>\n    <tr>\n      <th>1</th>\n      <td>6.000000</td>\n      <td>0</td>\n      <td>4.922793</td>\n      <td>4</td>\n      <td>0</td>\n      <td>NaN</td>\n      <td>6</td>\n      <td>11</td>\n      <td>10</td>\n      <td>0</td>\n    </tr>\n    <tr>\n      <th>2</th>\n      <td>-7.882469</td>\n      <td>1</td>\n      <td>0.087773</td>\n      <td>-10</td>\n      <td>0</td>\n      <td>0.0</td>\n      <td>-11</td>\n      <td>-20</td>\n      <td>8</td>\n      <td>1</td>\n    </tr>\n    <tr>\n      <th>3</th>\n      <td>-7.155857</td>\n      <td>0</td>\n      <td>-0.713578</td>\n      <td>-13</td>\n      <td>0</td>\n      <td>1.0</td>\n      <td>-10</td>\n      <td>-24</td>\n      <td>7</td>\n      <td>1</td>\n    </tr>\n    <tr>\n      <th>4</th>\n      <td>2.257337</td>\n      <td>1</td>\n      <td>-2.380117</td>\n      <td>5</td>\n      <td>1</td>\n      <td>0.0</td>\n      <td>3</td>\n      <td>9</td>\n      <td>10</td>\n      <td>0</td>\n    </tr>\n  </tbody>\n</table>\n</div>"
     },
     "execution_count": 19,
     "metadata": {},
     "output_type": "execute_result"
    }
   ],
   "source": [
    "df.head()"
   ]
  },
  {
   "cell_type": "markdown",
   "metadata": {},
   "source": [
    "## 3 - Discrimination (régression logistique)\n",
    "\n",
    "La réponse est la variable `r`. On cherche à prédire cette réponse `r` à partir des variables explicatives `v1` à `v9`. Si le dataframe contient des variables supplémentaires, vous ne les utiliserez pas pour la discrimination. \n",
    "\n",
    "- Séparer les données en une base d'apprentissage et une base de test, avec un ratio 2/3, 1/3. \n",
    "- Apprendre une régression logistique (classe `LogisticRegression` en python/sklearn, fonction `glm` avec le paramètre `family=binomial` en R ou en Python avec statsmodels)\n",
    "- Calculer les scores sur les bases de test et d'apprentissage. Ces scores sont-ils différents, commenter.\n",
    "- Calculer la matrice de confusion (sur la base de test !). Quel est le taux de faux positifs ? NB - Sous python, vous pouvez utiliser `pd.crosstab` pour calculer cette matrice de confusion\n",
    "- Apprendre la régression sur la base complète et calculer le score par validation croisée. Comparer le score obtenu par validation croisée à celui obtenu sur la base de test. Quel est l'intérêt de la validation croisée (au moins si les données sont en nombre faible) ?\n",
    "\n",
    "\n",
    "NB - la variable `v6` présente des valeurs manquantes NA. **Si** cela posait des difficultés à la méthode que vous employez, ce n'est pas obligé, vous pouvez (i) soit supprimer les lignes correspondantes (ii) soit utiliser le fichier `Data_2023c.csv` "
   ]
  },
  {
   "cell_type": "code",
   "execution_count": 20,
   "metadata": {
    "ExecuteTime": {
     "end_time": "2024-01-08T18:22:19.846907800Z",
     "start_time": "2024-01-08T18:22:19.538892400Z"
    }
   },
   "outputs": [
    {
     "name": "stdout",
     "output_type": "stream",
     "text": [
      "Dimensions de la base d'apprentissage (X_train): (2438, 9)\n",
      "Dimensions de la base de test (X_test): (1201, 9)\n",
      "Dimensions de la base d'apprentissage (y_train): (2438,)\n",
      "Dimensions de la base de test (y_test): (1201,)\n"
     ]
    }
   ],
   "source": [
    "from sklearn.model_selection import train_test_split\n",
    "\n",
    "df2 = df.dropna(subset=['v6'])\n",
    "X = df2.drop(columns=['r'])  # Remplacez 'target_column' par le nom de votre variable cible\n",
    "y = df2['r']\n",
    "\n",
    "X_train, X_test, y_train, y_test = train_test_split(X, y, test_size=0.33, random_state=42)\n",
    "\n",
    "print(\"Dimensions de la base d'apprentissage (X_train):\", X_train.shape)\n",
    "print(\"Dimensions de la base de test (X_test):\", X_test.shape)\n",
    "print(\"Dimensions de la base d'apprentissage (y_train):\", y_train.shape)\n",
    "print(\"Dimensions de la base de test (y_test):\", y_test.shape)\n"
   ]
  },
  {
   "cell_type": "code",
   "execution_count": 21,
   "metadata": {
    "ExecuteTime": {
     "end_time": "2024-01-08T18:22:19.938668400Z",
     "start_time": "2024-01-08T18:22:19.831036400Z"
    }
   },
   "outputs": [
    {
     "data": {
      "text/plain": "LogisticRegression(random_state=42)",
      "text/html": "<style>#sk-container-id-1 {color: black;}#sk-container-id-1 pre{padding: 0;}#sk-container-id-1 div.sk-toggleable {background-color: white;}#sk-container-id-1 label.sk-toggleable__label {cursor: pointer;display: block;width: 100%;margin-bottom: 0;padding: 0.3em;box-sizing: border-box;text-align: center;}#sk-container-id-1 label.sk-toggleable__label-arrow:before {content: \"▸\";float: left;margin-right: 0.25em;color: #696969;}#sk-container-id-1 label.sk-toggleable__label-arrow:hover:before {color: black;}#sk-container-id-1 div.sk-estimator:hover label.sk-toggleable__label-arrow:before {color: black;}#sk-container-id-1 div.sk-toggleable__content {max-height: 0;max-width: 0;overflow: hidden;text-align: left;background-color: #f0f8ff;}#sk-container-id-1 div.sk-toggleable__content pre {margin: 0.2em;color: black;border-radius: 0.25em;background-color: #f0f8ff;}#sk-container-id-1 input.sk-toggleable__control:checked~div.sk-toggleable__content {max-height: 200px;max-width: 100%;overflow: auto;}#sk-container-id-1 input.sk-toggleable__control:checked~label.sk-toggleable__label-arrow:before {content: \"▾\";}#sk-container-id-1 div.sk-estimator input.sk-toggleable__control:checked~label.sk-toggleable__label {background-color: #d4ebff;}#sk-container-id-1 div.sk-label input.sk-toggleable__control:checked~label.sk-toggleable__label {background-color: #d4ebff;}#sk-container-id-1 input.sk-hidden--visually {border: 0;clip: rect(1px 1px 1px 1px);clip: rect(1px, 1px, 1px, 1px);height: 1px;margin: -1px;overflow: hidden;padding: 0;position: absolute;width: 1px;}#sk-container-id-1 div.sk-estimator {font-family: monospace;background-color: #f0f8ff;border: 1px dotted black;border-radius: 0.25em;box-sizing: border-box;margin-bottom: 0.5em;}#sk-container-id-1 div.sk-estimator:hover {background-color: #d4ebff;}#sk-container-id-1 div.sk-parallel-item::after {content: \"\";width: 100%;border-bottom: 1px solid gray;flex-grow: 1;}#sk-container-id-1 div.sk-label:hover label.sk-toggleable__label {background-color: #d4ebff;}#sk-container-id-1 div.sk-serial::before {content: \"\";position: absolute;border-left: 1px solid gray;box-sizing: border-box;top: 0;bottom: 0;left: 50%;z-index: 0;}#sk-container-id-1 div.sk-serial {display: flex;flex-direction: column;align-items: center;background-color: white;padding-right: 0.2em;padding-left: 0.2em;position: relative;}#sk-container-id-1 div.sk-item {position: relative;z-index: 1;}#sk-container-id-1 div.sk-parallel {display: flex;align-items: stretch;justify-content: center;background-color: white;position: relative;}#sk-container-id-1 div.sk-item::before, #sk-container-id-1 div.sk-parallel-item::before {content: \"\";position: absolute;border-left: 1px solid gray;box-sizing: border-box;top: 0;bottom: 0;left: 50%;z-index: -1;}#sk-container-id-1 div.sk-parallel-item {display: flex;flex-direction: column;z-index: 1;position: relative;background-color: white;}#sk-container-id-1 div.sk-parallel-item:first-child::after {align-self: flex-end;width: 50%;}#sk-container-id-1 div.sk-parallel-item:last-child::after {align-self: flex-start;width: 50%;}#sk-container-id-1 div.sk-parallel-item:only-child::after {width: 0;}#sk-container-id-1 div.sk-dashed-wrapped {border: 1px dashed gray;margin: 0 0.4em 0.5em 0.4em;box-sizing: border-box;padding-bottom: 0.4em;background-color: white;}#sk-container-id-1 div.sk-label label {font-family: monospace;font-weight: bold;display: inline-block;line-height: 1.2em;}#sk-container-id-1 div.sk-label-container {text-align: center;}#sk-container-id-1 div.sk-container {/* jupyter's `normalize.less` sets `[hidden] { display: none; }` but bootstrap.min.css set `[hidden] { display: none !important; }` so we also need the `!important` here to be able to override the default hidden behavior on the sphinx rendered scikit-learn.org. See: https://github.com/scikit-learn/scikit-learn/issues/21755 */display: inline-block !important;position: relative;}#sk-container-id-1 div.sk-text-repr-fallback {display: none;}</style><div id=\"sk-container-id-1\" class=\"sk-top-container\"><div class=\"sk-text-repr-fallback\"><pre>LogisticRegression(random_state=42)</pre><b>In a Jupyter environment, please rerun this cell to show the HTML representation or trust the notebook. <br />On GitHub, the HTML representation is unable to render, please try loading this page with nbviewer.org.</b></div><div class=\"sk-container\" hidden><div class=\"sk-item\"><div class=\"sk-estimator sk-toggleable\"><input class=\"sk-toggleable__control sk-hidden--visually\" id=\"sk-estimator-id-1\" type=\"checkbox\" checked><label for=\"sk-estimator-id-1\" class=\"sk-toggleable__label sk-toggleable__label-arrow\">LogisticRegression</label><div class=\"sk-toggleable__content\"><pre>LogisticRegression(random_state=42)</pre></div></div></div></div></div>"
     },
     "execution_count": 21,
     "metadata": {},
     "output_type": "execute_result"
    }
   ],
   "source": [
    "from sklearn.linear_model import LogisticRegression\n",
    "\n",
    "model = LogisticRegression(random_state=42)\n",
    "model.fit(X_train, y_train)"
   ]
  },
  {
   "cell_type": "code",
   "execution_count": 22,
   "metadata": {
    "ExecuteTime": {
     "end_time": "2024-01-08T18:22:19.940156400Z",
     "start_time": "2024-01-08T18:22:19.912876200Z"
    }
   },
   "outputs": [
    {
     "name": "stdout",
     "output_type": "stream",
     "text": [
      "score (train) 0.6009023789991796\n",
      "score (test) 0.630308076602831\n",
      "Erreur moyenne (train) :  0.39909762100082036\n",
      "Erreur moyenne (test) :  0.36969192339716905\n"
     ]
    }
   ],
   "source": [
    "from sklearn.metrics import mean_squared_error\n",
    "\n",
    "print(\"score (train)\", model.score(X_train,y_train))\n",
    "print(\"score (test)\",model.score(X_test,y_test))\n",
    "eqm_train = mean_squared_error(y_train, model.predict(X_train))\n",
    "eqm_test = mean_squared_error(y_test, model.predict(X_test))\n",
    "print(\"Erreur moyenne (train) : \", eqm_train )\n",
    "print(\"Erreur moyenne (test) : \", eqm_test )"
   ]
  },
  {
   "cell_type": "code",
   "execution_count": 23,
   "metadata": {
    "tags": [],
    "ExecuteTime": {
     "end_time": "2024-01-08T18:22:20.015052200Z",
     "start_time": "2024-01-08T18:22:19.931228300Z"
    }
   },
   "outputs": [
    {
     "data": {
      "text/plain": "col_0    0    1\nr              \n0      329  254\n1      190  428",
      "text/html": "<div>\n<style scoped>\n    .dataframe tbody tr th:only-of-type {\n        vertical-align: middle;\n    }\n\n    .dataframe tbody tr th {\n        vertical-align: top;\n    }\n\n    .dataframe thead th {\n        text-align: right;\n    }\n</style>\n<table border=\"1\" class=\"dataframe\">\n  <thead>\n    <tr style=\"text-align: right;\">\n      <th>col_0</th>\n      <th>0</th>\n      <th>1</th>\n    </tr>\n    <tr>\n      <th>r</th>\n      <th></th>\n      <th></th>\n    </tr>\n  </thead>\n  <tbody>\n    <tr>\n      <th>0</th>\n      <td>329</td>\n      <td>254</td>\n    </tr>\n    <tr>\n      <th>1</th>\n      <td>190</td>\n      <td>428</td>\n    </tr>\n  </tbody>\n</table>\n</div>"
     },
     "execution_count": 23,
     "metadata": {},
     "output_type": "execute_result"
    }
   ],
   "source": [
    "pd.crosstab(y_test, model.predict(X_test))"
   ]
  },
  {
   "cell_type": "code",
   "execution_count": 24,
   "metadata": {
    "tags": [],
    "ExecuteTime": {
     "end_time": "2024-01-08T18:22:20.464427700Z",
     "start_time": "2024-01-08T18:22:19.959500100Z"
    }
   },
   "outputs": [
    {
     "name": "stdout",
     "output_type": "stream",
     "text": [
      "Score par validation croisée: 0.6119978506342143\n"
     ]
    }
   ],
   "source": [
    "from sklearn.model_selection import cross_val_score\n",
    "\n",
    "# Créer et ajuster le modèle de régression logistique sur l'ensemble des données\n",
    "model = LogisticRegression(random_state=42)\n",
    "\n",
    "# Calculer le score par validation croisée\n",
    "cv_score = cross_val_score(model, X, y, cv=10, scoring='accuracy')\n",
    "\n",
    "print(\"Score par validation croisée:\", cv_score.mean())\n"
   ]
  },
  {
   "cell_type": "code",
   "execution_count": 25,
   "metadata": {
    "tags": [],
    "ExecuteTime": {
     "end_time": "2024-01-08T18:22:20.716396300Z",
     "start_time": "2024-01-08T18:22:20.463436100Z"
    }
   },
   "outputs": [
    {
     "data": {
      "text/plain": "Text(0, 0.5, 'EQM par validation croisée')"
     },
     "execution_count": 25,
     "metadata": {},
     "output_type": "execute_result"
    },
    {
     "data": {
      "text/plain": "<Figure size 640x480 with 1 Axes>",
      "image/png": "[encoded data removed]"
     },
     "metadata": {},
     "output_type": "display_data"
    }
   ],
   "source": [
    "plt.plot(cv_score)\n",
    "plt.ylabel(\"EQM par validation croisée\")"
   ]
  },
  {
   "cell_type": "markdown",
   "metadata": {},
   "source": [
    "## 4 - Régression linéaire et de Poisson\n",
    "\n",
    "On est ennuyé avec les valeurs manquantes dans la variable `v6`. On décide d'imputer ces valeurs manquantes. Pour cela, on va tenter de prédire les valeurs manquantes à partir des autres variables. \n",
    "\n",
    "Sous R, vous pourrez utilier la fonction `lm`, et sous Python, vous pourrez charger l'équivalent par `from LinearRegression_in_Python_like_in_R import lm`. Vous pouvez également utiliser un modèle linéaire généralisé `glm` ; sous Python vous pourrez utiliser la fonction `glm` de statsmodels, et les fonctions de résumé et de diagnostique selon `from GLMRegression_in_Python_like_in_R import GLMsummary, glm_residplot`\n",
    "\n",
    "\n",
    "- Suivant les outils que vous utilisez, vous pourrez ou pas utiliser la base `df` avec les valeurs manquantes. Le cas échéant, supprimer toutes les lignes sans NA pour la variable `v6`. Sous Python, vous pourrez utiliser `.dropna`, mais également`.notna()` pour accéder aux indices des lignes ne contenant pas de NA, et `.isna()` pour les lignes avec NA. \n",
    "\n",
    "**4.1 - Régression linéaire**\n",
    "- Effectuer une prédiction lineaire de `v6` en fonction des autres variables explicatives (les variables en `v.`, pas `r`)\n",
    "- Calculer l'erreur quadratique moyenne entre les valeurs exactes et prédites de `v6`. Vous pouvez éventuellement directement accéder à un prédicteur via une méthode `.predict()`, voire même directement aux residus via un attribut `.residuals` \n",
    "- Au vu des résultats, quelles sont les variables importantes\n",
    "- Examiner les graphes de diagnostic. Pouvez vous soupçonner une non linarité, pourquoi ? \n",
    "- Effectuer une nouvelle prédiction en ajoutant la variable `v3**2`. Que devient alors l'erreur quadratique moyenne ? La variable v5 est-elle utile ? \n",
    "- Si vous ajoutiez `v5**2` plutôt que `v3**2`, quelle seraient l'erreur quadratique moyenne ? Commentaires. \n",
    "\n",
    "**4.2 - Régression de Poisson**\n",
    "- Effectuer une régression de Poisson de `v6` en fonction des autres variables explicatives (les variables en `v.`, pas `r`)\n",
    "- Reprendre toutes les autres questions précémment traitées avec la régression linéaire (performances, variables à retenir, graphes de diagnostic, non-linéarité...)\n",
    "- Comparer les résulats obtenus par les deux approches et commenter"
   ]
  },
  {
   "cell_type": "markdown",
   "metadata": {},
   "source": [
    "**4.3 - Imputation**\n",
    "- Rempacer les données manquantes dans `df` en prédisant les valeurs manquantes à l'aide du modèle linéaire. \n",
    "Si vous ne voyez pas comment faire, utiliser `Data_2023c.csv` dans la suite. \n",
    "- Enfin, calculez une régression logistique pour prédire la variable $r$ et évaluez les performances (sur une base de test ou par validation croisée, comme en 3). Comparez le score au score obtenu précédentemment.  "
   ]
  },
  {
   "cell_type": "markdown",
   "metadata": {},
   "source": [
    "# 4.1"
   ]
  },
  {
   "cell_type": "code",
   "execution_count": 26,
   "metadata": {
    "ExecuteTime": {
     "end_time": "2024-01-08T18:22:21.404391400Z",
     "start_time": "2024-01-08T18:22:20.709451800Z"
    }
   },
   "outputs": [],
   "source": [
    "from LinearRegression_in_Python_like_in_R import lm\n",
    "from GLMRegression_in_Python_like_in_R import GLMsummary, glm_residplot\n",
    "import statsmodels.formula.api as smf\n",
    "import statsmodels.api as sm"
   ]
  },
  {
   "cell_type": "code",
   "execution_count": 27,
   "metadata": {
    "ExecuteTime": {
     "end_time": "2024-01-08T18:22:21.421750700Z",
     "start_time": "2024-01-08T18:22:21.390503100Z"
    }
   },
   "outputs": [
    {
     "name": "stdout",
     "output_type": "stream",
     "text": [
      "Erreur moyenne :  51.264178813537875\n"
     ]
    }
   ],
   "source": [
    "model_lm = lm(\"v6 ~ v1 + v2 + v3 + v4 + v5 + v7 + v8 + v9\", df2)\n",
    "eqm = mean_squared_error(df2[\"v6\"], model_lm.predict(df2))\n",
    "print(\"Erreur moyenne : \", eqm)"
   ]
  },
  {
   "cell_type": "code",
   "execution_count": 28,
   "metadata": {
    "tags": [],
    "ExecuteTime": {
     "end_time": "2024-01-08T18:22:21.472839300Z",
     "start_time": "2024-01-08T18:22:21.418279200Z"
    }
   },
   "outputs": [
    {
     "name": "stdout",
     "output_type": "stream",
     "text": [
      "Call\n",
      "smf.ols('v6 ~ v1 + v2 + v3 + v4 + v5 + v7 + v8 + v9', data=...)\n",
      "\n",
      "Coefficients:\n",
      "           Estimate  Std. Error    t value      Pr(>|t|) code\n",
      "Intercept  5.058715    0.483664  10.459143  3.029336e-25  ***\n",
      "v1         0.177173    0.064144   2.762135  5.771373e-03   **\n",
      "v2         0.219066    0.255833   0.856283  3.918977e-01     \n",
      "v3        -0.929856    0.047613 -19.529450  7.589854e-81  ***\n",
      "v4         0.181525    0.150430   1.206704  2.276247e-01     \n",
      "v5        -0.306159    0.255852  -1.196625  2.315310e-01     \n",
      "v7        -0.079451    0.153076  -0.519029  6.037718e-01     \n",
      "v8         0.097024    0.145161   0.668391  5.039263e-01     \n",
      "v9        -0.003912    0.054108  -0.072300  9.423675e-01     \n",
      "\n",
      "Residuals:\n",
      "         Min       1Q    Median        3Q        Max\n",
      "0 -14.227685 -2.78448 -1.404669  0.171671  64.280515\n",
      "---\n",
      "Signif. codes:  0 ‘***’ 0.001 ‘**’ 0.01 ‘*’ 0.05 ‘.’ 0.1 ‘ ’ 1\n",
      "\n",
      "Residual standard error: 7.1688 on 3630 degrees of freedom\n",
      "Multiple R-squared:  0.1093,\tAdjusted R-squared:  0.107 \n",
      "F-statistic: 55.693 on 8 and 3630 DF,  p-value: 7.349e-86\n",
      "\n"
     ]
    }
   ],
   "source": [
    "model_lm.summary()"
   ]
  },
  {
   "cell_type": "code",
   "execution_count": 29,
   "metadata": {
    "tags": [],
    "ExecuteTime": {
     "end_time": "2024-01-08T18:22:21.488215300Z",
     "start_time": "2024-01-08T18:22:21.433655200Z"
    }
   },
   "outputs": [
    {
     "name": "stdout",
     "output_type": "stream",
     "text": [
      "Erreur moyenne :  43.77376286079982\n",
      "Call\n",
      "smf.ols('v6 ~ v1 + v2 + v3 + v4 + v5 + v7 + v8 + v9 + I(v3**2)', data=...)\n",
      "\n",
      "Coefficients:\n",
      "            Estimate  Std. Error    t value       Pr(>|t|) code\n",
      "Intercept   7.328869    0.456185  16.065563   3.684655e-56  ***\n",
      "v1          0.880029    0.065648  13.405174   4.977735e-40  ***\n",
      "v2          0.419588    0.236575   1.773597   7.621361e-02    .\n",
      "v3         -0.099470    0.055197  -1.802093   7.161374e-02    .\n",
      "v4          0.125110    0.139044   0.899788   3.682928e-01     \n",
      "v5         -0.499046    0.236581  -2.109402   3.497819e-02    *\n",
      "v7         -0.252464    0.141641  -1.782415   7.476509e-02    .\n",
      "v8          0.042293    0.134174   0.315207   7.526224e-01     \n",
      "v9          0.025834    0.050020   0.516470   6.055576e-01     \n",
      "I(v3 ** 2) -0.272614    0.010940 -24.919511  1.158909e-126  ***\n",
      "\n",
      "Residuals:\n",
      "        Min        1Q    Median        3Q        Max\n",
      "0 -10.32473 -3.236347 -1.109787  0.892146  60.829774\n",
      "---\n",
      "Signif. codes:  0 ‘***’ 0.001 ‘**’ 0.01 ‘*’ 0.05 ‘.’ 0.1 ‘ ’ 1\n",
      "\n",
      "Residual standard error: 6.6253 on 3629 degrees of freedom\n",
      "Multiple R-squared:  0.2395,\tAdjusted R-squared:  0.238 \n",
      "F-statistic: 126.958 on 9 and 3629 DF,  p-value: 2.927e-208\n"
     ]
    }
   ],
   "source": [
    "model2 = lm(\"v6 ~ v1 + v2 + v3 + v4 + v5 + v7 + v8 + v9 + I(v3**2)\", df2)\n",
    "eqm = mean_squared_error(df2[\"v6\"], model2.predict(df2))\n",
    "print(\"Erreur moyenne : \", eqm)\n",
    "model2.summary()"
   ]
  },
  {
   "cell_type": "code",
   "execution_count": 30,
   "metadata": {
    "ExecuteTime": {
     "end_time": "2024-01-08T18:22:21.595350800Z",
     "start_time": "2024-01-08T18:22:21.469863800Z"
    }
   },
   "outputs": [
    {
     "name": "stdout",
     "output_type": "stream",
     "text": [
      "Erreur moyenne :  51.264178813537875\n"
     ]
    },
    {
     "data": {
      "text/plain": "<class 'statsmodels.iolib.summary.Summary'>\n\"\"\"\n                 Generalized Linear Model Regression Results                  \n==============================================================================\nDep. Variable:                     v6   No. Observations:                 3639\nModel:                            GLM   Df Residuals:                     3630\nModel Family:                Gaussian   Df Model:                            8\nLink Function:               Identity   Scale:                          51.391\nMethod:                          IRLS   Log-Likelihood:                -12327.\nDate:                Mon, 08 Jan 2024   Deviance:                   1.8655e+05\nTime:                        19:22:21   Pearson chi2:                 1.87e+05\nNo. Iterations:                     3   Pseudo R-squ. (CS):             0.1152\nCovariance Type:            nonrobust                                         \n==============================================================================\n                 coef    std err          z      P>|z|      [0.025      0.975]\n------------------------------------------------------------------------------\nIntercept      5.0587      0.484     10.459      0.000       4.111       6.007\nv1             0.1772      0.064      2.762      0.006       0.051       0.303\nv2             0.2191      0.256      0.856      0.392      -0.282       0.720\nv3            -0.9299      0.048    -19.529      0.000      -1.023      -0.837\nv4             0.1815      0.150      1.207      0.228      -0.113       0.476\nv5            -0.1531      0.128     -1.197      0.231      -0.404       0.098\nv7            -0.0795      0.153     -0.519      0.604      -0.379       0.221\nv8             0.0970      0.145      0.668      0.504      -0.187       0.382\nv9            -0.0039      0.054     -0.072      0.942      -0.110       0.102\nI(v5 ** 2)    -0.1531      0.128     -1.197      0.231      -0.404       0.098\n==============================================================================\n\"\"\"",
      "text/html": "<table class=\"simpletable\">\n<caption>Generalized Linear Model Regression Results</caption>\n<tr>\n  <th>Dep. Variable:</th>          <td>v6</td>        <th>  No. Observations:  </th>   <td>  3639</td>  \n</tr>\n<tr>\n  <th>Model:</th>                  <td>GLM</td>       <th>  Df Residuals:      </th>   <td>  3630</td>  \n</tr>\n<tr>\n  <th>Model Family:</th>        <td>Gaussian</td>     <th>  Df Model:          </th>   <td>     8</td>  \n</tr>\n<tr>\n  <th>Link Function:</th>       <td>Identity</td>     <th>  Scale:             </th>  <td>  51.391</td> \n</tr>\n<tr>\n  <th>Method:</th>                <td>IRLS</td>       <th>  Log-Likelihood:    </th>  <td> -12327.</td> \n</tr>\n<tr>\n  <th>Date:</th>            <td>Mon, 08 Jan 2024</td> <th>  Deviance:          </th> <td>1.8655e+05</td>\n</tr>\n<tr>\n  <th>Time:</th>                <td>19:22:21</td>     <th>  Pearson chi2:      </th>  <td>1.87e+05</td> \n</tr>\n<tr>\n  <th>No. Iterations:</th>          <td>3</td>        <th>  Pseudo R-squ. (CS):</th>   <td>0.1152</td>  \n</tr>\n<tr>\n  <th>Covariance Type:</th>     <td>nonrobust</td>    <th>                     </th>      <td> </td>    \n</tr>\n</table>\n<table class=\"simpletable\">\n<tr>\n       <td></td>         <th>coef</th>     <th>std err</th>      <th>z</th>      <th>P>|z|</th>  <th>[0.025</th>    <th>0.975]</th>  \n</tr>\n<tr>\n  <th>Intercept</th>  <td>    5.0587</td> <td>    0.484</td> <td>   10.459</td> <td> 0.000</td> <td>    4.111</td> <td>    6.007</td>\n</tr>\n<tr>\n  <th>v1</th>         <td>    0.1772</td> <td>    0.064</td> <td>    2.762</td> <td> 0.006</td> <td>    0.051</td> <td>    0.303</td>\n</tr>\n<tr>\n  <th>v2</th>         <td>    0.2191</td> <td>    0.256</td> <td>    0.856</td> <td> 0.392</td> <td>   -0.282</td> <td>    0.720</td>\n</tr>\n<tr>\n  <th>v3</th>         <td>   -0.9299</td> <td>    0.048</td> <td>  -19.529</td> <td> 0.000</td> <td>   -1.023</td> <td>   -0.837</td>\n</tr>\n<tr>\n  <th>v4</th>         <td>    0.1815</td> <td>    0.150</td> <td>    1.207</td> <td> 0.228</td> <td>   -0.113</td> <td>    0.476</td>\n</tr>\n<tr>\n  <th>v5</th>         <td>   -0.1531</td> <td>    0.128</td> <td>   -1.197</td> <td> 0.231</td> <td>   -0.404</td> <td>    0.098</td>\n</tr>\n<tr>\n  <th>v7</th>         <td>   -0.0795</td> <td>    0.153</td> <td>   -0.519</td> <td> 0.604</td> <td>   -0.379</td> <td>    0.221</td>\n</tr>\n<tr>\n  <th>v8</th>         <td>    0.0970</td> <td>    0.145</td> <td>    0.668</td> <td> 0.504</td> <td>   -0.187</td> <td>    0.382</td>\n</tr>\n<tr>\n  <th>v9</th>         <td>   -0.0039</td> <td>    0.054</td> <td>   -0.072</td> <td> 0.942</td> <td>   -0.110</td> <td>    0.102</td>\n</tr>\n<tr>\n  <th>I(v5 ** 2)</th> <td>   -0.1531</td> <td>    0.128</td> <td>   -1.197</td> <td> 0.231</td> <td>   -0.404</td> <td>    0.098</td>\n</tr>\n</table>",
      "text/latex": "\\begin{center}\n\\begin{tabular}{lclc}\n\\toprule\n\\textbf{Dep. Variable:}   &        v6        & \\textbf{  No. Observations:  } &     3639    \\\\\n\\textbf{Model:}           &       GLM        & \\textbf{  Df Residuals:      } &     3630    \\\\\n\\textbf{Model Family:}    &     Gaussian     & \\textbf{  Df Model:          } &        8    \\\\\n\\textbf{Link Function:}   &     Identity     & \\textbf{  Scale:             } &    51.391   \\\\\n\\textbf{Method:}          &       IRLS       & \\textbf{  Log-Likelihood:    } &   -12327.   \\\\\n\\textbf{Date:}            & Mon, 08 Jan 2024 & \\textbf{  Deviance:          } & 1.8655e+05  \\\\\n\\textbf{Time:}            &     19:22:21     & \\textbf{  Pearson chi2:      } &  1.87e+05   \\\\\n\\textbf{No. Iterations:}  &        3         & \\textbf{  Pseudo R-squ. (CS):} &   0.1152    \\\\\n\\textbf{Covariance Type:} &    nonrobust     & \\textbf{                     } &             \\\\\n\\bottomrule\n\\end{tabular}\n\\begin{tabular}{lcccccc}\n                    & \\textbf{coef} & \\textbf{std err} & \\textbf{z} & \\textbf{P$> |$z$|$} & \\textbf{[0.025} & \\textbf{0.975]}  \\\\\n\\midrule\n\\textbf{Intercept}  &       5.0587  &        0.484     &    10.459  &         0.000        &        4.111    &        6.007     \\\\\n\\textbf{v1}         &       0.1772  &        0.064     &     2.762  &         0.006        &        0.051    &        0.303     \\\\\n\\textbf{v2}         &       0.2191  &        0.256     &     0.856  &         0.392        &       -0.282    &        0.720     \\\\\n\\textbf{v3}         &      -0.9299  &        0.048     &   -19.529  &         0.000        &       -1.023    &       -0.837     \\\\\n\\textbf{v4}         &       0.1815  &        0.150     &     1.207  &         0.228        &       -0.113    &        0.476     \\\\\n\\textbf{v5}         &      -0.1531  &        0.128     &    -1.197  &         0.231        &       -0.404    &        0.098     \\\\\n\\textbf{v7}         &      -0.0795  &        0.153     &    -0.519  &         0.604        &       -0.379    &        0.221     \\\\\n\\textbf{v8}         &       0.0970  &        0.145     &     0.668  &         0.504        &       -0.187    &        0.382     \\\\\n\\textbf{v9}         &      -0.0039  &        0.054     &    -0.072  &         0.942        &       -0.110    &        0.102     \\\\\n\\textbf{I(v5 ** 2)} &      -0.1531  &        0.128     &    -1.197  &         0.231        &       -0.404    &        0.098     \\\\\n\\bottomrule\n\\end{tabular}\n%\\caption{Generalized Linear Model Regression Results}\n\\end{center}"
     },
     "execution_count": 30,
     "metadata": {},
     "output_type": "execute_result"
    }
   ],
   "source": [
    "model3 = smf.glm(\"v6 ~ v1 + v2 + v3 + v4 + v5 + v7 + v8 + v9 + I(v5**2)\", df2)\n",
    "res = model3.fit()\n",
    "eqm = mean_squared_error(df2[\"v6\"], res.predict(df2))\n",
    "print(\"Erreur moyenne : \", eqm)\n",
    "res.summary()"
   ]
  },
  {
   "cell_type": "markdown",
   "metadata": {},
   "source": [
    "# 4.2      "
   ]
  },
  {
   "cell_type": "code",
   "execution_count": 31,
   "metadata": {
    "tags": [],
    "ExecuteTime": {
     "end_time": "2024-01-08T18:22:21.615688100Z",
     "start_time": "2024-01-08T18:22:21.542279200Z"
    }
   },
   "outputs": [
    {
     "name": "stdout",
     "output_type": "stream",
     "text": [
      "Erreur moyenne :  57.913700618974815\n"
     ]
    },
    {
     "data": {
      "text/plain": "<class 'statsmodels.iolib.table.SimpleTable'>",
      "text/html": "<table class=\"simpletable\">\n<caption>Generalized Linear Model Regression Results</caption>\n<tr>\n  <th>Dep. Variable:</th>          <td>v6</td>        <th>  No. Observations:  </th>  <td>  3639</td> \n</tr>\n<tr>\n  <th>Model:</th>                  <td>GLM</td>       <th>  Df Residuals:      </th>  <td>  3630</td> \n</tr>\n<tr>\n  <th>Model Family:</th>         <td>Poisson</td>     <th>  Df Model:          </th>  <td>     8</td> \n</tr>\n<tr>\n  <th>Link Function:</th>          <td>Log</td>       <th>  Scale:             </th> <td>  1.0000</td>\n</tr>\n<tr>\n  <th>Method:</th>                <td>IRLS</td>       <th>  Log-Likelihood:    </th> <td> -16488.</td>\n</tr>\n<tr>\n  <th>Date:</th>            <td>Mon, 08 Jan 2024</td> <th>  Deviance:          </th> <td>  29739.</td>\n</tr>\n<tr>\n  <th>Time:</th>                <td>19:22:21</td>     <th>  Pearson chi2:      </th> <td>4.64e+04</td>\n</tr>\n<tr>\n  <th>No. Iterations:</th>          <td>8</td>        <th>  Pseudo R-squ. (CS):</th>  <td>0.8780</td> \n</tr>\n<tr>\n  <th>Covariance Type:</th>     <td>nonrobust</td>    <th>                     </th>     <td> </td>   \n</tr>\n</table>",
      "text/latex": "\\begin{center}\n\\begin{tabular}{lclc}\n\\toprule\n\\textbf{Dep. Variable:}   &        v6        & \\textbf{  No. Observations:  } &    3639   \\\\\n\\textbf{Model:}           &       GLM        & \\textbf{  Df Residuals:      } &    3630   \\\\\n\\textbf{Model Family:}    &     Poisson      & \\textbf{  Df Model:          } &       8   \\\\\n\\textbf{Link Function:}   &       Log        & \\textbf{  Scale:             } &   1.0000  \\\\\n\\textbf{Method:}          &       IRLS       & \\textbf{  Log-Likelihood:    } &  -16488.  \\\\\n\\textbf{Date:}            & Mon, 08 Jan 2024 & \\textbf{  Deviance:          } &   29739.  \\\\\n\\textbf{Time:}            &     19:22:21     & \\textbf{  Pearson chi2:      } & 4.64e+04  \\\\\n\\textbf{No. Iterations:}  &        8         & \\textbf{  Pseudo R-squ. (CS):} &  0.8780   \\\\\n\\textbf{Covariance Type:} &    nonrobust     & \\textbf{                     } &           \\\\\n\\bottomrule\n\\end{tabular}\n%\\caption{Generalized Linear Model Regression Results}\n\\end{center}"
     },
     "metadata": {},
     "output_type": "display_data"
    },
    {
     "data": {
      "text/plain": "                 coef    std err          z   P>|z|     [0.025     0.975]  \\\nIntercept      1.4448      0.040     36.386   0.000      1.367      1.523   \nv1             0.0573      0.005     11.614   0.000      0.048      0.067   \nv2             0.0764      0.022      3.546   0.000      0.034      0.119   \nv3            -0.2838      0.003    -84.506   0.000     -0.290     -0.277   \nv4             0.0796      0.013      6.181   0.000      0.054      0.105   \nv5            -0.0966      0.022     -4.483   0.000     -0.139     -0.054   \nv7            -0.0181      0.013     -1.410   0.158     -0.043      0.007   \nv8             0.0266      0.012      2.148   0.032      0.002      0.051   \nv9            -0.0108      0.005     -2.378   0.017     -0.020     -0.002   \n\n                 p-value Code  \nIntercept  7.027857e-290  ***  \nv1          3.485681e-31  ***  \nv2          3.913776e-04  ***  \nv3          0.000000e+00  ***  \nv4          6.370446e-10  ***  \nv5          7.369696e-06  ***  \nv7          1.584303e-01       \nv8          3.173888e-02    *  \nv9          1.742989e-02    *  ",
      "text/html": "<div>\n<style scoped>\n    .dataframe tbody tr th:only-of-type {\n        vertical-align: middle;\n    }\n\n    .dataframe tbody tr th {\n        vertical-align: top;\n    }\n\n    .dataframe thead th {\n        text-align: right;\n    }\n</style>\n<table border=\"1\" class=\"dataframe\">\n  <thead>\n    <tr style=\"text-align: right;\">\n      <th></th>\n      <th>coef</th>\n      <th>std err</th>\n      <th>z</th>\n      <th>P&gt;|z|</th>\n      <th>[0.025</th>\n      <th>0.975]</th>\n      <th>p-value</th>\n      <th>Code</th>\n    </tr>\n  </thead>\n  <tbody>\n    <tr>\n      <th>Intercept</th>\n      <td>1.4448</td>\n      <td>0.040</td>\n      <td>36.386</td>\n      <td>0.000</td>\n      <td>1.367</td>\n      <td>1.523</td>\n      <td>7.027857e-290</td>\n      <td>***</td>\n    </tr>\n    <tr>\n      <th>v1</th>\n      <td>0.0573</td>\n      <td>0.005</td>\n      <td>11.614</td>\n      <td>0.000</td>\n      <td>0.048</td>\n      <td>0.067</td>\n      <td>3.485681e-31</td>\n      <td>***</td>\n    </tr>\n    <tr>\n      <th>v2</th>\n      <td>0.0764</td>\n      <td>0.022</td>\n      <td>3.546</td>\n      <td>0.000</td>\n      <td>0.034</td>\n      <td>0.119</td>\n      <td>3.913776e-04</td>\n      <td>***</td>\n    </tr>\n    <tr>\n      <th>v3</th>\n      <td>-0.2838</td>\n      <td>0.003</td>\n      <td>-84.506</td>\n      <td>0.000</td>\n      <td>-0.290</td>\n      <td>-0.277</td>\n      <td>0.000000e+00</td>\n      <td>***</td>\n    </tr>\n    <tr>\n      <th>v4</th>\n      <td>0.0796</td>\n      <td>0.013</td>\n      <td>6.181</td>\n      <td>0.000</td>\n      <td>0.054</td>\n      <td>0.105</td>\n      <td>6.370446e-10</td>\n      <td>***</td>\n    </tr>\n    <tr>\n      <th>v5</th>\n      <td>-0.0966</td>\n      <td>0.022</td>\n      <td>-4.483</td>\n      <td>0.000</td>\n      <td>-0.139</td>\n      <td>-0.054</td>\n      <td>7.369696e-06</td>\n      <td>***</td>\n    </tr>\n    <tr>\n      <th>v7</th>\n      <td>-0.0181</td>\n      <td>0.013</td>\n      <td>-1.410</td>\n      <td>0.158</td>\n      <td>-0.043</td>\n      <td>0.007</td>\n      <td>1.584303e-01</td>\n      <td></td>\n    </tr>\n    <tr>\n      <th>v8</th>\n      <td>0.0266</td>\n      <td>0.012</td>\n      <td>2.148</td>\n      <td>0.032</td>\n      <td>0.002</td>\n      <td>0.051</td>\n      <td>3.173888e-02</td>\n      <td>*</td>\n    </tr>\n    <tr>\n      <th>v9</th>\n      <td>-0.0108</td>\n      <td>0.005</td>\n      <td>-2.378</td>\n      <td>0.017</td>\n      <td>-0.020</td>\n      <td>-0.002</td>\n      <td>1.742989e-02</td>\n      <td>*</td>\n    </tr>\n  </tbody>\n</table>\n</div>"
     },
     "metadata": {},
     "output_type": "display_data"
    },
    {
     "data": {
      "text/plain": "<IPython.core.display.HTML object>",
      "text/html": "Signif. codes:  0 '***' 0.001 '**' 0.01 '*' 0.05 '.' 0.1 ' ' 1"
     },
     "metadata": {},
     "output_type": "display_data"
    },
    {
     "data": {
      "text/plain": "<IPython.core.display.HTML object>",
      "text/html": "AIC with 9 ddl = 32994.75"
     },
     "metadata": {},
     "output_type": "display_data"
    }
   ],
   "source": [
    "model = smf.glm(\"v6 ~ v1 + v2 + v3 + v4 + v5 + v7 + v8 + v9\", data=df2, family=sm.families.Poisson())\n",
    "res = model.fit()\n",
    "eqm = mean_squared_error(df2[\"v6\"], res.predict(df2))\n",
    "print(\"Erreur moyenne : \", eqm)\n",
    "GLMsummary(res)"
   ]
  },
  {
   "cell_type": "code",
   "execution_count": 32,
   "metadata": {
    "tags": [],
    "ExecuteTime": {
     "end_time": "2024-01-08T18:22:21.826983300Z",
     "start_time": "2024-01-08T18:22:21.590887400Z"
    }
   },
   "outputs": [
    {
     "name": "stdout",
     "output_type": "stream",
     "text": [
      "Erreur moyenne :  4.235022024657935\n"
     ]
    },
    {
     "data": {
      "text/plain": "<class 'statsmodels.iolib.table.SimpleTable'>",
      "text/html": "<table class=\"simpletable\">\n<caption>Generalized Linear Model Regression Results</caption>\n<tr>\n  <th>Dep. Variable:</th>          <td>v6</td>        <th>  No. Observations:  </th>  <td>  3639</td> \n</tr>\n<tr>\n  <th>Model:</th>                  <td>GLM</td>       <th>  Df Residuals:      </th>  <td>  3629</td> \n</tr>\n<tr>\n  <th>Model Family:</th>         <td>Poisson</td>     <th>  Df Model:          </th>  <td>     9</td> \n</tr>\n<tr>\n  <th>Link Function:</th>          <td>Log</td>       <th>  Scale:             </th> <td>  1.0000</td>\n</tr>\n<tr>\n  <th>Method:</th>                <td>IRLS</td>       <th>  Log-Likelihood:    </th> <td> -2732.9</td>\n</tr>\n<tr>\n  <th>Date:</th>            <td>Mon, 08 Jan 2024</td> <th>  Deviance:          </th> <td>  2228.3</td>\n</tr>\n<tr>\n  <th>Time:</th>                <td>19:22:21</td>     <th>  Pearson chi2:      </th> <td>2.18e+03</td>\n</tr>\n<tr>\n  <th>No. Iterations:</th>         <td>100</td>       <th>  Pseudo R-squ. (CS):</th>  <td>0.9999</td> \n</tr>\n<tr>\n  <th>Covariance Type:</th>     <td>nonrobust</td>    <th>                     </th>     <td> </td>   \n</tr>\n</table>",
      "text/latex": "\\begin{center}\n\\begin{tabular}{lclc}\n\\toprule\n\\textbf{Dep. Variable:}   &        v6        & \\textbf{  No. Observations:  } &    3639   \\\\\n\\textbf{Model:}           &       GLM        & \\textbf{  Df Residuals:      } &    3629   \\\\\n\\textbf{Model Family:}    &     Poisson      & \\textbf{  Df Model:          } &       9   \\\\\n\\textbf{Link Function:}   &       Log        & \\textbf{  Scale:             } &   1.0000  \\\\\n\\textbf{Method:}          &       IRLS       & \\textbf{  Log-Likelihood:    } &  -2732.9  \\\\\n\\textbf{Date:}            & Mon, 08 Jan 2024 & \\textbf{  Deviance:          } &   2228.3  \\\\\n\\textbf{Time:}            &     19:22:21     & \\textbf{  Pearson chi2:      } & 2.18e+03  \\\\\n\\textbf{No. Iterations:}  &       100        & \\textbf{  Pseudo R-squ. (CS):} &  0.9999   \\\\\n\\textbf{Covariance Type:} &    nonrobust     & \\textbf{                     } &           \\\\\n\\bottomrule\n\\end{tabular}\n%\\caption{Generalized Linear Model Regression Results}\n\\end{center}"
     },
     "metadata": {},
     "output_type": "display_data"
    },
    {
     "data": {
      "text/plain": "                  coef    std err          z   P>|z|     [0.025     0.975]  \\\nIntercept       2.7041      0.039     68.677   0.000      2.627      2.781   \nv1              0.5039      0.008     60.881   0.000      0.488      0.520   \nv2              0.0497      0.022      2.259   0.024      0.007      0.093   \nv3              0.2722      0.011     23.810   0.000      0.250      0.295   \nv4              0.0836      0.013      6.219   0.000      0.057      0.110   \nv5             -0.0162      0.022     -0.739   0.460     -0.059      0.027   \nv7             -0.0096      0.013     -0.716   0.474     -0.036      0.017   \nv8              0.0092      0.013      0.714   0.475     -0.016      0.034   \nv9              0.0107      0.005      2.346   0.019      0.002      0.020   \nI(v3 ** 2)     -0.6091      0.001   -536.184   0.000     -0.611     -0.607   \n\n                  p-value Code  \nIntercept    0.000000e+00  ***  \nv1           0.000000e+00  ***  \nv2           2.387357e-02    *  \nv3          2.639399e-125  ***  \nv4           5.012063e-10  ***  \nv5           4.596941e-01       \nv7           4.736989e-01       \nv8           4.749417e-01       \nv9           1.895890e-02    *  \nI(v3 ** 2)   0.000000e+00  ***  ",
      "text/html": "<div>\n<style scoped>\n    .dataframe tbody tr th:only-of-type {\n        vertical-align: middle;\n    }\n\n    .dataframe tbody tr th {\n        vertical-align: top;\n    }\n\n    .dataframe thead th {\n        text-align: right;\n    }\n</style>\n<table border=\"1\" class=\"dataframe\">\n  <thead>\n    <tr style=\"text-align: right;\">\n      <th></th>\n      <th>coef</th>\n      <th>std err</th>\n      <th>z</th>\n      <th>P&gt;|z|</th>\n      <th>[0.025</th>\n      <th>0.975]</th>\n      <th>p-value</th>\n      <th>Code</th>\n    </tr>\n  </thead>\n  <tbody>\n    <tr>\n      <th>Intercept</th>\n      <td>2.7041</td>\n      <td>0.039</td>\n      <td>68.677</td>\n      <td>0.000</td>\n      <td>2.627</td>\n      <td>2.781</td>\n      <td>0.000000e+00</td>\n      <td>***</td>\n    </tr>\n    <tr>\n      <th>v1</th>\n      <td>0.5039</td>\n      <td>0.008</td>\n      <td>60.881</td>\n      <td>0.000</td>\n      <td>0.488</td>\n      <td>0.520</td>\n      <td>0.000000e+00</td>\n      <td>***</td>\n    </tr>\n    <tr>\n      <th>v2</th>\n      <td>0.0497</td>\n      <td>0.022</td>\n      <td>2.259</td>\n      <td>0.024</td>\n      <td>0.007</td>\n      <td>0.093</td>\n      <td>2.387357e-02</td>\n      <td>*</td>\n    </tr>\n    <tr>\n      <th>v3</th>\n      <td>0.2722</td>\n      <td>0.011</td>\n      <td>23.810</td>\n      <td>0.000</td>\n      <td>0.250</td>\n      <td>0.295</td>\n      <td>2.639399e-125</td>\n      <td>***</td>\n    </tr>\n    <tr>\n      <th>v4</th>\n      <td>0.0836</td>\n      <td>0.013</td>\n      <td>6.219</td>\n      <td>0.000</td>\n      <td>0.057</td>\n      <td>0.110</td>\n      <td>5.012063e-10</td>\n      <td>***</td>\n    </tr>\n    <tr>\n      <th>v5</th>\n      <td>-0.0162</td>\n      <td>0.022</td>\n      <td>-0.739</td>\n      <td>0.460</td>\n      <td>-0.059</td>\n      <td>0.027</td>\n      <td>4.596941e-01</td>\n      <td></td>\n    </tr>\n    <tr>\n      <th>v7</th>\n      <td>-0.0096</td>\n      <td>0.013</td>\n      <td>-0.716</td>\n      <td>0.474</td>\n      <td>-0.036</td>\n      <td>0.017</td>\n      <td>4.736989e-01</td>\n      <td></td>\n    </tr>\n    <tr>\n      <th>v8</th>\n      <td>0.0092</td>\n      <td>0.013</td>\n      <td>0.714</td>\n      <td>0.475</td>\n      <td>-0.016</td>\n      <td>0.034</td>\n      <td>4.749417e-01</td>\n      <td></td>\n    </tr>\n    <tr>\n      <th>v9</th>\n      <td>0.0107</td>\n      <td>0.005</td>\n      <td>2.346</td>\n      <td>0.019</td>\n      <td>0.002</td>\n      <td>0.020</td>\n      <td>1.895890e-02</td>\n      <td>*</td>\n    </tr>\n    <tr>\n      <th>I(v3 ** 2)</th>\n      <td>-0.6091</td>\n      <td>0.001</td>\n      <td>-536.184</td>\n      <td>0.000</td>\n      <td>-0.611</td>\n      <td>-0.607</td>\n      <td>0.000000e+00</td>\n      <td>***</td>\n    </tr>\n  </tbody>\n</table>\n</div>"
     },
     "metadata": {},
     "output_type": "display_data"
    },
    {
     "data": {
      "text/plain": "<IPython.core.display.HTML object>",
      "text/html": "Signif. codes:  0 '***' 0.001 '**' 0.01 '*' 0.05 '.' 0.1 ' ' 1"
     },
     "metadata": {},
     "output_type": "display_data"
    },
    {
     "data": {
      "text/plain": "<IPython.core.display.HTML object>",
      "text/html": "AIC with 10 ddl = 5485.78"
     },
     "metadata": {},
     "output_type": "display_data"
    }
   ],
   "source": [
    "model2 = smf.glm(\"v6 ~ v1 + v2 + v3 + v4 + v5 + v7 + v8 + v9 + I(v3**2)\", data=df2, family=sm.families.Poisson())\n",
    "res2 = model2.fit()\n",
    "eqm = mean_squared_error(df2[\"v6\"], res2.predict(df2))\n",
    "print(\"Erreur moyenne : \", eqm)\n",
    "GLMsummary(res2)"
   ]
  },
  {
   "cell_type": "code",
   "execution_count": 33,
   "metadata": {
    "tags": [],
    "ExecuteTime": {
     "end_time": "2024-01-08T18:22:21.828471200Z",
     "start_time": "2024-01-08T18:22:21.758535Z"
    }
   },
   "outputs": [
    {
     "name": "stdout",
     "output_type": "stream",
     "text": [
      "Erreur moyenne :  57.9137006189748\n"
     ]
    },
    {
     "data": {
      "text/plain": "<class 'statsmodels.iolib.table.SimpleTable'>",
      "text/html": "<table class=\"simpletable\">\n<caption>Generalized Linear Model Regression Results</caption>\n<tr>\n  <th>Dep. Variable:</th>          <td>v6</td>        <th>  No. Observations:  </th>  <td>  3639</td> \n</tr>\n<tr>\n  <th>Model:</th>                  <td>GLM</td>       <th>  Df Residuals:      </th>  <td>  3630</td> \n</tr>\n<tr>\n  <th>Model Family:</th>         <td>Poisson</td>     <th>  Df Model:          </th>  <td>     8</td> \n</tr>\n<tr>\n  <th>Link Function:</th>          <td>Log</td>       <th>  Scale:             </th> <td>  1.0000</td>\n</tr>\n<tr>\n  <th>Method:</th>                <td>IRLS</td>       <th>  Log-Likelihood:    </th> <td> -16488.</td>\n</tr>\n<tr>\n  <th>Date:</th>            <td>Mon, 08 Jan 2024</td> <th>  Deviance:          </th> <td>  29739.</td>\n</tr>\n<tr>\n  <th>Time:</th>                <td>19:22:21</td>     <th>  Pearson chi2:      </th> <td>4.64e+04</td>\n</tr>\n<tr>\n  <th>No. Iterations:</th>          <td>8</td>        <th>  Pseudo R-squ. (CS):</th>  <td>0.8780</td> \n</tr>\n<tr>\n  <th>Covariance Type:</th>     <td>nonrobust</td>    <th>                     </th>     <td> </td>   \n</tr>\n</table>",
      "text/latex": "\\begin{center}\n\\begin{tabular}{lclc}\n\\toprule\n\\textbf{Dep. Variable:}   &        v6        & \\textbf{  No. Observations:  } &    3639   \\\\\n\\textbf{Model:}           &       GLM        & \\textbf{  Df Residuals:      } &    3630   \\\\\n\\textbf{Model Family:}    &     Poisson      & \\textbf{  Df Model:          } &       8   \\\\\n\\textbf{Link Function:}   &       Log        & \\textbf{  Scale:             } &   1.0000  \\\\\n\\textbf{Method:}          &       IRLS       & \\textbf{  Log-Likelihood:    } &  -16488.  \\\\\n\\textbf{Date:}            & Mon, 08 Jan 2024 & \\textbf{  Deviance:          } &   29739.  \\\\\n\\textbf{Time:}            &     19:22:21     & \\textbf{  Pearson chi2:      } & 4.64e+04  \\\\\n\\textbf{No. Iterations:}  &        8         & \\textbf{  Pseudo R-squ. (CS):} &  0.8780   \\\\\n\\textbf{Covariance Type:} &    nonrobust     & \\textbf{                     } &           \\\\\n\\bottomrule\n\\end{tabular}\n%\\caption{Generalized Linear Model Regression Results}\n\\end{center}"
     },
     "metadata": {},
     "output_type": "display_data"
    },
    {
     "data": {
      "text/plain": "                  coef    std err          z   P>|z|     [0.025     0.975]  \\\nIntercept       1.4448      0.040     36.386   0.000      1.367      1.523   \nv1              0.0573      0.005     11.614   0.000      0.048      0.067   \nv2              0.0764      0.022      3.546   0.000      0.034      0.119   \nv3             -0.2838      0.003    -84.506   0.000     -0.290     -0.277   \nv4              0.0796      0.013      6.181   0.000      0.054      0.105   \nv5             -0.0483      0.011     -4.483   0.000     -0.069     -0.027   \nv7             -0.0181      0.013     -1.410   0.158     -0.043      0.007   \nv8              0.0266      0.012      2.148   0.032      0.002      0.051   \nv9             -0.0108      0.005     -2.378   0.017     -0.020     -0.002   \nI(v5 ** 2)     -0.0483      0.011     -4.483   0.000     -0.069     -0.027   \n\n                  p-value Code  \nIntercept   7.027857e-290  ***  \nv1           3.485681e-31  ***  \nv2           3.913776e-04  ***  \nv3           0.000000e+00  ***  \nv4           6.370446e-10  ***  \nv5           7.369696e-06  ***  \nv7           1.584303e-01       \nv8           3.173888e-02    *  \nv9           1.742989e-02    *  \nI(v5 ** 2)   7.369696e-06  ***  ",
      "text/html": "<div>\n<style scoped>\n    .dataframe tbody tr th:only-of-type {\n        vertical-align: middle;\n    }\n\n    .dataframe tbody tr th {\n        vertical-align: top;\n    }\n\n    .dataframe thead th {\n        text-align: right;\n    }\n</style>\n<table border=\"1\" class=\"dataframe\">\n  <thead>\n    <tr style=\"text-align: right;\">\n      <th></th>\n      <th>coef</th>\n      <th>std err</th>\n      <th>z</th>\n      <th>P&gt;|z|</th>\n      <th>[0.025</th>\n      <th>0.975]</th>\n      <th>p-value</th>\n      <th>Code</th>\n    </tr>\n  </thead>\n  <tbody>\n    <tr>\n      <th>Intercept</th>\n      <td>1.4448</td>\n      <td>0.040</td>\n      <td>36.386</td>\n      <td>0.000</td>\n      <td>1.367</td>\n      <td>1.523</td>\n      <td>7.027857e-290</td>\n      <td>***</td>\n    </tr>\n    <tr>\n      <th>v1</th>\n      <td>0.0573</td>\n      <td>0.005</td>\n      <td>11.614</td>\n      <td>0.000</td>\n      <td>0.048</td>\n      <td>0.067</td>\n      <td>3.485681e-31</td>\n      <td>***</td>\n    </tr>\n    <tr>\n      <th>v2</th>\n      <td>0.0764</td>\n      <td>0.022</td>\n      <td>3.546</td>\n      <td>0.000</td>\n      <td>0.034</td>\n      <td>0.119</td>\n      <td>3.913776e-04</td>\n      <td>***</td>\n    </tr>\n    <tr>\n      <th>v3</th>\n      <td>-0.2838</td>\n      <td>0.003</td>\n      <td>-84.506</td>\n      <td>0.000</td>\n      <td>-0.290</td>\n      <td>-0.277</td>\n      <td>0.000000e+00</td>\n      <td>***</td>\n    </tr>\n    <tr>\n      <th>v4</th>\n      <td>0.0796</td>\n      <td>0.013</td>\n      <td>6.181</td>\n      <td>0.000</td>\n      <td>0.054</td>\n      <td>0.105</td>\n      <td>6.370446e-10</td>\n      <td>***</td>\n    </tr>\n    <tr>\n      <th>v5</th>\n      <td>-0.0483</td>\n      <td>0.011</td>\n      <td>-4.483</td>\n      <td>0.000</td>\n      <td>-0.069</td>\n      <td>-0.027</td>\n      <td>7.369696e-06</td>\n      <td>***</td>\n    </tr>\n    <tr>\n      <th>v7</th>\n      <td>-0.0181</td>\n      <td>0.013</td>\n      <td>-1.410</td>\n      <td>0.158</td>\n      <td>-0.043</td>\n      <td>0.007</td>\n      <td>1.584303e-01</td>\n      <td></td>\n    </tr>\n    <tr>\n      <th>v8</th>\n      <td>0.0266</td>\n      <td>0.012</td>\n      <td>2.148</td>\n      <td>0.032</td>\n      <td>0.002</td>\n      <td>0.051</td>\n      <td>3.173888e-02</td>\n      <td>*</td>\n    </tr>\n    <tr>\n      <th>v9</th>\n      <td>-0.0108</td>\n      <td>0.005</td>\n      <td>-2.378</td>\n      <td>0.017</td>\n      <td>-0.020</td>\n      <td>-0.002</td>\n      <td>1.742989e-02</td>\n      <td>*</td>\n    </tr>\n    <tr>\n      <th>I(v5 ** 2)</th>\n      <td>-0.0483</td>\n      <td>0.011</td>\n      <td>-4.483</td>\n      <td>0.000</td>\n      <td>-0.069</td>\n      <td>-0.027</td>\n      <td>7.369696e-06</td>\n      <td>***</td>\n    </tr>\n  </tbody>\n</table>\n</div>"
     },
     "metadata": {},
     "output_type": "display_data"
    },
    {
     "data": {
      "text/plain": "<IPython.core.display.HTML object>",
      "text/html": "Signif. codes:  0 '***' 0.001 '**' 0.01 '*' 0.05 '.' 0.1 ' ' 1"
     },
     "metadata": {},
     "output_type": "display_data"
    },
    {
     "data": {
      "text/plain": "<IPython.core.display.HTML object>",
      "text/html": "AIC with 9 ddl = 32994.75"
     },
     "metadata": {},
     "output_type": "display_data"
    }
   ],
   "source": [
    "model = smf.glm(\"v6 ~ v1 + v2 + v3 + v4 + v5 + v7 + v8 + v9 + I(v5**2)\", data=df2, family=sm.families.Poisson())\n",
    "res = model.fit()\n",
    "eqm = mean_squared_error(df2[\"v6\"], res.predict(df2))\n",
    "print(\"Erreur moyenne : \", eqm)\n",
    "GLMsummary(res)"
   ]
  },
  {
   "cell_type": "markdown",
   "metadata": {},
   "source": [
    "# 4.3"
   ]
  },
  {
   "cell_type": "code",
   "execution_count": 34,
   "metadata": {
    "tags": [],
    "ExecuteTime": {
     "end_time": "2024-01-08T18:22:21.921718800Z",
     "start_time": "2024-01-08T18:22:21.818551Z"
    }
   },
   "outputs": [],
   "source": [
    "missing_v6_rows = df['v6'].isna()\n",
    "\n",
    "predictions = res2.predict(df.loc[missing_v6_rows, :])\n",
    "\n",
    "df.loc[missing_v6_rows, 'v6'] = predictions"
   ]
  },
  {
   "cell_type": "code",
   "execution_count": 53,
   "metadata": {
    "tags": [],
    "ExecuteTime": {
     "end_time": "2024-01-08T18:25:16.977393400Z",
     "start_time": "2024-01-08T18:25:16.902619800Z"
    }
   },
   "outputs": [
    {
     "data": {
      "text/plain": "(4500, 11)"
     },
     "execution_count": 53,
     "metadata": {},
     "output_type": "execute_result"
    }
   ],
   "source": [
    "df.head()\n",
    "\n",
    "df.shape"
   ]
  },
  {
   "cell_type": "code",
   "execution_count": 36,
   "metadata": {
    "tags": [],
    "ExecuteTime": {
     "end_time": "2024-01-08T18:22:22.006038500Z",
     "start_time": "2024-01-08T18:22:21.859719100Z"
    }
   },
   "outputs": [
    {
     "name": "stdout",
     "output_type": "stream",
     "text": [
      "Dimensions de la base d'apprentissage (X_train): (3015, 9)\n",
      "Dimensions de la base de test (X_test): (1485, 9)\n",
      "Dimensions de la base d'apprentissage (y_train): (3015,)\n",
      "Dimensions de la base de test (y_test): (1485,)\n"
     ]
    }
   ],
   "source": [
    "X = df.drop(columns=['r']) \n",
    "y = df['r']\n",
    "\n",
    "X_train, X_test, y_train, y_test = train_test_split(X, y, test_size=0.33, random_state=42)\n",
    "\n",
    "print(\"Dimensions de la base d'apprentissage (X_train):\", X_train.shape)\n",
    "print(\"Dimensions de la base de test (X_test):\", X_test.shape)\n",
    "print(\"Dimensions de la base d'apprentissage (y_train):\", y_train.shape)\n",
    "print(\"Dimensions de la base de test (y_test):\", y_test.shape)\n"
   ]
  },
  {
   "cell_type": "code",
   "execution_count": 37,
   "metadata": {
    "tags": [],
    "ExecuteTime": {
     "end_time": "2024-01-08T18:22:22.081430500Z",
     "start_time": "2024-01-08T18:22:21.877575500Z"
    }
   },
   "outputs": [
    {
     "name": "stdout",
     "output_type": "stream",
     "text": [
      "score (train) 0.6039800995024875\n",
      "score (test) 0.5966329966329966\n"
     ]
    }
   ],
   "source": [
    "model = LogisticRegression()\n",
    "model.fit(X_train, y_train)\n",
    "print(\"score (train)\", model.score(X_train,y_train))\n",
    "print(\"score (test)\",model.score(X_test,y_test))"
   ]
  },
  {
   "cell_type": "markdown",
   "metadata": {},
   "source": [
    "## Clustering\n",
    "\n",
    "Comme vous l'avez peut-être observé, on soupçonne que les données puissent être en fait composées de différents *clusters*, qui possèderaient des caractéristiques différentes. L'idées est alors qu'on pourrait -- peut-être, améliorer les performances de discrimination et utilisant des modèles différents sur chacun des clusters. \n",
    "\n",
    "Au vu des histogrammes, on teste l'hypothèse de 3 clusters. \n",
    "\n",
    "- Utiliser la méthode kmeans pour définir 3 clusters. Tracer les histogrammes de répartition des labels identifiés par kmeans. \n",
    "- Ajouter au dataframe une colonne 'km_labels' contenant le label du cluster pour chaque exemple. \n",
    "\n",
    "\n",
    "\n",
    "\n",
    "NB - Sous Python \n",
    "```\n",
    "from sklearn.cluster import KMeans\n",
    "kmeans = KMeans(...\n",
    "```\n",
    "\n"
   ]
  },
  {
   "cell_type": "code",
   "execution_count": 38,
   "metadata": {
    "ExecuteTime": {
     "end_time": "2024-01-08T18:22:22.520886700Z",
     "start_time": "2024-01-08T18:22:21.943543600Z"
    }
   },
   "outputs": [],
   "source": [
    "from sklearn.cluster import KMeans\n",
    "import numpy as np"
   ]
  },
  {
   "cell_type": "code",
   "execution_count": 39,
   "metadata": {
    "ExecuteTime": {
     "end_time": "2024-01-08T18:22:23.978796800Z",
     "start_time": "2024-01-08T18:22:22.516422700Z"
    }
   },
   "outputs": [
    {
     "data": {
      "text/plain": "<Axes: ylabel='Count'>"
     },
     "execution_count": 39,
     "metadata": {},
     "output_type": "execute_result"
    },
    {
     "data": {
      "text/plain": "<Figure size 640x480 with 1 Axes>",
      "image/png": "[encoded data removed]"
     },
     "metadata": {},
     "output_type": "display_data"
    }
   ],
   "source": [
    "X = df.drop(columns=[\"r\"])\n",
    "\n",
    "km = KMeans(n_clusters=3, n_init=10)\n",
    "y = km.fit_predict(X)\n",
    "\n",
    "sns.histplot(y,bins=[0,1,2,3])"
   ]
  },
  {
   "cell_type": "code",
   "execution_count": 40,
   "metadata": {
    "tags": [],
    "ExecuteTime": {
     "end_time": "2024-01-08T18:22:23.996652500Z",
     "start_time": "2024-01-08T18:22:23.976812600Z"
    }
   },
   "outputs": [
    {
     "data": {
      "text/plain": "         v1  v2        v3  v4  v5       v6  v7  v8  v9  r  km_labels\n0 -5.244266   0 -2.544469 -12   0  0.00000  -7 -19   8  0          0\n1  6.000000   0  4.922793   4   0  0.00074   6  11  10  0          2\n2 -7.882469   1  0.087773 -10   0  0.00000 -11 -20   8  1          0\n3 -7.155857   0 -0.713578 -13   0  1.00000 -10 -24   7  1          0\n4  2.257337   1 -2.380117   5   1  0.00000   3   9  10  0          2",
      "text/html": "<div>\n<style scoped>\n    .dataframe tbody tr th:only-of-type {\n        vertical-align: middle;\n    }\n\n    .dataframe tbody tr th {\n        vertical-align: top;\n    }\n\n    .dataframe thead th {\n        text-align: right;\n    }\n</style>\n<table border=\"1\" class=\"dataframe\">\n  <thead>\n    <tr style=\"text-align: right;\">\n      <th></th>\n      <th>v1</th>\n      <th>v2</th>\n      <th>v3</th>\n      <th>v4</th>\n      <th>v5</th>\n      <th>v6</th>\n      <th>v7</th>\n      <th>v8</th>\n      <th>v9</th>\n      <th>r</th>\n      <th>km_labels</th>\n    </tr>\n  </thead>\n  <tbody>\n    <tr>\n      <th>0</th>\n      <td>-5.244266</td>\n      <td>0</td>\n      <td>-2.544469</td>\n      <td>-12</td>\n      <td>0</td>\n      <td>0.00000</td>\n      <td>-7</td>\n      <td>-19</td>\n      <td>8</td>\n      <td>0</td>\n      <td>0</td>\n    </tr>\n    <tr>\n      <th>1</th>\n      <td>6.000000</td>\n      <td>0</td>\n      <td>4.922793</td>\n      <td>4</td>\n      <td>0</td>\n      <td>0.00074</td>\n      <td>6</td>\n      <td>11</td>\n      <td>10</td>\n      <td>0</td>\n      <td>2</td>\n    </tr>\n    <tr>\n      <th>2</th>\n      <td>-7.882469</td>\n      <td>1</td>\n      <td>0.087773</td>\n      <td>-10</td>\n      <td>0</td>\n      <td>0.00000</td>\n      <td>-11</td>\n      <td>-20</td>\n      <td>8</td>\n      <td>1</td>\n      <td>0</td>\n    </tr>\n    <tr>\n      <th>3</th>\n      <td>-7.155857</td>\n      <td>0</td>\n      <td>-0.713578</td>\n      <td>-13</td>\n      <td>0</td>\n      <td>1.00000</td>\n      <td>-10</td>\n      <td>-24</td>\n      <td>7</td>\n      <td>1</td>\n      <td>0</td>\n    </tr>\n    <tr>\n      <th>4</th>\n      <td>2.257337</td>\n      <td>1</td>\n      <td>-2.380117</td>\n      <td>5</td>\n      <td>1</td>\n      <td>0.00000</td>\n      <td>3</td>\n      <td>9</td>\n      <td>10</td>\n      <td>0</td>\n      <td>2</td>\n    </tr>\n  </tbody>\n</table>\n</div>"
     },
     "execution_count": 40,
     "metadata": {},
     "output_type": "execute_result"
    }
   ],
   "source": [
    "df[\"km_labels\"] = y\n",
    "df.head()"
   ]
  },
  {
   "cell_type": "markdown",
   "metadata": {},
   "source": [
    "- Séparer votre dataframe en une base d'apprentissage `train` (les 3000 premières lignes) et une base de test `test` (les 1500 suivantes). \n",
    "- Pour chacun des groupes (vous pouvez filtrer vos données sur la valeur de la colonne 'km_labels')\n",
    "   - calculer un modèle de régression logistique \n",
    "   - et les performances correspondantes (score $s_i$, taux de faux positifs $t_i$) sur la base de test, pour les exemples du même groupe\n",
    "   - si $n_1$, $n_2$, $n_3$ sont les nombres d'exemples dans chacun des groupes, $s_1$, $s_2$, $s_3$ les scores dans chaque groupe, alors le score global sera \n",
    "$$\n",
    "   s = \\frac{n_1s_1  + n_2s_2 + n_3s_3} {n_1  + n_2 + n_3}\n",
    "$$\n",
    "   et pour le taux de faux positifs,\n",
    "$$\n",
    "   t = \\frac{n_1t_1  + n_2t_2 + n_3t_3} {n_1  + n_2 + n_3}\n",
    "$$\n",
    "- Comparez les performances aux performances obtenues précédemment et commentez   "
   ]
  },
  {
   "cell_type": "code",
   "execution_count": 41,
   "metadata": {
    "ExecuteTime": {
     "end_time": "2024-01-08T18:22:24.063115800Z",
     "start_time": "2024-01-08T18:22:23.987228200Z"
    }
   },
   "outputs": [],
   "source": [
    "train, test = train_test_split(df, test_size=1/3, random_state=42)"
   ]
  },
  {
   "cell_type": "code",
   "execution_count": 42,
   "metadata": {
    "ExecuteTime": {
     "end_time": "2024-01-08T18:22:24.064107700Z",
     "start_time": "2024-01-08T18:22:24.002107800Z"
    }
   },
   "outputs": [
    {
     "name": "stdout",
     "output_type": "stream",
     "text": [
      "score (train) 0.766\n",
      "score (test) 0.763671875\n",
      "taux Faux positif 0.2669172932330827\n"
     ]
    }
   ],
   "source": [
    "train0 = train[train[\"km_labels\"]==0]\n",
    "test0 = test[test[\"km_labels\"]==0]\n",
    "X_train0 = train0.drop(columns=[\"r\"])\n",
    "y_train0 = train0[\"r\"]\n",
    "X_test0 = test0.drop(columns=[\"r\"])\n",
    "y_test0 = test0[\"r\"]\n",
    "\n",
    "model = LogisticRegression(max_iter=1000)\n",
    "model.fit(X_train0, y_train0)\n",
    "print(\"score (train)\", model.score(X_train0,y_train0))\n",
    "print(\"score (test)\",model.score(X_test0,y_test0))\n",
    "\n",
    "\n",
    "mat = pd.crosstab(y_test0, model.predict(X_test0))\n",
    "\n",
    "FP0 = mat[1][0]/(mat[1][0] + mat[1][1])\n",
    "\n",
    "print(\"taux Faux positif\",FP0)"
   ]
  },
  {
   "cell_type": "code",
   "execution_count": 43,
   "metadata": {
    "tags": [],
    "ExecuteTime": {
     "end_time": "2024-01-08T18:22:24.175707700Z",
     "start_time": "2024-01-08T18:22:24.039308700Z"
    }
   },
   "outputs": [
    {
     "name": "stdout",
     "output_type": "stream",
     "text": [
      "score (train) 0.7788671023965141\n",
      "score (test) 0.8017241379310345\n",
      "taux Faux positif 0.18269230769230768\n"
     ]
    }
   ],
   "source": [
    "train1 = train[train[\"km_labels\"]==1]\n",
    "test1 = test[test[\"km_labels\"]==1]\n",
    "X_train1 = train1.drop(columns=[\"r\"])\n",
    "y_train1 = train1[\"r\"]\n",
    "X_test1 = test1.drop(columns=[\"r\"])\n",
    "y_test1 = test1[\"r\"]\n",
    "\n",
    "model1 = LogisticRegression(max_iter=1000)\n",
    "model1.fit(X_train1, y_train1)\n",
    "print(\"score (train)\", model1.score(X_train1,y_train1))\n",
    "print(\"score (test)\",model1.score(X_test1,y_test1))\n",
    "\n",
    "\n",
    "mat = pd.crosstab(y_test1, model1.predict(X_test1))\n",
    "\n",
    "FP1 = mat[1][0]/(mat[1][0] + mat[1][1])\n",
    "\n",
    "print(\"taux Faux positif\",FP1)"
   ]
  },
  {
   "cell_type": "code",
   "execution_count": 44,
   "metadata": {
    "tags": [],
    "ExecuteTime": {
     "end_time": "2024-01-08T18:22:24.212411500Z",
     "start_time": "2024-01-08T18:22:24.079485100Z"
    }
   },
   "outputs": [
    {
     "name": "stdout",
     "output_type": "stream",
     "text": [
      "score (train) 0.7948243992606284\n",
      "score (test) 0.7404580152671756\n",
      "taux Faux positif 0.2845849802371542\n"
     ]
    }
   ],
   "source": [
    "train2 = train[train[\"km_labels\"]==2]\n",
    "test2 = test[test[\"km_labels\"]==2]\n",
    "X_train2 = train2.drop(columns=[\"r\"])\n",
    "y_train2 = train2[\"r\"]\n",
    "X_test2 = test2.drop(columns=[\"r\"])\n",
    "y_test2 = test2[\"r\"]\n",
    "\n",
    "model2 = LogisticRegression(max_iter=1000)\n",
    "model2.fit(X_train2, y_train2)\n",
    "print(\"score (train)\", model2.score(X_train2,y_train2))\n",
    "print(\"score (test)\",model2.score(X_test2,y_test2))\n",
    "\n",
    "\n",
    "mat = pd.crosstab(y_test2, model2.predict(X_test2))\n",
    "\n",
    "FP2 = mat[1][0]/(mat[1][0] + mat[1][1])\n",
    "\n",
    "print(\"taux Faux positif\",FP2)"
   ]
  },
  {
   "cell_type": "code",
   "execution_count": 45,
   "metadata": {
    "tags": [],
    "ExecuteTime": {
     "end_time": "2024-01-08T18:22:24.212908700Z",
     "start_time": "2024-01-08T18:22:24.122140900Z"
    }
   },
   "outputs": [
    {
     "name": "stdout",
     "output_type": "stream",
     "text": [
      "Le score global est:  0.7673333333333333\n"
     ]
    }
   ],
   "source": [
    "scores_global = (len(y_test0)*model.score(X_test0,y_test0) + len(y_test1)*model1.score(X_test1,y_test1) + len(y_test2)*model2.score(X_test2,y_test2)) / (len(y_test0) + len(y_test1)+ len(y_test2))\n",
    "print(\"Le score global est: \", scores_global)"
   ]
  },
  {
   "cell_type": "code",
   "execution_count": 46,
   "metadata": {
    "tags": [],
    "ExecuteTime": {
     "end_time": "2024-01-08T18:22:24.212908700Z",
     "start_time": "2024-01-08T18:22:24.133053100Z"
    }
   },
   "outputs": [
    {
     "name": "stdout",
     "output_type": "stream",
     "text": [
      "Le taux de faux positifs global est:  0.24703560969922522\n"
     ]
    }
   ],
   "source": [
    "FP_global = (len(y_test0)*FP0 + len(y_test1)*FP1 + len(y_test2)*FP2) / (len(y_test0) + len(y_test1)+ len(y_test2))\n",
    "print(\"Le taux de faux positifs global est: \", FP_global)"
   ]
  },
  {
   "cell_type": "markdown",
   "metadata": {},
   "source": [
    "## Évaluation de la stabilité par bootstrap\n",
    "\n",
    "- Ré-échantillonnez l'ensemble `train` et générez le même nombre d'échantillons, puis apprenez vos modèles et calculez le score global comme précédemment sur la base de test _inchangée_. \n",
    "- Effectuez ceci disons B=200 fois, en stockant les valeurs de scores et taux de faux positifs. \n",
    "- Tracez les histogrammes des valeurs obtenues\n",
    "- Donnez les moyennes et intervalles de confiance correspondant. "
   ]
  },
  {
   "cell_type": "code",
   "execution_count": 47,
   "metadata": {
    "tags": [],
    "ExecuteTime": {
     "end_time": "2024-01-08T18:22:24.213899600Z",
     "start_time": "2024-01-08T18:22:24.140988600Z"
    }
   },
   "outputs": [],
   "source": [
    "def bootfn(n):\n",
    "    scores_l = list()\n",
    "    TFP_l = list()\n",
    "\n",
    "    for i in range(n):\n",
    "        train, test = train_test_split(df, test_size=1/3)\n",
    "\n",
    "        train0 = train[train[\"km_labels\"]==0]\n",
    "        test0 = test[test[\"km_labels\"]==0]\n",
    "        X_train0 = train0.drop(columns=[\"r\"])\n",
    "        y_train0 = train0[\"r\"]\n",
    "        X_test0 = test0.drop(columns=[\"r\"])\n",
    "        y_test0 = test0[\"r\"]\n",
    "\n",
    "        model = LogisticRegression(max_iter=1000)\n",
    "        model.fit(X_train0, y_train0)\n",
    "\n",
    "        s0 = model.score(X_test0,y_test0)\n",
    "        mat = pd.crosstab(y_test0, model.predict(X_test0))\n",
    "        FP0 = mat[1][0]/(mat[1][0] + mat[1][1])\n",
    "\n",
    "\n",
    "\n",
    "        train1 = train[train[\"km_labels\"]==1]\n",
    "        test1 = test[test[\"km_labels\"]==1]\n",
    "        X_train1 = train1.drop(columns=[\"r\"])\n",
    "        y_train1 = train1[\"r\"]\n",
    "        X_test1 = test1.drop(columns=[\"r\"])\n",
    "        y_test1 = test1[\"r\"]\n",
    "\n",
    "        model1 = LogisticRegression(max_iter=1000)\n",
    "        model1.fit(X_train1, y_train1)\n",
    "\n",
    "        s1 = model1.score(X_test1,y_test1)\n",
    "        mat = pd.crosstab(y_test1, model1.predict(X_test1))\n",
    "        FP1 = mat[1][0]/(mat[1][0] + mat[1][1])\n",
    "\n",
    "\n",
    "\n",
    "        train2 = train[train[\"km_labels\"]==2]\n",
    "        test2 = test[test[\"km_labels\"]==2]\n",
    "        X_train2 = train2.drop(columns=[\"r\"])\n",
    "        y_train2 = train2[\"r\"]\n",
    "        X_test2 = test2.drop(columns=[\"r\"])\n",
    "        y_test2 = test2[\"r\"]\n",
    "\n",
    "        model2 = LogisticRegression(max_iter=1000)\n",
    "        model2.fit(X_train2, y_train2)\n",
    "        s2 = model2.score(X_test2,y_test2)\n",
    "        mat = pd.crosstab(y_test2, model2.predict(X_test2))\n",
    "        FP2 = mat[1][0]/(mat[1][0] + mat[1][1])\n",
    "\n",
    "\n",
    "\n",
    "        scores_global = (len(y_test0)*s0 + len(y_test1)*s1 + len(y_test2)*s2) / (len(y_test0) + len(y_test1)+ len(y_test2))\n",
    "\n",
    "        FP_global = (len(y_test0)*FP0 + len(y_test1)*FP1 + len(y_test2)*FP2) / (len(y_test0) + len(y_test1)+ len(y_test2))\n",
    "        \n",
    "        scores_l.append(scores_global)\n",
    "        TFP_l.append(FP_global)\n",
    "\n",
    "    return np.array(scores_l), np.array(TFP_l)"
   ]
  },
  {
   "cell_type": "code",
   "execution_count": 48,
   "metadata": {
    "tags": [],
    "ExecuteTime": {
     "end_time": "2024-01-08T18:22:42.179015700Z",
     "start_time": "2024-01-08T18:22:24.156363600Z"
    }
   },
   "outputs": [],
   "source": [
    "result = bootfn(200)\n",
    "scores = result[0]\n",
    "tfp = result[1]"
   ]
  },
  {
   "cell_type": "code",
   "execution_count": 49,
   "metadata": {
    "tags": [],
    "ExecuteTime": {
     "end_time": "2024-01-08T18:22:42.404200400Z",
     "start_time": "2024-01-08T18:22:42.178519800Z"
    }
   },
   "outputs": [
    {
     "data": {
      "text/plain": "<Axes: ylabel='Count'>"
     },
     "execution_count": 49,
     "metadata": {},
     "output_type": "execute_result"
    },
    {
     "data": {
      "text/plain": "<Figure size 640x480 with 1 Axes>",
      "image/png": "[encoded data removed]"
     },
     "metadata": {},
     "output_type": "display_data"
    }
   ],
   "source": [
    "sns.histplot(scores)"
   ]
  },
  {
   "cell_type": "code",
   "execution_count": 50,
   "metadata": {
    "ExecuteTime": {
     "end_time": "2024-01-08T18:22:42.694947800Z",
     "start_time": "2024-01-08T18:22:42.401719300Z"
    }
   },
   "outputs": [
    {
     "data": {
      "text/plain": "<Axes: ylabel='Count'>"
     },
     "execution_count": 50,
     "metadata": {},
     "output_type": "execute_result"
    },
    {
     "data": {
      "text/plain": "<Figure size 640x480 with 1 Axes>",
      "image/png": "[encoded data removed]"
     },
     "metadata": {},
     "output_type": "display_data"
    }
   ],
   "source": [
    "sns.histplot(tfp)"
   ]
  },
  {
   "cell_type": "code",
   "execution_count": 51,
   "metadata": {
    "tags": [],
    "ExecuteTime": {
     "end_time": "2024-01-08T18:22:42.695443400Z",
     "start_time": "2024-01-08T18:22:42.680068600Z"
    }
   },
   "outputs": [
    {
     "name": "stdout",
     "output_type": "stream",
     "text": [
      "Le score moyen est:  0.7706000000000001\n",
      "Le taux de faux positifs moyen est:  0.2285282446387072\n"
     ]
    }
   ],
   "source": [
    "print(\"Le score moyen est: \", scores.mean())\n",
    "print(\"Le taux de faux positifs moyen est: \", tfp.mean())"
   ]
  },
  {
   "cell_type": "code",
   "execution_count": 52,
   "metadata": {
    "tags": [],
    "ExecuteTime": {
     "end_time": "2024-01-08T18:22:43.975618800Z",
     "start_time": "2024-01-08T18:22:42.686019800Z"
    }
   },
   "outputs": [
    {
     "ename": "NameError",
     "evalue": "name 'confidence_level' is not defined",
     "output_type": "error",
     "traceback": [
      "\u001B[1;31m---------------------------------------------------------------------------\u001B[0m",
      "\u001B[1;31mNameError\u001B[0m                                 Traceback (most recent call last)",
      "Cell \u001B[1;32mIn[52], line 6\u001B[0m\n\u001B[0;32m      3\u001B[0m confidence_interval \u001B[38;5;241m=\u001B[39m st\u001B[38;5;241m.\u001B[39mt\u001B[38;5;241m.\u001B[39minterval(confidence\u001B[38;5;241m=\u001B[39m\u001B[38;5;241m0.99\u001B[39m, df\u001B[38;5;241m=\u001B[39m\u001B[38;5;28mlen\u001B[39m(scores)\u001B[38;5;241m-\u001B[39m\u001B[38;5;241m1\u001B[39m, loc\u001B[38;5;241m=\u001B[39mnp\u001B[38;5;241m.\u001B[39mmean(scores), scale\u001B[38;5;241m=\u001B[39mst\u001B[38;5;241m.\u001B[39msem(scores)) \n\u001B[0;32m      4\u001B[0m confidence_interval_tfp \u001B[38;5;241m=\u001B[39m st\u001B[38;5;241m.\u001B[39mt\u001B[38;5;241m.\u001B[39minterval(confidence\u001B[38;5;241m=\u001B[39m\u001B[38;5;241m0.99\u001B[39m, df\u001B[38;5;241m=\u001B[39m\u001B[38;5;28mlen\u001B[39m(tfp)\u001B[38;5;241m-\u001B[39m\u001B[38;5;241m1\u001B[39m, loc\u001B[38;5;241m=\u001B[39mnp\u001B[38;5;241m.\u001B[39mmean(tfp), scale\u001B[38;5;241m=\u001B[39mst\u001B[38;5;241m.\u001B[39msem(tfp)) \n\u001B[1;32m----> 6\u001B[0m \u001B[38;5;28mprint\u001B[39m(\u001B[38;5;124mf\u001B[39m\u001B[38;5;124m\"\u001B[39m\u001B[38;5;124mL\u001B[39m\u001B[38;5;124m'\u001B[39m\u001B[38;5;124mintervalle de confiance des scores à \u001B[39m\u001B[38;5;132;01m{\u001B[39;00mconfidence_level\u001B[38;5;250m \u001B[39m\u001B[38;5;241m*\u001B[39m\u001B[38;5;250m \u001B[39m\u001B[38;5;241m100\u001B[39m\u001B[38;5;132;01m}\u001B[39;00m\u001B[38;5;124m% est : \u001B[39m\u001B[38;5;132;01m{\u001B[39;00mconfidence_interval\u001B[38;5;132;01m}\u001B[39;00m\u001B[38;5;124m\"\u001B[39m)\n\u001B[0;32m      7\u001B[0m \u001B[38;5;28mprint\u001B[39m(\u001B[38;5;124mf\u001B[39m\u001B[38;5;124m\"\u001B[39m\u001B[38;5;124mL\u001B[39m\u001B[38;5;124m'\u001B[39m\u001B[38;5;124mintervalle de confiance des taux de faux positifs à \u001B[39m\u001B[38;5;132;01m{\u001B[39;00mconfidence_level\u001B[38;5;250m \u001B[39m\u001B[38;5;241m*\u001B[39m\u001B[38;5;250m \u001B[39m\u001B[38;5;241m100\u001B[39m\u001B[38;5;132;01m}\u001B[39;00m\u001B[38;5;124m% est : \u001B[39m\u001B[38;5;132;01m{\u001B[39;00mconfidence_interval_tfp\u001B[38;5;132;01m}\u001B[39;00m\u001B[38;5;124m\"\u001B[39m)\n",
      "\u001B[1;31mNameError\u001B[0m: name 'confidence_level' is not defined"
     ]
    }
   ],
   "source": [
    "import scipy.stats as st\n",
    "\n",
    "confidence_interval = st.t.interval(confidence=0.99, df=len(scores)-1, loc=np.mean(scores), scale=st.sem(scores)) \n",
    "confidence_interval_tfp = st.t.interval(confidence=0.99, df=len(tfp)-1, loc=np.mean(tfp), scale=st.sem(tfp)) \n",
    "\n",
    "print(f\"L'intervalle de confiance des scores à {confidence_level * 100}% est : {confidence_interval}\")\n",
    "print(f\"L'intervalle de confiance des taux de faux positifs à {confidence_level * 100}% est : {confidence_interval_tfp}\")"
   ]
  },
  {
   "cell_type": "code",
   "execution_count": null,
   "metadata": {
    "ExecuteTime": {
     "start_time": "2024-01-08T18:22:43.973139300Z"
    }
   },
   "outputs": [],
   "source": []
  }
 ],
 "metadata": {
  "hide_input": false,
  "kernelspec": {
   "display_name": "Python 3 (ipykernel)",
   "language": "python",
   "name": "python3"
  },
  "language_info": {
   "codemirror_mode": {
    "name": "ipython",
    "version": 3
   },
   "file_extension": ".py",
   "mimetype": "text/x-python",
   "name": "python",
   "nbconvert_exporter": "python",
   "pygments_lexer": "ipython3",
   "version": "3.11.5"
  },
  "latex_envs": {
   "LaTeX_envs_menu_present": true,
   "autoclose": false,
   "autocomplete": true,
   "bibliofile": "latex_bib.bib",
   "cite_by": "apalike",
   "current_citInitial": 1,
   "eqLabelWithNumbers": true,
   "eqNumInitial": 1,
   "hotkeys": {
    "equation": "ctrl-e",
    "itemize": "Ctrl-I"
   },
   "labels_anchors": false,
   "latex_user_defs": false,
   "report_style_numbering": false,
   "user_envs_cfg": false
  },
  "nbTranslate": {
   "displayLangs": [
    "*"
   ],
   "hotkey": "alt-t",
   "langInMainMenu": true,
   "sourceLang": "en",
   "targetLang": "fr",
   "useGoogleTranslate": true
  },
  "pyVarInspector": {
   "cols": {
    "lenName": 16,
    "lenType": 16,
    "lenVar": 40
   },
   "types_to_exclude": [
    "module",
    "function",
    "builtin_function_or_method",
    "instance",
    "_Feature"
   ],
   "window_display": false
  },
  "toc": {
   "base_numbering": "1",
   "nav_menu": {},
   "number_sections": false,
   "sideBar": false,
   "skip_h1_title": false,
   "title_cell": "Table of Contents",
   "title_sidebar": "Contents",
   "toc_cell": false,
   "toc_position": {},
   "toc_section_display": true,
   "toc_window_display": false
  },
  "varInspector": {
   "cols": {
    "lenName": 16,
    "lenType": 16,
    "lenVar": 40
   },
   "kernels_config": {
    "python": {
     "delete_cmd_postfix": "",
     "delete_cmd_prefix": "del ",
     "library": "var_list.py",
     "varRefreshCmd": "print(var_dic_list())"
    },
    "r": {
     "delete_cmd_postfix": ") ",
     "delete_cmd_prefix": "rm(",
     "library": "var_list.r",
     "varRefreshCmd": "cat(var_dic_list()) "
    }
   },
   "types_to_exclude": [
    "module",
    "function",
    "builtin_function_or_method",
    "instance",
    "_Feature"
   ],
   "window_display": false
  }
 },
 "nbformat": 4,
 "nbformat_minor": 4
}
