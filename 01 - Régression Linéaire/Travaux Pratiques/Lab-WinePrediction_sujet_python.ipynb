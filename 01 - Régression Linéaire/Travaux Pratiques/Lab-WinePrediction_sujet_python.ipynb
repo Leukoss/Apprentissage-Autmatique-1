{
 "cells": [
  {
   "cell_type": "markdown",
   "metadata": {},
   "source": [
    "# Le prix du vin\n",
    "\n",
    "Ce problème reprend des données et un  modèle ayant donné lieu à une intense polémique : en mars 1990, Orley Ashenfelter, un professeur d'économie de Princeton publie un article affirmant que l'on peut prédire la qualité du vin, et son prix, sans même le goûter, à partir d'une formule mathématique. Scandale chez les experts de l’œnologie : *“Ashenfelter is an absolute\n",
    "total sham”* ou *“rather like a movie critic who\n",
    "never goes to see the movie but\n",
    "tells you how good it is based on\n",
    "the actors and the director”*. Dans les faits, la *“Bordeaux-formula”* donne des résultats intéressants qui parfois dépassent les prévisions des experts. L'approche analytique est maintenant lentement adoptée par la communauté. Vous pourrez lire sur data-business.fr un [article](http://www.data-business.fr/statistiques-prediction-qualite-prix-vin-parker-ashenfelter/) à ce sujet. "
   ]
  },
  {
   "cell_type": "markdown",
   "metadata": {},
   "source": [
    "**Les données** : ces données proviennent du site de Ashenfelter,  [Liquid Assets](http://www.liquidasset.com/winedata.html).\n",
    "\n",
    "- la variable dépendante : le prix de vente (une approximation de la qualité du vin) en 1990\n",
    "- variables indépendantes (prédicteurs)\n",
    "  - Age (en général les vins les plus anciens sont plus chers)\n",
    "  - Température moyenne pendant la croissance (*Average Growing Season Temperature* : AGST)\n",
    "  - Précipitations pendant l'été, *Harvest Rain*\n",
    "  - Précipitations pendant l'hiver,  *Winter Rain*\n",
    "  - La population française"
   ]
  },
  {
   "cell_type": "code",
   "execution_count": null,
   "metadata": {},
   "outputs": [],
   "source": [
    "import pandas as pd\n",
    "import numpy as np\n",
    "import statsmodels.api as sm\n",
    "import statsmodels.formula.api as smf\n",
    "import matplotlib.pyplot as plt\n",
    "import seaborn as sns\n",
    "#\n",
    "from LinearRegression_in_Python_like_in_R import lm, summary"
   ]
  },
  {
   "cell_type": "code",
   "execution_count": null,
   "metadata": {},
   "outputs": [],
   "source": [
    "%matplotlib inline"
   ]
  },
  {
   "cell_type": "markdown",
   "metadata": {},
   "source": [
    "La librairie `LinearRegression_in_Python_like_in_R` a été développée pour ce TP et vous permet d'utiliser *grosso modo* les mêmes méthodes qu'en R. Vous pourrez consulter avec intérêt le code source. \n",
    "Pour créer un modèle de régression linéaire, il vous suffit de faire des opérations similaires à\n",
    "```\n",
    ">> model = lm('response ~ predictor1 + predictor2)\n",
    "```\n",
    "Vous disposerez ensuite de méthodes pour obtenir le résultat et les performances `model.summary()` ou `summary(model)`, pour afficher les graphes de diagnostic `model.plot()`. \n",
    "Pour tracer des scatter plots, vous pourrez par exemple utiliser la méthode `sns.scatterplot()` de la librairie seaborn. "
   ]
  },
  {
   "cell_type": "markdown",
   "metadata": {},
   "source": [
    "**Question 1.** Lire le fichier `wine.csv` (utiliser par exemple `pd.read_csv`). Utiliser les méthodes `info` et `describe` pour examiner quelles sont les caractéristiques des variables disponibles. Tracer le logarithme du prix de vente en fonction de AGST d'une part puis de HarvestRain. Qu'en déduisez-vous sur les relations entre ces variables ? "
   ]
  },
  {
   "cell_type": "code",
   "execution_count": null,
   "metadata": {
    "ExecuteTime": {
     "end_time": "2016-11-19T18:34:46.260927",
     "start_time": "2016-11-19T17:34:46.222Z"
    }
   },
   "outputs": [],
   "source": [
    "#wine ="
   ]
  },
  {
   "cell_type": "code",
   "execution_count": null,
   "metadata": {},
   "outputs": [],
   "source": []
  },
  {
   "cell_type": "code",
   "execution_count": null,
   "metadata": {
    "ExecuteTime": {
     "end_time": "2016-11-19T18:34:48.662974",
     "start_time": "2016-11-19T17:34:48.519Z"
    }
   },
   "outputs": [],
   "source": []
  },
  {
   "cell_type": "markdown",
   "metadata": {},
   "source": [
    "**Question 2.** Quel est le modèle *baseline* ou par défaut ? Effectuer une première régression `model1` du Prix en fonction de AGST. Utiliser pour cela la fonction `lm`. Calculer le RSS pour ce modèle et comparez le au modèle baseline (il s'agit alors du TSS). Vous pourrez obtenir les résultats pour le modèle *baseline* `model0`, si besoin, en effectuant la régression `Price ~ 1`. Déduisez-en le R2 du modèle, et comparez le à celui qui est fourni par la sortie `summary(model1)`."
   ]
  },
  {
   "cell_type": "code",
   "execution_count": null,
   "metadata": {
    "ExecuteTime": {
     "end_time": "2016-11-19T18:35:01.332114",
     "start_time": "2016-11-19T17:35:01.289Z"
    }
   },
   "outputs": [],
   "source": [
    "# model1 ="
   ]
  },
  {
   "cell_type": "markdown",
   "metadata": {},
   "source": [
    "Calcul du RSS:"
   ]
  },
  {
   "cell_type": "code",
   "execution_count": null,
   "metadata": {},
   "outputs": [],
   "source": [
    "# RSS ="
   ]
  },
  {
   "cell_type": "code",
   "execution_count": null,
   "metadata": {
    "ExecuteTime": {
     "end_time": "2016-11-19T18:35:04.598356",
     "start_time": "2016-11-19T17:35:04.569Z"
    }
   },
   "outputs": [],
   "source": []
  },
  {
   "cell_type": "markdown",
   "metadata": {},
   "source": [
    "Modèle *Baseline*"
   ]
  },
  {
   "cell_type": "code",
   "execution_count": null,
   "metadata": {
    "ExecuteTime": {
     "end_time": "2016-11-19T18:35:07.073583",
     "start_time": "2016-11-19T17:35:07.049Z"
    }
   },
   "outputs": [],
   "source": [
    "# model0 ="
   ]
  },
  {
   "cell_type": "code",
   "execution_count": null,
   "metadata": {},
   "outputs": [],
   "source": [
    "# TSS ="
   ]
  },
  {
   "cell_type": "markdown",
   "metadata": {},
   "source": [
    "On en déduit le R2:"
   ]
  },
  {
   "cell_type": "code",
   "execution_count": null,
   "metadata": {},
   "outputs": [],
   "source": [
    "R2 = (TSS - RSS) / TSS\n",
    "print(\"R2=\", R2)"
   ]
  },
  {
   "cell_type": "markdown",
   "metadata": {},
   "source": [
    "**Question 3.** Ajouter la nouvelle variable indépendante `HarvestRain` pour un nouveau modèle `model2`. Considérez la nouvelle valeur du R2 : le modèle est il amélioré, cette variable est-elle significative ?  Donner à nouveau la valeur du RSS. "
   ]
  },
  {
   "cell_type": "code",
   "execution_count": null,
   "metadata": {
    "ExecuteTime": {
     "end_time": "2016-11-19T16:15:49.564801",
     "start_time": "2016-11-19T15:15:49.539Z"
    }
   },
   "outputs": [],
   "source": [
    "# model2 ="
   ]
  },
  {
   "cell_type": "markdown",
   "metadata": {},
   "source": [
    "Encore le RSS"
   ]
  },
  {
   "cell_type": "code",
   "execution_count": null,
   "metadata": {},
   "outputs": [],
   "source": [
    "# RSS ="
   ]
  },
  {
   "cell_type": "markdown",
   "metadata": {},
   "source": [
    "**Question 4.** Construire maintenant un modèle avec l'ensemble des variables disponibles.Vous supprimerez la variable  `Year`, qui est redondante avec `Age` par la commande  `wine.drop('Year', axis=1, inplace=True)`. Examiner quelles sont-les $p$-values des différents prédicteurs. Quelles sont a priori les variables à conserver ? Noter quelle est la valeur du Adjusted-R2. "
   ]
  },
  {
   "cell_type": "code",
   "execution_count": null,
   "metadata": {},
   "outputs": [],
   "source": [
    "wine.drop('Year', axis=1, inplace=True)"
   ]
  },
  {
   "cell_type": "code",
   "execution_count": null,
   "metadata": {},
   "outputs": [],
   "source": []
  },
  {
   "cell_type": "code",
   "execution_count": null,
   "metadata": {
    "ExecuteTime": {
     "end_time": "2016-11-19T16:16:27.463176",
     "start_time": "2016-11-19T15:16:27.435Z"
    }
   },
   "outputs": [],
   "source": [
    "# model3 ="
   ]
  },
  {
   "cell_type": "code",
   "execution_count": null,
   "metadata": {},
   "outputs": [],
   "source": [
    "# SSE ="
   ]
  },
  {
   "cell_type": "markdown",
   "metadata": {},
   "source": [
    "**Question 5.** Construire un nouveau modèle `model4` en supprimant les variables non sigificatives. Commencez par supprimer uniquement `FrancePop`. Comment évolue le modèle ? "
   ]
  },
  {
   "cell_type": "code",
   "execution_count": null,
   "metadata": {
    "ExecuteTime": {
     "end_time": "2016-11-19T16:17:55.959522",
     "start_time": "2016-11-19T15:17:55.915Z"
    }
   },
   "outputs": [],
   "source": [
    "# model4 ="
   ]
  },
  {
   "cell_type": "code",
   "execution_count": null,
   "metadata": {},
   "outputs": [],
   "source": []
  },
  {
   "cell_type": "markdown",
   "metadata": {},
   "source": [
    "**Question 6.** Examiner quels sont les liens entre `Age` et `FrancePop`. Pour cela, tracer les l'un en fonction de l'autre. Vous pourrez utiliser `sns.scatterplot` ou `plt.plot`.\n",
    "\n",
    "Une autre manière de procéder peut être de tracer toutes les inter-relations en utilisant la fonction `sns.pairplot`. Enfin, calculer et afficher les différentes corrélations, méthode `corr()` d'un dataframe "
   ]
  },
  {
   "cell_type": "code",
   "execution_count": null,
   "metadata": {},
   "outputs": [],
   "source": []
  },
  {
   "cell_type": "code",
   "execution_count": null,
   "metadata": {},
   "outputs": [],
   "source": []
  },
  {
   "cell_type": "code",
   "execution_count": null,
   "metadata": {
    "scrolled": false
   },
   "outputs": [],
   "source": []
  },
  {
   "cell_type": "code",
   "execution_count": null,
   "metadata": {
    "ExecuteTime": {
     "end_time": "2016-11-19T16:19:39.989023",
     "start_time": "2016-11-19T15:19:39.969Z"
    }
   },
   "outputs": [],
   "source": []
  },
  {
   "cell_type": "code",
   "execution_count": null,
   "metadata": {},
   "outputs": [],
   "source": []
  },
  {
   "cell_type": "raw",
   "metadata": {},
   "source": []
  },
  {
   "cell_type": "markdown",
   "metadata": {},
   "source": [
    "**Question 7.** Comme les deux variables `FrancePop` et `Age` étaient annoncées comme non significatives, supprimer ces deux variables du modèle `model5`. Comment évoluent alors les performances ? Faut-il maintenir l'une des variables et dans l'affirmative laquelle ?"
   ]
  },
  {
   "cell_type": "code",
   "execution_count": null,
   "metadata": {
    "ExecuteTime": {
     "end_time": "2016-11-19T16:20:01.781836",
     "start_time": "2016-11-19T15:20:01.755Z"
    }
   },
   "outputs": [],
   "source": [
    "# model5 ="
   ]
  },
  {
   "cell_type": "raw",
   "metadata": {},
   "source": []
  },
  {
   "cell_type": "markdown",
   "metadata": {},
   "source": [
    "**Question 8.**  Il s'agit enfin de prédire le prix de vente pour les années 1979 et 1980. Ces données sont fournies dans le fichier `wine_test.csv`, que vous chargerez. Vous effectuerez la prédiction method `predict`. \n",
    "\n",
    "Pour les intervalles de confiance, vous utiliserez les commandes\n",
    "```\n",
    "res = model1.get_prediction(newdata)\n",
    "res.summary_frame()\n",
    "```\n",
    "\n",
    "Une explication de la différence entre ces deux types d'intervalles [ici](http://stats.stackexchange.com/questions/16493/difference-between-confidence-intervals-and-prediction-intervals).\n",
    "\n",
    "Enfin, comparer ces deux résultats aux valeurs exactes."
   ]
  },
  {
   "cell_type": "code",
   "execution_count": null,
   "metadata": {
    "ExecuteTime": {
     "end_time": "2016-11-19T16:20:18.993684",
     "start_time": "2016-11-19T15:20:18.944Z"
    }
   },
   "outputs": [],
   "source": [
    "# wineTest ="
   ]
  },
  {
   "cell_type": "code",
   "execution_count": null,
   "metadata": {},
   "outputs": [],
   "source": []
  },
  {
   "cell_type": "code",
   "execution_count": null,
   "metadata": {},
   "outputs": [],
   "source": []
  },
  {
   "cell_type": "code",
   "execution_count": null,
   "metadata": {},
   "outputs": [],
   "source": [
    "res = model4.get_prediction(wineTest)\n",
    "res.summary_frame()"
   ]
  },
  {
   "cell_type": "code",
   "execution_count": null,
   "metadata": {
    "ExecuteTime": {
     "end_time": "2016-11-19T16:20:38.452660",
     "start_time": "2016-11-19T15:20:38.432Z"
    }
   },
   "outputs": [],
   "source": [
    "# predictTest ="
   ]
  },
  {
   "cell_type": "markdown",
   "metadata": {},
   "source": [
    "Avec les vraies valeurs qui sont :"
   ]
  },
  {
   "cell_type": "code",
   "execution_count": null,
   "metadata": {},
   "outputs": [],
   "source": [
    "wineTest.Price"
   ]
  }
 ],
 "metadata": {
  "hide_input": false,
  "interactive_sols": {
   "cbx_id": 1
  },
  "kernelspec": {
   "display_name": "Python 3",
   "language": "python",
   "name": "python3"
  },
  "language_info": {
   "codemirror_mode": {
    "name": "ipython",
    "version": 3
   },
   "file_extension": ".py",
   "mimetype": "text/x-python",
   "name": "python",
   "nbconvert_exporter": "python",
   "pygments_lexer": "ipython3",
   "version": "3.5.0"
  },
  "latex_envs": {
   "LaTeX_envs_menu_present": true,
   "autoclose": false,
   "autocomplete": true,
   "bibliofile": "biblio.bib",
   "cite_by": "apalike",
   "current_citInitial": 1,
   "eqLabelWithNumbers": true,
   "eqNumInitial": 0,
   "hotkeys": {
    "equation": "ctrl-e"
   },
   "labels_anchors": false,
   "latex_user_defs": false,
   "report_style_numbering": false,
   "user_envs_cfg": false
  },
  "nbTranslate": {
   "displayLangs": [
    "*"
   ],
   "hotkey": "alt-t",
   "langInMainMenu": true,
   "sourceLang": "en",
   "targetLang": "fr",
   "useGoogleTranslate": true
  },
  "toc": {
   "base_numbering": "1",
   "nav_menu": {
    "height": "30px",
    "width": "252px"
   },
   "number_sections": true,
   "sideBar": true,
   "skip_h1_title": false,
   "title_cell": "Table of Contents",
   "title_sidebar": "Contents",
   "toc_cell": false,
   "toc_position": {},
   "toc_section_display": "block",
   "toc_window_display": false
  },
  "varInspector": {
   "cols": {
    "lenName": 16,
    "lenType": 16,
    "lenVar": 40
   },
   "kernels_config": {
    "python": {
     "delete_cmd_postfix": "",
     "delete_cmd_prefix": "del ",
     "library": "var_list.py",
     "varRefreshCmd": "print(var_dic_list())"
    },
    "r": {
     "delete_cmd_postfix": ") ",
     "delete_cmd_prefix": "rm(",
     "library": "var_list.r",
     "varRefreshCmd": "cat(var_dic_list()) "
    }
   },
   "types_to_exclude": [
    "module",
    "function",
    "builtin_function_or_method",
    "instance",
    "_Feature"
   ],
   "window_display": false
  }
 },
 "nbformat": 4,
 "nbformat_minor": 1
}
