{
 "cells": [
  {
   "cell_type": "code",
   "execution_count": 209,
   "outputs": [],
   "source": [
    "# Importation des différents packages requis pour les différentes tâches\n",
    "\n",
    "# Importation du fichier 'GLMRegression' et ses méthodes\n",
    "from GLMRegression import GLMsummary\n",
    "from GLMRegression import smfGLM\n",
    "\n",
    "# Importation de 'pandas' (lecture de fichier et gestion de dataframe)\n",
    "import pandas as pd\n",
    "\n",
    "# Importation de 'seaborn' pour les représentations\n",
    "import seaborn as sns\n",
    "\n",
    "# Importation de 'pyplot' pour afficher les graphiques\n",
    "import matplotlib.pyplot as plt\n",
    "\n",
    "# Importation de 'accuracy_score' & 'mean_squared_error', 'confusion_matrix' pour la régression logistique depuis sklearn\n",
    "from sklearn.metrics import accuracy_score, mean_squared_error, confusion_matrix\n",
    "\n",
    "# Importation de 'train_test_split', 'cross_val_score' pour la régression logistique depuis sklearn\n",
    "from sklearn.model_selection import train_test_split, cross_val_score\n",
    "\n",
    "# Importation de 'LogisticRegression' pour la cross-validation score (modèle compatible)\n",
    "from sklearn.linear_model import LogisticRegression\n",
    "\n",
    "# Importation de 'statsmodels.api' pour récupérer un modèle de GLM\n",
    "import statsmodels.api as sm\n",
    "\n",
    "# Importation de 'statsmodels.formula.api' pour récupérer un modèle de GLM de Poisson\n",
    "import statsmodels.formula.api as smf\n",
    "\n",
    "# Importation de 'KMeans' et 'numpy' pour le clustering\n",
    "from sklearn.cluster import KMeans\n",
    "import numpy as np"
   ],
   "metadata": {
    "collapsed": false,
    "ExecuteTime": {
     "end_time": "2024-01-10T09:53:07.335557700Z",
     "start_time": "2024-01-10T09:53:07.064120300Z"
    }
   }
  },
  {
   "cell_type": "markdown",
   "metadata": {},
   "source": [
    "## 1 - Données"
   ]
  },
  {
   "cell_type": "code",
   "execution_count": 111,
   "outputs": [],
   "source": [
    "# On définit la SEED qui sera à utiliser (Data2.csv -> SEED = 2)\n",
    "SEED = 2\n",
    "\n",
    "# On définit ensuite l'aléatoire, grâce à la ligne suivante\n",
    "np.random.seed(SEED)"
   ],
   "metadata": {
    "collapsed": false,
    "ExecuteTime": {
     "end_time": "2024-01-10T08:11:54.255226700Z",
     "start_time": "2024-01-10T08:11:54.181831800Z"
    }
   }
  },
  {
   "cell_type": "code",
   "execution_count": 113,
   "metadata": {
    "ExecuteTime": {
     "end_time": "2024-01-10T08:12:03.327313Z",
     "start_time": "2024-01-10T08:12:03.230206500Z"
    }
   },
   "outputs": [
    {
     "name": "stdout",
     "output_type": "stream",
     "text": [
      "Nous dénombrons au total 2000 observations, et on compte 8 variables.\n"
     ]
    },
    {
     "data": {
      "text/plain": "      saison  distancemer    altitude vegetation    densite  nb_averses  \\\n0  Printemps    34.976541  396.592403    Moyenne  12.922438           2   \n1      Hiver     9.297704   87.792413      Dense   2.872035           2   \n2        Été    59.140881  446.247961       Rare   1.832342           0   \n3  Printemps    76.867984   99.219351     Faible  12.254776           0   \n4    Automne   130.059814  680.123481      Dense   9.196711           0   \n\n     volume  pluieLendemain  \n0  1.629064               1  \n1  1.902443               1  \n2  0.000000               0  \n3  0.000000               0  \n4  0.000000               0  ",
      "text/html": "<div>\n<style scoped>\n    .dataframe tbody tr th:only-of-type {\n        vertical-align: middle;\n    }\n\n    .dataframe tbody tr th {\n        vertical-align: top;\n    }\n\n    .dataframe thead th {\n        text-align: right;\n    }\n</style>\n<table border=\"1\" class=\"dataframe\">\n  <thead>\n    <tr style=\"text-align: right;\">\n      <th></th>\n      <th>saison</th>\n      <th>distancemer</th>\n      <th>altitude</th>\n      <th>vegetation</th>\n      <th>densite</th>\n      <th>nb_averses</th>\n      <th>volume</th>\n      <th>pluieLendemain</th>\n    </tr>\n  </thead>\n  <tbody>\n    <tr>\n      <th>0</th>\n      <td>Printemps</td>\n      <td>34.976541</td>\n      <td>396.592403</td>\n      <td>Moyenne</td>\n      <td>12.922438</td>\n      <td>2</td>\n      <td>1.629064</td>\n      <td>1</td>\n    </tr>\n    <tr>\n      <th>1</th>\n      <td>Hiver</td>\n      <td>9.297704</td>\n      <td>87.792413</td>\n      <td>Dense</td>\n      <td>2.872035</td>\n      <td>2</td>\n      <td>1.902443</td>\n      <td>1</td>\n    </tr>\n    <tr>\n      <th>2</th>\n      <td>Été</td>\n      <td>59.140881</td>\n      <td>446.247961</td>\n      <td>Rare</td>\n      <td>1.832342</td>\n      <td>0</td>\n      <td>0.000000</td>\n      <td>0</td>\n    </tr>\n    <tr>\n      <th>3</th>\n      <td>Printemps</td>\n      <td>76.867984</td>\n      <td>99.219351</td>\n      <td>Faible</td>\n      <td>12.254776</td>\n      <td>0</td>\n      <td>0.000000</td>\n      <td>0</td>\n    </tr>\n    <tr>\n      <th>4</th>\n      <td>Automne</td>\n      <td>130.059814</td>\n      <td>680.123481</td>\n      <td>Dense</td>\n      <td>9.196711</td>\n      <td>0</td>\n      <td>0.000000</td>\n      <td>0</td>\n    </tr>\n  </tbody>\n</table>\n</div>"
     },
     "execution_count": 113,
     "metadata": {},
     "output_type": "execute_result"
    }
   ],
   "source": [
    "# On lit le fichier .csv\n",
    "df = pd.read_csv(\"Data2.csv\")\n",
    "df = df.drop('Unnamed: 0', axis=1)\n",
    "\n",
    "# Récupère le nombre d'observations (lignes) et le nombre de variables (colonnes)\n",
    "print(f\"Nous dénombrons au total {df.shape[0]} observations, et on compte {df.shape[1]} variables.\")\n",
    "\n",
    "# Affichage des 5 premières valeurs pour visualiser les données\n",
    "df.head()"
   ]
  },
  {
   "cell_type": "code",
   "execution_count": 114,
   "metadata": {
    "ExecuteTime": {
     "end_time": "2024-01-10T08:12:04.838868100Z",
     "start_time": "2024-01-10T08:12:04.715422100Z"
    }
   },
   "outputs": [
    {
     "name": "stdout",
     "output_type": "stream",
     "text": [
      "<class 'pandas.core.frame.DataFrame'>\n",
      "RangeIndex: 2000 entries, 0 to 1999\n",
      "Data columns (total 8 columns):\n",
      " #   Column          Non-Null Count  Dtype  \n",
      "---  ------          --------------  -----  \n",
      " 0   saison          2000 non-null   object \n",
      " 1   distancemer     2000 non-null   float64\n",
      " 2   altitude        2000 non-null   float64\n",
      " 3   vegetation      2000 non-null   object \n",
      " 4   densite         2000 non-null   float64\n",
      " 5   nb_averses      2000 non-null   int64  \n",
      " 6   volume          2000 non-null   float64\n",
      " 7   pluieLendemain  2000 non-null   int64  \n",
      "dtypes: float64(4), int64(2), object(2)\n",
      "memory usage: 125.1+ KB\n"
     ]
    }
   ],
   "source": [
    "# On récolte les informations\n",
    "df.info()"
   ]
  },
  {
   "cell_type": "markdown",
   "metadata": {},
   "source": [
    "Examiner quelles sont les corrélations entre les différentes variables"
   ]
  },
  {
   "cell_type": "code",
   "execution_count": 115,
   "metadata": {
    "ExecuteTime": {
     "end_time": "2024-01-10T08:12:06.472445500Z",
     "start_time": "2024-01-10T08:12:05.981166700Z"
    }
   },
   "outputs": [
    {
     "data": {
      "text/plain": "<Axes: >"
     },
     "execution_count": 115,
     "metadata": {},
     "output_type": "execute_result"
    },
    {
     "data": {
      "text/plain": "<Figure size 640x480 with 2 Axes>",
      "image/png": "[encoded data removed]"
     },
     "metadata": {},
     "output_type": "display_data"
    }
   ],
   "source": [
    "# Définit la matrice de corrélation selon les différentes variables numériques. En effet, il est difficile d'exprimer la corrélation de la colonne \n",
    "# 'v2' (corréler la valeur 'A' avec '-5.24' n'est pas évident !)...\n",
    "correlation_matrix = df.corr(numeric_only = True)\n",
    "\n",
    "# Affiche une heatmap carrée où chaque case exprime la corrélation des variables entre l'abscisse et l'ordonnée\n",
    "sns.heatmap(df.corr(numeric_only = True), annot=True, fmt='.4f')"
   ]
  },
  {
   "cell_type": "code",
   "execution_count": 116,
   "metadata": {
    "ExecuteTime": {
     "end_time": "2024-01-10T08:12:42.020882Z",
     "start_time": "2024-01-10T08:12:41.953140700Z"
    }
   },
   "outputs": [],
   "source": [
    "# On split le jeu de données sous forme de 70% (train set) - 30% (test set), random_state = 2 : permet d'avoir des résultats reproductibles. Afin \n",
    "# de s'assurer que les résultats soient cohérents durant l'évaluation et durant votre correction, un facteur de reproductibilité est préférable...\n",
    "train_set, test_set = train_test_split(df, test_size=0.30, random_state=SEED)"
   ]
  },
  {
   "cell_type": "code",
   "execution_count": 117,
   "outputs": [
    {
     "data": {
      "text/plain": "         saison  distancemer    altitude vegetation   densite  nb_averses  \\\n407       Hiver     8.502806   29.351237      Dense  4.850199           0   \n315   Printemps     2.890457   15.578074       Rare  3.329904           1   \n1390        Été    46.573110  292.860525      Dense  0.060703           0   \n1991  Printemps     8.409466  161.916371     Faible  7.647170           1   \n429         Été    16.405357  151.336632    Moyenne  0.460722           0   \n\n        volume  pluieLendemain  \n407   0.000000               1  \n315   1.230269               1  \n1390  0.000000               0  \n1991  1.077837               1  \n429   0.000000               0  ",
      "text/html": "<div>\n<style scoped>\n    .dataframe tbody tr th:only-of-type {\n        vertical-align: middle;\n    }\n\n    .dataframe tbody tr th {\n        vertical-align: top;\n    }\n\n    .dataframe thead th {\n        text-align: right;\n    }\n</style>\n<table border=\"1\" class=\"dataframe\">\n  <thead>\n    <tr style=\"text-align: right;\">\n      <th></th>\n      <th>saison</th>\n      <th>distancemer</th>\n      <th>altitude</th>\n      <th>vegetation</th>\n      <th>densite</th>\n      <th>nb_averses</th>\n      <th>volume</th>\n      <th>pluieLendemain</th>\n    </tr>\n  </thead>\n  <tbody>\n    <tr>\n      <th>407</th>\n      <td>Hiver</td>\n      <td>8.502806</td>\n      <td>29.351237</td>\n      <td>Dense</td>\n      <td>4.850199</td>\n      <td>0</td>\n      <td>0.000000</td>\n      <td>1</td>\n    </tr>\n    <tr>\n      <th>315</th>\n      <td>Printemps</td>\n      <td>2.890457</td>\n      <td>15.578074</td>\n      <td>Rare</td>\n      <td>3.329904</td>\n      <td>1</td>\n      <td>1.230269</td>\n      <td>1</td>\n    </tr>\n    <tr>\n      <th>1390</th>\n      <td>Été</td>\n      <td>46.573110</td>\n      <td>292.860525</td>\n      <td>Dense</td>\n      <td>0.060703</td>\n      <td>0</td>\n      <td>0.000000</td>\n      <td>0</td>\n    </tr>\n    <tr>\n      <th>1991</th>\n      <td>Printemps</td>\n      <td>8.409466</td>\n      <td>161.916371</td>\n      <td>Faible</td>\n      <td>7.647170</td>\n      <td>1</td>\n      <td>1.077837</td>\n      <td>1</td>\n    </tr>\n    <tr>\n      <th>429</th>\n      <td>Été</td>\n      <td>16.405357</td>\n      <td>151.336632</td>\n      <td>Moyenne</td>\n      <td>0.460722</td>\n      <td>0</td>\n      <td>0.000000</td>\n      <td>0</td>\n    </tr>\n  </tbody>\n</table>\n</div>"
     },
     "execution_count": 117,
     "metadata": {},
     "output_type": "execute_result"
    }
   ],
   "source": [
    "# On visualise les données du train set\n",
    "train_set.head()"
   ],
   "metadata": {
    "collapsed": false,
    "ExecuteTime": {
     "end_time": "2024-01-10T08:12:42.538518700Z",
     "start_time": "2024-01-10T08:12:42.471439700Z"
    }
   }
  },
  {
   "cell_type": "code",
   "execution_count": 118,
   "outputs": [
    {
     "data": {
      "text/plain": "         saison  distancemer    altitude vegetation    densite  nb_averses  \\\n278         Été     1.264994    7.057584      Dense   0.553854           2   \n492       Hiver     8.980821  131.684127      Dense  16.104075           1   \n1266      Hiver     6.272339   42.736972      Dense   4.310429           3   \n557   Printemps    21.693536   96.327070      Dense   1.248958           2   \n871       Hiver    11.753119  175.183948      Dense  13.862480           1   \n\n        volume  pluieLendemain  \n278   1.896096               1  \n492   0.953510               1  \n1266  2.930554               1  \n557   1.724594               1  \n871   0.935687               1  ",
      "text/html": "<div>\n<style scoped>\n    .dataframe tbody tr th:only-of-type {\n        vertical-align: middle;\n    }\n\n    .dataframe tbody tr th {\n        vertical-align: top;\n    }\n\n    .dataframe thead th {\n        text-align: right;\n    }\n</style>\n<table border=\"1\" class=\"dataframe\">\n  <thead>\n    <tr style=\"text-align: right;\">\n      <th></th>\n      <th>saison</th>\n      <th>distancemer</th>\n      <th>altitude</th>\n      <th>vegetation</th>\n      <th>densite</th>\n      <th>nb_averses</th>\n      <th>volume</th>\n      <th>pluieLendemain</th>\n    </tr>\n  </thead>\n  <tbody>\n    <tr>\n      <th>278</th>\n      <td>Été</td>\n      <td>1.264994</td>\n      <td>7.057584</td>\n      <td>Dense</td>\n      <td>0.553854</td>\n      <td>2</td>\n      <td>1.896096</td>\n      <td>1</td>\n    </tr>\n    <tr>\n      <th>492</th>\n      <td>Hiver</td>\n      <td>8.980821</td>\n      <td>131.684127</td>\n      <td>Dense</td>\n      <td>16.104075</td>\n      <td>1</td>\n      <td>0.953510</td>\n      <td>1</td>\n    </tr>\n    <tr>\n      <th>1266</th>\n      <td>Hiver</td>\n      <td>6.272339</td>\n      <td>42.736972</td>\n      <td>Dense</td>\n      <td>4.310429</td>\n      <td>3</td>\n      <td>2.930554</td>\n      <td>1</td>\n    </tr>\n    <tr>\n      <th>557</th>\n      <td>Printemps</td>\n      <td>21.693536</td>\n      <td>96.327070</td>\n      <td>Dense</td>\n      <td>1.248958</td>\n      <td>2</td>\n      <td>1.724594</td>\n      <td>1</td>\n    </tr>\n    <tr>\n      <th>871</th>\n      <td>Hiver</td>\n      <td>11.753119</td>\n      <td>175.183948</td>\n      <td>Dense</td>\n      <td>13.862480</td>\n      <td>1</td>\n      <td>0.935687</td>\n      <td>1</td>\n    </tr>\n  </tbody>\n</table>\n</div>"
     },
     "execution_count": 118,
     "metadata": {},
     "output_type": "execute_result"
    }
   ],
   "source": [
    "# On visualise les données du test set\n",
    "test_set.head()"
   ],
   "metadata": {
    "collapsed": false,
    "ExecuteTime": {
     "end_time": "2024-01-10T08:12:43.723935400Z",
     "start_time": "2024-01-10T08:12:43.590931600Z"
    }
   }
  },
  {
   "cell_type": "code",
   "execution_count": 119,
   "outputs": [
    {
     "name": "stdout",
     "output_type": "stream",
     "text": [
      "Les dimensions du test sont : (600, 8)\n"
     ]
    }
   ],
   "source": [
    "print(f\"Les dimensions du test sont : {test_set.shape}\")"
   ],
   "metadata": {
    "collapsed": false,
    "ExecuteTime": {
     "end_time": "2024-01-10T08:12:44.682558400Z",
     "start_time": "2024-01-10T08:12:44.522959200Z"
    }
   }
  },
  {
   "cell_type": "markdown",
   "source": [
    "## 2 - Prédiction du nombre d'averses"
   ],
   "metadata": {
    "collapsed": false
   }
  },
  {
   "cell_type": "code",
   "execution_count": 120,
   "outputs": [
    {
     "data": {
      "text/plain": "Text(0, 0.5, 'Occurrences')"
     },
     "execution_count": 120,
     "metadata": {},
     "output_type": "execute_result"
    },
    {
     "data": {
      "text/plain": "<Figure size 800x500 with 1 Axes>",
      "image/png": "[encoded data removed]"
     },
     "metadata": {},
     "output_type": "display_data"
    }
   ],
   "source": [
    "f, ax = plt.subplots(figsize=(8, 5))\n",
    "sns.histplot(data = df, x = 'nb_averses')\n",
    "ax.set_title(f\"Histogramme de 'nb_averses'\")\n",
    "ax.set_xlabel(f\"Valeur de 'nb_averses'\")\n",
    "ax.set_ylabel('Occurrences')"
   ],
   "metadata": {
    "collapsed": false,
    "ExecuteTime": {
     "end_time": "2024-01-10T08:12:46.786111300Z",
     "start_time": "2024-01-10T08:12:46.359155700Z"
    }
   }
  },
  {
   "cell_type": "markdown",
   "source": [
    "Il semble que l'on tende vers une distribution de Poisson conformément à l'histogramme du nombre d'averses."
   ],
   "metadata": {
    "collapsed": false
   }
  },
  {
   "cell_type": "code",
   "execution_count": 121,
   "outputs": [
    {
     "data": {
      "text/plain": "<class 'statsmodels.iolib.table.SimpleTable'>",
      "text/html": "<table class=\"simpletable\">\n<caption>Generalized Linear Model Regression Results</caption>\n<tr>\n  <th>Dep. Variable:</th>      <td>nb_averses</td>    <th>  No. Observations:  </th>  <td>  1400</td> \n</tr>\n<tr>\n  <th>Model:</th>                  <td>GLM</td>       <th>  Df Residuals:      </th>  <td>  1390</td> \n</tr>\n<tr>\n  <th>Model Family:</th>         <td>Poisson</td>     <th>  Df Model:          </th>  <td>     9</td> \n</tr>\n<tr>\n  <th>Link Function:</th>          <td>Log</td>       <th>  Scale:             </th> <td>  1.0000</td>\n</tr>\n<tr>\n  <th>Method:</th>                <td>IRLS</td>       <th>  Log-Likelihood:    </th> <td> -1563.3</td>\n</tr>\n<tr>\n  <th>Date:</th>            <td>Wed, 10 Jan 2024</td> <th>  Deviance:          </th> <td>  1560.2</td>\n</tr>\n<tr>\n  <th>Time:</th>                <td>09:12:48</td>     <th>  Pearson chi2:      </th> <td>1.50e+03</td>\n</tr>\n<tr>\n  <th>No. Iterations:</th>          <td>5</td>        <th>  Pseudo R-squ. (CS):</th>  <td>0.06913</td>\n</tr>\n<tr>\n  <th>Covariance Type:</th>     <td>nonrobust</td>    <th>                     </th>     <td> </td>   \n</tr>\n</table>",
      "text/latex": "\\begin{center}\n\\begin{tabular}{lclc}\n\\toprule\n\\textbf{Dep. Variable:}   &   nb\\_averses    & \\textbf{  No. Observations:  } &    1400   \\\\\n\\textbf{Model:}           &       GLM        & \\textbf{  Df Residuals:      } &    1390   \\\\\n\\textbf{Model Family:}    &     Poisson      & \\textbf{  Df Model:          } &       9   \\\\\n\\textbf{Link Function:}   &       Log        & \\textbf{  Scale:             } &   1.0000  \\\\\n\\textbf{Method:}          &       IRLS       & \\textbf{  Log-Likelihood:    } &  -1563.3  \\\\\n\\textbf{Date:}            & Wed, 10 Jan 2024 & \\textbf{  Deviance:          } &   1560.2  \\\\\n\\textbf{Time:}            &     09:12:48     & \\textbf{  Pearson chi2:      } & 1.50e+03  \\\\\n\\textbf{No. Iterations:}  &        5         & \\textbf{  Pseudo R-squ. (CS):} & 0.06913   \\\\\n\\textbf{Covariance Type:} &    nonrobust     & \\textbf{                     } &           \\\\\n\\bottomrule\n\\end{tabular}\n%\\caption{Generalized Linear Model Regression Results}\n\\end{center}"
     },
     "metadata": {},
     "output_type": "display_data"
    },
    {
     "data": {
      "text/plain": "                             coef    std err          z   P>|z|     [0.025  \\\nIntercept                 -0.1195      0.095     -1.252   0.210     -0.307   \nsaison[T.Hiver]           -0.0682      0.091     -0.748   0.454     -0.247   \nsaison[T.Printemps]        0.1770      0.087      2.036   0.042      0.007   \nsaison[T.Été]              0.0241      0.089      0.271   0.787     -0.150   \nvegetation[T.Faible]       0.0668      0.088      0.758   0.449     -0.106   \nvegetation[T.Moyenne]      0.0033      0.091      0.036   0.971     -0.175   \nvegetation[T.Rare]         0.0929      0.090      1.033   0.301     -0.083   \ndistancemer               -0.0116      0.002     -6.896   0.000     -0.015   \naltitude               -1.462e-05      0.000     -0.116   0.908     -0.000   \ndensite                    0.0027      0.002      1.330   0.184     -0.001   \n\n                          0.975]       p-value Code  \nIntercept                  0.068  2.104044e-01       \nsaison[T.Hiver]            0.110  4.543797e-01       \nsaison[T.Printemps]        0.347  4.178530e-02    *  \nsaison[T.Été]              0.198  7.867092e-01       \nvegetation[T.Faible]       0.239  4.485233e-01       \nvegetation[T.Moyenne]      0.182  9.709898e-01       \nvegetation[T.Rare]         0.269  3.014912e-01       \ndistancemer               -0.008  5.353660e-12  ***  \naltitude                   0.000  9.079894e-01       \ndensite                    0.007  1.835078e-01       ",
      "text/html": "<div>\n<style scoped>\n    .dataframe tbody tr th:only-of-type {\n        vertical-align: middle;\n    }\n\n    .dataframe tbody tr th {\n        vertical-align: top;\n    }\n\n    .dataframe thead th {\n        text-align: right;\n    }\n</style>\n<table border=\"1\" class=\"dataframe\">\n  <thead>\n    <tr style=\"text-align: right;\">\n      <th></th>\n      <th>coef</th>\n      <th>std err</th>\n      <th>z</th>\n      <th>P&gt;|z|</th>\n      <th>[0.025</th>\n      <th>0.975]</th>\n      <th>p-value</th>\n      <th>Code</th>\n    </tr>\n  </thead>\n  <tbody>\n    <tr>\n      <th>Intercept</th>\n      <td>-0.1195</td>\n      <td>0.095</td>\n      <td>-1.252</td>\n      <td>0.210</td>\n      <td>-0.307</td>\n      <td>0.068</td>\n      <td>2.104044e-01</td>\n      <td></td>\n    </tr>\n    <tr>\n      <th>saison[T.Hiver]</th>\n      <td>-0.0682</td>\n      <td>0.091</td>\n      <td>-0.748</td>\n      <td>0.454</td>\n      <td>-0.247</td>\n      <td>0.110</td>\n      <td>4.543797e-01</td>\n      <td></td>\n    </tr>\n    <tr>\n      <th>saison[T.Printemps]</th>\n      <td>0.1770</td>\n      <td>0.087</td>\n      <td>2.036</td>\n      <td>0.042</td>\n      <td>0.007</td>\n      <td>0.347</td>\n      <td>4.178530e-02</td>\n      <td>*</td>\n    </tr>\n    <tr>\n      <th>saison[T.Été]</th>\n      <td>0.0241</td>\n      <td>0.089</td>\n      <td>0.271</td>\n      <td>0.787</td>\n      <td>-0.150</td>\n      <td>0.198</td>\n      <td>7.867092e-01</td>\n      <td></td>\n    </tr>\n    <tr>\n      <th>vegetation[T.Faible]</th>\n      <td>0.0668</td>\n      <td>0.088</td>\n      <td>0.758</td>\n      <td>0.449</td>\n      <td>-0.106</td>\n      <td>0.239</td>\n      <td>4.485233e-01</td>\n      <td></td>\n    </tr>\n    <tr>\n      <th>vegetation[T.Moyenne]</th>\n      <td>0.0033</td>\n      <td>0.091</td>\n      <td>0.036</td>\n      <td>0.971</td>\n      <td>-0.175</td>\n      <td>0.182</td>\n      <td>9.709898e-01</td>\n      <td></td>\n    </tr>\n    <tr>\n      <th>vegetation[T.Rare]</th>\n      <td>0.0929</td>\n      <td>0.090</td>\n      <td>1.033</td>\n      <td>0.301</td>\n      <td>-0.083</td>\n      <td>0.269</td>\n      <td>3.014912e-01</td>\n      <td></td>\n    </tr>\n    <tr>\n      <th>distancemer</th>\n      <td>-0.0116</td>\n      <td>0.002</td>\n      <td>-6.896</td>\n      <td>0.000</td>\n      <td>-0.015</td>\n      <td>-0.008</td>\n      <td>5.353660e-12</td>\n      <td>***</td>\n    </tr>\n    <tr>\n      <th>altitude</th>\n      <td>-1.462e-05</td>\n      <td>0.000</td>\n      <td>-0.116</td>\n      <td>0.908</td>\n      <td>-0.000</td>\n      <td>0.000</td>\n      <td>9.079894e-01</td>\n      <td></td>\n    </tr>\n    <tr>\n      <th>densite</th>\n      <td>0.0027</td>\n      <td>0.002</td>\n      <td>1.330</td>\n      <td>0.184</td>\n      <td>-0.001</td>\n      <td>0.007</td>\n      <td>1.835078e-01</td>\n      <td></td>\n    </tr>\n  </tbody>\n</table>\n</div>"
     },
     "metadata": {},
     "output_type": "display_data"
    },
    {
     "data": {
      "text/plain": "<IPython.core.display.HTML object>",
      "text/html": "Signif. codes:  0 '***' 0.001 '**' 0.01 '*' 0.05 '.' 0.1 ' ' 1"
     },
     "metadata": {},
     "output_type": "display_data"
    },
    {
     "data": {
      "text/plain": "<IPython.core.display.HTML object>",
      "text/html": "AIC with 10 ddl = 3146.54"
     },
     "metadata": {},
     "output_type": "display_data"
    }
   ],
   "source": [
    "# Nous construisons un 'GLM' selon une distribution de Poisson\n",
    "glm_poisson_1 = smf.glm('nb_averses ~ saison + distancemer + altitude + vegetation + densite', family = sm.families.Poisson(), data = train_set).fit()\n",
    "\n",
    "# On affiche les informations générales pour le model de Poisson\n",
    "GLMsummary(glm_poisson_1)"
   ],
   "metadata": {
    "collapsed": false,
    "ExecuteTime": {
     "end_time": "2024-01-10T08:12:48.348111500Z",
     "start_time": "2024-01-10T08:12:48.170310500Z"
    }
   }
  },
  {
   "cell_type": "code",
   "execution_count": 122,
   "outputs": [
    {
     "name": "stdout",
     "output_type": "stream",
     "text": [
      "L'erreur moyenne quadratique (MSE) est de : 0.79743\n"
     ]
    }
   ],
   "source": [
    "print(\"L'erreur moyenne quadratique (MSE) est de :\", round(mean_squared_error(test_set['nb_averses'], glm_poisson_1.predict(test_set)), 5))"
   ],
   "metadata": {
    "collapsed": false,
    "ExecuteTime": {
     "end_time": "2024-01-10T08:12:50.147969500Z",
     "start_time": "2024-01-10T08:12:50.045598800Z"
    }
   }
  },
  {
   "cell_type": "code",
   "execution_count": 123,
   "outputs": [
    {
     "data": {
      "text/plain": "<class 'statsmodels.iolib.table.SimpleTable'>",
      "text/html": "<table class=\"simpletable\">\n<caption>Generalized Linear Model Regression Results</caption>\n<tr>\n  <th>Dep. Variable:</th>      <td>nb_averses</td>    <th>  No. Observations:  </th>  <td>  1400</td> \n</tr>\n<tr>\n  <th>Model:</th>                  <td>GLM</td>       <th>  Df Residuals:      </th>  <td>  1395</td> \n</tr>\n<tr>\n  <th>Model Family:</th>         <td>Poisson</td>     <th>  Df Model:          </th>  <td>     4</td> \n</tr>\n<tr>\n  <th>Link Function:</th>          <td>Log</td>       <th>  Scale:             </th> <td>  1.0000</td>\n</tr>\n<tr>\n  <th>Method:</th>                <td>IRLS</td>       <th>  Log-Likelihood:    </th> <td> -1564.9</td>\n</tr>\n<tr>\n  <th>Date:</th>            <td>Wed, 10 Jan 2024</td> <th>  Deviance:          </th> <td>  1563.5</td>\n</tr>\n<tr>\n  <th>Time:</th>                <td>09:12:51</td>     <th>  Pearson chi2:      </th> <td>1.51e+03</td>\n</tr>\n<tr>\n  <th>No. Iterations:</th>          <td>5</td>        <th>  Pseudo R-squ. (CS):</th>  <td>0.06698</td>\n</tr>\n<tr>\n  <th>Covariance Type:</th>     <td>nonrobust</td>    <th>                     </th>     <td> </td>   \n</tr>\n</table>",
      "text/latex": "\\begin{center}\n\\begin{tabular}{lclc}\n\\toprule\n\\textbf{Dep. Variable:}   &   nb\\_averses    & \\textbf{  No. Observations:  } &    1400   \\\\\n\\textbf{Model:}           &       GLM        & \\textbf{  Df Residuals:      } &    1395   \\\\\n\\textbf{Model Family:}    &     Poisson      & \\textbf{  Df Model:          } &       4   \\\\\n\\textbf{Link Function:}   &       Log        & \\textbf{  Scale:             } &   1.0000  \\\\\n\\textbf{Method:}          &       IRLS       & \\textbf{  Log-Likelihood:    } &  -1564.9  \\\\\n\\textbf{Date:}            & Wed, 10 Jan 2024 & \\textbf{  Deviance:          } &   1563.5  \\\\\n\\textbf{Time:}            &     09:12:51     & \\textbf{  Pearson chi2:      } & 1.51e+03  \\\\\n\\textbf{No. Iterations:}  &        5         & \\textbf{  Pseudo R-squ. (CS):} & 0.06698   \\\\\n\\textbf{Covariance Type:} &    nonrobust     & \\textbf{                     } &           \\\\\n\\bottomrule\n\\end{tabular}\n%\\caption{Generalized Linear Model Regression Results}\n\\end{center}"
     },
     "metadata": {},
     "output_type": "display_data"
    },
    {
     "data": {
      "text/plain": "                           coef    std err          z   P>|z|     [0.025  \\\nIntercept               -0.0390      0.070     -0.559   0.576     -0.176   \nsaison[T.Hiver]         -0.0664      0.091     -0.729   0.466     -0.245   \nsaison[T.Printemps]      0.1762      0.087      2.029   0.043      0.006   \nsaison[T.Été]            0.0285      0.089      0.321   0.748     -0.145   \ndistancemer             -0.0120      0.001     -8.541   0.000     -0.015   \n\n                        0.975]       p-value Code  \nIntercept                0.098  5.763259e-01       \nsaison[T.Hiver]          0.112  4.656964e-01       \nsaison[T.Printemps]      0.346  4.250558e-02    *  \nsaison[T.Été]            0.202  7.480400e-01       \ndistancemer             -0.009  1.332472e-17  ***  ",
      "text/html": "<div>\n<style scoped>\n    .dataframe tbody tr th:only-of-type {\n        vertical-align: middle;\n    }\n\n    .dataframe tbody tr th {\n        vertical-align: top;\n    }\n\n    .dataframe thead th {\n        text-align: right;\n    }\n</style>\n<table border=\"1\" class=\"dataframe\">\n  <thead>\n    <tr style=\"text-align: right;\">\n      <th></th>\n      <th>coef</th>\n      <th>std err</th>\n      <th>z</th>\n      <th>P&gt;|z|</th>\n      <th>[0.025</th>\n      <th>0.975]</th>\n      <th>p-value</th>\n      <th>Code</th>\n    </tr>\n  </thead>\n  <tbody>\n    <tr>\n      <th>Intercept</th>\n      <td>-0.0390</td>\n      <td>0.070</td>\n      <td>-0.559</td>\n      <td>0.576</td>\n      <td>-0.176</td>\n      <td>0.098</td>\n      <td>5.763259e-01</td>\n      <td></td>\n    </tr>\n    <tr>\n      <th>saison[T.Hiver]</th>\n      <td>-0.0664</td>\n      <td>0.091</td>\n      <td>-0.729</td>\n      <td>0.466</td>\n      <td>-0.245</td>\n      <td>0.112</td>\n      <td>4.656964e-01</td>\n      <td></td>\n    </tr>\n    <tr>\n      <th>saison[T.Printemps]</th>\n      <td>0.1762</td>\n      <td>0.087</td>\n      <td>2.029</td>\n      <td>0.043</td>\n      <td>0.006</td>\n      <td>0.346</td>\n      <td>4.250558e-02</td>\n      <td>*</td>\n    </tr>\n    <tr>\n      <th>saison[T.Été]</th>\n      <td>0.0285</td>\n      <td>0.089</td>\n      <td>0.321</td>\n      <td>0.748</td>\n      <td>-0.145</td>\n      <td>0.202</td>\n      <td>7.480400e-01</td>\n      <td></td>\n    </tr>\n    <tr>\n      <th>distancemer</th>\n      <td>-0.0120</td>\n      <td>0.001</td>\n      <td>-8.541</td>\n      <td>0.000</td>\n      <td>-0.015</td>\n      <td>-0.009</td>\n      <td>1.332472e-17</td>\n      <td>***</td>\n    </tr>\n  </tbody>\n</table>\n</div>"
     },
     "metadata": {},
     "output_type": "display_data"
    },
    {
     "data": {
      "text/plain": "<IPython.core.display.HTML object>",
      "text/html": "Signif. codes:  0 '***' 0.001 '**' 0.01 '*' 0.05 '.' 0.1 ' ' 1"
     },
     "metadata": {},
     "output_type": "display_data"
    },
    {
     "data": {
      "text/plain": "<IPython.core.display.HTML object>",
      "text/html": "AIC with 5 ddl = 3139.77"
     },
     "metadata": {},
     "output_type": "display_data"
    }
   ],
   "source": [
    "# Nous construisons un 'GLM' selon une distribution de Poisson\n",
    "glm_poisson_2 = smf.glm('nb_averses ~ saison + distancemer', family = sm.families.Poisson(), data = train_set).fit()\n",
    "\n",
    "# On affiche les informations générales pour le model de Poisson\n",
    "GLMsummary(glm_poisson_2)"
   ],
   "metadata": {
    "collapsed": false,
    "ExecuteTime": {
     "end_time": "2024-01-10T08:12:51.897576600Z",
     "start_time": "2024-01-10T08:12:51.758059700Z"
    }
   }
  },
  {
   "cell_type": "code",
   "execution_count": 124,
   "outputs": [
    {
     "name": "stdout",
     "output_type": "stream",
     "text": [
      "L'erreur moyenne quadratique (MSE) est de : 0.79437\n"
     ]
    }
   ],
   "source": [
    "print(\"L'erreur moyenne quadratique (MSE) est de :\", round(mean_squared_error(test_set['nb_averses'], glm_poisson_2.predict(test_set)), 5))"
   ],
   "metadata": {
    "collapsed": false,
    "ExecuteTime": {
     "end_time": "2024-01-10T08:12:53.023229700Z",
     "start_time": "2024-01-10T08:12:52.867307600Z"
    }
   }
  },
  {
   "cell_type": "code",
   "execution_count": 125,
   "outputs": [
    {
     "data": {
      "text/plain": "<class 'statsmodels.iolib.table.SimpleTable'>",
      "text/html": "<table class=\"simpletable\">\n<caption>Generalized Linear Model Regression Results</caption>\n<tr>\n  <th>Dep. Variable:</th>      <td>nb_averses</td>    <th>  No. Observations:  </th>  <td>  1400</td> \n</tr>\n<tr>\n  <th>Model:</th>                  <td>GLM</td>       <th>  Df Residuals:      </th>  <td>  1394</td> \n</tr>\n<tr>\n  <th>Model Family:</th>         <td>Poisson</td>     <th>  Df Model:          </th>  <td>     5</td> \n</tr>\n<tr>\n  <th>Link Function:</th>          <td>Log</td>       <th>  Scale:             </th> <td>  1.0000</td>\n</tr>\n<tr>\n  <th>Method:</th>                <td>IRLS</td>       <th>  Log-Likelihood:    </th> <td> -1554.6</td>\n</tr>\n<tr>\n  <th>Date:</th>            <td>Wed, 10 Jan 2024</td> <th>  Deviance:          </th> <td>  1542.9</td>\n</tr>\n<tr>\n  <th>Time:</th>                <td>09:14:23</td>     <th>  Pearson chi2:      </th> <td>1.47e+03</td>\n</tr>\n<tr>\n  <th>No. Iterations:</th>          <td>5</td>        <th>  Pseudo R-squ. (CS):</th>  <td>0.08056</td>\n</tr>\n<tr>\n  <th>Covariance Type:</th>     <td>nonrobust</td>    <th>                     </th>     <td> </td>   \n</tr>\n</table>",
      "text/latex": "\\begin{center}\n\\begin{tabular}{lclc}\n\\toprule\n\\textbf{Dep. Variable:}   &   nb\\_averses    & \\textbf{  No. Observations:  } &    1400   \\\\\n\\textbf{Model:}           &       GLM        & \\textbf{  Df Residuals:      } &    1394   \\\\\n\\textbf{Model Family:}    &     Poisson      & \\textbf{  Df Model:          } &       5   \\\\\n\\textbf{Link Function:}   &       Log        & \\textbf{  Scale:             } &   1.0000  \\\\\n\\textbf{Method:}          &       IRLS       & \\textbf{  Log-Likelihood:    } &  -1554.6  \\\\\n\\textbf{Date:}            & Wed, 10 Jan 2024 & \\textbf{  Deviance:          } &   1542.9  \\\\\n\\textbf{Time:}            &     09:14:23     & \\textbf{  Pearson chi2:      } & 1.47e+03  \\\\\n\\textbf{No. Iterations:}  &        5         & \\textbf{  Pseudo R-squ. (CS):} & 0.08056   \\\\\n\\textbf{Covariance Type:} &    nonrobust     & \\textbf{                     } &           \\\\\n\\bottomrule\n\\end{tabular}\n%\\caption{Generalized Linear Model Regression Results}\n\\end{center}"
     },
     "metadata": {},
     "output_type": "display_data"
    },
    {
     "data": {
      "text/plain": "                           coef    std err          z   P>|z|     [0.025  \\\nIntercept                0.0782      0.073      1.068   0.285     -0.065   \nsaison[T.Hiver]         -0.0491      0.091     -0.539   0.590     -0.228   \nsaison[T.Printemps]      0.1802      0.087      2.074   0.038      0.010   \nsaison[T.Été]            0.0366      0.089      0.412   0.680     -0.137   \ndistancemer             -0.0226      0.003     -8.617   0.000     -0.028   \nI(distancemer ** 2)      0.0001   2.02e-05      5.249   0.000   6.64e-05   \n\n                        0.975]       p-value Code  \nIntercept                0.222  2.853093e-01       \nsaison[T.Hiver]          0.130  5.899420e-01       \nsaison[T.Printemps]      0.351  3.807160e-02    *  \nsaison[T.Été]            0.211  6.800321e-01       \ndistancemer             -0.017  6.890626e-18  ***  \nI(distancemer ** 2)      0.000  1.531874e-07  ***  ",
      "text/html": "<div>\n<style scoped>\n    .dataframe tbody tr th:only-of-type {\n        vertical-align: middle;\n    }\n\n    .dataframe tbody tr th {\n        vertical-align: top;\n    }\n\n    .dataframe thead th {\n        text-align: right;\n    }\n</style>\n<table border=\"1\" class=\"dataframe\">\n  <thead>\n    <tr style=\"text-align: right;\">\n      <th></th>\n      <th>coef</th>\n      <th>std err</th>\n      <th>z</th>\n      <th>P&gt;|z|</th>\n      <th>[0.025</th>\n      <th>0.975]</th>\n      <th>p-value</th>\n      <th>Code</th>\n    </tr>\n  </thead>\n  <tbody>\n    <tr>\n      <th>Intercept</th>\n      <td>0.0782</td>\n      <td>0.073</td>\n      <td>1.068</td>\n      <td>0.285</td>\n      <td>-0.065</td>\n      <td>0.222</td>\n      <td>2.853093e-01</td>\n      <td></td>\n    </tr>\n    <tr>\n      <th>saison[T.Hiver]</th>\n      <td>-0.0491</td>\n      <td>0.091</td>\n      <td>-0.539</td>\n      <td>0.590</td>\n      <td>-0.228</td>\n      <td>0.130</td>\n      <td>5.899420e-01</td>\n      <td></td>\n    </tr>\n    <tr>\n      <th>saison[T.Printemps]</th>\n      <td>0.1802</td>\n      <td>0.087</td>\n      <td>2.074</td>\n      <td>0.038</td>\n      <td>0.010</td>\n      <td>0.351</td>\n      <td>3.807160e-02</td>\n      <td>*</td>\n    </tr>\n    <tr>\n      <th>saison[T.Été]</th>\n      <td>0.0366</td>\n      <td>0.089</td>\n      <td>0.412</td>\n      <td>0.680</td>\n      <td>-0.137</td>\n      <td>0.211</td>\n      <td>6.800321e-01</td>\n      <td></td>\n    </tr>\n    <tr>\n      <th>distancemer</th>\n      <td>-0.0226</td>\n      <td>0.003</td>\n      <td>-8.617</td>\n      <td>0.000</td>\n      <td>-0.028</td>\n      <td>-0.017</td>\n      <td>6.890626e-18</td>\n      <td>***</td>\n    </tr>\n    <tr>\n      <th>I(distancemer ** 2)</th>\n      <td>0.0001</td>\n      <td>2.02e-05</td>\n      <td>5.249</td>\n      <td>0.000</td>\n      <td>6.64e-05</td>\n      <td>0.000</td>\n      <td>1.531874e-07</td>\n      <td>***</td>\n    </tr>\n  </tbody>\n</table>\n</div>"
     },
     "metadata": {},
     "output_type": "display_data"
    },
    {
     "data": {
      "text/plain": "<IPython.core.display.HTML object>",
      "text/html": "Signif. codes:  0 '***' 0.001 '**' 0.01 '*' 0.05 '.' 0.1 ' ' 1"
     },
     "metadata": {},
     "output_type": "display_data"
    },
    {
     "data": {
      "text/plain": "<IPython.core.display.HTML object>",
      "text/html": "AIC with 6 ddl = 3121.25"
     },
     "metadata": {},
     "output_type": "display_data"
    }
   ],
   "source": [
    "# Nous construisons un 'GLM' selon une distribution de Poisson\n",
    "glm_poisson_3 = smf.glm('nb_averses ~ saison + distancemer + I(distancemer**2)', family = sm.families.Poisson(), data = train_set).fit()\n",
    "\n",
    "# On affiche les informations générales pour le model de Poisson\n",
    "GLMsummary(glm_poisson_3)"
   ],
   "metadata": {
    "collapsed": false,
    "ExecuteTime": {
     "end_time": "2024-01-10T08:14:23.686947400Z",
     "start_time": "2024-01-10T08:14:23.538923300Z"
    }
   }
  },
  {
   "cell_type": "code",
   "execution_count": 126,
   "outputs": [
    {
     "name": "stdout",
     "output_type": "stream",
     "text": [
      "L'erreur moyenne quadratique (MSE) est de : 0.7941\n"
     ]
    }
   ],
   "source": [
    "print(\"L'erreur moyenne quadratique (MSE) est de :\", round(mean_squared_error(test_set['nb_averses'], glm_poisson_3.predict(test_set)), 5))"
   ],
   "metadata": {
    "collapsed": false,
    "ExecuteTime": {
     "end_time": "2024-01-10T08:14:50.726914Z",
     "start_time": "2024-01-10T08:14:50.583552700Z"
    }
   }
  },
  {
   "cell_type": "code",
   "execution_count": 128,
   "outputs": [
    {
     "data": {
      "text/plain": "<class 'statsmodels.iolib.table.SimpleTable'>",
      "text/html": "<table class=\"simpletable\">\n<caption>Generalized Linear Model Regression Results</caption>\n<tr>\n  <th>Dep. Variable:</th>      <td>nb_averses</td>    <th>  No. Observations:  </th>  <td>  1400</td> \n</tr>\n<tr>\n  <th>Model:</th>                  <td>GLM</td>       <th>  Df Residuals:      </th>  <td>  1393</td> \n</tr>\n<tr>\n  <th>Model Family:</th>         <td>Poisson</td>     <th>  Df Model:          </th>  <td>     6</td> \n</tr>\n<tr>\n  <th>Link Function:</th>          <td>Log</td>       <th>  Scale:             </th> <td>  1.0000</td>\n</tr>\n<tr>\n  <th>Method:</th>                <td>IRLS</td>       <th>  Log-Likelihood:    </th> <td> -1553.1</td>\n</tr>\n<tr>\n  <th>Date:</th>            <td>Wed, 10 Jan 2024</td> <th>  Deviance:          </th> <td>  1539.9</td>\n</tr>\n<tr>\n  <th>Time:</th>                <td>09:20:22</td>     <th>  Pearson chi2:      </th> <td>1.46e+03</td>\n</tr>\n<tr>\n  <th>No. Iterations:</th>          <td>5</td>        <th>  Pseudo R-squ. (CS):</th>  <td>0.08253</td>\n</tr>\n<tr>\n  <th>Covariance Type:</th>     <td>nonrobust</td>    <th>                     </th>     <td> </td>   \n</tr>\n</table>",
      "text/latex": "\\begin{center}\n\\begin{tabular}{lclc}\n\\toprule\n\\textbf{Dep. Variable:}   &   nb\\_averses    & \\textbf{  No. Observations:  } &    1400   \\\\\n\\textbf{Model:}           &       GLM        & \\textbf{  Df Residuals:      } &    1393   \\\\\n\\textbf{Model Family:}    &     Poisson      & \\textbf{  Df Model:          } &       6   \\\\\n\\textbf{Link Function:}   &       Log        & \\textbf{  Scale:             } &   1.0000  \\\\\n\\textbf{Method:}          &       IRLS       & \\textbf{  Log-Likelihood:    } &  -1553.1  \\\\\n\\textbf{Date:}            & Wed, 10 Jan 2024 & \\textbf{  Deviance:          } &   1539.9  \\\\\n\\textbf{Time:}            &     09:20:22     & \\textbf{  Pearson chi2:      } & 1.46e+03  \\\\\n\\textbf{No. Iterations:}  &        5         & \\textbf{  Pseudo R-squ. (CS):} & 0.08253   \\\\\n\\textbf{Covariance Type:} &    nonrobust     & \\textbf{                     } &           \\\\\n\\bottomrule\n\\end{tabular}\n%\\caption{Generalized Linear Model Regression Results}\n\\end{center}"
     },
     "metadata": {},
     "output_type": "display_data"
    },
    {
     "data": {
      "text/plain": "                           coef    std err          z   P>|z|     [0.025  \\\nIntercept                0.1317      0.079      1.666   0.096     -0.023   \nsaison[T.Hiver]         -0.0458      0.091     -0.503   0.615     -0.224   \nsaison[T.Printemps]      0.1845      0.087      2.122   0.034      0.014   \nsaison[T.Été]            0.0367      0.089      0.413   0.679     -0.137   \ndistancemer             -0.0300      0.005     -5.939   0.000     -0.040   \nI(distancemer ** 2)      0.0003   9.19e-05      2.814   0.005   7.85e-05   \nI(distancemer ** 3)  -6.697e-07   4.05e-07     -1.654   0.098  -1.46e-06   \n\n                        0.975]       p-value Code  \nIntercept                0.287  9.574921e-02    .  \nsaison[T.Hiver]          0.133  6.151206e-01       \nsaison[T.Printemps]      0.355  3.379804e-02    *  \nsaison[T.Été]            0.211  6.792455e-01       \ndistancemer             -0.020  2.868061e-09  ***  \nI(distancemer ** 2)      0.000  4.895162e-03   **  \nI(distancemer ** 3)   1.24e-07  9.806139e-02    .  ",
      "text/html": "<div>\n<style scoped>\n    .dataframe tbody tr th:only-of-type {\n        vertical-align: middle;\n    }\n\n    .dataframe tbody tr th {\n        vertical-align: top;\n    }\n\n    .dataframe thead th {\n        text-align: right;\n    }\n</style>\n<table border=\"1\" class=\"dataframe\">\n  <thead>\n    <tr style=\"text-align: right;\">\n      <th></th>\n      <th>coef</th>\n      <th>std err</th>\n      <th>z</th>\n      <th>P&gt;|z|</th>\n      <th>[0.025</th>\n      <th>0.975]</th>\n      <th>p-value</th>\n      <th>Code</th>\n    </tr>\n  </thead>\n  <tbody>\n    <tr>\n      <th>Intercept</th>\n      <td>0.1317</td>\n      <td>0.079</td>\n      <td>1.666</td>\n      <td>0.096</td>\n      <td>-0.023</td>\n      <td>0.287</td>\n      <td>9.574921e-02</td>\n      <td>.</td>\n    </tr>\n    <tr>\n      <th>saison[T.Hiver]</th>\n      <td>-0.0458</td>\n      <td>0.091</td>\n      <td>-0.503</td>\n      <td>0.615</td>\n      <td>-0.224</td>\n      <td>0.133</td>\n      <td>6.151206e-01</td>\n      <td></td>\n    </tr>\n    <tr>\n      <th>saison[T.Printemps]</th>\n      <td>0.1845</td>\n      <td>0.087</td>\n      <td>2.122</td>\n      <td>0.034</td>\n      <td>0.014</td>\n      <td>0.355</td>\n      <td>3.379804e-02</td>\n      <td>*</td>\n    </tr>\n    <tr>\n      <th>saison[T.Été]</th>\n      <td>0.0367</td>\n      <td>0.089</td>\n      <td>0.413</td>\n      <td>0.679</td>\n      <td>-0.137</td>\n      <td>0.211</td>\n      <td>6.792455e-01</td>\n      <td></td>\n    </tr>\n    <tr>\n      <th>distancemer</th>\n      <td>-0.0300</td>\n      <td>0.005</td>\n      <td>-5.939</td>\n      <td>0.000</td>\n      <td>-0.040</td>\n      <td>-0.020</td>\n      <td>2.868061e-09</td>\n      <td>***</td>\n    </tr>\n    <tr>\n      <th>I(distancemer ** 2)</th>\n      <td>0.0003</td>\n      <td>9.19e-05</td>\n      <td>2.814</td>\n      <td>0.005</td>\n      <td>7.85e-05</td>\n      <td>0.000</td>\n      <td>4.895162e-03</td>\n      <td>**</td>\n    </tr>\n    <tr>\n      <th>I(distancemer ** 3)</th>\n      <td>-6.697e-07</td>\n      <td>4.05e-07</td>\n      <td>-1.654</td>\n      <td>0.098</td>\n      <td>-1.46e-06</td>\n      <td>1.24e-07</td>\n      <td>9.806139e-02</td>\n      <td>.</td>\n    </tr>\n  </tbody>\n</table>\n</div>"
     },
     "metadata": {},
     "output_type": "display_data"
    },
    {
     "data": {
      "text/plain": "<IPython.core.display.HTML object>",
      "text/html": "Signif. codes:  0 '***' 0.001 '**' 0.01 '*' 0.05 '.' 0.1 ' ' 1"
     },
     "metadata": {},
     "output_type": "display_data"
    },
    {
     "data": {
      "text/plain": "<IPython.core.display.HTML object>",
      "text/html": "AIC with 7 ddl = 3120.25"
     },
     "metadata": {},
     "output_type": "display_data"
    }
   ],
   "source": [
    "# Nous construisons un 'GLM' selon une distribution de Poisson\n",
    "glm_poisson_4 = smf.glm('nb_averses ~ saison + distancemer + I(distancemer**2) + I(distancemer**3)', family = sm.families.Poisson(), data = train_set).fit()\n",
    "\n",
    "# On affiche les informations générales pour le model de Poisson\n",
    "GLMsummary(glm_poisson_4)"
   ],
   "metadata": {
    "collapsed": false,
    "ExecuteTime": {
     "end_time": "2024-01-10T08:20:22.404653400Z",
     "start_time": "2024-01-10T08:20:22.002481800Z"
    }
   }
  },
  {
   "cell_type": "code",
   "execution_count": 129,
   "outputs": [
    {
     "data": {
      "text/plain": "<class 'statsmodels.iolib.table.SimpleTable'>",
      "text/html": "<table class=\"simpletable\">\n<caption>Generalized Linear Model Regression Results</caption>\n<tr>\n  <th>Dep. Variable:</th>      <td>nb_averses</td>    <th>  No. Observations:  </th>  <td>  1400</td> \n</tr>\n<tr>\n  <th>Model:</th>                  <td>GLM</td>       <th>  Df Residuals:      </th>  <td>  1392</td> \n</tr>\n<tr>\n  <th>Model Family:</th>         <td>Poisson</td>     <th>  Df Model:          </th>  <td>     7</td> \n</tr>\n<tr>\n  <th>Link Function:</th>          <td>Log</td>       <th>  Scale:             </th> <td>  1.0000</td>\n</tr>\n<tr>\n  <th>Method:</th>                <td>IRLS</td>       <th>  Log-Likelihood:    </th> <td> -1553.1</td>\n</tr>\n<tr>\n  <th>Date:</th>            <td>Wed, 10 Jan 2024</td> <th>  Deviance:          </th> <td>  1539.9</td>\n</tr>\n<tr>\n  <th>Time:</th>                <td>09:20:57</td>     <th>  Pearson chi2:      </th> <td>1.46e+03</td>\n</tr>\n<tr>\n  <th>No. Iterations:</th>          <td>5</td>        <th>  Pseudo R-squ. (CS):</th>  <td>0.08253</td>\n</tr>\n<tr>\n  <th>Covariance Type:</th>     <td>nonrobust</td>    <th>                     </th>     <td> </td>   \n</tr>\n</table>",
      "text/latex": "\\begin{center}\n\\begin{tabular}{lclc}\n\\toprule\n\\textbf{Dep. Variable:}   &   nb\\_averses    & \\textbf{  No. Observations:  } &    1400   \\\\\n\\textbf{Model:}           &       GLM        & \\textbf{  Df Residuals:      } &    1392   \\\\\n\\textbf{Model Family:}    &     Poisson      & \\textbf{  Df Model:          } &       7   \\\\\n\\textbf{Link Function:}   &       Log        & \\textbf{  Scale:             } &   1.0000  \\\\\n\\textbf{Method:}          &       IRLS       & \\textbf{  Log-Likelihood:    } &  -1553.1  \\\\\n\\textbf{Date:}            & Wed, 10 Jan 2024 & \\textbf{  Deviance:          } &   1539.9  \\\\\n\\textbf{Time:}            &     09:20:57     & \\textbf{  Pearson chi2:      } & 1.46e+03  \\\\\n\\textbf{No. Iterations:}  &        5         & \\textbf{  Pseudo R-squ. (CS):} & 0.08253   \\\\\n\\textbf{Covariance Type:} &    nonrobust     & \\textbf{                     } &           \\\\\n\\bottomrule\n\\end{tabular}\n%\\caption{Generalized Linear Model Regression Results}\n\\end{center}"
     },
     "metadata": {},
     "output_type": "display_data"
    },
    {
     "data": {
      "text/plain": "                           coef    std err          z   P>|z|     [0.025  \\\nIntercept                0.1339      0.084      1.589   0.112     -0.031   \nsaison[T.Hiver]         -0.0454      0.091     -0.498   0.619     -0.224   \nsaison[T.Printemps]      0.1849      0.087      2.123   0.034      0.014   \nsaison[T.Été]            0.0371      0.089      0.417   0.677     -0.137   \ndistancemer             -0.0305      0.008     -3.686   0.000     -0.047   \nI(distancemer ** 2)      0.0003      0.000      1.104   0.269     -0.000   \nI(distancemer ** 3)  -8.512e-07   2.46e-06     -0.346   0.729  -5.67e-06   \nI(distancemer ** 4)   5.493e-10   7.34e-09      0.075   0.940  -1.38e-08   \n\n                        0.975]   p-value Code  \nIntercept                0.299  0.112105       \nsaison[T.Hiver]          0.133  0.618742       \nsaison[T.Printemps]      0.356  0.033733    *  \nsaison[T.Été]            0.211  0.676789       \ndistancemer             -0.014  0.000227  ***  \nI(distancemer ** 2)      0.001  0.269396       \nI(distancemer ** 3)   3.97e-06  0.729411       \nI(distancemer ** 4)   1.49e-08  0.940327       ",
      "text/html": "<div>\n<style scoped>\n    .dataframe tbody tr th:only-of-type {\n        vertical-align: middle;\n    }\n\n    .dataframe tbody tr th {\n        vertical-align: top;\n    }\n\n    .dataframe thead th {\n        text-align: right;\n    }\n</style>\n<table border=\"1\" class=\"dataframe\">\n  <thead>\n    <tr style=\"text-align: right;\">\n      <th></th>\n      <th>coef</th>\n      <th>std err</th>\n      <th>z</th>\n      <th>P&gt;|z|</th>\n      <th>[0.025</th>\n      <th>0.975]</th>\n      <th>p-value</th>\n      <th>Code</th>\n    </tr>\n  </thead>\n  <tbody>\n    <tr>\n      <th>Intercept</th>\n      <td>0.1339</td>\n      <td>0.084</td>\n      <td>1.589</td>\n      <td>0.112</td>\n      <td>-0.031</td>\n      <td>0.299</td>\n      <td>0.112105</td>\n      <td></td>\n    </tr>\n    <tr>\n      <th>saison[T.Hiver]</th>\n      <td>-0.0454</td>\n      <td>0.091</td>\n      <td>-0.498</td>\n      <td>0.619</td>\n      <td>-0.224</td>\n      <td>0.133</td>\n      <td>0.618742</td>\n      <td></td>\n    </tr>\n    <tr>\n      <th>saison[T.Printemps]</th>\n      <td>0.1849</td>\n      <td>0.087</td>\n      <td>2.123</td>\n      <td>0.034</td>\n      <td>0.014</td>\n      <td>0.356</td>\n      <td>0.033733</td>\n      <td>*</td>\n    </tr>\n    <tr>\n      <th>saison[T.Été]</th>\n      <td>0.0371</td>\n      <td>0.089</td>\n      <td>0.417</td>\n      <td>0.677</td>\n      <td>-0.137</td>\n      <td>0.211</td>\n      <td>0.676789</td>\n      <td></td>\n    </tr>\n    <tr>\n      <th>distancemer</th>\n      <td>-0.0305</td>\n      <td>0.008</td>\n      <td>-3.686</td>\n      <td>0.000</td>\n      <td>-0.047</td>\n      <td>-0.014</td>\n      <td>0.000227</td>\n      <td>***</td>\n    </tr>\n    <tr>\n      <th>I(distancemer ** 2)</th>\n      <td>0.0003</td>\n      <td>0.000</td>\n      <td>1.104</td>\n      <td>0.269</td>\n      <td>-0.000</td>\n      <td>0.001</td>\n      <td>0.269396</td>\n      <td></td>\n    </tr>\n    <tr>\n      <th>I(distancemer ** 3)</th>\n      <td>-8.512e-07</td>\n      <td>2.46e-06</td>\n      <td>-0.346</td>\n      <td>0.729</td>\n      <td>-5.67e-06</td>\n      <td>3.97e-06</td>\n      <td>0.729411</td>\n      <td></td>\n    </tr>\n    <tr>\n      <th>I(distancemer ** 4)</th>\n      <td>5.493e-10</td>\n      <td>7.34e-09</td>\n      <td>0.075</td>\n      <td>0.940</td>\n      <td>-1.38e-08</td>\n      <td>1.49e-08</td>\n      <td>0.940327</td>\n      <td></td>\n    </tr>\n  </tbody>\n</table>\n</div>"
     },
     "metadata": {},
     "output_type": "display_data"
    },
    {
     "data": {
      "text/plain": "<IPython.core.display.HTML object>",
      "text/html": "Signif. codes:  0 '***' 0.001 '**' 0.01 '*' 0.05 '.' 0.1 ' ' 1"
     },
     "metadata": {},
     "output_type": "display_data"
    },
    {
     "data": {
      "text/plain": "<IPython.core.display.HTML object>",
      "text/html": "AIC with 8 ddl = 3122.25"
     },
     "metadata": {},
     "output_type": "display_data"
    }
   ],
   "source": [
    "# Nous construisons un 'GLM' selon une distribution de Poisson\n",
    "glm_poisson_5 = smf.glm('nb_averses ~ saison + distancemer + I(distancemer**2) + I(distancemer**3) + I(distancemer**4)', family = sm.families.Poisson(), data = train_set).fit()\n",
    "\n",
    "# On affiche les informations générales pour le model de Poisson\n",
    "GLMsummary(glm_poisson_5)"
   ],
   "metadata": {
    "collapsed": false,
    "ExecuteTime": {
     "end_time": "2024-01-10T08:20:57.476856900Z",
     "start_time": "2024-01-10T08:20:57.281507100Z"
    }
   }
  },
  {
   "cell_type": "code",
   "execution_count": 130,
   "outputs": [
    {
     "data": {
      "text/plain": "<class 'statsmodels.iolib.table.SimpleTable'>",
      "text/html": "<table class=\"simpletable\">\n<caption>Generalized Linear Model Regression Results</caption>\n<tr>\n  <th>Dep. Variable:</th>      <td>nb_averses</td>    <th>  No. Observations:  </th>  <td>  1400</td> \n</tr>\n<tr>\n  <th>Model:</th>                  <td>GLM</td>       <th>  Df Residuals:      </th>  <td>  1391</td> \n</tr>\n<tr>\n  <th>Model Family:</th>         <td>Poisson</td>     <th>  Df Model:          </th>  <td>     8</td> \n</tr>\n<tr>\n  <th>Link Function:</th>          <td>Log</td>       <th>  Scale:             </th> <td>  1.0000</td>\n</tr>\n<tr>\n  <th>Method:</th>                <td>IRLS</td>       <th>  Log-Likelihood:    </th> <td> -1551.6</td>\n</tr>\n<tr>\n  <th>Date:</th>            <td>Wed, 10 Jan 2024</td> <th>  Deviance:          </th> <td>  1537.0</td>\n</tr>\n<tr>\n  <th>Time:</th>                <td>09:21:19</td>     <th>  Pearson chi2:      </th> <td>1.46e+03</td>\n</tr>\n<tr>\n  <th>No. Iterations:</th>          <td>5</td>        <th>  Pseudo R-squ. (CS):</th>  <td>0.08447</td>\n</tr>\n<tr>\n  <th>Covariance Type:</th>     <td>nonrobust</td>    <th>                     </th>     <td> </td>   \n</tr>\n</table>",
      "text/latex": "\\begin{center}\n\\begin{tabular}{lclc}\n\\toprule\n\\textbf{Dep. Variable:}   &   nb\\_averses    & \\textbf{  No. Observations:  } &    1400   \\\\\n\\textbf{Model:}           &       GLM        & \\textbf{  Df Residuals:      } &    1391   \\\\\n\\textbf{Model Family:}    &     Poisson      & \\textbf{  Df Model:          } &       8   \\\\\n\\textbf{Link Function:}   &       Log        & \\textbf{  Scale:             } &   1.0000  \\\\\n\\textbf{Method:}          &       IRLS       & \\textbf{  Log-Likelihood:    } &  -1551.6  \\\\\n\\textbf{Date:}            & Wed, 10 Jan 2024 & \\textbf{  Deviance:          } &   1537.0  \\\\\n\\textbf{Time:}            &     09:21:19     & \\textbf{  Pearson chi2:      } & 1.46e+03  \\\\\n\\textbf{No. Iterations:}  &        5         & \\textbf{  Pseudo R-squ. (CS):} & 0.08447   \\\\\n\\textbf{Covariance Type:} &    nonrobust     & \\textbf{                     } &           \\\\\n\\bottomrule\n\\end{tabular}\n%\\caption{Generalized Linear Model Regression Results}\n\\end{center}"
     },
     "metadata": {},
     "output_type": "display_data"
    },
    {
     "data": {
      "text/plain": "                           coef    std err          z   P>|z|     [0.025  \\\nIntercept                0.1940      0.091      2.136   0.033      0.016   \nsaison[T.Hiver]         -0.0427      0.091     -0.468   0.640     -0.222   \nsaison[T.Printemps]      0.1871      0.087      2.147   0.032      0.016   \nsaison[T.Été]            0.0421      0.089      0.473   0.636     -0.132   \ndistancemer             -0.0479      0.013     -3.605   0.000     -0.074   \nI(distancemer ** 2)      0.0012      0.001      1.956   0.050  -2.16e-06   \nI(distancemer ** 3)   -1.73e-05   1.04e-05     -1.657   0.098  -3.78e-05   \nI(distancemer ** 4)   1.145e-07   7.22e-08      1.585   0.113  -2.71e-08   \nI(distancemer ** 5)  -2.651e-10   1.72e-10     -1.543   0.123  -6.02e-10   \n\n                        0.975]   p-value Code  \nIntercept                0.372  0.032673    *  \nsaison[T.Hiver]          0.136  0.639923       \nsaison[T.Printemps]      0.358  0.031802    *  \nsaison[T.Été]            0.216  0.636206       \ndistancemer             -0.022  0.000312  ***  \nI(distancemer ** 2)      0.002  0.050415    .  \nI(distancemer ** 3)   3.17e-06  0.097607    .  \nI(distancemer ** 4)   2.56e-07  0.112986       \nI(distancemer ** 5)   7.17e-11  0.122897       ",
      "text/html": "<div>\n<style scoped>\n    .dataframe tbody tr th:only-of-type {\n        vertical-align: middle;\n    }\n\n    .dataframe tbody tr th {\n        vertical-align: top;\n    }\n\n    .dataframe thead th {\n        text-align: right;\n    }\n</style>\n<table border=\"1\" class=\"dataframe\">\n  <thead>\n    <tr style=\"text-align: right;\">\n      <th></th>\n      <th>coef</th>\n      <th>std err</th>\n      <th>z</th>\n      <th>P&gt;|z|</th>\n      <th>[0.025</th>\n      <th>0.975]</th>\n      <th>p-value</th>\n      <th>Code</th>\n    </tr>\n  </thead>\n  <tbody>\n    <tr>\n      <th>Intercept</th>\n      <td>0.1940</td>\n      <td>0.091</td>\n      <td>2.136</td>\n      <td>0.033</td>\n      <td>0.016</td>\n      <td>0.372</td>\n      <td>0.032673</td>\n      <td>*</td>\n    </tr>\n    <tr>\n      <th>saison[T.Hiver]</th>\n      <td>-0.0427</td>\n      <td>0.091</td>\n      <td>-0.468</td>\n      <td>0.640</td>\n      <td>-0.222</td>\n      <td>0.136</td>\n      <td>0.639923</td>\n      <td></td>\n    </tr>\n    <tr>\n      <th>saison[T.Printemps]</th>\n      <td>0.1871</td>\n      <td>0.087</td>\n      <td>2.147</td>\n      <td>0.032</td>\n      <td>0.016</td>\n      <td>0.358</td>\n      <td>0.031802</td>\n      <td>*</td>\n    </tr>\n    <tr>\n      <th>saison[T.Été]</th>\n      <td>0.0421</td>\n      <td>0.089</td>\n      <td>0.473</td>\n      <td>0.636</td>\n      <td>-0.132</td>\n      <td>0.216</td>\n      <td>0.636206</td>\n      <td></td>\n    </tr>\n    <tr>\n      <th>distancemer</th>\n      <td>-0.0479</td>\n      <td>0.013</td>\n      <td>-3.605</td>\n      <td>0.000</td>\n      <td>-0.074</td>\n      <td>-0.022</td>\n      <td>0.000312</td>\n      <td>***</td>\n    </tr>\n    <tr>\n      <th>I(distancemer ** 2)</th>\n      <td>0.0012</td>\n      <td>0.001</td>\n      <td>1.956</td>\n      <td>0.050</td>\n      <td>-2.16e-06</td>\n      <td>0.002</td>\n      <td>0.050415</td>\n      <td>.</td>\n    </tr>\n    <tr>\n      <th>I(distancemer ** 3)</th>\n      <td>-1.73e-05</td>\n      <td>1.04e-05</td>\n      <td>-1.657</td>\n      <td>0.098</td>\n      <td>-3.78e-05</td>\n      <td>3.17e-06</td>\n      <td>0.097607</td>\n      <td>.</td>\n    </tr>\n    <tr>\n      <th>I(distancemer ** 4)</th>\n      <td>1.145e-07</td>\n      <td>7.22e-08</td>\n      <td>1.585</td>\n      <td>0.113</td>\n      <td>-2.71e-08</td>\n      <td>2.56e-07</td>\n      <td>0.112986</td>\n      <td></td>\n    </tr>\n    <tr>\n      <th>I(distancemer ** 5)</th>\n      <td>-2.651e-10</td>\n      <td>1.72e-10</td>\n      <td>-1.543</td>\n      <td>0.123</td>\n      <td>-6.02e-10</td>\n      <td>7.17e-11</td>\n      <td>0.122897</td>\n      <td></td>\n    </tr>\n  </tbody>\n</table>\n</div>"
     },
     "metadata": {},
     "output_type": "display_data"
    },
    {
     "data": {
      "text/plain": "<IPython.core.display.HTML object>",
      "text/html": "Signif. codes:  0 '***' 0.001 '**' 0.01 '*' 0.05 '.' 0.1 ' ' 1"
     },
     "metadata": {},
     "output_type": "display_data"
    },
    {
     "data": {
      "text/plain": "<IPython.core.display.HTML object>",
      "text/html": "AIC with 9 ddl = 3121.29"
     },
     "metadata": {},
     "output_type": "display_data"
    }
   ],
   "source": [
    "# Nous construisons un 'GLM' selon une distribution de Poisson\n",
    "glm_poisson_6 = smf.glm('nb_averses ~ saison + distancemer + I(distancemer**2) + I(distancemer**3) + I(distancemer**4) + I(distancemer**5)', family = sm.families.Poisson(), data = train_set).fit()\n",
    "\n",
    "# On affiche les informations générales pour le model de Poisson\n",
    "GLMsummary(glm_poisson_6)"
   ],
   "metadata": {
    "collapsed": false,
    "ExecuteTime": {
     "end_time": "2024-01-10T08:21:19.233685800Z",
     "start_time": "2024-01-10T08:21:19.006072300Z"
    }
   }
  },
  {
   "cell_type": "markdown",
   "metadata": {},
   "source": [
    "## 3 - Validation croisée"
   ]
  },
  {
   "cell_type": "code",
   "execution_count": 145,
   "metadata": {
    "ExecuteTime": {
     "end_time": "2024-01-10T08:40:31.738369300Z",
     "start_time": "2024-01-10T08:40:31.217353900Z"
    }
   },
   "outputs": [
    {
     "name": "stdout",
     "output_type": "stream",
     "text": [
      "La corss-validation est de : [-0.83884548 -0.77309666 -0.77651313 -0.72348676 -0.69695609 -0.77513916\n",
      " -0.8027447  -0.84614548 -0.75606191 -0.79184911]\n",
      "Le cross-validation score moyen est de : -0.7780838487528465\n"
     ]
    }
   ],
   "source": [
    "# On utilisera sklearn pour pouvoir utiliser la fonction cross_val_score() de sklearn\n",
    "glm_poisson_7 = smfGLM(formula='nb_averses ~ saison + distancemer + I(distancemer**2) + I(distancemer**3)', family=sm.families.Poisson())\n",
    "\n",
    "# Préparation des matrices X et y\n",
    "X = df.drop('nb_averses', axis=1)\n",
    "y = df['nb_averses']\n",
    "\n",
    "# On calcule ensuite le score de la validation croisée (le score correspond à la moyenne de chaque score de cv) [On prendra cv = 10]\n",
    "mean_score_cv = cross_val_score(glm_poisson_7, X, y, cv=10, scoring='neg_mean_squared_error')\n",
    "print('La corss-validation est de :', mean_score_cv)\n",
    "print('Le cross-validation score moyen est de :', mean_score_cv.mean())"
   ]
  },
  {
   "cell_type": "markdown",
   "metadata": {},
   "source": [
    "## 4 - Prédiction du volume"
   ]
  },
  {
   "cell_type": "code",
   "execution_count": 191,
   "metadata": {
    "ExecuteTime": {
     "end_time": "2024-01-10T09:40:28.075143100Z",
     "start_time": "2024-01-10T09:40:27.861432300Z"
    }
   },
   "outputs": [
    {
     "name": "stdout",
     "output_type": "stream",
     "text": [
      "Il y a 987 observations.\n"
     ]
    },
    {
     "data": {
      "text/plain": "       saison  distancemer    altitude vegetation    densite  nb_averses  \\\n0   Printemps    34.976541  396.592403    Moyenne  12.922438           2   \n1       Hiver     9.297704   87.792413      Dense   2.872035           2   \n6     Automne     8.141122   41.660574      Dense  51.414469           1   \n8   Printemps     7.358844   72.197727     Faible   4.031347           1   \n13      Hiver    49.855514  204.717666     Faible   0.016507           1   \n\n      volume  pluieLendemain  volume_par_averse  \n0   1.629064               1           0.814532  \n1   1.902443               1           0.951222  \n6   0.899965               0           0.899965  \n8   1.086563               1           1.086563  \n13  0.659087               0           0.659087  ",
      "text/html": "<div>\n<style scoped>\n    .dataframe tbody tr th:only-of-type {\n        vertical-align: middle;\n    }\n\n    .dataframe tbody tr th {\n        vertical-align: top;\n    }\n\n    .dataframe thead th {\n        text-align: right;\n    }\n</style>\n<table border=\"1\" class=\"dataframe\">\n  <thead>\n    <tr style=\"text-align: right;\">\n      <th></th>\n      <th>saison</th>\n      <th>distancemer</th>\n      <th>altitude</th>\n      <th>vegetation</th>\n      <th>densite</th>\n      <th>nb_averses</th>\n      <th>volume</th>\n      <th>pluieLendemain</th>\n      <th>volume_par_averse</th>\n    </tr>\n  </thead>\n  <tbody>\n    <tr>\n      <th>0</th>\n      <td>Printemps</td>\n      <td>34.976541</td>\n      <td>396.592403</td>\n      <td>Moyenne</td>\n      <td>12.922438</td>\n      <td>2</td>\n      <td>1.629064</td>\n      <td>1</td>\n      <td>0.814532</td>\n    </tr>\n    <tr>\n      <th>1</th>\n      <td>Hiver</td>\n      <td>9.297704</td>\n      <td>87.792413</td>\n      <td>Dense</td>\n      <td>2.872035</td>\n      <td>2</td>\n      <td>1.902443</td>\n      <td>1</td>\n      <td>0.951222</td>\n    </tr>\n    <tr>\n      <th>6</th>\n      <td>Automne</td>\n      <td>8.141122</td>\n      <td>41.660574</td>\n      <td>Dense</td>\n      <td>51.414469</td>\n      <td>1</td>\n      <td>0.899965</td>\n      <td>0</td>\n      <td>0.899965</td>\n    </tr>\n    <tr>\n      <th>8</th>\n      <td>Printemps</td>\n      <td>7.358844</td>\n      <td>72.197727</td>\n      <td>Faible</td>\n      <td>4.031347</td>\n      <td>1</td>\n      <td>1.086563</td>\n      <td>1</td>\n      <td>1.086563</td>\n    </tr>\n    <tr>\n      <th>13</th>\n      <td>Hiver</td>\n      <td>49.855514</td>\n      <td>204.717666</td>\n      <td>Faible</td>\n      <td>0.016507</td>\n      <td>1</td>\n      <td>0.659087</td>\n      <td>0</td>\n      <td>0.659087</td>\n    </tr>\n  </tbody>\n</table>\n</div>"
     },
     "execution_count": 191,
     "metadata": {},
     "output_type": "execute_result"
    }
   ],
   "source": [
    "# On récupère le tableau de pluie \n",
    "Data_Pluie = df[df['nb_averses'] > 0].copy()\n",
    "\n",
    "Data_Pluie['volume_par_averse'] = Data_Pluie['volume'] / Data_Pluie['nb_averses']\n",
    "\n",
    "# On regarde le nombre d'observations\n",
    "print(f\"Il y a {Data_Pluie.shape[0]} observations.\")\n",
    "\n",
    "Data_Pluie.head()"
   ]
  },
  {
   "cell_type": "code",
   "execution_count": 192,
   "outputs": [
    {
     "data": {
      "text/plain": "Text(0, 0.5, 'Occurrences')"
     },
     "execution_count": 192,
     "metadata": {},
     "output_type": "execute_result"
    },
    {
     "data": {
      "text/plain": "<Figure size 800x500 with 1 Axes>",
      "image/png": "[encoded data removed]"
     },
     "metadata": {},
     "output_type": "display_data"
    }
   ],
   "source": [
    "# On visualise la distribution pour choisir la famille à posteriori\n",
    "f, ax = plt.subplots(figsize=(8, 5))\n",
    "sns.histplot(data = Data_Pluie, x = 'volume_par_averse')\n",
    "ax.set_title(f\"Histogramme de 'volume_par_averse'\")\n",
    "ax.set_xlabel(f\"Valeur de 'volume_par_averse'\")\n",
    "ax.set_ylabel('Occurrences')"
   ],
   "metadata": {
    "collapsed": false,
    "ExecuteTime": {
     "end_time": "2024-01-10T09:40:32.402505500Z",
     "start_time": "2024-01-10T09:40:32.014356700Z"
    }
   }
  },
  {
   "cell_type": "code",
   "execution_count": 193,
   "metadata": {
    "ExecuteTime": {
     "end_time": "2024-01-10T09:40:33.513473600Z",
     "start_time": "2024-01-10T09:40:33.296649600Z"
    }
   },
   "outputs": [
    {
     "data": {
      "text/plain": "<class 'statsmodels.iolib.table.SimpleTable'>",
      "text/html": "<table class=\"simpletable\">\n<caption>Generalized Linear Model Regression Results</caption>\n<tr>\n  <th>Dep. Variable:</th>   <td>volume_par_averse</td> <th>  No. Observations:  </th>  <td>   987</td> \n</tr>\n<tr>\n  <th>Model:</th>                  <td>GLM</td>        <th>  Df Residuals:      </th>  <td>   977</td> \n</tr>\n<tr>\n  <th>Model Family:</th>        <td>Gaussian</td>      <th>  Df Model:          </th>  <td>     9</td> \n</tr>\n<tr>\n  <th>Link Function:</th>       <td>Identity</td>      <th>  Scale:             </th> <td>0.010027</td>\n</tr>\n<tr>\n  <th>Method:</th>                <td>IRLS</td>        <th>  Log-Likelihood:    </th> <td>  875.87</td>\n</tr>\n<tr>\n  <th>Date:</th>            <td>Wed, 10 Jan 2024</td>  <th>  Deviance:          </th> <td>  9.7962</td>\n</tr>\n<tr>\n  <th>Time:</th>                <td>10:40:33</td>      <th>  Pearson chi2:      </th>  <td>  9.80</td> \n</tr>\n<tr>\n  <th>No. Iterations:</th>          <td>3</td>         <th>  Pseudo R-squ. (CS):</th>  <td>0.9613</td> \n</tr>\n<tr>\n  <th>Covariance Type:</th>     <td>nonrobust</td>     <th>                     </th>     <td> </td>   \n</tr>\n</table>",
      "text/latex": "\\begin{center}\n\\begin{tabular}{lclc}\n\\toprule\n\\textbf{Dep. Variable:}   & volume\\_par\\_averse & \\textbf{  No. Observations:  } &     987   \\\\\n\\textbf{Model:}           &         GLM         & \\textbf{  Df Residuals:      } &     977   \\\\\n\\textbf{Model Family:}    &       Gaussian      & \\textbf{  Df Model:          } &       9   \\\\\n\\textbf{Link Function:}   &       Identity      & \\textbf{  Scale:             } & 0.010027  \\\\\n\\textbf{Method:}          &         IRLS        & \\textbf{  Log-Likelihood:    } &   875.87  \\\\\n\\textbf{Date:}            &   Wed, 10 Jan 2024  & \\textbf{  Deviance:          } &   9.7962  \\\\\n\\textbf{Time:}            &       10:40:33      & \\textbf{  Pearson chi2:      } &    9.80   \\\\\n\\textbf{No. Iterations:}  &          3          & \\textbf{  Pseudo R-squ. (CS):} &  0.9613   \\\\\n\\textbf{Covariance Type:} &      nonrobust      & \\textbf{                     } &           \\\\\n\\bottomrule\n\\end{tabular}\n%\\caption{Generalized Linear Model Regression Results}\n\\end{center}"
     },
     "metadata": {},
     "output_type": "display_data"
    },
    {
     "data": {
      "text/plain": "                             coef    std err          z   P>|z|     [0.025  \\\nIntercept                  0.9363      0.010     98.478   0.000      0.918   \nsaison[T.Hiver]            0.0343      0.009      3.700   0.000      0.016   \nsaison[T.Printemps]        0.1624      0.009     18.128   0.000      0.145   \nsaison[T.Été]             -0.1301      0.009    -14.370   0.000     -0.148   \nvegetation[T.Faible]       0.0042      0.009      0.466   0.641     -0.013   \nvegetation[T.Moyenne]     -0.0019      0.009     -0.213   0.831     -0.020   \nvegetation[T.Rare]        -0.0107      0.009     -1.156   0.248     -0.029   \ndistancemer               -0.0054      0.000    -35.130   0.000     -0.006   \naltitude               -2.463e-05    1.2e-05     -2.055   0.040  -4.81e-05   \ndensite                    0.0021      0.000     10.248   0.000      0.002   \n\n                          0.975]        p-value Code  \nIntercept                  0.955   0.000000e+00  ***  \nsaison[T.Hiver]            0.052   2.154762e-04  ***  \nsaison[T.Printemps]        0.180   1.929354e-73  ***  \nsaison[T.Été]             -0.112   7.941931e-47  ***  \nvegetation[T.Faible]       0.022   6.408774e-01       \nvegetation[T.Moyenne]      0.016   8.310874e-01       \nvegetation[T.Rare]         0.007   2.478414e-01       \ndistancemer               -0.005  2.314512e-270  ***  \naltitude               -1.14e-06   3.988070e-02    *  \ndensite                    0.003   1.211659e-24  ***  ",
      "text/html": "<div>\n<style scoped>\n    .dataframe tbody tr th:only-of-type {\n        vertical-align: middle;\n    }\n\n    .dataframe tbody tr th {\n        vertical-align: top;\n    }\n\n    .dataframe thead th {\n        text-align: right;\n    }\n</style>\n<table border=\"1\" class=\"dataframe\">\n  <thead>\n    <tr style=\"text-align: right;\">\n      <th></th>\n      <th>coef</th>\n      <th>std err</th>\n      <th>z</th>\n      <th>P&gt;|z|</th>\n      <th>[0.025</th>\n      <th>0.975]</th>\n      <th>p-value</th>\n      <th>Code</th>\n    </tr>\n  </thead>\n  <tbody>\n    <tr>\n      <th>Intercept</th>\n      <td>0.9363</td>\n      <td>0.010</td>\n      <td>98.478</td>\n      <td>0.000</td>\n      <td>0.918</td>\n      <td>0.955</td>\n      <td>0.000000e+00</td>\n      <td>***</td>\n    </tr>\n    <tr>\n      <th>saison[T.Hiver]</th>\n      <td>0.0343</td>\n      <td>0.009</td>\n      <td>3.700</td>\n      <td>0.000</td>\n      <td>0.016</td>\n      <td>0.052</td>\n      <td>2.154762e-04</td>\n      <td>***</td>\n    </tr>\n    <tr>\n      <th>saison[T.Printemps]</th>\n      <td>0.1624</td>\n      <td>0.009</td>\n      <td>18.128</td>\n      <td>0.000</td>\n      <td>0.145</td>\n      <td>0.180</td>\n      <td>1.929354e-73</td>\n      <td>***</td>\n    </tr>\n    <tr>\n      <th>saison[T.Été]</th>\n      <td>-0.1301</td>\n      <td>0.009</td>\n      <td>-14.370</td>\n      <td>0.000</td>\n      <td>-0.148</td>\n      <td>-0.112</td>\n      <td>7.941931e-47</td>\n      <td>***</td>\n    </tr>\n    <tr>\n      <th>vegetation[T.Faible]</th>\n      <td>0.0042</td>\n      <td>0.009</td>\n      <td>0.466</td>\n      <td>0.641</td>\n      <td>-0.013</td>\n      <td>0.022</td>\n      <td>6.408774e-01</td>\n      <td></td>\n    </tr>\n    <tr>\n      <th>vegetation[T.Moyenne]</th>\n      <td>-0.0019</td>\n      <td>0.009</td>\n      <td>-0.213</td>\n      <td>0.831</td>\n      <td>-0.020</td>\n      <td>0.016</td>\n      <td>8.310874e-01</td>\n      <td></td>\n    </tr>\n    <tr>\n      <th>vegetation[T.Rare]</th>\n      <td>-0.0107</td>\n      <td>0.009</td>\n      <td>-1.156</td>\n      <td>0.248</td>\n      <td>-0.029</td>\n      <td>0.007</td>\n      <td>2.478414e-01</td>\n      <td></td>\n    </tr>\n    <tr>\n      <th>distancemer</th>\n      <td>-0.0054</td>\n      <td>0.000</td>\n      <td>-35.130</td>\n      <td>0.000</td>\n      <td>-0.006</td>\n      <td>-0.005</td>\n      <td>2.314512e-270</td>\n      <td>***</td>\n    </tr>\n    <tr>\n      <th>altitude</th>\n      <td>-2.463e-05</td>\n      <td>1.2e-05</td>\n      <td>-2.055</td>\n      <td>0.040</td>\n      <td>-4.81e-05</td>\n      <td>-1.14e-06</td>\n      <td>3.988070e-02</td>\n      <td>*</td>\n    </tr>\n    <tr>\n      <th>densite</th>\n      <td>0.0021</td>\n      <td>0.000</td>\n      <td>10.248</td>\n      <td>0.000</td>\n      <td>0.002</td>\n      <td>0.003</td>\n      <td>1.211659e-24</td>\n      <td>***</td>\n    </tr>\n  </tbody>\n</table>\n</div>"
     },
     "metadata": {},
     "output_type": "display_data"
    },
    {
     "data": {
      "text/plain": "<IPython.core.display.HTML object>",
      "text/html": "Signif. codes:  0 '***' 0.001 '**' 0.01 '*' 0.05 '.' 0.1 ' ' 1"
     },
     "metadata": {},
     "output_type": "display_data"
    },
    {
     "data": {
      "text/plain": "<IPython.core.display.HTML object>",
      "text/html": "AIC with 10 ddl = -1731.73"
     },
     "metadata": {},
     "output_type": "display_data"
    }
   ],
   "source": [
    "# Nous construisons un 'GLM' selon une distribution de Gaussienne\n",
    "glm_gaussian_1 = smf.glm('volume_par_averse ~ saison + distancemer + altitude + vegetation + densite', family = sm.families.Gaussian(), data = Data_Pluie).fit()\n",
    "\n",
    "# On affiche les informations générales pour le model de Gausse\n",
    "GLMsummary(glm_gaussian_1)"
   ]
  },
  {
   "cell_type": "code",
   "execution_count": 194,
   "metadata": {
    "ExecuteTime": {
     "end_time": "2024-01-10T09:40:34.916393Z",
     "start_time": "2024-01-10T09:40:34.152641900Z"
    }
   },
   "outputs": [
    {
     "data": {
      "text/plain": "<class 'statsmodels.iolib.table.SimpleTable'>",
      "text/html": "<table class=\"simpletable\">\n<caption>Generalized Linear Model Regression Results</caption>\n<tr>\n  <th>Dep. Variable:</th>   <td>volume_par_averse</td> <th>  No. Observations:  </th>  <td>   987</td> \n</tr>\n<tr>\n  <th>Model:</th>                  <td>GLM</td>        <th>  Df Residuals:      </th>  <td>   982</td> \n</tr>\n<tr>\n  <th>Model Family:</th>        <td>Gaussian</td>      <th>  Df Model:          </th>  <td>     4</td> \n</tr>\n<tr>\n  <th>Link Function:</th>       <td>Identity</td>      <th>  Scale:             </th> <td>0.011138</td>\n</tr>\n<tr>\n  <th>Method:</th>                <td>IRLS</td>        <th>  Log-Likelihood:    </th> <td>  821.50</td>\n</tr>\n<tr>\n  <th>Date:</th>            <td>Wed, 10 Jan 2024</td>  <th>  Deviance:          </th> <td>  10.937</td>\n</tr>\n<tr>\n  <th>Time:</th>                <td>10:40:34</td>      <th>  Pearson chi2:      </th>  <td>  10.9</td> \n</tr>\n<tr>\n  <th>No. Iterations:</th>          <td>3</td>         <th>  Pseudo R-squ. (CS):</th>  <td>0.9407</td> \n</tr>\n<tr>\n  <th>Covariance Type:</th>     <td>nonrobust</td>     <th>                     </th>     <td> </td>   \n</tr>\n</table>",
      "text/latex": "\\begin{center}\n\\begin{tabular}{lclc}\n\\toprule\n\\textbf{Dep. Variable:}   & volume\\_par\\_averse & \\textbf{  No. Observations:  } &     987   \\\\\n\\textbf{Model:}           &         GLM         & \\textbf{  Df Residuals:      } &     982   \\\\\n\\textbf{Model Family:}    &       Gaussian      & \\textbf{  Df Model:          } &       4   \\\\\n\\textbf{Link Function:}   &       Identity      & \\textbf{  Scale:             } & 0.011138  \\\\\n\\textbf{Method:}          &         IRLS        & \\textbf{  Log-Likelihood:    } &   821.50  \\\\\n\\textbf{Date:}            &   Wed, 10 Jan 2024  & \\textbf{  Deviance:          } &   10.937  \\\\\n\\textbf{Time:}            &       10:40:34      & \\textbf{  Pearson chi2:      } &    10.9   \\\\\n\\textbf{No. Iterations:}  &          3          & \\textbf{  Pseudo R-squ. (CS):} &  0.9407   \\\\\n\\textbf{Covariance Type:} &      nonrobust      & \\textbf{                     } &           \\\\\n\\bottomrule\n\\end{tabular}\n%\\caption{Generalized Linear Model Regression Results}\n\\end{center}"
     },
     "metadata": {},
     "output_type": "display_data"
    },
    {
     "data": {
      "text/plain": "                           coef    std err          z   P>|z|     [0.025  \\\nIntercept                0.9621      0.007    129.647   0.000      0.948   \nsaison[T.Hiver]          0.0385      0.010      3.956   0.000      0.019   \nsaison[T.Printemps]      0.1644      0.009     17.487   0.000      0.146   \nsaison[T.Été]           -0.1269      0.010    -13.332   0.000     -0.146   \ndistancemer             -0.0056      0.000    -43.290   0.000     -0.006   \n\n                        0.975]       p-value Code  \nIntercept                0.977  0.000000e+00  ***  \nsaison[T.Hiver]          0.058  7.621767e-05  ***  \nsaison[T.Printemps]      0.183  1.798842e-68  ***  \nsaison[T.Été]           -0.108  1.506158e-40  ***  \ndistancemer             -0.005  0.000000e+00  ***  ",
      "text/html": "<div>\n<style scoped>\n    .dataframe tbody tr th:only-of-type {\n        vertical-align: middle;\n    }\n\n    .dataframe tbody tr th {\n        vertical-align: top;\n    }\n\n    .dataframe thead th {\n        text-align: right;\n    }\n</style>\n<table border=\"1\" class=\"dataframe\">\n  <thead>\n    <tr style=\"text-align: right;\">\n      <th></th>\n      <th>coef</th>\n      <th>std err</th>\n      <th>z</th>\n      <th>P&gt;|z|</th>\n      <th>[0.025</th>\n      <th>0.975]</th>\n      <th>p-value</th>\n      <th>Code</th>\n    </tr>\n  </thead>\n  <tbody>\n    <tr>\n      <th>Intercept</th>\n      <td>0.9621</td>\n      <td>0.007</td>\n      <td>129.647</td>\n      <td>0.000</td>\n      <td>0.948</td>\n      <td>0.977</td>\n      <td>0.000000e+00</td>\n      <td>***</td>\n    </tr>\n    <tr>\n      <th>saison[T.Hiver]</th>\n      <td>0.0385</td>\n      <td>0.010</td>\n      <td>3.956</td>\n      <td>0.000</td>\n      <td>0.019</td>\n      <td>0.058</td>\n      <td>7.621767e-05</td>\n      <td>***</td>\n    </tr>\n    <tr>\n      <th>saison[T.Printemps]</th>\n      <td>0.1644</td>\n      <td>0.009</td>\n      <td>17.487</td>\n      <td>0.000</td>\n      <td>0.146</td>\n      <td>0.183</td>\n      <td>1.798842e-68</td>\n      <td>***</td>\n    </tr>\n    <tr>\n      <th>saison[T.Été]</th>\n      <td>-0.1269</td>\n      <td>0.010</td>\n      <td>-13.332</td>\n      <td>0.000</td>\n      <td>-0.146</td>\n      <td>-0.108</td>\n      <td>1.506158e-40</td>\n      <td>***</td>\n    </tr>\n    <tr>\n      <th>distancemer</th>\n      <td>-0.0056</td>\n      <td>0.000</td>\n      <td>-43.290</td>\n      <td>0.000</td>\n      <td>-0.006</td>\n      <td>-0.005</td>\n      <td>0.000000e+00</td>\n      <td>***</td>\n    </tr>\n  </tbody>\n</table>\n</div>"
     },
     "metadata": {},
     "output_type": "display_data"
    },
    {
     "data": {
      "text/plain": "<IPython.core.display.HTML object>",
      "text/html": "Signif. codes:  0 '***' 0.001 '**' 0.01 '*' 0.05 '.' 0.1 ' ' 1"
     },
     "metadata": {},
     "output_type": "display_data"
    },
    {
     "data": {
      "text/plain": "<IPython.core.display.HTML object>",
      "text/html": "AIC with 5 ddl = -1633.00"
     },
     "metadata": {},
     "output_type": "display_data"
    }
   ],
   "source": [
    "# Nous construisons un 'GLM' selon une distribution de Gaussienne\n",
    "glm_gaussian_2 = smf.glm('volume_par_averse ~ saison + distancemer', family = sm.families.Gaussian(), data = Data_Pluie).fit()\n",
    "\n",
    "# On affiche les informations générales pour le model de Gausse\n",
    "GLMsummary(glm_gaussian_2)"
   ]
  },
  {
   "cell_type": "code",
   "execution_count": 195,
   "metadata": {
    "ExecuteTime": {
     "end_time": "2024-01-10T09:40:35.762688500Z",
     "start_time": "2024-01-10T09:40:35.450618300Z"
    }
   },
   "outputs": [
    {
     "name": "stdout",
     "output_type": "stream",
     "text": [
      "La corss-validation est de : [-0.01026334 -0.0111311  -0.01569618 -0.01085791 -0.00914641]\n",
      "Le cross-validation score moyen est de : -0.011418990528457578\n"
     ]
    }
   ],
   "source": [
    "# On utilisera sklearn pour pouvoir utiliser la fonction cross_val_score() de sklearn\n",
    "glm_gaussien_3 = smfGLM(formula='volume_par_averse ~ saison + distancemer', family=sm.families.Gaussian())\n",
    "\n",
    "# Préparation des matrices X_pluie et y_pluie\n",
    "X_pluie = Data_Pluie.drop('volume_par_averse', axis=1)\n",
    "y_pluie = Data_Pluie['volume_par_averse']\n",
    "\n",
    "# On calcule ensuite le score de la validation croisée (le score correspond à la moyenne de chaque score de cv) [On prendra cv = 5]\n",
    "mean_score_cv = cross_val_score(glm_gaussien_3, X_pluie, y_pluie, cv=5, scoring='neg_mean_squared_error')\n",
    "print('La corss-validation est de :', mean_score_cv)\n",
    "print('Le cross-validation score moyen est de :', mean_score_cv.mean())"
   ]
  },
  {
   "cell_type": "markdown",
   "source": [
    "On soupçonne qu'il puisse y avoir une dépendance en le log de la distance à la mer."
   ],
   "metadata": {
    "collapsed": false
   }
  },
  {
   "cell_type": "code",
   "execution_count": 196,
   "metadata": {
    "ExecuteTime": {
     "end_time": "2024-01-10T09:40:45.142150300Z",
     "start_time": "2024-01-10T09:40:45.009780100Z"
    }
   },
   "outputs": [
    {
     "data": {
      "text/plain": "       saison  distancemer    altitude vegetation    densite  nb_averses  \\\n0   Printemps    34.976541  396.592403    Moyenne  12.922438           2   \n1       Hiver     9.297704   87.792413      Dense   2.872035           2   \n6     Automne     8.141122   41.660574      Dense  51.414469           1   \n8   Printemps     7.358844   72.197727     Faible   4.031347           1   \n13      Hiver    49.855514  204.717666     Faible   0.016507           1   \n\n      volume  pluieLendemain  log_distancemer  \n0   1.629064               1         3.554678  \n1   1.902443               1         2.229767  \n6   0.899965               0         2.096928  \n8   1.086563               1         1.995903  \n13  0.659087               0         3.909129  ",
      "text/html": "<div>\n<style scoped>\n    .dataframe tbody tr th:only-of-type {\n        vertical-align: middle;\n    }\n\n    .dataframe tbody tr th {\n        vertical-align: top;\n    }\n\n    .dataframe thead th {\n        text-align: right;\n    }\n</style>\n<table border=\"1\" class=\"dataframe\">\n  <thead>\n    <tr style=\"text-align: right;\">\n      <th></th>\n      <th>saison</th>\n      <th>distancemer</th>\n      <th>altitude</th>\n      <th>vegetation</th>\n      <th>densite</th>\n      <th>nb_averses</th>\n      <th>volume</th>\n      <th>pluieLendemain</th>\n      <th>log_distancemer</th>\n    </tr>\n  </thead>\n  <tbody>\n    <tr>\n      <th>0</th>\n      <td>Printemps</td>\n      <td>34.976541</td>\n      <td>396.592403</td>\n      <td>Moyenne</td>\n      <td>12.922438</td>\n      <td>2</td>\n      <td>1.629064</td>\n      <td>1</td>\n      <td>3.554678</td>\n    </tr>\n    <tr>\n      <th>1</th>\n      <td>Hiver</td>\n      <td>9.297704</td>\n      <td>87.792413</td>\n      <td>Dense</td>\n      <td>2.872035</td>\n      <td>2</td>\n      <td>1.902443</td>\n      <td>1</td>\n      <td>2.229767</td>\n    </tr>\n    <tr>\n      <th>6</th>\n      <td>Automne</td>\n      <td>8.141122</td>\n      <td>41.660574</td>\n      <td>Dense</td>\n      <td>51.414469</td>\n      <td>1</td>\n      <td>0.899965</td>\n      <td>0</td>\n      <td>2.096928</td>\n    </tr>\n    <tr>\n      <th>8</th>\n      <td>Printemps</td>\n      <td>7.358844</td>\n      <td>72.197727</td>\n      <td>Faible</td>\n      <td>4.031347</td>\n      <td>1</td>\n      <td>1.086563</td>\n      <td>1</td>\n      <td>1.995903</td>\n    </tr>\n    <tr>\n      <th>13</th>\n      <td>Hiver</td>\n      <td>49.855514</td>\n      <td>204.717666</td>\n      <td>Faible</td>\n      <td>0.016507</td>\n      <td>1</td>\n      <td>0.659087</td>\n      <td>0</td>\n      <td>3.909129</td>\n    </tr>\n  </tbody>\n</table>\n</div>"
     },
     "execution_count": 196,
     "metadata": {},
     "output_type": "execute_result"
    }
   ],
   "source": [
    "# On ajoute le log\n",
    "X_pluie['log_distancemer'] = np.log(Data_Pluie['distancemer'])\n",
    "\n",
    "# On affiche X_pluie\n",
    "X_pluie.head()"
   ]
  },
  {
   "cell_type": "code",
   "execution_count": 197,
   "metadata": {
    "ExecuteTime": {
     "end_time": "2024-01-10T09:41:47.491321300Z",
     "start_time": "2024-01-10T09:41:47.163367600Z"
    }
   },
   "outputs": [
    {
     "data": {
      "text/plain": "<class 'statsmodels.iolib.table.SimpleTable'>",
      "text/html": "<table class=\"simpletable\">\n<caption>Generalized Linear Model Regression Results</caption>\n<tr>\n  <th>Dep. Variable:</th>   <td>volume_par_averse</td> <th>  No. Observations:  </th>  <td>   987</td>  \n</tr>\n<tr>\n  <th>Model:</th>                  <td>GLM</td>        <th>  Df Residuals:      </th>  <td>   981</td>  \n</tr>\n<tr>\n  <th>Model Family:</th>        <td>Gaussian</td>      <th>  Df Model:          </th>  <td>     5</td>  \n</tr>\n<tr>\n  <th>Link Function:</th>       <td>Identity</td>      <th>  Scale:             </th> <td>0.0050150</td>\n</tr>\n<tr>\n  <th>Method:</th>                <td>IRLS</td>        <th>  Log-Likelihood:    </th> <td>  1215.8</td> \n</tr>\n<tr>\n  <th>Date:</th>            <td>Wed, 10 Jan 2024</td>  <th>  Deviance:          </th> <td>  4.9197</td> \n</tr>\n<tr>\n  <th>Time:</th>                <td>10:41:47</td>      <th>  Pearson chi2:      </th>  <td>  4.92</td>  \n</tr>\n<tr>\n  <th>No. Iterations:</th>          <td>3</td>         <th>  Pseudo R-squ. (CS):</th>  <td>0.9994</td>  \n</tr>\n<tr>\n  <th>Covariance Type:</th>     <td>nonrobust</td>     <th>                     </th>     <td> </td>    \n</tr>\n</table>",
      "text/latex": "\\begin{center}\n\\begin{tabular}{lclc}\n\\toprule\n\\textbf{Dep. Variable:}   & volume\\_par\\_averse & \\textbf{  No. Observations:  } &      987   \\\\\n\\textbf{Model:}           &         GLM         & \\textbf{  Df Residuals:      } &      981   \\\\\n\\textbf{Model Family:}    &       Gaussian      & \\textbf{  Df Model:          } &        5   \\\\\n\\textbf{Link Function:}   &       Identity      & \\textbf{  Scale:             } & 0.0050150  \\\\\n\\textbf{Method:}          &         IRLS        & \\textbf{  Log-Likelihood:    } &    1215.8  \\\\\n\\textbf{Date:}            &   Wed, 10 Jan 2024  & \\textbf{  Deviance:          } &    4.9197  \\\\\n\\textbf{Time:}            &       10:41:47      & \\textbf{  Pearson chi2:      } &     4.92   \\\\\n\\textbf{No. Iterations:}  &          3          & \\textbf{  Pseudo R-squ. (CS):} &   0.9994   \\\\\n\\textbf{Covariance Type:} &      nonrobust      & \\textbf{                     } &            \\\\\n\\bottomrule\n\\end{tabular}\n%\\caption{Generalized Linear Model Regression Results}\n\\end{center}"
     },
     "metadata": {},
     "output_type": "display_data"
    },
    {
     "data": {
      "text/plain": "                           coef    std err          z   P>|z|     [0.025  \\\nIntercept                1.1036      0.006    171.332   0.000      1.091   \nsaison[T.Hiver]          0.0531      0.007      8.111   0.000      0.040   \nsaison[T.Printemps]      0.1780      0.006     28.155   0.000      0.166   \nsaison[T.Été]           -0.1192      0.006    -18.658   0.000     -0.132   \ndistancemer             -0.0020      0.000    -14.811   0.000     -0.002   \nnp.log(distancemer)     -0.0928      0.003    -34.639   0.000     -0.098   \n\n                        0.975]        p-value Code  \nIntercept                1.116   0.000000e+00  ***  \nsaison[T.Hiver]          0.066   5.014910e-16  ***  \nsaison[T.Printemps]      0.190  2.093730e-174  ***  \nsaison[T.Été]           -0.107   1.079373e-77  ***  \ndistancemer             -0.002   1.234922e-49  ***  \nnp.log(distancemer)     -0.088  6.454526e-263  ***  ",
      "text/html": "<div>\n<style scoped>\n    .dataframe tbody tr th:only-of-type {\n        vertical-align: middle;\n    }\n\n    .dataframe tbody tr th {\n        vertical-align: top;\n    }\n\n    .dataframe thead th {\n        text-align: right;\n    }\n</style>\n<table border=\"1\" class=\"dataframe\">\n  <thead>\n    <tr style=\"text-align: right;\">\n      <th></th>\n      <th>coef</th>\n      <th>std err</th>\n      <th>z</th>\n      <th>P&gt;|z|</th>\n      <th>[0.025</th>\n      <th>0.975]</th>\n      <th>p-value</th>\n      <th>Code</th>\n    </tr>\n  </thead>\n  <tbody>\n    <tr>\n      <th>Intercept</th>\n      <td>1.1036</td>\n      <td>0.006</td>\n      <td>171.332</td>\n      <td>0.000</td>\n      <td>1.091</td>\n      <td>1.116</td>\n      <td>0.000000e+00</td>\n      <td>***</td>\n    </tr>\n    <tr>\n      <th>saison[T.Hiver]</th>\n      <td>0.0531</td>\n      <td>0.007</td>\n      <td>8.111</td>\n      <td>0.000</td>\n      <td>0.040</td>\n      <td>0.066</td>\n      <td>5.014910e-16</td>\n      <td>***</td>\n    </tr>\n    <tr>\n      <th>saison[T.Printemps]</th>\n      <td>0.1780</td>\n      <td>0.006</td>\n      <td>28.155</td>\n      <td>0.000</td>\n      <td>0.166</td>\n      <td>0.190</td>\n      <td>2.093730e-174</td>\n      <td>***</td>\n    </tr>\n    <tr>\n      <th>saison[T.Été]</th>\n      <td>-0.1192</td>\n      <td>0.006</td>\n      <td>-18.658</td>\n      <td>0.000</td>\n      <td>-0.132</td>\n      <td>-0.107</td>\n      <td>1.079373e-77</td>\n      <td>***</td>\n    </tr>\n    <tr>\n      <th>distancemer</th>\n      <td>-0.0020</td>\n      <td>0.000</td>\n      <td>-14.811</td>\n      <td>0.000</td>\n      <td>-0.002</td>\n      <td>-0.002</td>\n      <td>1.234922e-49</td>\n      <td>***</td>\n    </tr>\n    <tr>\n      <th>np.log(distancemer)</th>\n      <td>-0.0928</td>\n      <td>0.003</td>\n      <td>-34.639</td>\n      <td>0.000</td>\n      <td>-0.098</td>\n      <td>-0.088</td>\n      <td>6.454526e-263</td>\n      <td>***</td>\n    </tr>\n  </tbody>\n</table>\n</div>"
     },
     "metadata": {},
     "output_type": "display_data"
    },
    {
     "data": {
      "text/plain": "<IPython.core.display.HTML object>",
      "text/html": "Signif. codes:  0 '***' 0.001 '**' 0.01 '*' 0.05 '.' 0.1 ' ' 1"
     },
     "metadata": {},
     "output_type": "display_data"
    },
    {
     "data": {
      "text/plain": "<IPython.core.display.HTML object>",
      "text/html": "AIC with 6 ddl = -2419.52"
     },
     "metadata": {},
     "output_type": "display_data"
    }
   ],
   "source": [
    "# Nous construisons un 'GLM' selon une distribution de Gaussienne\n",
    "glm_gaussian_4 = smf.glm('volume_par_averse ~ saison + distancemer + np.log(distancemer)', family = sm.families.Gaussian(), data = Data_Pluie).fit()\n",
    "\n",
    "# On affiche les informations générales pour le model de Gausse\n",
    "GLMsummary(glm_gaussian_4)"
   ]
  },
  {
   "cell_type": "code",
   "execution_count": 199,
   "outputs": [
    {
     "name": "stdout",
     "output_type": "stream",
     "text": [
      "La corss-validation est de : [-0.00408722 -0.00562079 -0.00588261 -0.00496041 -0.00486773]\n",
      "Le cross-validation score moyen est de : -0.005083751839808112\n"
     ]
    }
   ],
   "source": [
    "# On utilisera sklearn pour pouvoir utiliser la fonction cross_val_score() de sklearn\n",
    "glm_gaussien_5 = smfGLM(formula='volume_par_averse ~ saison + distancemer + log_distancemer', family=sm.families.Gaussian())\n",
    "\n",
    "# On calcule ensuite le score de la validation croisée (le score correspond à la moyenne de chaque score de cv) [On prendra cv = 5]\n",
    "mean_score_cv = cross_val_score(glm_gaussien_5, X_pluie, y_pluie, cv=5, scoring='neg_mean_squared_error')\n",
    "print('La corss-validation est de :', mean_score_cv)\n",
    "print('Le cross-validation score moyen est de :', mean_score_cv.mean())"
   ],
   "metadata": {
    "collapsed": false,
    "ExecuteTime": {
     "end_time": "2024-01-10T09:42:40.581694100Z",
     "start_time": "2024-01-10T09:42:39.897765200Z"
    }
   }
  },
  {
   "cell_type": "markdown",
   "metadata": {},
   "source": [
    "## 5 - Prédiction de la pluie le lendemain "
   ]
  },
  {
   "cell_type": "code",
   "execution_count": 200,
   "metadata": {
    "ExecuteTime": {
     "end_time": "2024-01-10T09:43:29.140614300Z",
     "start_time": "2024-01-10T09:43:28.692862300Z"
    }
   },
   "outputs": [
    {
     "data": {
      "text/plain": "Text(0, 0.5, 'Occurrences')"
     },
     "execution_count": 200,
     "metadata": {},
     "output_type": "execute_result"
    },
    {
     "data": {
      "text/plain": "<Figure size 800x500 with 1 Axes>",
      "image/png": "[encoded data removed]"
     },
     "metadata": {},
     "output_type": "display_data"
    }
   ],
   "source": [
    "f, ax = plt.subplots(figsize=(8, 5))\n",
    "sns.histplot(data = df, x = 'pluieLendemain')\n",
    "ax.set_title(f\"Histogramme de 'pluieLendemain'\")\n",
    "ax.set_xlabel(f\"Valeur de 'pluieLendemain'\")\n",
    "ax.set_ylabel('Occurrences')"
   ]
  },
  {
   "cell_type": "markdown",
   "source": [
    "On observe une distribution binomial."
   ],
   "metadata": {
    "collapsed": false
   }
  },
  {
   "cell_type": "code",
   "execution_count": 201,
   "metadata": {
    "ExecuteTime": {
     "end_time": "2024-01-10T09:43:35.588252700Z",
     "start_time": "2024-01-10T09:43:35.260247800Z"
    }
   },
   "outputs": [
    {
     "data": {
      "text/plain": "       saison  distancemer    altitude vegetation    densite  nb_averses  \\\n1346  Automne    33.742940  156.678476     Faible   6.459378           0   \n795   Automne    56.368599  902.176539      Dense   0.210902           0   \n745       Été    14.121846  180.622954     Faible  13.536040           2   \n71    Automne    70.950510  195.476760    Moyenne  17.803323           0   \n1495    Hiver    59.755064  267.811590       Rare   1.220745           0   \n\n        volume  pluieLendemain  \n1346  0.000000               0  \n795   0.000000               0  \n745   1.486943               1  \n71    0.000000               0  \n1495  0.000000               0  ",
      "text/html": "<div>\n<style scoped>\n    .dataframe tbody tr th:only-of-type {\n        vertical-align: middle;\n    }\n\n    .dataframe tbody tr th {\n        vertical-align: top;\n    }\n\n    .dataframe thead th {\n        text-align: right;\n    }\n</style>\n<table border=\"1\" class=\"dataframe\">\n  <thead>\n    <tr style=\"text-align: right;\">\n      <th></th>\n      <th>saison</th>\n      <th>distancemer</th>\n      <th>altitude</th>\n      <th>vegetation</th>\n      <th>densite</th>\n      <th>nb_averses</th>\n      <th>volume</th>\n      <th>pluieLendemain</th>\n    </tr>\n  </thead>\n  <tbody>\n    <tr>\n      <th>1346</th>\n      <td>Automne</td>\n      <td>33.742940</td>\n      <td>156.678476</td>\n      <td>Faible</td>\n      <td>6.459378</td>\n      <td>0</td>\n      <td>0.000000</td>\n      <td>0</td>\n    </tr>\n    <tr>\n      <th>795</th>\n      <td>Automne</td>\n      <td>56.368599</td>\n      <td>902.176539</td>\n      <td>Dense</td>\n      <td>0.210902</td>\n      <td>0</td>\n      <td>0.000000</td>\n      <td>0</td>\n    </tr>\n    <tr>\n      <th>745</th>\n      <td>Été</td>\n      <td>14.121846</td>\n      <td>180.622954</td>\n      <td>Faible</td>\n      <td>13.536040</td>\n      <td>2</td>\n      <td>1.486943</td>\n      <td>1</td>\n    </tr>\n    <tr>\n      <th>71</th>\n      <td>Automne</td>\n      <td>70.950510</td>\n      <td>195.476760</td>\n      <td>Moyenne</td>\n      <td>17.803323</td>\n      <td>0</td>\n      <td>0.000000</td>\n      <td>0</td>\n    </tr>\n    <tr>\n      <th>1495</th>\n      <td>Hiver</td>\n      <td>59.755064</td>\n      <td>267.811590</td>\n      <td>Rare</td>\n      <td>1.220745</td>\n      <td>0</td>\n      <td>0.000000</td>\n      <td>0</td>\n    </tr>\n  </tbody>\n</table>\n</div>"
     },
     "execution_count": 201,
     "metadata": {},
     "output_type": "execute_result"
    }
   ],
   "source": [
    "# On split le jeu de données sous forme de 75% (train set) - 25% (test set), random_state = 2 : permet d'avoir des résultats reproductibles. Afin \n",
    "# de s'assurer que les résultats soient cohérents durant l'évaluation et durant votre correction, un facteur de reproductibilité est préférable...\n",
    "train_set_lendemain, test_set_lendemain = train_test_split(df, test_size=0.25, random_state=SEED)\n",
    "\n",
    "# On observe le train set\n",
    "train_set_lendemain.head()"
   ]
  },
  {
   "cell_type": "code",
   "execution_count": 215,
   "metadata": {
    "ExecuteTime": {
     "end_time": "2024-01-10T09:56:25.858972800Z",
     "start_time": "2024-01-10T09:56:25.625519400Z"
    }
   },
   "outputs": [
    {
     "data": {
      "text/plain": "<class 'statsmodels.iolib.table.SimpleTable'>",
      "text/html": "<table class=\"simpletable\">\n<caption>Generalized Linear Model Regression Results</caption>\n<tr>\n  <th>Dep. Variable:</th>    <td>pluieLendemain</td>  <th>  No. Observations:  </th>  <td>  1500</td> \n</tr>\n<tr>\n  <th>Model:</th>                  <td>GLM</td>       <th>  Df Residuals:      </th>  <td>  1493</td> \n</tr>\n<tr>\n  <th>Model Family:</th>        <td>Binomial</td>     <th>  Df Model:          </th>  <td>     6</td> \n</tr>\n<tr>\n  <th>Link Function:</th>         <td>Logit</td>      <th>  Scale:             </th> <td>  1.0000</td>\n</tr>\n<tr>\n  <th>Method:</th>                <td>IRLS</td>       <th>  Log-Likelihood:    </th> <td> -550.71</td>\n</tr>\n<tr>\n  <th>Date:</th>            <td>Wed, 10 Jan 2024</td> <th>  Deviance:          </th> <td>  1101.4</td>\n</tr>\n<tr>\n  <th>Time:</th>                <td>10:56:25</td>     <th>  Pearson chi2:      </th> <td>1.77e+07</td>\n</tr>\n<tr>\n  <th>No. Iterations:</th>          <td>7</td>        <th>  Pseudo R-squ. (CS):</th>  <td>0.4516</td> \n</tr>\n<tr>\n  <th>Covariance Type:</th>     <td>nonrobust</td>    <th>                     </th>     <td> </td>   \n</tr>\n</table>",
      "text/latex": "\\begin{center}\n\\begin{tabular}{lclc}\n\\toprule\n\\textbf{Dep. Variable:}   &  pluieLendemain  & \\textbf{  No. Observations:  } &    1500   \\\\\n\\textbf{Model:}           &       GLM        & \\textbf{  Df Residuals:      } &    1493   \\\\\n\\textbf{Model Family:}    &     Binomial     & \\textbf{  Df Model:          } &       6   \\\\\n\\textbf{Link Function:}   &      Logit       & \\textbf{  Scale:             } &   1.0000  \\\\\n\\textbf{Method:}          &       IRLS       & \\textbf{  Log-Likelihood:    } &  -550.71  \\\\\n\\textbf{Date:}            & Wed, 10 Jan 2024 & \\textbf{  Deviance:          } &   1101.4  \\\\\n\\textbf{Time:}            &     10:56:25     & \\textbf{  Pearson chi2:      } & 1.77e+07  \\\\\n\\textbf{No. Iterations:}  &        7         & \\textbf{  Pseudo R-squ. (CS):} &  0.4516   \\\\\n\\textbf{Covariance Type:} &    nonrobust     & \\textbf{                     } &           \\\\\n\\bottomrule\n\\end{tabular}\n%\\caption{Generalized Linear Model Regression Results}\n\\end{center}"
     },
     "metadata": {},
     "output_type": "display_data"
    },
    {
     "data": {
      "text/plain": "                           coef    std err          z   P>|z|     [0.025  \\\nIntercept                0.4093      0.181      2.266   0.023      0.055   \nsaison[T.Hiver]          1.7261      0.219      7.873   0.000      1.296   \nsaison[T.Printemps]      2.5278      0.241     10.467   0.000      2.054   \nsaison[T.Été]            0.0593      0.210      0.283   0.777     -0.352   \ndistancemer             -0.1099      0.008    -14.034   0.000     -0.125   \naltitude                -0.0011      0.001     -2.004   0.045     -0.002   \nnb_averses               0.6626      0.092      7.199   0.000      0.482   \n\n                        0.975]       p-value Code  \nIntercept                0.763  2.346158e-02    *  \nsaison[T.Hiver]          2.156  3.458329e-15  ***  \nsaison[T.Printemps]      3.001  1.220262e-25  ***  \nsaison[T.Été]            0.470  7.774092e-01       \ndistancemer             -0.095  9.608905e-45  ***  \naltitude             -2.49e-05  4.509047e-02    *  \nnb_averses               0.843  6.056112e-13  ***  ",
      "text/html": "<div>\n<style scoped>\n    .dataframe tbody tr th:only-of-type {\n        vertical-align: middle;\n    }\n\n    .dataframe tbody tr th {\n        vertical-align: top;\n    }\n\n    .dataframe thead th {\n        text-align: right;\n    }\n</style>\n<table border=\"1\" class=\"dataframe\">\n  <thead>\n    <tr style=\"text-align: right;\">\n      <th></th>\n      <th>coef</th>\n      <th>std err</th>\n      <th>z</th>\n      <th>P&gt;|z|</th>\n      <th>[0.025</th>\n      <th>0.975]</th>\n      <th>p-value</th>\n      <th>Code</th>\n    </tr>\n  </thead>\n  <tbody>\n    <tr>\n      <th>Intercept</th>\n      <td>0.4093</td>\n      <td>0.181</td>\n      <td>2.266</td>\n      <td>0.023</td>\n      <td>0.055</td>\n      <td>0.763</td>\n      <td>2.346158e-02</td>\n      <td>*</td>\n    </tr>\n    <tr>\n      <th>saison[T.Hiver]</th>\n      <td>1.7261</td>\n      <td>0.219</td>\n      <td>7.873</td>\n      <td>0.000</td>\n      <td>1.296</td>\n      <td>2.156</td>\n      <td>3.458329e-15</td>\n      <td>***</td>\n    </tr>\n    <tr>\n      <th>saison[T.Printemps]</th>\n      <td>2.5278</td>\n      <td>0.241</td>\n      <td>10.467</td>\n      <td>0.000</td>\n      <td>2.054</td>\n      <td>3.001</td>\n      <td>1.220262e-25</td>\n      <td>***</td>\n    </tr>\n    <tr>\n      <th>saison[T.Été]</th>\n      <td>0.0593</td>\n      <td>0.210</td>\n      <td>0.283</td>\n      <td>0.777</td>\n      <td>-0.352</td>\n      <td>0.470</td>\n      <td>7.774092e-01</td>\n      <td></td>\n    </tr>\n    <tr>\n      <th>distancemer</th>\n      <td>-0.1099</td>\n      <td>0.008</td>\n      <td>-14.034</td>\n      <td>0.000</td>\n      <td>-0.125</td>\n      <td>-0.095</td>\n      <td>9.608905e-45</td>\n      <td>***</td>\n    </tr>\n    <tr>\n      <th>altitude</th>\n      <td>-0.0011</td>\n      <td>0.001</td>\n      <td>-2.004</td>\n      <td>0.045</td>\n      <td>-0.002</td>\n      <td>-2.49e-05</td>\n      <td>4.509047e-02</td>\n      <td>*</td>\n    </tr>\n    <tr>\n      <th>nb_averses</th>\n      <td>0.6626</td>\n      <td>0.092</td>\n      <td>7.199</td>\n      <td>0.000</td>\n      <td>0.482</td>\n      <td>0.843</td>\n      <td>6.056112e-13</td>\n      <td>***</td>\n    </tr>\n  </tbody>\n</table>\n</div>"
     },
     "metadata": {},
     "output_type": "display_data"
    },
    {
     "data": {
      "text/plain": "<IPython.core.display.HTML object>",
      "text/html": "Signif. codes:  0 '***' 0.001 '**' 0.01 '*' 0.05 '.' 0.1 ' ' 1"
     },
     "metadata": {},
     "output_type": "display_data"
    },
    {
     "data": {
      "text/plain": "<IPython.core.display.HTML object>",
      "text/html": "AIC with 7 ddl = 1115.41"
     },
     "metadata": {},
     "output_type": "display_data"
    }
   ],
   "source": [
    "# Nous construisons un 'GLM' selon une distribution de Poisson\n",
    "glm_binom_1 = smf.glm('pluieLendemain ~ saison + distancemer + altitude + nb_averses', family = sm.families.Binomial(), data = train_set_lendemain).fit()\n",
    "\n",
    "# On affiche les informations générales pour le model de Poisson\n",
    "GLMsummary(glm_binom_1)"
   ]
  },
  {
   "cell_type": "code",
   "execution_count": 216,
   "outputs": [
    {
     "name": "stdout",
     "output_type": "stream",
     "text": [
      "Accuracy on the test set: 85.60%\n",
      "Sensitivity (True Positive Rate): 82.21%\n"
     ]
    }
   ],
   "source": [
    "# Make predictions on the test set\n",
    "predicted_probabilities = glm_binom_1.predict(test_set_lendemain)\n",
    "\n",
    "# Convert predicted probabilities to binary predictions (e.g., 0 or 1) based on a threshold\n",
    "threshold = 0.5  # You can adjust the threshold based on your needs\n",
    "predicted_labels = (predicted_probabilities > threshold).astype(int)\n",
    "\n",
    "# Extract the actual labels from the test set\n",
    "actual_labels = test_set_lendemain['pluieLendemain']\n",
    "\n",
    "# Calculate accuracy\n",
    "accuracy = (predicted_labels == actual_labels).mean()\n",
    "\n",
    "# Calculate sensitivity (true positive rate or recall)\n",
    "true_positives = ((predicted_labels == 1) & (actual_labels == 1)).sum()\n",
    "false_negatives = ((predicted_labels == 0) & (actual_labels == 1)).sum()\n",
    "sensitivity = true_positives / (true_positives + false_negatives)\n",
    "\n",
    "# Print the accuracy and sensitivity\n",
    "print(f'Accuracy on the test set: {accuracy:.2%}')\n",
    "print(f'Sensitivity (True Positive Rate): {sensitivity:.2%}')"
   ],
   "metadata": {
    "collapsed": false,
    "ExecuteTime": {
     "end_time": "2024-01-10T09:56:58.025577600Z",
     "start_time": "2024-01-10T09:56:57.931659200Z"
    }
   }
  },
  {
   "cell_type": "code",
   "execution_count": 217,
   "metadata": {
    "ExecuteTime": {
     "end_time": "2024-01-10T09:57:21.112983200Z",
     "start_time": "2024-01-10T09:57:20.867076700Z"
    }
   },
   "outputs": [
    {
     "data": {
      "text/plain": "<class 'statsmodels.iolib.table.SimpleTable'>",
      "text/html": "<table class=\"simpletable\">\n<caption>Generalized Linear Model Regression Results</caption>\n<tr>\n  <th>Dep. Variable:</th>    <td>pluieLendemain</td>  <th>  No. Observations:  </th>  <td>  1500</td> \n</tr>\n<tr>\n  <th>Model:</th>                  <td>GLM</td>       <th>  Df Residuals:      </th>  <td>  1492</td> \n</tr>\n<tr>\n  <th>Model Family:</th>        <td>Binomial</td>     <th>  Df Model:          </th>  <td>     7</td> \n</tr>\n<tr>\n  <th>Link Function:</th>         <td>Logit</td>      <th>  Scale:             </th> <td>  1.0000</td>\n</tr>\n<tr>\n  <th>Method:</th>                <td>IRLS</td>       <th>  Log-Likelihood:    </th> <td> -492.65</td>\n</tr>\n<tr>\n  <th>Date:</th>            <td>Wed, 10 Jan 2024</td> <th>  Deviance:          </th> <td>  985.29</td>\n</tr>\n<tr>\n  <th>Time:</th>                <td>10:57:20</td>     <th>  Pearson chi2:      </th> <td>8.27e+03</td>\n</tr>\n<tr>\n  <th>No. Iterations:</th>          <td>7</td>        <th>  Pseudo R-squ. (CS):</th>  <td>0.4925</td> \n</tr>\n<tr>\n  <th>Covariance Type:</th>     <td>nonrobust</td>    <th>                     </th>     <td> </td>   \n</tr>\n</table>",
      "text/latex": "\\begin{center}\n\\begin{tabular}{lclc}\n\\toprule\n\\textbf{Dep. Variable:}   &  pluieLendemain  & \\textbf{  No. Observations:  } &    1500   \\\\\n\\textbf{Model:}           &       GLM        & \\textbf{  Df Residuals:      } &    1492   \\\\\n\\textbf{Model Family:}    &     Binomial     & \\textbf{  Df Model:          } &       7   \\\\\n\\textbf{Link Function:}   &      Logit       & \\textbf{  Scale:             } &   1.0000  \\\\\n\\textbf{Method:}          &       IRLS       & \\textbf{  Log-Likelihood:    } &  -492.65  \\\\\n\\textbf{Date:}            & Wed, 10 Jan 2024 & \\textbf{  Deviance:          } &   985.29  \\\\\n\\textbf{Time:}            &     10:57:20     & \\textbf{  Pearson chi2:      } & 8.27e+03  \\\\\n\\textbf{No. Iterations:}  &        7         & \\textbf{  Pseudo R-squ. (CS):} &  0.4925   \\\\\n\\textbf{Covariance Type:} &    nonrobust     & \\textbf{                     } &           \\\\\n\\bottomrule\n\\end{tabular}\n%\\caption{Generalized Linear Model Regression Results}\n\\end{center}"
     },
     "metadata": {},
     "output_type": "display_data"
    },
    {
     "data": {
      "text/plain": "                           coef    std err          z   P>|z|     [0.025  \\\nIntercept                0.8735      0.195      4.477   0.000      0.491   \nsaison[T.Hiver]          2.1161      0.243      8.717   0.000      1.640   \nsaison[T.Printemps]      2.9827      0.269     11.105   0.000      2.456   \nsaison[T.Été]            0.1774      0.225      0.788   0.431     -0.264   \ndistancemer             -0.1809      0.011    -16.609   0.000     -0.202   \naltitude                -0.0005      0.000     -1.265   0.206     -0.001   \nnb_averses               0.7148      0.100      7.175   0.000      0.520   \nI(distancemer ** 2)      0.0009   6.56e-05     13.344   0.000      0.001   \n\n                        0.975]       p-value Code  \nIntercept                1.256  7.564626e-06  ***  \nsaison[T.Hiver]          2.592  2.851783e-18  ***  \nsaison[T.Printemps]      3.509  1.186027e-28  ***  \nsaison[T.Été]            0.619  4.307458e-01       \ndistancemer             -0.160  5.967449e-62  ***  \naltitude                 0.000  2.059794e-01       \nnb_averses               0.910  7.219913e-13  ***  \nI(distancemer ** 2)      0.001  1.290619e-40  ***  ",
      "text/html": "<div>\n<style scoped>\n    .dataframe tbody tr th:only-of-type {\n        vertical-align: middle;\n    }\n\n    .dataframe tbody tr th {\n        vertical-align: top;\n    }\n\n    .dataframe thead th {\n        text-align: right;\n    }\n</style>\n<table border=\"1\" class=\"dataframe\">\n  <thead>\n    <tr style=\"text-align: right;\">\n      <th></th>\n      <th>coef</th>\n      <th>std err</th>\n      <th>z</th>\n      <th>P&gt;|z|</th>\n      <th>[0.025</th>\n      <th>0.975]</th>\n      <th>p-value</th>\n      <th>Code</th>\n    </tr>\n  </thead>\n  <tbody>\n    <tr>\n      <th>Intercept</th>\n      <td>0.8735</td>\n      <td>0.195</td>\n      <td>4.477</td>\n      <td>0.000</td>\n      <td>0.491</td>\n      <td>1.256</td>\n      <td>7.564626e-06</td>\n      <td>***</td>\n    </tr>\n    <tr>\n      <th>saison[T.Hiver]</th>\n      <td>2.1161</td>\n      <td>0.243</td>\n      <td>8.717</td>\n      <td>0.000</td>\n      <td>1.640</td>\n      <td>2.592</td>\n      <td>2.851783e-18</td>\n      <td>***</td>\n    </tr>\n    <tr>\n      <th>saison[T.Printemps]</th>\n      <td>2.9827</td>\n      <td>0.269</td>\n      <td>11.105</td>\n      <td>0.000</td>\n      <td>2.456</td>\n      <td>3.509</td>\n      <td>1.186027e-28</td>\n      <td>***</td>\n    </tr>\n    <tr>\n      <th>saison[T.Été]</th>\n      <td>0.1774</td>\n      <td>0.225</td>\n      <td>0.788</td>\n      <td>0.431</td>\n      <td>-0.264</td>\n      <td>0.619</td>\n      <td>4.307458e-01</td>\n      <td></td>\n    </tr>\n    <tr>\n      <th>distancemer</th>\n      <td>-0.1809</td>\n      <td>0.011</td>\n      <td>-16.609</td>\n      <td>0.000</td>\n      <td>-0.202</td>\n      <td>-0.160</td>\n      <td>5.967449e-62</td>\n      <td>***</td>\n    </tr>\n    <tr>\n      <th>altitude</th>\n      <td>-0.0005</td>\n      <td>0.000</td>\n      <td>-1.265</td>\n      <td>0.206</td>\n      <td>-0.001</td>\n      <td>0.000</td>\n      <td>2.059794e-01</td>\n      <td></td>\n    </tr>\n    <tr>\n      <th>nb_averses</th>\n      <td>0.7148</td>\n      <td>0.100</td>\n      <td>7.175</td>\n      <td>0.000</td>\n      <td>0.520</td>\n      <td>0.910</td>\n      <td>7.219913e-13</td>\n      <td>***</td>\n    </tr>\n    <tr>\n      <th>I(distancemer ** 2)</th>\n      <td>0.0009</td>\n      <td>6.56e-05</td>\n      <td>13.344</td>\n      <td>0.000</td>\n      <td>0.001</td>\n      <td>0.001</td>\n      <td>1.290619e-40</td>\n      <td>***</td>\n    </tr>\n  </tbody>\n</table>\n</div>"
     },
     "metadata": {},
     "output_type": "display_data"
    },
    {
     "data": {
      "text/plain": "<IPython.core.display.HTML object>",
      "text/html": "Signif. codes:  0 '***' 0.001 '**' 0.01 '*' 0.05 '.' 0.1 ' ' 1"
     },
     "metadata": {},
     "output_type": "display_data"
    },
    {
     "data": {
      "text/plain": "<IPython.core.display.HTML object>",
      "text/html": "AIC with 8 ddl = 1001.29"
     },
     "metadata": {},
     "output_type": "display_data"
    }
   ],
   "source": [
    "# Nous construisons un 'GLM' selon une distribution de Poisson\n",
    "glm_binom_2 = smf.glm('pluieLendemain ~ saison + distancemer + altitude + nb_averses + I(distancemer**2)', family = sm.families.Binomial(), data = train_set_lendemain).fit()\n",
    "\n",
    "# On affiche les informations générales pour le model de Poisson\n",
    "GLMsummary(glm_binom_2)"
   ]
  },
  {
   "cell_type": "code",
   "execution_count": 218,
   "metadata": {
    "ExecuteTime": {
     "end_time": "2024-01-10T09:57:21.649681300Z",
     "start_time": "2024-01-10T09:57:21.424486900Z"
    }
   },
   "outputs": [
    {
     "name": "stdout",
     "output_type": "stream",
     "text": [
      "Confusion Matrix on Train Set:\n",
      "[[828  91]\n",
      " [ 98 483]]\n",
      "Accuracy on Train Set: 87.40%\n",
      "\n",
      "Confusion Matrix on Test Set:\n",
      "[[260  32]\n",
      " [ 35 173]]\n",
      "Accuracy on Test Set: 86.60%\n"
     ]
    }
   ],
   "source": [
    "# Make predictions on the training set\n",
    "predicted_probabilities_train = glm_binom_2.predict(train_set_lendemain)\n",
    "\n",
    "# Convert predicted probabilities to binary predictions (e.g., 0 or 1) based on a threshold\n",
    "threshold = 0.5  # You can adjust the threshold based on your needs\n",
    "predicted_labels_train = (predicted_probabilities_train > threshold).astype(int)\n",
    "\n",
    "# Extract the actual labels from the training set\n",
    "actual_labels_train = train_set_lendemain['pluieLendemain']\n",
    "\n",
    "# Calculate confusion matrix on the training set\n",
    "confusion_matrix_train = confusion_matrix(actual_labels_train, predicted_labels_train)\n",
    "\n",
    "# Calculate accuracy on the training set\n",
    "accuracy_train = accuracy_score(actual_labels_train, predicted_labels_train)\n",
    "\n",
    "# Make predictions on the test set\n",
    "predicted_probabilities_test = glm_binom_2.predict(test_set_lendemain)\n",
    "\n",
    "# Convert predicted probabilities to binary predictions (e.g., 0 or 1) based on a threshold\n",
    "predicted_labels_test = (predicted_probabilities_test > threshold).astype(int)\n",
    "\n",
    "# Extract the actual labels from the test set\n",
    "actual_labels_test = test_set_lendemain['pluieLendemain']\n",
    "\n",
    "# Calculate confusion matrix on the test set\n",
    "confusion_matrix_test = confusion_matrix(actual_labels_test, predicted_labels_test)\n",
    "\n",
    "# Calculate accuracy on the test set\n",
    "accuracy_test = accuracy_score(actual_labels_test, predicted_labels_test)\n",
    "\n",
    "# Print confusion matrices and accuracy\n",
    "print(\"Confusion Matrix on Train Set:\")\n",
    "print(confusion_matrix_train)\n",
    "print(f'Accuracy on Train Set: {accuracy_train:.2%}')\n",
    "\n",
    "print(\"\\nConfusion Matrix on Test Set:\")\n",
    "print(confusion_matrix_test)\n",
    "print(f'Accuracy on Test Set: {accuracy_test:.2%}')"
   ]
  },
  {
   "cell_type": "code",
   "execution_count": 219,
   "metadata": {
    "ExecuteTime": {
     "end_time": "2024-01-10T09:57:22.869503100Z",
     "start_time": "2024-01-10T09:57:22.770290800Z"
    }
   },
   "outputs": [
    {
     "name": "stdout",
     "output_type": "stream",
     "text": [
      "Sensibilité (True Positive Rate) sur l'ensemble de test : 83.17%\n"
     ]
    }
   ],
   "source": [
    "# Calcul de la matrice de confusion sur l'ensemble de test\n",
    "true_positives_test = confusion_matrix_test[1, 1]  # Vrais Positifs\n",
    "false_negatives_test = confusion_matrix_test[1, 0]  # Faux Négatifs\n",
    "\n",
    "# Calcul de la sensibilité sur l'ensemble de test\n",
    "sensitivity_test = true_positives_test / (true_positives_test + false_negatives_test)\n",
    "\n",
    "# Afficher la sensibilité sur l'ensemble de test\n",
    "print(f'Sensibilité (True Positive Rate) sur l\\'ensemble de test : {sensitivity_test:.2%}')"
   ]
  },
  {
   "cell_type": "code",
   "execution_count": 220,
   "metadata": {
    "ExecuteTime": {
     "end_time": "2024-01-10T09:58:30.546583400Z",
     "start_time": "2024-01-10T09:58:30.352954700Z"
    }
   },
   "outputs": [
    {
     "data": {
      "text/plain": "<class 'statsmodels.iolib.table.SimpleTable'>",
      "text/html": "<table class=\"simpletable\">\n<caption>Generalized Linear Model Regression Results</caption>\n<tr>\n  <th>Dep. Variable:</th>    <td>pluieLendemain</td>  <th>  No. Observations:  </th>  <td>  1500</td> \n</tr>\n<tr>\n  <th>Model:</th>                  <td>GLM</td>       <th>  Df Residuals:      </th>  <td>  1492</td> \n</tr>\n<tr>\n  <th>Model Family:</th>        <td>Binomial</td>     <th>  Df Model:          </th>  <td>     7</td> \n</tr>\n<tr>\n  <th>Link Function:</th>         <td>Logit</td>      <th>  Scale:             </th> <td>  1.0000</td>\n</tr>\n<tr>\n  <th>Method:</th>                <td>IRLS</td>       <th>  Log-Likelihood:    </th> <td> -501.06</td>\n</tr>\n<tr>\n  <th>Date:</th>            <td>Wed, 10 Jan 2024</td> <th>  Deviance:          </th> <td>  1002.1</td>\n</tr>\n<tr>\n  <th>Time:</th>                <td>10:58:30</td>     <th>  Pearson chi2:      </th> <td>4.96e+03</td>\n</tr>\n<tr>\n  <th>No. Iterations:</th>          <td>7</td>        <th>  Pseudo R-squ. (CS):</th>  <td>0.4868</td> \n</tr>\n<tr>\n  <th>Covariance Type:</th>     <td>nonrobust</td>    <th>                     </th>     <td> </td>   \n</tr>\n</table>",
      "text/latex": "\\begin{center}\n\\begin{tabular}{lclc}\n\\toprule\n\\textbf{Dep. Variable:}   &  pluieLendemain  & \\textbf{  No. Observations:  } &    1500   \\\\\n\\textbf{Model:}           &       GLM        & \\textbf{  Df Residuals:      } &    1492   \\\\\n\\textbf{Model Family:}    &     Binomial     & \\textbf{  Df Model:          } &       7   \\\\\n\\textbf{Link Function:}   &      Logit       & \\textbf{  Scale:             } &   1.0000  \\\\\n\\textbf{Method:}          &       IRLS       & \\textbf{  Log-Likelihood:    } &  -501.06  \\\\\n\\textbf{Date:}            & Wed, 10 Jan 2024 & \\textbf{  Deviance:          } &   1002.1  \\\\\n\\textbf{Time:}            &     10:58:30     & \\textbf{  Pearson chi2:      } & 4.96e+03  \\\\\n\\textbf{No. Iterations:}  &        7         & \\textbf{  Pseudo R-squ. (CS):} &  0.4868   \\\\\n\\textbf{Covariance Type:} &    nonrobust     & \\textbf{                     } &           \\\\\n\\bottomrule\n\\end{tabular}\n%\\caption{Generalized Linear Model Regression Results}\n\\end{center}"
     },
     "metadata": {},
     "output_type": "display_data"
    },
    {
     "data": {
      "text/plain": "                           coef    std err          z   P>|z|     [0.025  \\\nIntercept                3.2180      0.427      7.536   0.000      2.381   \nsaison[T.Hiver]          2.2014      0.252      8.728   0.000      1.707   \nsaison[T.Printemps]      2.9360      0.264     11.103   0.000      2.418   \nsaison[T.Été]            0.2734      0.251      1.088   0.276     -0.219   \ndistancemer             -0.0039      0.011     -0.365   0.715     -0.025   \naltitude                -0.0009      0.000     -1.730   0.084     -0.002   \nnb_averses               0.7223      0.099      7.314   0.000      0.529   \nnp.log(distancemer)     -1.9619      0.225     -8.720   0.000     -2.403   \n\n                        0.975]       p-value Code  \nIntercept                4.055  4.856540e-14  ***  \nsaison[T.Hiver]          2.696  2.585804e-18  ***  \nsaison[T.Printemps]      3.454  1.208354e-28  ***  \nsaison[T.Été]            0.766  2.764735e-01       \ndistancemer              0.017  7.147529e-01       \naltitude                 0.000  8.355877e-02    .  \nnb_averses               0.916  2.599321e-13  ***  \nnp.log(distancemer)     -1.521  2.774341e-18  ***  ",
      "text/html": "<div>\n<style scoped>\n    .dataframe tbody tr th:only-of-type {\n        vertical-align: middle;\n    }\n\n    .dataframe tbody tr th {\n        vertical-align: top;\n    }\n\n    .dataframe thead th {\n        text-align: right;\n    }\n</style>\n<table border=\"1\" class=\"dataframe\">\n  <thead>\n    <tr style=\"text-align: right;\">\n      <th></th>\n      <th>coef</th>\n      <th>std err</th>\n      <th>z</th>\n      <th>P&gt;|z|</th>\n      <th>[0.025</th>\n      <th>0.975]</th>\n      <th>p-value</th>\n      <th>Code</th>\n    </tr>\n  </thead>\n  <tbody>\n    <tr>\n      <th>Intercept</th>\n      <td>3.2180</td>\n      <td>0.427</td>\n      <td>7.536</td>\n      <td>0.000</td>\n      <td>2.381</td>\n      <td>4.055</td>\n      <td>4.856540e-14</td>\n      <td>***</td>\n    </tr>\n    <tr>\n      <th>saison[T.Hiver]</th>\n      <td>2.2014</td>\n      <td>0.252</td>\n      <td>8.728</td>\n      <td>0.000</td>\n      <td>1.707</td>\n      <td>2.696</td>\n      <td>2.585804e-18</td>\n      <td>***</td>\n    </tr>\n    <tr>\n      <th>saison[T.Printemps]</th>\n      <td>2.9360</td>\n      <td>0.264</td>\n      <td>11.103</td>\n      <td>0.000</td>\n      <td>2.418</td>\n      <td>3.454</td>\n      <td>1.208354e-28</td>\n      <td>***</td>\n    </tr>\n    <tr>\n      <th>saison[T.Été]</th>\n      <td>0.2734</td>\n      <td>0.251</td>\n      <td>1.088</td>\n      <td>0.276</td>\n      <td>-0.219</td>\n      <td>0.766</td>\n      <td>2.764735e-01</td>\n      <td></td>\n    </tr>\n    <tr>\n      <th>distancemer</th>\n      <td>-0.0039</td>\n      <td>0.011</td>\n      <td>-0.365</td>\n      <td>0.715</td>\n      <td>-0.025</td>\n      <td>0.017</td>\n      <td>7.147529e-01</td>\n      <td></td>\n    </tr>\n    <tr>\n      <th>altitude</th>\n      <td>-0.0009</td>\n      <td>0.000</td>\n      <td>-1.730</td>\n      <td>0.084</td>\n      <td>-0.002</td>\n      <td>0.000</td>\n      <td>8.355877e-02</td>\n      <td>.</td>\n    </tr>\n    <tr>\n      <th>nb_averses</th>\n      <td>0.7223</td>\n      <td>0.099</td>\n      <td>7.314</td>\n      <td>0.000</td>\n      <td>0.529</td>\n      <td>0.916</td>\n      <td>2.599321e-13</td>\n      <td>***</td>\n    </tr>\n    <tr>\n      <th>np.log(distancemer)</th>\n      <td>-1.9619</td>\n      <td>0.225</td>\n      <td>-8.720</td>\n      <td>0.000</td>\n      <td>-2.403</td>\n      <td>-1.521</td>\n      <td>2.774341e-18</td>\n      <td>***</td>\n    </tr>\n  </tbody>\n</table>\n</div>"
     },
     "metadata": {},
     "output_type": "display_data"
    },
    {
     "data": {
      "text/plain": "<IPython.core.display.HTML object>",
      "text/html": "Signif. codes:  0 '***' 0.001 '**' 0.01 '*' 0.05 '.' 0.1 ' ' 1"
     },
     "metadata": {},
     "output_type": "display_data"
    },
    {
     "data": {
      "text/plain": "<IPython.core.display.HTML object>",
      "text/html": "AIC with 8 ddl = 1018.12"
     },
     "metadata": {},
     "output_type": "display_data"
    }
   ],
   "source": [
    "# Nous construisons un 'GLM' selon une distribution de Poisson\n",
    "glm_binom_3 = smf.glm('pluieLendemain ~ saison + distancemer + altitude + nb_averses + np.log(distancemer)', family = sm.families.Binomial(), data = train_set_lendemain).fit()\n",
    "\n",
    "# On affiche les informations générales pour le model de Poisson\n",
    "GLMsummary(glm_binom_3)"
   ]
  },
  {
   "cell_type": "code",
   "execution_count": 221,
   "metadata": {
    "ExecuteTime": {
     "end_time": "2024-01-10T09:59:26.206670300Z",
     "start_time": "2024-01-10T09:59:25.995467300Z"
    }
   },
   "outputs": [
    {
     "name": "stdout",
     "output_type": "stream",
     "text": [
      "Confusion Matrix on Train Set:\n",
      "[[835  84]\n",
      " [123 458]]\n",
      "Accuracy on Train Set: 86.20%\n",
      "\n",
      "Confusion Matrix on Test Set:\n",
      "[[267  25]\n",
      " [ 40 168]]\n",
      "Accuracy on Test Set: 87.00%\n"
     ]
    }
   ],
   "source": [
    "# Make predictions on the training set\n",
    "predicted_probabilities_train = glm_binom_3.predict(train_set_lendemain)\n",
    "\n",
    "# Convert predicted probabilities to binary predictions (e.g., 0 or 1) based on a threshold\n",
    "threshold = 0.5  # You can adjust the threshold based on your needs\n",
    "predicted_labels_train = (predicted_probabilities_train > threshold).astype(int)\n",
    "\n",
    "# Extract the actual labels from the training set\n",
    "actual_labels_train = train_set_lendemain['pluieLendemain']\n",
    "\n",
    "# Calculate confusion matrix on the training set\n",
    "confusion_matrix_train = confusion_matrix(actual_labels_train, predicted_labels_train)\n",
    "\n",
    "# Calculate accuracy on the training set\n",
    "accuracy_train = accuracy_score(actual_labels_train, predicted_labels_train)\n",
    "\n",
    "# Make predictions on the test set\n",
    "predicted_probabilities_test = glm_binom_3.predict(test_set_lendemain)\n",
    "\n",
    "# Convert predicted probabilities to binary predictions (e.g., 0 or 1) based on a threshold\n",
    "predicted_labels_test = (predicted_probabilities_test > threshold).astype(int)\n",
    "\n",
    "# Extract the actual labels from the test set\n",
    "actual_labels_test = test_set_lendemain['pluieLendemain']\n",
    "\n",
    "# Calculate confusion matrix on the test set\n",
    "confusion_matrix_test = confusion_matrix(actual_labels_test, predicted_labels_test)\n",
    "\n",
    "# Calculate accuracy on the test set\n",
    "accuracy_test = accuracy_score(actual_labels_test, predicted_labels_test)\n",
    "\n",
    "# Print confusion matrices and accuracy\n",
    "print(\"Confusion Matrix on Train Set:\")\n",
    "print(confusion_matrix_train)\n",
    "print(f'Accuracy on Train Set: {accuracy_train:.2%}')\n",
    "\n",
    "print(\"\\nConfusion Matrix on Test Set:\")\n",
    "print(confusion_matrix_test)\n",
    "print(f'Accuracy on Test Set: {accuracy_test:.2%}')"
   ]
  },
  {
   "cell_type": "code",
   "execution_count": 222,
   "metadata": {
    "ExecuteTime": {
     "end_time": "2024-01-10T10:00:13.413260100Z",
     "start_time": "2024-01-10T10:00:12.805778900Z"
    }
   },
   "outputs": [
    {
     "name": "stdout",
     "output_type": "stream",
     "text": [
      "Sensibilité (True Positive Rate) sur l'ensemble de test : 80.77%\n"
     ]
    }
   ],
   "source": [
    "# Calcul de la matrice de confusion sur l'ensemble de test\n",
    "true_positives_test = confusion_matrix_test[1, 1]  # Vrais Positifs\n",
    "false_negatives_test = confusion_matrix_test[1, 0]  # Faux Négatifs\n",
    "\n",
    "# Calcul de la sensibilité sur l'ensemble de test\n",
    "sensitivity_test = true_positives_test / (true_positives_test + false_negatives_test)\n",
    "\n",
    "# Afficher la sensibilité sur l'ensemble de test\n",
    "print(f'Sensibilité (True Positive Rate) sur l\\'ensemble de test : {sensitivity_test:.2%}')"
   ]
  },
  {
   "cell_type": "markdown",
   "source": [
    "## 6 - Une variable supplémentaire "
   ],
   "metadata": {
    "collapsed": false
   }
  },
  {
   "cell_type": "code",
   "execution_count": 227,
   "metadata": {
    "ExecuteTime": {
     "end_time": "2024-01-10T10:04:05.119974700Z",
     "start_time": "2024-01-10T10:04:04.737477600Z"
    }
   },
   "outputs": [
    {
     "data": {
      "text/plain": "      saison  distancemer    altitude vegetation    densite  nb_averses  \\\n0  Printemps    34.976541  396.592403    Moyenne  12.922438           2   \n1      Hiver     9.297704   87.792413      Dense   2.872035           2   \n2        Été    59.140881  446.247961       Rare   1.832342           0   \n3  Printemps    76.867984   99.219351     Faible  12.254776           0   \n4    Automne   130.059814  680.123481      Dense   9.196711           0   \n\n     volume  pluieLendemain classe  \n0  1.629064               1      3  \n1  1.902443               1      2  \n2  0.000000               0      3  \n3  0.000000               0      3  \n4  0.000000               0      3  ",
      "text/html": "<div>\n<style scoped>\n    .dataframe tbody tr th:only-of-type {\n        vertical-align: middle;\n    }\n\n    .dataframe tbody tr th {\n        vertical-align: top;\n    }\n\n    .dataframe thead th {\n        text-align: right;\n    }\n</style>\n<table border=\"1\" class=\"dataframe\">\n  <thead>\n    <tr style=\"text-align: right;\">\n      <th></th>\n      <th>saison</th>\n      <th>distancemer</th>\n      <th>altitude</th>\n      <th>vegetation</th>\n      <th>densite</th>\n      <th>nb_averses</th>\n      <th>volume</th>\n      <th>pluieLendemain</th>\n      <th>classe</th>\n    </tr>\n  </thead>\n  <tbody>\n    <tr>\n      <th>0</th>\n      <td>Printemps</td>\n      <td>34.976541</td>\n      <td>396.592403</td>\n      <td>Moyenne</td>\n      <td>12.922438</td>\n      <td>2</td>\n      <td>1.629064</td>\n      <td>1</td>\n      <td>3</td>\n    </tr>\n    <tr>\n      <th>1</th>\n      <td>Hiver</td>\n      <td>9.297704</td>\n      <td>87.792413</td>\n      <td>Dense</td>\n      <td>2.872035</td>\n      <td>2</td>\n      <td>1.902443</td>\n      <td>1</td>\n      <td>2</td>\n    </tr>\n    <tr>\n      <th>2</th>\n      <td>Été</td>\n      <td>59.140881</td>\n      <td>446.247961</td>\n      <td>Rare</td>\n      <td>1.832342</td>\n      <td>0</td>\n      <td>0.000000</td>\n      <td>0</td>\n      <td>3</td>\n    </tr>\n    <tr>\n      <th>3</th>\n      <td>Printemps</td>\n      <td>76.867984</td>\n      <td>99.219351</td>\n      <td>Faible</td>\n      <td>12.254776</td>\n      <td>0</td>\n      <td>0.000000</td>\n      <td>0</td>\n      <td>3</td>\n    </tr>\n    <tr>\n      <th>4</th>\n      <td>Automne</td>\n      <td>130.059814</td>\n      <td>680.123481</td>\n      <td>Dense</td>\n      <td>9.196711</td>\n      <td>0</td>\n      <td>0.000000</td>\n      <td>0</td>\n      <td>3</td>\n    </tr>\n  </tbody>\n</table>\n</div>"
     },
     "execution_count": 227,
     "metadata": {},
     "output_type": "execute_result"
    }
   ],
   "source": [
    "# Définir les conditions pour chaque classe\n",
    "conditions = [\n",
    "    (df['distancemer'] < 20) & (df['altitude'] < 20),\n",
    "    (df['distancemer'] < 20) & (df['altitude'] > 20),\n",
    "    (df['distancemer'] > 20)\n",
    "]\n",
    "\n",
    "# Définir les valeurs correspondantes pour chaque classe\n",
    "values = ['1', '2', '3']\n",
    "\n",
    "# Appliquer les conditions pour créer la variable \"classe\"\n",
    "df['classe'] = np.select(conditions, values, default='Autre')\n",
    "\n",
    "# Afficher les premières lignes du DataFrame avec la nouvelle variable\n",
    "df.head()"
   ]
  },
  {
   "cell_type": "code",
   "execution_count": 229,
   "outputs": [
    {
     "name": "stdout",
     "output_type": "stream",
     "text": [
      "<class 'pandas.core.frame.DataFrame'>\n",
      "RangeIndex: 2000 entries, 0 to 1999\n",
      "Data columns (total 9 columns):\n",
      " #   Column          Non-Null Count  Dtype   \n",
      "---  ------          --------------  -----   \n",
      " 0   saison          2000 non-null   object  \n",
      " 1   distancemer     2000 non-null   float64 \n",
      " 2   altitude        2000 non-null   float64 \n",
      " 3   vegetation      2000 non-null   object  \n",
      " 4   densite         2000 non-null   float64 \n",
      " 5   nb_averses      2000 non-null   int64   \n",
      " 6   volume          2000 non-null   float64 \n",
      " 7   pluieLendemain  2000 non-null   int64   \n",
      " 8   classe          2000 non-null   category\n",
      "dtypes: category(1), float64(4), int64(2), object(2)\n",
      "memory usage: 127.2+ KB\n"
     ]
    }
   ],
   "source": [
    "# On change en catégoriel\n",
    "df['classe'] = df['classe'].astype('category')\n",
    "\n",
    "# On observe les types\n",
    "df.info()"
   ],
   "metadata": {
    "collapsed": false,
    "ExecuteTime": {
     "end_time": "2024-01-10T10:05:51.235558500Z",
     "start_time": "2024-01-10T10:05:47.180465500Z"
    }
   }
  },
  {
   "cell_type": "code",
   "execution_count": 231,
   "metadata": {
    "ExecuteTime": {
     "end_time": "2024-01-10T10:07:25.525432200Z",
     "start_time": "2024-01-10T10:07:23.923212300Z"
    }
   },
   "outputs": [
    {
     "name": "stdout",
     "output_type": "stream",
     "text": [
      "Le nombre de lignes pour 'classe 3' est : 1025\n"
     ]
    }
   ],
   "source": [
    "# Utilisez value_counts() pour compter les occurrences de chaque classe\n",
    "counts = df['classe'].value_counts()\n",
    "\n",
    "# Accédez au nombre de lignes pour \"classe 3\"\n",
    "nombre_lignes_classe_3 = counts.get(\"3\", 0)\n",
    "\n",
    "# Affichez le nombre de lignes pour \"classe 3\"\n",
    "print(f\"Le nombre de lignes pour 'classe 3' est : {nombre_lignes_classe_3}\")"
   ]
  },
  {
   "cell_type": "code",
   "execution_count": 234,
   "outputs": [
    {
     "data": {
      "text/plain": "       saison  distancemer    altitude vegetation    densite  nb_averses  \\\n1346  Automne    33.742940  156.678476     Faible   6.459378           0   \n795   Automne    56.368599  902.176539      Dense   0.210902           0   \n745       Été    14.121846  180.622954     Faible  13.536040           2   \n71    Automne    70.950510  195.476760    Moyenne  17.803323           0   \n1495    Hiver    59.755064  267.811590       Rare   1.220745           0   \n\n        volume  pluieLendemain classe  \n1346  0.000000               0      3  \n795   0.000000               0      3  \n745   1.486943               1      2  \n71    0.000000               0      3  \n1495  0.000000               0      3  ",
      "text/html": "<div>\n<style scoped>\n    .dataframe tbody tr th:only-of-type {\n        vertical-align: middle;\n    }\n\n    .dataframe tbody tr th {\n        vertical-align: top;\n    }\n\n    .dataframe thead th {\n        text-align: right;\n    }\n</style>\n<table border=\"1\" class=\"dataframe\">\n  <thead>\n    <tr style=\"text-align: right;\">\n      <th></th>\n      <th>saison</th>\n      <th>distancemer</th>\n      <th>altitude</th>\n      <th>vegetation</th>\n      <th>densite</th>\n      <th>nb_averses</th>\n      <th>volume</th>\n      <th>pluieLendemain</th>\n      <th>classe</th>\n    </tr>\n  </thead>\n  <tbody>\n    <tr>\n      <th>1346</th>\n      <td>Automne</td>\n      <td>33.742940</td>\n      <td>156.678476</td>\n      <td>Faible</td>\n      <td>6.459378</td>\n      <td>0</td>\n      <td>0.000000</td>\n      <td>0</td>\n      <td>3</td>\n    </tr>\n    <tr>\n      <th>795</th>\n      <td>Automne</td>\n      <td>56.368599</td>\n      <td>902.176539</td>\n      <td>Dense</td>\n      <td>0.210902</td>\n      <td>0</td>\n      <td>0.000000</td>\n      <td>0</td>\n      <td>3</td>\n    </tr>\n    <tr>\n      <th>745</th>\n      <td>Été</td>\n      <td>14.121846</td>\n      <td>180.622954</td>\n      <td>Faible</td>\n      <td>13.536040</td>\n      <td>2</td>\n      <td>1.486943</td>\n      <td>1</td>\n      <td>2</td>\n    </tr>\n    <tr>\n      <th>71</th>\n      <td>Automne</td>\n      <td>70.950510</td>\n      <td>195.476760</td>\n      <td>Moyenne</td>\n      <td>17.803323</td>\n      <td>0</td>\n      <td>0.000000</td>\n      <td>0</td>\n      <td>3</td>\n    </tr>\n    <tr>\n      <th>1495</th>\n      <td>Hiver</td>\n      <td>59.755064</td>\n      <td>267.811590</td>\n      <td>Rare</td>\n      <td>1.220745</td>\n      <td>0</td>\n      <td>0.000000</td>\n      <td>0</td>\n      <td>3</td>\n    </tr>\n  </tbody>\n</table>\n</div>"
     },
     "execution_count": 234,
     "metadata": {},
     "output_type": "execute_result"
    }
   ],
   "source": [
    "# On split le jeu de données sous forme de 75% (train set) - 25% (test set), random_state = 2 : permet d'avoir des résultats reproductibles. Afin \n",
    "# de s'assurer que les résultats soient cohérents durant l'évaluation et durant votre correction, un facteur de reproductibilité est préférable...\n",
    "train_set_class, test_set_class = train_test_split(df, test_size=0.25, random_state=SEED)\n",
    "\n",
    "# On observe le train set\n",
    "train_set_class.head()"
   ],
   "metadata": {
    "collapsed": false,
    "ExecuteTime": {
     "end_time": "2024-01-10T10:14:34.523585400Z",
     "start_time": "2024-01-10T10:14:34.331128500Z"
    }
   }
  },
  {
   "cell_type": "code",
   "execution_count": 235,
   "metadata": {
    "ExecuteTime": {
     "end_time": "2024-01-10T10:16:44.983416Z",
     "start_time": "2024-01-10T10:16:44.663134300Z"
    }
   },
   "outputs": [
    {
     "data": {
      "text/plain": "<class 'statsmodels.iolib.table.SimpleTable'>",
      "text/html": "<table class=\"simpletable\">\n<caption>Generalized Linear Model Regression Results</caption>\n<tr>\n  <th>Dep. Variable:</th>    <td>pluieLendemain</td>  <th>  No. Observations:  </th>  <td>  2000</td> \n</tr>\n<tr>\n  <th>Model:</th>                  <td>GLM</td>       <th>  Df Residuals:      </th>  <td>  1992</td> \n</tr>\n<tr>\n  <th>Model Family:</th>        <td>Binomial</td>     <th>  Df Model:          </th>  <td>     7</td> \n</tr>\n<tr>\n  <th>Link Function:</th>         <td>Logit</td>      <th>  Scale:             </th> <td>  1.0000</td>\n</tr>\n<tr>\n  <th>Method:</th>                <td>IRLS</td>       <th>  Log-Likelihood:    </th> <td> -490.35</td>\n</tr>\n<tr>\n  <th>Date:</th>            <td>Wed, 10 Jan 2024</td> <th>  Deviance:          </th> <td>  980.70</td>\n</tr>\n<tr>\n  <th>Time:</th>                <td>11:16:44</td>     <th>  Pearson chi2:      </th> <td>7.70e+03</td>\n</tr>\n<tr>\n  <th>No. Iterations:</th>          <td>7</td>        <th>  Pseudo R-squ. (CS):</th>  <td>0.5730</td> \n</tr>\n<tr>\n  <th>Covariance Type:</th>     <td>nonrobust</td>    <th>                     </th>     <td> </td>   \n</tr>\n</table>",
      "text/latex": "\\begin{center}\n\\begin{tabular}{lclc}\n\\toprule\n\\textbf{Dep. Variable:}   &  pluieLendemain  & \\textbf{  No. Observations:  } &    2000   \\\\\n\\textbf{Model:}           &       GLM        & \\textbf{  Df Residuals:      } &    1992   \\\\\n\\textbf{Model Family:}    &     Binomial     & \\textbf{  Df Model:          } &       7   \\\\\n\\textbf{Link Function:}   &      Logit       & \\textbf{  Scale:             } &   1.0000  \\\\\n\\textbf{Method:}          &       IRLS       & \\textbf{  Log-Likelihood:    } &  -490.35  \\\\\n\\textbf{Date:}            & Wed, 10 Jan 2024 & \\textbf{  Deviance:          } &   980.70  \\\\\n\\textbf{Time:}            &     11:16:44     & \\textbf{  Pearson chi2:      } & 7.70e+03  \\\\\n\\textbf{No. Iterations:}  &        7         & \\textbf{  Pseudo R-squ. (CS):} &  0.5730   \\\\\n\\textbf{Covariance Type:} &    nonrobust     & \\textbf{                     } &           \\\\\n\\bottomrule\n\\end{tabular}\n%\\caption{Generalized Linear Model Regression Results}\n\\end{center}"
     },
     "metadata": {},
     "output_type": "display_data"
    },
    {
     "data": {
      "text/plain": "                           coef    std err          z   P>|z|     [0.025  \\\nIntercept                3.0755      0.379      8.104   0.000      2.332   \nsaison[T.Hiver]          3.4113      0.301     11.327   0.000      2.821   \nsaison[T.Printemps]      4.8175      0.356     13.550   0.000      4.121   \nsaison[T.Été]            0.0919      0.235      0.391   0.696     -0.369   \nclasse[T.2]             -3.3002      0.336     -9.831   0.000     -3.958   \nclasse[T.3]             -8.0057      0.515    -15.554   0.000     -9.015   \ndistancemer              0.0057      0.005      1.053   0.292     -0.005   \nnp.log(distancemer)     -0.3911      0.173     -2.262   0.024     -0.730   \n\n                        0.975]       p-value Code  \nIntercept                3.819  5.300855e-16  ***  \nsaison[T.Hiver]          4.002  9.693576e-30  ***  \nsaison[T.Printemps]      5.514  7.880784e-42  ***  \nsaison[T.Été]            0.553  6.958909e-01       \nclasse[T.2]             -2.642  8.298015e-23  ***  \nclasse[T.3]             -6.997  1.499176e-54  ***  \ndistancemer              0.016  2.922299e-01       \nnp.log(distancemer)     -0.052  2.369811e-02    *  ",
      "text/html": "<div>\n<style scoped>\n    .dataframe tbody tr th:only-of-type {\n        vertical-align: middle;\n    }\n\n    .dataframe tbody tr th {\n        vertical-align: top;\n    }\n\n    .dataframe thead th {\n        text-align: right;\n    }\n</style>\n<table border=\"1\" class=\"dataframe\">\n  <thead>\n    <tr style=\"text-align: right;\">\n      <th></th>\n      <th>coef</th>\n      <th>std err</th>\n      <th>z</th>\n      <th>P&gt;|z|</th>\n      <th>[0.025</th>\n      <th>0.975]</th>\n      <th>p-value</th>\n      <th>Code</th>\n    </tr>\n  </thead>\n  <tbody>\n    <tr>\n      <th>Intercept</th>\n      <td>3.0755</td>\n      <td>0.379</td>\n      <td>8.104</td>\n      <td>0.000</td>\n      <td>2.332</td>\n      <td>3.819</td>\n      <td>5.300855e-16</td>\n      <td>***</td>\n    </tr>\n    <tr>\n      <th>saison[T.Hiver]</th>\n      <td>3.4113</td>\n      <td>0.301</td>\n      <td>11.327</td>\n      <td>0.000</td>\n      <td>2.821</td>\n      <td>4.002</td>\n      <td>9.693576e-30</td>\n      <td>***</td>\n    </tr>\n    <tr>\n      <th>saison[T.Printemps]</th>\n      <td>4.8175</td>\n      <td>0.356</td>\n      <td>13.550</td>\n      <td>0.000</td>\n      <td>4.121</td>\n      <td>5.514</td>\n      <td>7.880784e-42</td>\n      <td>***</td>\n    </tr>\n    <tr>\n      <th>saison[T.Été]</th>\n      <td>0.0919</td>\n      <td>0.235</td>\n      <td>0.391</td>\n      <td>0.696</td>\n      <td>-0.369</td>\n      <td>0.553</td>\n      <td>6.958909e-01</td>\n      <td></td>\n    </tr>\n    <tr>\n      <th>classe[T.2]</th>\n      <td>-3.3002</td>\n      <td>0.336</td>\n      <td>-9.831</td>\n      <td>0.000</td>\n      <td>-3.958</td>\n      <td>-2.642</td>\n      <td>8.298015e-23</td>\n      <td>***</td>\n    </tr>\n    <tr>\n      <th>classe[T.3]</th>\n      <td>-8.0057</td>\n      <td>0.515</td>\n      <td>-15.554</td>\n      <td>0.000</td>\n      <td>-9.015</td>\n      <td>-6.997</td>\n      <td>1.499176e-54</td>\n      <td>***</td>\n    </tr>\n    <tr>\n      <th>distancemer</th>\n      <td>0.0057</td>\n      <td>0.005</td>\n      <td>1.053</td>\n      <td>0.292</td>\n      <td>-0.005</td>\n      <td>0.016</td>\n      <td>2.922299e-01</td>\n      <td></td>\n    </tr>\n    <tr>\n      <th>np.log(distancemer)</th>\n      <td>-0.3911</td>\n      <td>0.173</td>\n      <td>-2.262</td>\n      <td>0.024</td>\n      <td>-0.730</td>\n      <td>-0.052</td>\n      <td>2.369811e-02</td>\n      <td>*</td>\n    </tr>\n  </tbody>\n</table>\n</div>"
     },
     "metadata": {},
     "output_type": "display_data"
    },
    {
     "data": {
      "text/plain": "<IPython.core.display.HTML object>",
      "text/html": "Signif. codes:  0 '***' 0.001 '**' 0.01 '*' 0.05 '.' 0.1 ' ' 1"
     },
     "metadata": {},
     "output_type": "display_data"
    },
    {
     "data": {
      "text/plain": "<IPython.core.display.HTML object>",
      "text/html": "AIC with 8 ddl = 996.70"
     },
     "metadata": {},
     "output_type": "display_data"
    }
   ],
   "source": [
    "# Nous construisons un 'GLM' selon une distribution de Poisson\n",
    "glm_binom_4 = smf.glm('pluieLendemain ~ saison + distancemer + np.log(distancemer) + classe', family = sm.families.Binomial(), data = df).fit()\n",
    "\n",
    "# On affiche les informations générales pour le model de Poisson\n",
    "GLMsummary(glm_binom_4)"
   ]
  },
  {
   "cell_type": "code",
   "execution_count": 236,
   "metadata": {
    "ExecuteTime": {
     "end_time": "2024-01-10T10:19:36.031990300Z",
     "start_time": "2024-01-10T10:19:35.762950100Z"
    }
   },
   "outputs": [
    {
     "name": "stdout",
     "output_type": "stream",
     "text": [
      "Confusion Matrix on Train Set:\n",
      "[[905  14]\n",
      " [102 479]]\n",
      "Accuracy on Train Set: 92.27%\n",
      "\n",
      "Confusion Matrix on Test Set:\n",
      "[[287   5]\n",
      " [ 41 167]]\n",
      "Accuracy on Test Set: 90.80%\n"
     ]
    }
   ],
   "source": [
    "# Make predictions on the training set\n",
    "predicted_probabilities_train = glm_binom_4.predict(train_set_class)\n",
    "\n",
    "# Convert predicted probabilities to binary predictions (e.g., 0 or 1) based on a threshold\n",
    "threshold = 0.5  # You can adjust the threshold based on your needs\n",
    "predicted_labels_train = (predicted_probabilities_train > threshold).astype(int)\n",
    "\n",
    "# Extract the actual labels from the training set\n",
    "actual_labels_train = train_set_class['pluieLendemain']\n",
    "\n",
    "# Calculate confusion matrix on the training set\n",
    "confusion_matrix_train = confusion_matrix(actual_labels_train, predicted_labels_train)\n",
    "\n",
    "# Calculate accuracy on the training set\n",
    "accuracy_train = accuracy_score(actual_labels_train, predicted_labels_train)\n",
    "\n",
    "# Make predictions on the test set\n",
    "predicted_probabilities_test = glm_binom_4.predict(test_set_class)\n",
    "\n",
    "# Convert predicted probabilities to binary predictions (e.g., 0 or 1) based on a threshold\n",
    "predicted_labels_test = (predicted_probabilities_test > threshold).astype(int)\n",
    "\n",
    "# Extract the actual labels from the test set\n",
    "actual_labels_test = test_set_class['pluieLendemain']\n",
    "\n",
    "# Calculate confusion matrix on the test set\n",
    "confusion_matrix_test = confusion_matrix(actual_labels_test, predicted_labels_test)\n",
    "\n",
    "# Calculate accuracy on the test set\n",
    "accuracy_test = accuracy_score(actual_labels_test, predicted_labels_test)\n",
    "\n",
    "# Print confusion matrices and accuracy\n",
    "print(\"Confusion Matrix on Train Set:\")\n",
    "print(confusion_matrix_train)\n",
    "print(f'Accuracy on Train Set: {accuracy_train:.2%}')\n",
    "\n",
    "print(\"\\nConfusion Matrix on Test Set:\")\n",
    "print(confusion_matrix_test)\n",
    "print(f'Accuracy on Test Set: {accuracy_test:.2%}')"
   ]
  },
  {
   "cell_type": "code",
   "execution_count": 237,
   "metadata": {
    "ExecuteTime": {
     "end_time": "2024-01-10T10:20:08.840803500Z",
     "start_time": "2024-01-10T10:20:08.645963700Z"
    }
   },
   "outputs": [
    {
     "name": "stdout",
     "output_type": "stream",
     "text": [
      "Sensibilité (True Positive Rate) sur l'ensemble de test : 80.29%\n"
     ]
    }
   ],
   "source": [
    "# Calcul de la matrice de confusion sur l'ensemble de test\n",
    "true_positives_test = confusion_matrix_test[1, 1]  # Vrais Positifs\n",
    "false_negatives_test = confusion_matrix_test[1, 0]  # Faux Négatifs\n",
    "\n",
    "# Calcul de la sensibilité sur l'ensemble de test\n",
    "sensitivity_test = true_positives_test / (true_positives_test + false_negatives_test)\n",
    "\n",
    "# Afficher la sensibilité sur l'ensemble de test\n",
    "print(f'Sensibilité (True Positive Rate) sur l\\'ensemble de test : {sensitivity_test:.2%}')"
   ]
  },
  {
   "cell_type": "markdown",
   "source": [
    "## 7 - Bootstrap"
   ],
   "metadata": {
    "collapsed": false
   }
  },
  {
   "cell_type": "code",
   "execution_count": null,
   "metadata": {
    "ExecuteTime": {
     "start_time": "2024-01-10T07:56:36.223695200Z"
    }
   },
   "outputs": [],
   "source": []
  },
  {
   "cell_type": "code",
   "execution_count": null,
   "metadata": {
    "ExecuteTime": {
     "start_time": "2024-01-10T07:56:36.228700400Z"
    }
   },
   "outputs": [],
   "source": [
    "from sklearn.linear_model import LinearRegression\n",
    "\n",
    "train = df.iloc[:3000, :]\n",
    "test = df.iloc[3000:4500, :]\n",
    "\n",
    "X_train = train.drop(columns=[\"r\"])\n",
    "y_train = train[\"r\"]\n",
    "X_test = test.drop(columns=[\"r\"])\n",
    "y_test = test[\"r\"]\n",
    "\n",
    "model_b = LinearRegression()\n",
    "model_b.fit(X_train, y_train)\n",
    "\n",
    "y_pred_b = model_b.predict(X_test)\n",
    "mse_squared_b = mean_squared_error(y_test, y_pred_b)\n",
    "mse_squared_b"
   ]
  },
  {
   "cell_type": "code",
   "execution_count": null,
   "metadata": {
    "ExecuteTime": {
     "start_time": "2024-01-10T07:56:36.232702800Z"
    }
   },
   "outputs": [],
   "source": [
    "I = np.random.choice(df.shape[0], size=df.shape[0], )  # Choix des index"
   ]
  },
  {
   "cell_type": "code",
   "execution_count": null,
   "metadata": {
    "ExecuteTime": {
     "start_time": "2024-01-10T07:56:36.235706500Z"
    }
   },
   "outputs": [],
   "source": [
    "test = df.iloc[~I, :]\n",
    "test"
   ]
  },
  {
   "cell_type": "code",
   "execution_count": null,
   "metadata": {
    "ExecuteTime": {
     "start_time": "2024-01-10T07:56:36.239703800Z"
    }
   },
   "outputs": [],
   "source": [
    "import pandas as pd\n",
    "import numpy as np\n",
    "import seaborn as sns\n",
    "import matplotlib.pyplot as plt\n",
    "from sklearn.model_selection import train_test_split\n",
    "from sklearn.linear_model import LogisticRegression\n",
    "from sklearn.linear_model import LinearRegression\n",
    "from sklearn.metrics import accuracy_score, confusion_matrix\n",
    "from sklearn.model_selection import cross_val_score\n",
    "\n",
    "from GLMRegression_in_Python_like_in_R import GLMsummary, glm_residplot\n",
    "from LinearRegression_in_Python_like_in_R import lm, summary, vif\n",
    "import statsmodels.api as sm\n",
    "import statsmodels.formula.api as smf\n",
    "from sklearn.metrics import accuracy_score, mean_squared_error\n",
    "from sklearn.cluster import KMeans"
   ]
  },
  {
   "cell_type": "code",
   "execution_count": null,
   "metadata": {
    "ExecuteTime": {
     "start_time": "2024-01-10T07:56:36.244171100Z"
    }
   },
   "outputs": [],
   "source": [
    "def bootfn(data, index):\n",
    "    train = data.iloc[index, :]\n",
    "    test = data.iloc[~index, :]\n",
    "    X_train = train.drop(columns=[\"r\"])\n",
    "    y_train = train[\"r\"]\n",
    "    X_test = test.drop(columns=[\"r\"])\n",
    "    y_test = test[\"r\"]\n",
    "    model_b = LinearRegression().fit(X_train, y_train)\n",
    "    y_pred_test = model_b.predict(X_test)\n",
    "    score=model.score(y_test, y_pred_test)\n",
    "    confusion_bootstrap = confusion_matrix(y_test, y_pred_test)\n",
    "    false_positive_rate_bootstrap = 1-(confusion_bootstrap[0][0] / confusion_bootstrap[0].sum())\n",
    "    \n",
    "    return score, false_positive_rate_bootstrap\n",
    "\n",
    "\n",
    "\n",
    "B = 200\n",
    "\n",
    "for b in range(B):\n",
    "    I = np.random.choice(df.shape[0], size=df.shape[0], )  # Choix des index\n",
    "    score_bootstrap, false_positive_rate_bootstrap = bootfn(df, I)\n",
    "    bootstrap_scores.append(score_bootstrap)\n",
    "    bootstrap_false_positive_rates.append(false_positive_rate_bootstrap)\n"
   ]
  },
  {
   "cell_type": "code",
   "execution_count": null,
   "metadata": {
    "ExecuteTime": {
     "start_time": "2024-01-10T07:56:36.248169500Z"
    }
   },
   "outputs": [],
   "source": [
    "# Nombre d'itérations bootstrap (B)\n",
    "B = 200\n",
    "\n",
    "# Initialiser les listes pour stocker les scores et taux de faux positifs\n",
    "bootstrap_scores = []\n",
    "bootstrap_false_positive_rates = []\n",
    "\n",
    "# Boucle bootstrap\n",
    "for _ in range(B):\n",
    "    # Ré-échantillonnage avec remplacement pour créer un nouvel ensemble d'apprentissage\n",
    "    bootstrap_train = train.sample(n=len(train), replace=True)\n",
    "\n",
    "    # Séparation des données en variables explicatives (X) et variable cible (y) pour le nouvel ensemble\n",
    "    X_bootstrap_train = bootstrap_train.drop(['r', 'km_labels'], axis=1)\n",
    "    y_bootstrap_train = bootstrap_train['r']\n",
    "\n",
    "    # Création et entraînement d'un modèle de régression logistique sur le nouvel ensemble\n",
    "    model = LogisticRegression(random_state=42)\n",
    "    model.fit(X_bootstrap_train, y_bootstrap_train)\n",
    "\n",
    "    # Prédiction sur la base de test inchangée\n",
    "    y_pred_test = model.predict(test.drop(['r', 'km_labels'], axis=1))\n",
    "\n",
    "    # Calculer le score et la matrice de confusion pour le bootstrap actuel\n",
    "    score_bootstrap = accuracy_score(test['r'], y_pred_test)\n",
    "    confusion_bootstrap = confusion_matrix(test['r'], y_pred_test)\n",
    "\n",
    "    # Calculer le taux de faux positifs pour le bootstrap actuel\n",
    "    false_positive_rate_bootstrap = 1-(confusion_bootstrap[0][0] / confusion_bootstrap[0].sum())\n",
    "\n",
    "    # Stocker les résultats dans les listes\n",
    "    bootstrap_scores.append(score_bootstrap)\n",
    "    bootstrap_false_positive_rates.append(false_positive_rate_bootstrap)\n"
   ]
  },
  {
   "cell_type": "code",
   "execution_count": null,
   "metadata": {
    "ExecuteTime": {
     "start_time": "2024-01-10T07:56:36.251173400Z"
    }
   },
   "outputs": [],
   "source": [
    "# Calculer les moyennes et intervalles de confiance correspondants\n",
    "mean_score = np.mean(bootstrap_scores)\n",
    "mean_false_positive_rate = np.mean(bootstrap_false_positive_rates)"
   ]
  },
  {
   "cell_type": "code",
   "execution_count": null,
   "metadata": {
    "ExecuteTime": {
     "start_time": "2024-01-10T07:56:36.255170400Z"
    }
   },
   "outputs": [],
   "source": [
    "mean_score"
   ]
  },
  {
   "cell_type": "code",
   "execution_count": null,
   "metadata": {
    "ExecuteTime": {
     "start_time": "2024-01-10T07:56:36.259168100Z"
    }
   },
   "outputs": [],
   "source": [
    "mean_false_positive_rate"
   ]
  }
 ],
 "metadata": {
  "hide_input": false,
  "kernelspec": {
   "display_name": "Python 3 (ipykernel)",
   "language": "python",
   "name": "python3"
  },
  "language_info": {
   "codemirror_mode": {
    "name": "ipython",
    "version": 3
   },
   "file_extension": ".py",
   "mimetype": "text/x-python",
   "name": "python",
   "nbconvert_exporter": "python",
   "pygments_lexer": "ipython3",
   "version": "3.9.13"
  },
  "latex_envs": {
   "LaTeX_envs_menu_present": true,
   "autoclose": false,
   "autocomplete": true,
   "bibliofile": "latex_bib.bib",
   "cite_by": "apalike",
   "current_citInitial": 1,
   "eqLabelWithNumbers": true,
   "eqNumInitial": 1,
   "hotkeys": {
    "equation": "ctrl-e",
    "itemize": "Ctrl-I"
   },
   "labels_anchors": false,
   "latex_user_defs": false,
   "report_style_numbering": false,
   "user_envs_cfg": false
  },
  "nbTranslate": {
   "displayLangs": [
    "*"
   ],
   "hotkey": "alt-t",
   "langInMainMenu": true,
   "sourceLang": "en",
   "targetLang": "fr",
   "useGoogleTranslate": true
  },
  "pyVarInspector": {
   "cols": {
    "lenName": 16,
    "lenType": 16,
    "lenVar": 40
   },
   "types_to_exclude": [
    "module",
    "function",
    "builtin_function_or_method",
    "instance",
    "_Feature"
   ],
   "window_display": false
  },
  "toc": {
   "base_numbering": "1",
   "nav_menu": {},
   "number_sections": false,
   "sideBar": false,
   "skip_h1_title": false,
   "title_cell": "Table of Contents",
   "title_sidebar": "Contents",
   "toc_cell": false,
   "toc_position": {},
   "toc_section_display": true,
   "toc_window_display": false
  },
  "varInspector": {
   "cols": {
    "lenName": 16,
    "lenType": 16,
    "lenVar": 40
   },
   "kernels_config": {
    "python": {
     "delete_cmd_postfix": "",
     "delete_cmd_prefix": "del ",
     "library": "var_list.py",
     "varRefreshCmd": "print(var_dic_list())"
    },
    "r": {
     "delete_cmd_postfix": ") ",
     "delete_cmd_prefix": "rm(",
     "library": "var_list.r",
     "varRefreshCmd": "cat(var_dic_list()) "
    }
   },
   "types_to_exclude": [
    "module",
    "function",
    "builtin_function_or_method",
    "instance",
    "_Feature"
   ],
   "window_display": false
  }
 },
 "nbformat": 4,
 "nbformat_minor": 2
}
