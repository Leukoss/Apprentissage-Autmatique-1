{
 "cells": [
  {
   "cell_type": "markdown",
   "metadata": {
    "toc": "true"
   },
   "source": [
    "<h1>Table of Contents<span class=\"tocSkip\"></span></h1>\n",
    "<div class=\"toc\"><ul class=\"toc-item\"><li><span><a href=\"#Analyse-des-performances-sur-les-données-de-Auto-Data-Set\" data-toc-modified-id=\"Analyse-des-performances-sur-les-données-de-Auto-Data-Set-1\"><span class=\"toc-item-num\">1&nbsp;&nbsp;</span>Analyse des performances sur les données de <em>Auto Data Set</em></a></span><ul class=\"toc-item\"><li><span><a href=\"#Utilisation-d'un-ensemble-de-validation---Train/test-split\" data-toc-modified-id=\"Utilisation-d'un-ensemble-de-validation---Train/test-split-1.1\"><span class=\"toc-item-num\">1.1&nbsp;&nbsp;</span>Utilisation d'un ensemble de validation - Train/test split</a></span></li><li><span><a href=\"#Utilisation-de-la-validation-croisée\" data-toc-modified-id=\"Utilisation-de-la-validation-croisée-1.2\"><span class=\"toc-item-num\">1.2&nbsp;&nbsp;</span>Utilisation de la validation croisée</a></span></li></ul></li><li><span><a href=\"#Utilisation-du-bootstrap-sur-les-données-Porfolio\" data-toc-modified-id=\"Utilisation-du-bootstrap-sur-les-données-Porfolio-2\"><span class=\"toc-item-num\">2&nbsp;&nbsp;</span>Utilisation du bootstrap sur les données <em>Porfolio</em></a></span></li><li><span><a href=\"#Estimation-des-performances-d'un-modèle-de-régression-linéaire\" data-toc-modified-id=\"Estimation-des-performances-d'un-modèle-de-régression-linéaire-3\"><span class=\"toc-item-num\">3&nbsp;&nbsp;</span>Estimation des performances d'un modèle de régression linéaire</a></span></li><li><span><a href=\"#Exercices-supplémentaires-[optionnels!]---Validation-sur-la-base-Default\" data-toc-modified-id=\"Exercices-supplémentaires-[optionnels!]---Validation-sur-la-base-Default-4\"><span class=\"toc-item-num\">4&nbsp;&nbsp;</span>Exercices supplémentaires [optionnels!] - Validation sur la base <code>Default</code></a></span><ul class=\"toc-item\"><li><span><a href=\"#Modèle\" data-toc-modified-id=\"Modèle-4.1\"><span class=\"toc-item-num\">4.1&nbsp;&nbsp;</span>Modèle</a></span></li><li><span><a href=\"#Erreur-de-prédiction-par-validation.\" data-toc-modified-id=\"Erreur-de-prédiction-par-validation.-4.2\"><span class=\"toc-item-num\">4.2&nbsp;&nbsp;</span>Erreur de prédiction par validation.</a></span></li><li><span><a href=\"#Recommencer\" data-toc-modified-id=\"Recommencer-4.3\"><span class=\"toc-item-num\">4.3&nbsp;&nbsp;</span>Recommencer</a></span></li><li><span><a href=\"#Pertinence-d'une-nouvelle-variable----Validation\" data-toc-modified-id=\"Pertinence-d'une-nouvelle-variable----Validation-4.4\"><span class=\"toc-item-num\">4.4&nbsp;&nbsp;</span>Pertinence d'une nouvelle variable -- Validation</a></span></li><li><span><a href=\"#Pertinence-d'une-nouvelle-variable----Validation-croisée\" data-toc-modified-id=\"Pertinence-d'une-nouvelle-variable----Validation-croisée-4.5\"><span class=\"toc-item-num\">4.5&nbsp;&nbsp;</span>Pertinence d'une nouvelle variable -- Validation croisée</a></span></li><li><span><a href=\"#Estimées-des-erreurs-standard-par-Bootstrap\" data-toc-modified-id=\"Estimées-des-erreurs-standard-par-Bootstrap-4.6\"><span class=\"toc-item-num\">4.6&nbsp;&nbsp;</span>Estimées des erreurs standard par Bootstrap</a></span><ul class=\"toc-item\"><li><span><a href=\"#Direct\" data-toc-modified-id=\"Direct-4.6.1\"><span class=\"toc-item-num\">4.6.1&nbsp;&nbsp;</span>Direct</a></span></li><li><span><a href=\"#Par-bootstrap\" data-toc-modified-id=\"Par-bootstrap-4.6.2\"><span class=\"toc-item-num\">4.6.2&nbsp;&nbsp;</span>Par bootstrap</a></span></li></ul></li></ul></li></ul></div>"
   ]
  },
  {
   "cell_type": "markdown",
   "metadata": {},
   "source": [
    "Les exercices proposés dans cette séance de travaux pratiques sont adaptés de notre [livre de référence](http://www-bcf.usc.edu/~gareth/ISL/), chapitre 5, pp. 190-197 ainsi que des exercices plus avancés pp 199-201. "
   ]
  },
  {
   "cell_type": "markdown",
   "metadata": {},
   "source": [
    "Avant de vous lancer, vous installerez las packages utiles en lançant, sous R:\n",
    "```r\n",
    "install.packages(\"ISLR\")\n",
    "install.packages(\"boot\")\n",
    "```"
   ]
  },
  {
   "cell_type": "code",
   "execution_count": 32,
   "metadata": {},
   "outputs": [
    {
     "name": "stderr",
     "output_type": "stream",
     "text": [
      "Installing package into ‘/home/bercherj/R/x86_64-pc-linux-gnu-library/4.0’\n",
      "(as ‘lib’ is unspecified)\n",
      "\n",
      "Installing package into ‘/home/bercherj/R/x86_64-pc-linux-gnu-library/4.0’\n",
      "(as ‘lib’ is unspecified)\n",
      "\n"
     ]
    }
   ],
   "source": [
    "install.packages(\"ISLR\")\n",
    "install.packages(\"boot\")"
   ]
  },
  {
   "cell_type": "markdown",
   "metadata": {},
   "source": [
    "# Analyse des performances sur les données de *Auto Data Set*"
   ]
  },
  {
   "cell_type": "markdown",
   "metadata": {},
   "source": [
    "On utilisera à nouveau les données `Auto`. Vous obtiendrez la description des variables par `?Auto`. "
   ]
  },
  {
   "cell_type": "markdown",
   "metadata": {},
   "source": [
    "## Utilisation d'un ensemble de validation - Train/test split"
   ]
  },
  {
   "cell_type": "markdown",
   "metadata": {},
   "source": [
    "Vous explorerez l'utilisation d'un ensemble de validation pour estimer l'erreur de prédiction pour différents modèles de régression ajustés sur les données `Auto`. \n",
    "\n",
    "1) Pour commencer, il faut donc définir un ensemble d'apprentissage et un ensemble de validation. Vous utiliserez pour ce faire la fonction `sample`. "
   ]
  },
  {
   "cell_type": "markdown",
   "metadata": {},
   "source": [
    "- Charger le module ISLR\n",
    "- Choisir un seed pour le générateur aléatoire\n",
    "- Sélectionner aléatoirement 50% des indices de `Auto` afin de former l'ensemble d'apprentissage ; vous noterez par exemple train ces indices\n"
   ]
  },
  {
   "cell_type": "code",
   "execution_count": 33,
   "metadata": {},
   "outputs": [],
   "source": [
    "library(ISLR)\n",
    "set.seed(12)\n",
    "train = sample(nrow(Auto), size = nrow(Auto)/2)\n",
    "Train = Auto[train, ]  #On peut définir directement les deux ensembles, ou se servir d'un subset dans la suite\n",
    "Test = Auto[-train, ]"
   ]
  },
  {
   "cell_type": "markdown",
   "metadata": {},
   "source": [
    "2) Vous effectuerez ensuite une régression de `mpg` sur `horsepower`, en envisageant des régressions polynomiales, pour des degrés allant de 1 à 4. Fonction `lm`\n",
    "\n",
    "- pour chacun des degrés de polynôme, \n",
    "  - effectuer une régression avec le dataset Auto, **sur l'ensemble d'apprentissage** sélectionné question 1)\n",
    "  - tester les performances **sur la base de test** en calculant la moyenne de l'écart quadratique entre `mpg` et la valeur prédite. Fonction `predict`\n",
    "- tracer le résultat et/ou imprimer les performances obtenues\n",
    "- Effectuer l'ensemble de la procédure pour différentes valeurs de seed, c'est-à-dire différents splits training/validation\n",
    "- Quel degré faudrait-il adopter au vu de ces résultats, que penser de la stabilité des différentes estimées de l'erreur de prédiction ?"
   ]
  },
  {
   "cell_type": "markdown",
   "metadata": {},
   "source": [
    "Voici d'abord une solution \"brute-force\""
   ]
  },
  {
   "cell_type": "code",
   "execution_count": 34,
   "metadata": {},
   "outputs": [
    {
     "data": {
      "text/html": [
       "23.2660086465003"
      ],
      "text/latex": [
       "23.2660086465003"
      ],
      "text/markdown": [
       "23.2660086465003"
      ],
      "text/plain": [
       "[1] 23.26601"
      ]
     },
     "metadata": {},
     "output_type": "display_data"
    },
    {
     "data": {
      "text/html": [
       "18.7164594933828"
      ],
      "text/latex": [
       "18.7164594933828"
      ],
      "text/markdown": [
       "18.7164594933828"
      ],
      "text/plain": [
       "[1] 18.71646"
      ]
     },
     "metadata": {},
     "output_type": "display_data"
    },
    {
     "data": {
      "text/html": [
       "18.7940067973945"
      ],
      "text/latex": [
       "18.7940067973945"
      ],
      "text/markdown": [
       "18.7940067973945"
      ],
      "text/plain": [
       "[1] 18.79401"
      ]
     },
     "metadata": {},
     "output_type": "display_data"
    },
    {
     "data": {
      "text/html": [
       "25.7265106448139"
      ],
      "text/latex": [
       "25.7265106448139"
      ],
      "text/markdown": [
       "25.7265106448139"
      ],
      "text/plain": [
       "[1] 25.72651"
      ]
     },
     "metadata": {},
     "output_type": "display_data"
    },
    {
     "data": {
      "text/html": [
       "20.4303642741463"
      ],
      "text/latex": [
       "20.4303642741463"
      ],
      "text/markdown": [
       "20.4303642741463"
      ],
      "text/plain": [
       "[1] 20.43036"
      ]
     },
     "metadata": {},
     "output_type": "display_data"
    },
    {
     "data": {
      "text/html": [
       "20.3853268638776"
      ],
      "text/latex": [
       "20.3853268638776"
      ],
      "text/markdown": [
       "20.3853268638776"
      ],
      "text/plain": [
       "[1] 20.38533"
      ]
     },
     "metadata": {},
     "output_type": "display_data"
    }
   ],
   "source": [
    "library(ISLR)\n",
    "set.seed(1)\n",
    "train=sample(392,196)\n",
    "\n",
    "lm.fit=lm(mpg~horsepower,data=Auto,subset=train)\n",
    "attach(Auto)\n",
    "mean((mpg-predict(lm.fit,Auto))[-train]^2)\n",
    "\n",
    "lm.fit2=lm(mpg~poly(horsepower,2),data=Auto,subset=train)\n",
    "mean((mpg-predict(lm.fit2,Auto))[-train]^2)\n",
    "\n",
    "lm.fit3=lm(mpg~poly(horsepower,3),data=Auto,subset=train)\n",
    "mean((mpg-predict(lm.fit3,Auto))[-train]^2)\n",
    "\n",
    "set.seed(2)\n",
    "train=sample(392,196)\n",
    "lm.fit=lm(mpg~horsepower,data=Auto,subset=train)\n",
    "mean((mpg-predict(lm.fit,Auto))[-train]^2)\n",
    "\n",
    "lm.fit2=lm(mpg~poly(horsepower,2),data=Auto,subset=train)\n",
    "mean((mpg-predict(lm.fit2,Auto))[-train]^2)\n",
    "\n",
    "lm.fit3=lm(mpg~poly(horsepower,3),data=Auto,subset=train)\n",
    "mean((mpg-predict(lm.fit3,Auto))[-train]^2)"
   ]
  },
  {
   "cell_type": "markdown",
   "metadata": {},
   "source": [
    "On évite de répéter les opérations sur les différents degrés"
   ]
  },
  {
   "cell_type": "code",
   "execution_count": 35,
   "metadata": {},
   "outputs": [
    {
     "data": {
      "text/html": [
       "<style>\n",
       ".list-inline {list-style: none; margin:0; padding: 0}\n",
       ".list-inline>li {display: inline-block}\n",
       ".list-inline>li:not(:last-child)::after {content: \"\\00b7\"; padding: 0 .5ex}\n",
       "</style>\n",
       "<ol class=list-inline><li>25.7265106448139</li><li>20.4303642741463</li><li>20.3853268638776</li><li>20.3090205440697</li><li>19.7968865922649</li></ol>\n"
      ],
      "text/latex": [
       "\\begin{enumerate*}\n",
       "\\item 25.7265106448139\n",
       "\\item 20.4303642741463\n",
       "\\item 20.3853268638776\n",
       "\\item 20.3090205440697\n",
       "\\item 19.7968865922649\n",
       "\\end{enumerate*}\n"
      ],
      "text/markdown": [
       "1. 25.7265106448139\n",
       "2. 20.4303642741463\n",
       "3. 20.3853268638776\n",
       "4. 20.3090205440697\n",
       "5. 19.7968865922649\n",
       "\n",
       "\n"
      ],
      "text/plain": [
       "[1] 25.72651 20.43036 20.38533 20.30902 19.79689"
      ]
     },
     "metadata": {},
     "output_type": "display_data"
    }
   ],
   "source": [
    "perf = c()\n",
    "# Pour une expérience donnée, boucle sur les degrés\n",
    "for (degree in 1:5) {\n",
    "    lm.fit = lm(mpg ~ poly(horsepower, degree), data = Auto, subset = train)\n",
    "    perf[degree] = mean((Auto$mpg - predict(lm.fit, Auto))[-train]^2)\n",
    "}\n",
    "perf"
   ]
  },
  {
   "cell_type": "markdown",
   "metadata": {},
   "source": [
    "On évite de répéteraussi sur les seeds"
   ]
  },
  {
   "cell_type": "code",
   "execution_count": 36,
   "metadata": {},
   "outputs": [
    {
     "data": {
      "image/png": "[encoded data removed]",
      "text/plain": [
       "plot without title"
      ]
     },
     "metadata": {
      "image/png": {
       "height": 420,
       "width": 420
      }
     },
     "output_type": "display_data"
    },
    {
     "data": {
      "image/png": "[encoded data removed]",
      "text/plain": [
       "plot without title"
      ]
     },
     "metadata": {
      "image/png": {
       "height": 420,
       "width": 420
      }
     },
     "output_type": "display_data"
    }
   ],
   "source": [
    "# On boucle en plus sur différents splits training/validation\n",
    "maxtries = 30\n",
    "perf.mean = c(rep(0, 10))\n",
    "for (exp in 1:maxtries) {\n",
    "    train = sample(nrow(Auto), size = nrow(Auto)/2)\n",
    "    perf = c()\n",
    "    for (degree in 1:10) {\n",
    "        lm.fit = lm(mpg ~ poly(horsepower, degree), data = Auto, subset = train)\n",
    "        perf[degree] = mean((Auto$mpg - predict(lm.fit, Auto))[-train]^2)\n",
    "        perf.mean[degree] = perf.mean[degree] + perf[degree]\n",
    "        # print(paste('perf', perf[degree], 'mean', perf.mean[degree]))\n",
    "    }\n",
    "    perf\n",
    "    if (exp == 1) \n",
    "        plot(perf, ylim = c(14, 25), xlab = \"Degré\", type = \"l\") else lines(perf, type = \"l\")\n",
    "}\n",
    "lines(perf.mean/maxtries, type = \"l\", lwd = 3, col = \"blue\")\n",
    "plot(perf.mean/maxtries, type = \"l\", lwd = 3, col = \"blue\")"
   ]
  },
  {
   "cell_type": "markdown",
   "metadata": {},
   "source": [
    "Pas si simple de choisir le degré \"optimal\" lorque qu'on teste dfférents couples training/validation. le handicap est ici le faible nombre de données qui donne une très grande variabilité. Ce qui est net c'est que passer à un degré 2 donne une nette amélioration ; après c'est très variable suivant les différents assais. Dans ces conditions, on aura tendance à être très conservateur et à privilégier les ordres les plus faibles (donc le moins de variance). "
   ]
  },
  {
   "cell_type": "markdown",
   "metadata": {},
   "source": [
    "## Utilisation de la validation croisée"
   ]
  },
  {
   "cell_type": "markdown",
   "metadata": {},
   "source": [
    "La librairie `boot` contient à la fois des fonctions pour effectuer du bootstrap et des fonctions pour la validation croisée. Elle contient également une fonction `glm` qui permet, entre autres, d'effectuer des régressions linéaires, tout comme `lm`. \n",
    "\n",
    "1) Vérifier que l'on peut effectivement remplacer `lm` par `glm` en comparant les resultats des régressions `mpg~horsepower` (charger `boot` au préalable) "
   ]
  },
  {
   "cell_type": "code",
   "execution_count": 37,
   "metadata": {},
   "outputs": [
    {
     "data": {
      "text/html": [
       "<style>\n",
       ".dl-inline {width: auto; margin:0; padding: 0}\n",
       ".dl-inline>dt, .dl-inline>dd {float: none; width: auto; display: inline-block}\n",
       ".dl-inline>dt::after {content: \":\\0020\"; padding-right: .5ex}\n",
       ".dl-inline>dt:not(:first-of-type) {padding-left: .5ex}\n",
       "</style><dl class=dl-inline><dt>(Intercept)</dt><dd>39.9358610211705</dd><dt>horsepower</dt><dd>-0.157844733353654</dd></dl>\n"
      ],
      "text/latex": [
       "\\begin{description*}\n",
       "\\item[(Intercept)] 39.9358610211705\n",
       "\\item[horsepower] -0.157844733353654\n",
       "\\end{description*}\n"
      ],
      "text/markdown": [
       "(Intercept)\n",
       ":   39.9358610211705horsepower\n",
       ":   -0.157844733353654\n",
       "\n"
      ],
      "text/plain": [
       "(Intercept)  horsepower \n",
       " 39.9358610  -0.1578447 "
      ]
     },
     "metadata": {},
     "output_type": "display_data"
    },
    {
     "data": {
      "text/html": [
       "<style>\n",
       ".dl-inline {width: auto; margin:0; padding: 0}\n",
       ".dl-inline>dt, .dl-inline>dd {float: none; width: auto; display: inline-block}\n",
       ".dl-inline>dt::after {content: \":\\0020\"; padding-right: .5ex}\n",
       ".dl-inline>dt:not(:first-of-type) {padding-left: .5ex}\n",
       "</style><dl class=dl-inline><dt>(Intercept)</dt><dd>39.9358610211705</dd><dt>horsepower</dt><dd>-0.157844733353654</dd></dl>\n"
      ],
      "text/latex": [
       "\\begin{description*}\n",
       "\\item[(Intercept)] 39.9358610211705\n",
       "\\item[horsepower] -0.157844733353654\n",
       "\\end{description*}\n"
      ],
      "text/markdown": [
       "(Intercept)\n",
       ":   39.9358610211705horsepower\n",
       ":   -0.157844733353654\n",
       "\n"
      ],
      "text/plain": [
       "(Intercept)  horsepower \n",
       " 39.9358610  -0.1578447 "
      ]
     },
     "metadata": {},
     "output_type": "display_data"
    }
   ],
   "source": [
    "library(boot)\n",
    "glm.fit = glm(mpg ~ horsepower, data = Auto)\n",
    "coef(glm.fit)\n",
    "# vs\n",
    "lm.fit = lm(mpg ~ horsepower, data = Auto)\n",
    "coef(lm.fit)"
   ]
  },
  {
   "cell_type": "markdown",
   "metadata": {},
   "source": [
    "2) Consulter l'aide de `cv.glm`\n",
    "\n",
    "3) Effectuer une estimation de l'erreur par validation croisée en utilisant cette fonction. Regarder la valeur de l'attribut delta et comprendre quels sont les résultats fournis. Quel est, qualitativement, l'effet du choix de K sur les résultats et le temps d'exécution (et quelle est la valeur par défaut) ? "
   ]
  },
  {
   "cell_type": "code",
   "execution_count": 3,
   "metadata": {},
   "outputs": [],
   "source": [
    "?cv.glm"
   ]
  },
  {
   "cell_type": "code",
   "execution_count": 38,
   "metadata": {},
   "outputs": [
    {
     "name": "stderr",
     "output_type": "stream",
     "text": [
      "Warning message in cv.glm(Auto, glm.fit, K = 100):\n",
      "“'K' has been set to 98.000000”\n"
     ]
    },
    {
     "data": {
      "text/html": [
       "<style>\n",
       ".list-inline {list-style: none; margin:0; padding: 0}\n",
       ".list-inline>li {display: inline-block}\n",
       ".list-inline>li:not(:last-child)::after {content: \"\\00b7\"; padding: 0 .5ex}\n",
       "</style>\n",
       "<ol class=list-inline><li>24.2298567812198</li><li>24.2283803306505</li></ol>\n"
      ],
      "text/latex": [
       "\\begin{enumerate*}\n",
       "\\item 24.2298567812198\n",
       "\\item 24.2283803306505\n",
       "\\end{enumerate*}\n"
      ],
      "text/markdown": [
       "1. 24.2298567812198\n",
       "2. 24.2283803306505\n",
       "\n",
       "\n"
      ],
      "text/plain": [
       "[1] 24.22986 24.22838"
      ]
     },
     "metadata": {},
     "output_type": "display_data"
    }
   ],
   "source": [
    "library(boot)\n",
    "glm.fit = glm(mpg ~ horsepower, data = Auto)\n",
    "cv.err = cv.glm(Auto, glm.fit, K = 100)\n",
    "cv.err$delta"
   ]
  },
  {
   "cell_type": "markdown",
   "metadata": {},
   "source": [
    "Deux variables sont retournées: l'estimée brute de l'erreur de prédiction, et une estimée corrigée du biais introduit par la diminution du nobre de points sur l'apprentissage. Plus K est grand, plus le temps d'exécution est important !"
   ]
  },
  {
   "cell_type": "markdown",
   "metadata": {},
   "source": [
    "4) Pour différentes valeurs de seed et des degrés compris entre 1 et 12, effectuer une régression de `mpg~poly (horsepower, x)` et évaluer l'erreur de prédiction via une validation croisée avec K=10. Comment se compare cette approche avec l'approche précédente. Quel degré choisiriez vous ?"
   ]
  },
  {
   "cell_type": "code",
   "execution_count": 39,
   "metadata": {},
   "outputs": [
    {
     "data": {
      "text/html": [
       "<style>\n",
       ".list-inline {list-style: none; margin:0; padding: 0}\n",
       ".list-inline>li {display: inline-block}\n",
       ".list-inline>li:not(:last-child)::after {content: \"\\00b7\"; padding: 0 .5ex}\n",
       "</style>\n",
       "<ol class=list-inline><li>24.2901642797841</li><li>19.2991036102947</li><li>19.3596707809588</li><li>19.6408763548694</li><li>18.8111107252493</li><li>18.7005827740721</li><li>19.0282164664419</li><li>19.2588816463937</li><li>19.0126593732274</li><li>19.1022275087565</li><li>19.3381518600998</li><li>19.9141850487431</li></ol>\n"
      ],
      "text/latex": [
       "\\begin{enumerate*}\n",
       "\\item 24.2901642797841\n",
       "\\item 19.2991036102947\n",
       "\\item 19.3596707809588\n",
       "\\item 19.6408763548694\n",
       "\\item 18.8111107252493\n",
       "\\item 18.7005827740721\n",
       "\\item 19.0282164664419\n",
       "\\item 19.2588816463937\n",
       "\\item 19.0126593732274\n",
       "\\item 19.1022275087565\n",
       "\\item 19.3381518600998\n",
       "\\item 19.9141850487431\n",
       "\\end{enumerate*}\n"
      ],
      "text/markdown": [
       "1. 24.2901642797841\n",
       "2. 19.2991036102947\n",
       "3. 19.3596707809588\n",
       "4. 19.6408763548694\n",
       "5. 18.8111107252493\n",
       "6. 18.7005827740721\n",
       "7. 19.0282164664419\n",
       "8. 19.2588816463937\n",
       "9. 19.0126593732274\n",
       "10. 19.1022275087565\n",
       "11. 19.3381518600998\n",
       "12. 19.9141850487431\n",
       "\n",
       "\n"
      ],
      "text/plain": [
       " [1] 24.29016 19.29910 19.35967 19.64088 18.81111 18.70058 19.02822 19.25888\n",
       " [9] 19.01266 19.10223 19.33815 19.91419"
      ]
     },
     "metadata": {},
     "output_type": "display_data"
    },
    {
     "data": {
      "image/png": "[encoded data removed]",
      "text/plain": [
       "plot without title"
      ]
     },
     "metadata": {
      "image/png": {
       "height": 420,
       "width": 420
      }
     },
     "output_type": "display_data"
    }
   ],
   "source": [
    "set.seed(44)\n",
    "cv.error.10 = rep(0, 12)\n",
    "for (i in 1:12) {\n",
    "    glm.fit = glm(mpg ~ poly(horsepower, i), data = Auto)\n",
    "    cv.error.10[i] = cv.glm(Auto, glm.fit, K = 10)$delta[1]\n",
    "}\n",
    "cv.error.10\n",
    "plot(cv.error.10, type = \"l\")"
   ]
  },
  {
   "cell_type": "markdown",
   "metadata": {},
   "source": [
    "Par validation croisée, les résultats sont bien plus stables ; tout simplement parce qu'on met plus de points dans l'apprentissage et le modèle est donc mieux estimé. Il semble qu'un ordre de 6 soit correct. Peut-être faudrait-il cependant se limiter à 2 et ne pas risquer d'overfitting car le gain est bien faible. "
   ]
  },
  {
   "cell_type": "markdown",
   "metadata": {},
   "source": [
    "5) Pour les étudiants les plus avancés dans le TP, charger la librairie `parallel`. Celle-ci permet d'effectuer les calculs, notamment de CV, sur plusieur coeurs. Il faut utiliser la fonction `mclapply`, équivalent à une `lapply` qui appliquerait la même fonction sur plusieurs coeurs. Utiliser cette fonction pour paralléliser le calcul du CV"
   ]
  },
  {
   "cell_type": "code",
   "execution_count": 40,
   "metadata": {},
   "outputs": [],
   "source": [
    "library(parallel)  ##\n",
    "set.seed(17)\n",
    "cv.error.10 = unlist(mclapply(1:10, function(i) {\n",
    "    glm.fit = glm(mpg ~ poly(horsepower, i), data = Auto)\n",
    "    cv.glm(Auto, glm.fit)$delta[1]\n",
    "}, mc.cores = 12))"
   ]
  },
  {
   "cell_type": "markdown",
   "metadata": {},
   "source": [
    "# Utilisation du bootstrap sur les données *Porfolio*\n",
    "\n",
    "Un des grands avantages du bootstrap est qu'il peut-être appliqué dans à peu près n'importe quelle situation. En R, utiliser le bootstrap se fait en deux étapes : \n",
    "\n",
    "- Créer une fonction qui calcule la statistique d'intérêt, \n",
    "- Utiliser la fonction `boot()`, contenue dans la librairie de même nom, pour calculer la statistique bootsrap en répétant le cacul de cette statistique sur des échantillons bootstrap obtenus par rééchantillonage avec remplacement des données initiales. \n",
    "\n",
    "Nous allons réutiliser l'exemple vu en cours sur des données qu'on imagine être des données d'investissement, $X$ et $Y$. On cherche le meilleur paramètre de mélange entre ces deux populations de manière à minimiser la variance de l'ensemble \n",
    "$$\n",
    "\\mathrm{Var}\\left[{\\alpha X+(1-\\alpha Y)}\\right]\n",
    "$$\n",
    "La solution analytique est donnée par\n",
    "$$\n",
    "\\alpha = \\frac{\\sigma_Y^2-\\sigma_{XY} }{\\sigma_X^2 + \\sigma_Y^2-2\\sigma_{XY}}.\n",
    "$$\n",
    "En pratique, la valeur sera estimée en $\\hat{\\alpha}$ en remplaçant les différentes variances et covariances par leurs estimées. Les données sont disponibles dans le dataframe Portfolio. \n",
    "\n",
    "1. Consultez l'aide par `?Portfolio`.  \n",
    "2. Écrire une fonction `alpha.fn(data, index)` qui reçoit les données et un vecteur des indices à utiliser. La fonction doit retourner une estimée de $\\alpha$. Fonctions utiles: `var`, `cov`. \n",
    "3. Consulter l'aide de `boot`, puis utiliser la fonction afin de calculer l'estimée bootstrap à partir de 1000 échantillons bootsrap. Tracer l'histogramme des résultats ; donner l'intervalle de confiance à 95% correspondant. "
   ]
  },
  {
   "cell_type": "code",
   "execution_count": 7,
   "metadata": {},
   "outputs": [],
   "source": [
    "?Portfolio"
   ]
  },
  {
   "cell_type": "code",
   "execution_count": 8,
   "metadata": {},
   "outputs": [
    {
     "ename": "ERROR",
     "evalue": "Error in alpha.fn(Portfolio, 1:100): object 'Portfolio' not found\n",
     "output_type": "error",
     "traceback": [
      "Error in alpha.fn(Portfolio, 1:100): object 'Portfolio' not found\nTraceback:\n",
      "1. alpha.fn(Portfolio, 1:100)"
     ]
    }
   ],
   "source": [
    "alpha.fn = function(data, index = 1:100) {\n",
    "    X = data$X[index]\n",
    "    Y = data$Y[index]\n",
    "    return((var(Y) - cov(X, Y))/(var(X) + var(Y) - 2 * cov(X, Y)))\n",
    "}\n",
    "# using all 100 observations to get alpha:\n",
    "alpha.fn(Portfolio, 1:100)"
   ]
  },
  {
   "cell_type": "code",
   "execution_count": 9,
   "metadata": {},
   "outputs": [
    {
     "ename": "ERROR",
     "evalue": "Error in alpha.fn(Portfolio, sample(100, 100, replace = T)): object 'Portfolio' not found\n",
     "output_type": "error",
     "traceback": [
      "Error in alpha.fn(Portfolio, sample(100, 100, replace = T)): object 'Portfolio' not found\nTraceback:\n",
      "1. alpha.fn(Portfolio, sample(100, 100, replace = T))"
     ]
    }
   ],
   "source": [
    "# or we can sample bootstrap style (ie with replacement)\n",
    "set.seed(1)\n",
    "alpha.fn(Portfolio, sample(100, 100, replace = T))"
   ]
  },
  {
   "cell_type": "code",
   "execution_count": 10,
   "metadata": {},
   "outputs": [],
   "source": [
    "?boot"
   ]
  },
  {
   "cell_type": "code",
   "execution_count": 11,
   "metadata": {},
   "outputs": [
    {
     "ename": "ERROR",
     "evalue": "Error in NROW(data): object 'Portfolio' not found\n",
     "output_type": "error",
     "traceback": [
      "Error in NROW(data): object 'Portfolio' not found\nTraceback:\n",
      "1. boot(Portfolio, alpha.fn, R = 1000)",
      "2. NROW(data)"
     ]
    }
   ],
   "source": [
    "# and we can use the boot function to automate this thousands of times\n",
    "boot.out = boot(Portfolio, alpha.fn, R = 1000)\n",
    "boot.out"
   ]
  },
  {
   "cell_type": "code",
   "execution_count": null,
   "metadata": {},
   "outputs": [],
   "source": [
    "plot(boot.out)"
   ]
  },
  {
   "cell_type": "markdown",
   "metadata": {},
   "source": [
    "# Estimation des performances d'un modèle de régression linéaire\n",
    "\n",
    "Comme on l'a vu en cours, il est possible d'utiliser le bootstrap afin de quantifier la qualité des estimées et prédictions des méthodes d'appprentissage statistique. Cela s'applique par exemple à la régression linéaire toute simple. On va considérer la régression habituelle  `mpg~horsepower` pour le dataset `Auto`, pour des degrés 1 et 2, et comparer les performances affichées à l'aide des formules explicites (connues dans ce cas simple), et l'évaluation numérique donnée par le bootstrap. \n",
    "\n",
    "1. Créer une fonction `boot.fn()` qui prenne en entrée les données et un vecteur d'index et retourne les coefficients de la régression linéaire correspondante. \n",
    "2. Utiliser la fonction `sample` pour rééchantillonner les données et calculer les estimées correspondantes par `boot.fn`. Réitérer avec une autre valeur de seed. Comparer ces résultats. \n",
    "3. Utiliser mainetant la fonction `boot` pour calculer un millier de ces estimées. Afficher les résultats. \n",
    "4. Comparer ces résultats à ceux qu'on relève sur le résumé `summary` de la fonction `lm`. "
   ]
  },
  {
   "cell_type": "code",
   "execution_count": 65,
   "metadata": {},
   "outputs": [
    {
     "data": {
      "text/html": [
       "<style>\n",
       ".dl-inline {width: auto; margin:0; padding: 0}\n",
       ".dl-inline>dt, .dl-inline>dd {float: none; width: auto; display: inline-block}\n",
       ".dl-inline>dt::after {content: \":\\0020\"; padding-right: .5ex}\n",
       ".dl-inline>dt:not(:first-of-type) {padding-left: .5ex}\n",
       "</style><dl class=dl-inline><dt>(Intercept)</dt><dd>56.900099702113</dd><dt>horsepower</dt><dd>-0.466189629947353</dd><dt>I(horsepower^2)</dt><dd>0.00123053610077392</dd></dl>\n"
      ],
      "text/latex": [
       "\\begin{description*}\n",
       "\\item[(Intercept)] 56.900099702113\n",
       "\\item[horsepower] -0.466189629947353\n",
       "\\item[I(horsepower\\textbackslash{}textasciicircum\\{\\}2)] 0.00123053610077392\n",
       "\\end{description*}\n"
      ],
      "text/markdown": [
       "(Intercept)\n",
       ":   56.900099702113horsepower\n",
       ":   -0.466189629947353I(horsepower^2)\n",
       ":   0.00123053610077392\n",
       "\n"
      ],
      "text/plain": [
       "    (Intercept)      horsepower I(horsepower^2) \n",
       "   56.900099702    -0.466189630     0.001230536 "
      ]
     },
     "metadata": {},
     "output_type": "display_data"
    }
   ],
   "source": [
    "boot.fn = function(data, ind) {\n",
    "    l = lm(mpg ~ horsepower+I(horsepower^2), data = data, subset = ind)\n",
    "    return(coef(l))\n",
    "}\n",
    "\n",
    "# simply compute coefficient estimates\n",
    "boot.fn(Auto, 1:392)"
   ]
  },
  {
   "cell_type": "markdown",
   "metadata": {},
   "source": [
    "Une version un peu plus générale"
   ]
  },
  {
   "cell_type": "code",
   "execution_count": 13,
   "metadata": {},
   "outputs": [],
   "source": [
    "# boot.fn=function(data,formula,ind){ l=lm(formula,data=data[ind,])\n",
    "# return(coef(l)) }\n",
    "\n",
    "## simply compute coefficient estimates boot.fn(Auto,'mpg~horsepower', 1:392)"
   ]
  },
  {
   "cell_type": "code",
   "execution_count": 66,
   "metadata": {},
   "outputs": [
    {
     "data": {
      "text/html": [
       "<style>\n",
       ".dl-inline {width: auto; margin:0; padding: 0}\n",
       ".dl-inline>dt, .dl-inline>dd {float: none; width: auto; display: inline-block}\n",
       ".dl-inline>dt::after {content: \":\\0020\"; padding-right: .5ex}\n",
       ".dl-inline>dt:not(:first-of-type) {padding-left: .5ex}\n",
       "</style><dl class=dl-inline><dt>(Intercept)</dt><dd>57.4746696475501</dd><dt>horsepower</dt><dd>-0.479632715567695</dd><dt>I(horsepower^2)</dt><dd>0.00128490514224676</dd></dl>\n"
      ],
      "text/latex": [
       "\\begin{description*}\n",
       "\\item[(Intercept)] 57.4746696475501\n",
       "\\item[horsepower] -0.479632715567695\n",
       "\\item[I(horsepower\\textbackslash{}textasciicircum\\{\\}2)] 0.00128490514224676\n",
       "\\end{description*}\n"
      ],
      "text/markdown": [
       "(Intercept)\n",
       ":   57.4746696475501horsepower\n",
       ":   -0.479632715567695I(horsepower^2)\n",
       ":   0.00128490514224676\n",
       "\n"
      ],
      "text/plain": [
       "    (Intercept)      horsepower I(horsepower^2) \n",
       "   57.474669648    -0.479632716     0.001284905 "
      ]
     },
     "metadata": {},
     "output_type": "display_data"
    },
    {
     "data": {
      "text/html": [
       "<style>\n",
       ".dl-inline {width: auto; margin:0; padding: 0}\n",
       ".dl-inline>dt, .dl-inline>dd {float: none; width: auto; display: inline-block}\n",
       ".dl-inline>dt::after {content: \":\\0020\"; padding-right: .5ex}\n",
       ".dl-inline>dt:not(:first-of-type) {padding-left: .5ex}\n",
       "</style><dl class=dl-inline><dt>(Intercept)</dt><dd>58.6111024138974</dd><dt>horsepower</dt><dd>-0.496710138132667</dd><dt>I(horsepower^2)</dt><dd>0.00135203230665263</dd></dl>\n"
      ],
      "text/latex": [
       "\\begin{description*}\n",
       "\\item[(Intercept)] 58.6111024138974\n",
       "\\item[horsepower] -0.496710138132667\n",
       "\\item[I(horsepower\\textbackslash{}textasciicircum\\{\\}2)] 0.00135203230665263\n",
       "\\end{description*}\n"
      ],
      "text/markdown": [
       "(Intercept)\n",
       ":   58.6111024138974horsepower\n",
       ":   -0.496710138132667I(horsepower^2)\n",
       ":   0.00135203230665263\n",
       "\n"
      ],
      "text/plain": [
       "    (Intercept)      horsepower I(horsepower^2) \n",
       "   58.611102414    -0.496710138     0.001352032 "
      ]
     },
     "metadata": {},
     "output_type": "display_data"
    }
   ],
   "source": [
    "set.seed(1)\n",
    "\n",
    "# one bootstrap round\n",
    "boot.fn(Auto, sample(392, 392, replace = T))\n",
    "\n",
    "# another one\n",
    "boot.fn(Auto, sample(392, 392, replace = T))"
   ]
  },
  {
   "cell_type": "code",
   "execution_count": 67,
   "metadata": {},
   "outputs": [
    {
     "data": {
      "text/plain": [
       "\n",
       "ORDINARY NONPARAMETRIC BOOTSTRAP\n",
       "\n",
       "\n",
       "Call:\n",
       "boot(data = Auto, statistic = boot.fn, R = 1000)\n",
       "\n",
       "\n",
       "Bootstrap Statistics :\n",
       "        original        bias    std. error\n",
       "t1* 56.900099702  3.417701e-02  2.03401058\n",
       "t2* -0.466189630 -6.844099e-04  0.03248461\n",
       "t3*  0.001230536  2.724701e-06  0.00011740"
      ]
     },
     "metadata": {},
     "output_type": "display_data"
    }
   ],
   "source": [
    "# now do a thousand!\n",
    "b = boot(Auto, boot.fn, 1000)\n",
    "b"
   ]
  },
  {
   "cell_type": "code",
   "execution_count": 68,
   "metadata": {},
   "outputs": [
    {
     "data": {
      "text/html": [
       "<table>\n",
       "<caption>A matrix: 3 × 4 of type dbl</caption>\n",
       "<thead>\n",
       "\t<tr><th></th><th scope=col>Estimate</th><th scope=col>Std. Error</th><th scope=col>t value</th><th scope=col>Pr(&gt;|t|)</th></tr>\n",
       "</thead>\n",
       "<tbody>\n",
       "\t<tr><th scope=row>(Intercept)</th><td>56.900099702</td><td>1.8004268063</td><td> 31.60367</td><td>1.740911e-109</td></tr>\n",
       "\t<tr><th scope=row>horsepower</th><td>-0.466189630</td><td>0.0311246171</td><td>-14.97816</td><td> 2.289429e-40</td></tr>\n",
       "\t<tr><th scope=row>I(horsepower^2)</th><td> 0.001230536</td><td>0.0001220759</td><td> 10.08009</td><td> 2.196340e-21</td></tr>\n",
       "</tbody>\n",
       "</table>\n"
      ],
      "text/latex": [
       "A matrix: 3 × 4 of type dbl\n",
       "\\begin{tabular}{r|llll}\n",
       "  & Estimate & Std. Error & t value & Pr(>\\textbar{}t\\textbar{})\\\\\n",
       "\\hline\n",
       "\t(Intercept) & 56.900099702 & 1.8004268063 &  31.60367 & 1.740911e-109\\\\\n",
       "\thorsepower & -0.466189630 & 0.0311246171 & -14.97816 &  2.289429e-40\\\\\n",
       "\tI(horsepower\\textasciicircum{}2) &  0.001230536 & 0.0001220759 &  10.08009 &  2.196340e-21\\\\\n",
       "\\end{tabular}\n"
      ],
      "text/markdown": [
       "\n",
       "A matrix: 3 × 4 of type dbl\n",
       "\n",
       "| <!--/--> | Estimate | Std. Error | t value | Pr(&gt;|t|) |\n",
       "|---|---|---|---|---|\n",
       "| (Intercept) | 56.900099702 | 1.8004268063 |  31.60367 | 1.740911e-109 |\n",
       "| horsepower | -0.466189630 | 0.0311246171 | -14.97816 |  2.289429e-40 |\n",
       "| I(horsepower^2) |  0.001230536 | 0.0001220759 |  10.08009 |  2.196340e-21 |\n",
       "\n"
      ],
      "text/plain": [
       "                Estimate     Std. Error   t value   Pr(>|t|)     \n",
       "(Intercept)     56.900099702 1.8004268063  31.60367 1.740911e-109\n",
       "horsepower      -0.466189630 0.0311246171 -14.97816  2.289429e-40\n",
       "I(horsepower^2)  0.001230536 0.0001220759  10.08009  2.196340e-21"
      ]
     },
     "metadata": {},
     "output_type": "display_data"
    }
   ],
   "source": [
    "# however in the simple case of linear regression, we can also get these\n",
    "# estimates with the summary() function from the fit itself as was described in\n",
    "# section 3.1.2\n",
    "summary(lm(mpg ~ horsepower + I(horsepower^2), data = Auto))$coef"
   ]
  },
  {
   "cell_type": "markdown",
   "metadata": {},
   "source": [
    "Enfin, effectuer les mêmes opérations pour une régression polynomiale de degré 2. Que pensez-vous de la qualité des estimées bootstrap ?"
   ]
  },
  {
   "cell_type": "code",
   "execution_count": 46,
   "metadata": {},
   "outputs": [
    {
     "data": {
      "text/plain": [
       "\n",
       "ORDINARY NONPARAMETRIC BOOTSTRAP\n",
       "\n",
       "\n",
       "Call:\n",
       "boot(data = Auto, statistic = boot.fn, R = 1000)\n",
       "\n",
       "\n",
       "Bootstrap Statistics :\n",
       "        original        bias     std. error\n",
       "t1* 56.900099702  3.511640e-02 2.0300222526\n",
       "t2* -0.466189630 -7.080834e-04 0.0324241984\n",
       "t3*  0.001230536  2.840324e-06 0.0001172164"
      ]
     },
     "metadata": {},
     "output_type": "display_data"
    },
    {
     "data": {
      "text/html": [
       "<table>\n",
       "<caption>A matrix: 3 × 4 of type dbl</caption>\n",
       "<thead>\n",
       "\t<tr><th></th><th scope=col>Estimate</th><th scope=col>Std. Error</th><th scope=col>t value</th><th scope=col>Pr(&gt;|t|)</th></tr>\n",
       "</thead>\n",
       "<tbody>\n",
       "\t<tr><th scope=row>(Intercept)</th><td>56.900099702</td><td>1.8004268063</td><td> 31.60367</td><td>1.740911e-109</td></tr>\n",
       "\t<tr><th scope=row>horsepower</th><td>-0.466189630</td><td>0.0311246171</td><td>-14.97816</td><td> 2.289429e-40</td></tr>\n",
       "\t<tr><th scope=row>I(horsepower^2)</th><td> 0.001230536</td><td>0.0001220759</td><td> 10.08009</td><td> 2.196340e-21</td></tr>\n",
       "</tbody>\n",
       "</table>\n"
      ],
      "text/latex": [
       "A matrix: 3 × 4 of type dbl\n",
       "\\begin{tabular}{r|llll}\n",
       "  & Estimate & Std. Error & t value & Pr(>\\textbar{}t\\textbar{})\\\\\n",
       "\\hline\n",
       "\t(Intercept) & 56.900099702 & 1.8004268063 &  31.60367 & 1.740911e-109\\\\\n",
       "\thorsepower & -0.466189630 & 0.0311246171 & -14.97816 &  2.289429e-40\\\\\n",
       "\tI(horsepower\\textasciicircum{}2) &  0.001230536 & 0.0001220759 &  10.08009 &  2.196340e-21\\\\\n",
       "\\end{tabular}\n"
      ],
      "text/markdown": [
       "\n",
       "A matrix: 3 × 4 of type dbl\n",
       "\n",
       "| <!--/--> | Estimate | Std. Error | t value | Pr(&gt;|t|) |\n",
       "|---|---|---|---|---|\n",
       "| (Intercept) | 56.900099702 | 1.8004268063 |  31.60367 | 1.740911e-109 |\n",
       "| horsepower | -0.466189630 | 0.0311246171 | -14.97816 |  2.289429e-40 |\n",
       "| I(horsepower^2) |  0.001230536 | 0.0001220759 |  10.08009 |  2.196340e-21 |\n",
       "\n"
      ],
      "text/plain": [
       "                Estimate     Std. Error   t value   Pr(>|t|)     \n",
       "(Intercept)     56.900099702 1.8004268063  31.60367 1.740911e-109\n",
       "horsepower      -0.466189630 0.0311246171 -14.97816  2.289429e-40\n",
       "I(horsepower^2)  0.001230536 0.0001220759  10.08009  2.196340e-21"
      ]
     },
     "metadata": {},
     "output_type": "display_data"
    }
   ],
   "source": [
    "boot.fn = function(data, index) {\n",
    "    coefficients(lm(mpg ~ horsepower + I(horsepower^2), data = data, subset = index))\n",
    "}\n",
    "\n",
    "set.seed(1)\n",
    "boot(Auto, boot.fn, 1000)\n",
    "summary(lm(mpg ~ horsepower + I(horsepower^2), data = Auto))$coef"
   ]
  },
  {
   "cell_type": "markdown",
   "metadata": {},
   "source": [
    "# Exercices supplémentaires [optionnels!] - Validation sur la base `Default`\n"
   ]
  },
  {
   "cell_type": "markdown",
   "metadata": {},
   "source": [
    "Dans le TP sur la discrimination, on a utilisé la base `Default` avec une régression logistique. On va maintenant estimer l'erreur de prédiction en utilisant un ensemble de validation, puis on testera l'importance des variables dans le modèle. Enfin, on estimera les statistiques sur les coefficients par bootstrap. \n",
    "\n",
    "## Modèle \n",
    "Charger ISLR, choisir un seed, et apprendre un modèle de régression logistique pour `default~income+balance`. Afficher les résultats.  "
   ]
  },
  {
   "cell_type": "code",
   "execution_count": 47,
   "metadata": {},
   "outputs": [
    {
     "data": {
      "text/plain": [
       "\n",
       "Call:\n",
       "glm(formula = default ~ income + balance, family = \"binomial\", \n",
       "    data = Default)\n",
       "\n",
       "Deviance Residuals: \n",
       "    Min       1Q   Median       3Q      Max  \n",
       "-2.4725  -0.1444  -0.0574  -0.0211   3.7245  \n",
       "\n",
       "Coefficients:\n",
       "              Estimate Std. Error z value Pr(>|z|)    \n",
       "(Intercept) -1.154e+01  4.348e-01 -26.545  < 2e-16 ***\n",
       "income       2.081e-05  4.985e-06   4.174 2.99e-05 ***\n",
       "balance      5.647e-03  2.274e-04  24.836  < 2e-16 ***\n",
       "---\n",
       "Signif. codes:  0 ‘***’ 0.001 ‘**’ 0.01 ‘*’ 0.05 ‘.’ 0.1 ‘ ’ 1\n",
       "\n",
       "(Dispersion parameter for binomial family taken to be 1)\n",
       "\n",
       "    Null deviance: 2920.6  on 9999  degrees of freedom\n",
       "Residual deviance: 1579.0  on 9997  degrees of freedom\n",
       "AIC: 1585\n",
       "\n",
       "Number of Fisher Scoring iterations: 8\n"
      ]
     },
     "metadata": {},
     "output_type": "display_data"
    }
   ],
   "source": [
    "library(ISLR)\n",
    "set.seed(1)\n",
    "glm.fit = glm(default ~ income + balance, data = Default, family = \"binomial\")\n",
    "summary(glm.fit)"
   ]
  },
  {
   "cell_type": "markdown",
   "metadata": {},
   "source": [
    "## Erreur de prédiction par validation. \n",
    "\n",
    "Estimez l'erreur de prédiction pour ce modèle. Pour cela :\n",
    "\n",
    "1. Séparer les données en un ensemble d'apprentissage et un ensemble de validation (train=3/4 des données, test=le 1/4 restant)\n",
    "2. Apprendre le modèle\n",
    "3. Calculer les prédictions sur la base de test, et le taux d'erreur en seuillant la probabilité a posteriori à 0.5"
   ]
  },
  {
   "cell_type": "code",
   "execution_count": 49,
   "metadata": {},
   "outputs": [
    {
     "data": {
      "text/html": [
       "0.026"
      ],
      "text/latex": [
       "0.026"
      ],
      "text/markdown": [
       "0.026"
      ],
      "text/plain": [
       "[1] 0.026"
      ]
     },
     "metadata": {},
     "output_type": "display_data"
    }
   ],
   "source": [
    "set.seed(1)\n",
    "train = sample(nrow(Default), 3 * nrow(Default)/4)  #1.\n",
    "Default.train = Default[train, ]\n",
    "Default.test = Default[-train, ]\n",
    "\n",
    "glm.fit = glm(default ~ income + balance, data = Default.train, family = \"binomial\")  #2.\n",
    "glm.probs = predict(glm.fit, Default.test, type = \"response\")  #3.\n",
    "glm.pred = ifelse(glm.probs > 0.5, \"Yes\", \"No\")\n",
    "mean(glm.pred != Default.test$default)  #4."
   ]
  },
  {
   "cell_type": "markdown",
   "metadata": {},
   "source": [
    "## Recommencer\n",
    "\n",
    "Répéter le processus précédent un certain nombre de fois, en utililisant différentes segmentations des données. Commenter. "
   ]
  },
  {
   "cell_type": "code",
   "execution_count": 50,
   "metadata": {},
   "outputs": [
    {
     "name": "stdout",
     "output_type": "stream",
     "text": [
      "[1] 0.0264\n",
      "[1] 0.022\n",
      "[1] 0.0284\n"
     ]
    }
   ],
   "source": [
    "for (seed in c(15, 5, 34)) {\n",
    "    set.seed(seed)\n",
    "    train = sample(nrow(Default), nrow(Default) - nrow(Default)/4)\n",
    "    Default.train = Default[train, ]\n",
    "    Default.test = Default[-train, ]\n",
    "    glm.fit = glm(default ~ income + balance, data = Default.train, family = \"binomial\")\n",
    "    glm.probs = predict(glm.fit, Default.test, type = \"response\")\n",
    "    glm.pred = ifelse(glm.probs > 0.5, \"Yes\", \"No\")\n",
    "    print(mean(glm.pred != Default.test$default))\n",
    "}"
   ]
  },
  {
   "cell_type": "markdown",
   "metadata": {},
   "source": [
    "Ci-dessous une boucle sur 300 essais. Cela commence à devenir long. "
   ]
  },
  {
   "cell_type": "code",
   "execution_count": 51,
   "metadata": {},
   "outputs": [],
   "source": [
    "z = c()\n",
    "k = 0\n",
    "for (seed in seq(300)) {\n",
    "    set.seed(seed)\n",
    "    train = sample(nrow(Default), nrow(Default) - nrow(Default)/4)\n",
    "    Default.train = Default[train, ]\n",
    "    Default.test = Default[-train, ]\n",
    "    glm.fit = glm(default ~ income + balance, data = Default.train, family = \"binomial\")\n",
    "    glm.probs = predict(glm.fit, Default.test, type = \"response\")\n",
    "    glm.pred = ifelse(glm.probs > 0.5, \"Yes\", \"No\")\n",
    "    z[k] = mean(glm.pred != Default.test$default)\n",
    "    k = k + 1\n",
    "}"
   ]
  },
  {
   "cell_type": "code",
   "execution_count": 52,
   "metadata": {},
   "outputs": [
    {
     "data": {
      "text/html": [
       "0.0263531772575251"
      ],
      "text/latex": [
       "0.0263531772575251"
      ],
      "text/markdown": [
       "0.0263531772575251"
      ],
      "text/plain": [
       "[1] 0.02635318"
      ]
     },
     "metadata": {},
     "output_type": "display_data"
    }
   ],
   "source": [
    "mean(z)"
   ]
  },
  {
   "cell_type": "code",
   "execution_count": 53,
   "metadata": {},
   "outputs": [
    {
     "data": {
      "image/png": "[encoded data removed]",
      "text/plain": [
       "Plot with title “Histogram of z”"
      ]
     },
     "metadata": {
      "image/png": {
       "height": 420,
       "width": 420
      }
     },
     "output_type": "display_data"
    }
   ],
   "source": [
    "hist(z,20)"
   ]
  },
  {
   "cell_type": "markdown",
   "metadata": {},
   "source": [
    "## Pertinence d'une nouvelle variable -- Validation\n",
    "\n",
    "Considérons maintenant un modèle qui prédit la probabilité de défaut à partir de  income, balance, et d'une variable catégorielle sur student. Estimer le taux d'erreur sur un ensemble validation, pour plusieurs ensembles. Commenter sur l'utilité d'inclure ou non la variable student ?"
   ]
  },
  {
   "cell_type": "code",
   "execution_count": 54,
   "metadata": {},
   "outputs": [
    {
     "name": "stdout",
     "output_type": "stream",
     "text": [
      "[1] 0.026\n",
      "[1] 0.0228\n",
      "[1] 0.0288\n",
      "[1] 0.0248\n",
      "[1] 0.0316\n",
      "[1] 0.0308\n",
      "[1] 0.0272\n",
      "[1] 0.0288\n",
      "[1] 0.028\n"
     ]
    }
   ],
   "source": [
    "for (seed in c(15, 5, 34, 77, 79, 91, 92, 93, 789)) {\n",
    "    set.seed(seed)\n",
    "    train = sample(nrow(Default), nrow(Default) - nrow(Default)/4)\n",
    "    Default.train = Default[train, ]\n",
    "    Default.test = Default[-train, ]\n",
    "    glm.fit = glm(default ~ income + balance + student, data = Default.train, family = \"binomial\")\n",
    "    glm.probs = predict(glm.fit, Default.test, type = \"response\")\n",
    "    glm.pred = ifelse(glm.probs > 0.5, \"Yes\", \"No\")\n",
    "    print(mean(glm.pred != Default.test$default))\n",
    "}"
   ]
  },
  {
   "cell_type": "code",
   "execution_count": 55,
   "metadata": {},
   "outputs": [],
   "source": [
    "zz = c()\n",
    "k = 0\n",
    "for (seed in seq(300)) {\n",
    "    set.seed(seed)\n",
    "    train = sample(nrow(Default), nrow(Default) - nrow(Default)/4)\n",
    "    Default.train = Default[train, ]\n",
    "    Default.test = Default[-train, ]\n",
    "    glm.fit = glm(default ~ income + balance + student, data = Default.train, family = \"binomial\")\n",
    "    glm.probs = predict(glm.fit, Default.test, type = \"response\")\n",
    "    glm.pred = ifelse(glm.probs > 0.5, \"Yes\", \"No\")\n",
    "    zz[k] = mean(glm.pred != Default.test$default)\n",
    "    k = k + 1\n",
    "}"
   ]
  },
  {
   "cell_type": "code",
   "execution_count": 56,
   "metadata": {},
   "outputs": [
    {
     "data": {
      "text/html": [
       "0.0267464882943144"
      ],
      "text/latex": [
       "0.0267464882943144"
      ],
      "text/markdown": [
       "0.0267464882943144"
      ],
      "text/plain": [
       "[1] 0.02674649"
      ]
     },
     "metadata": {},
     "output_type": "display_data"
    },
    {
     "data": {
      "text/html": [
       "0.00277773011763313"
      ],
      "text/latex": [
       "0.00277773011763313"
      ],
      "text/markdown": [
       "0.00277773011763313"
      ],
      "text/plain": [
       "[1] 0.00277773"
      ]
     },
     "metadata": {},
     "output_type": "display_data"
    }
   ],
   "source": [
    "mean(zz)\n",
    "sd(zz)"
   ]
  },
  {
   "cell_type": "markdown",
   "metadata": {},
   "source": [
    "Il ne semble pas qu'ajouter cette variable soit complètement pertinent car le taux d'erreur moyen est un peu supérieur... Mais cet effet reste faible, et à l'intérieur de l'intervalle de confiance. "
   ]
  },
  {
   "cell_type": "markdown",
   "metadata": {},
   "source": [
    "## Pertinence d'une nouvelle variable -- Validation croisée"
   ]
  },
  {
   "cell_type": "markdown",
   "metadata": {},
   "source": [
    "Effectuer la même étude que précédemment, mais en évaluant les performances par validation croisée. Que concluerait-on cette fois ? Comment expliquer les différences éventuelles entre les performances ?"
   ]
  },
  {
   "cell_type": "code",
   "execution_count": 57,
   "metadata": {},
   "outputs": [
    {
     "data": {
      "text/html": [
       "<style>\n",
       ".list-inline {list-style: none; margin:0; padding: 0}\n",
       ".list-inline>li {display: inline-block}\n",
       ".list-inline>li:not(:last-child)::after {content: \"\\00b7\"; padding: 0 .5ex}\n",
       "</style>\n",
       "<ol class=list-inline><li>0.0214770000012064</li><li>0.0214902732262196</li><li>0.0214362081457951</li><li>0.0214621106214393</li><li>0.0214883326117363</li><li>0.0214939776167822</li><li>0.0214503614379529</li><li>0.021493517064488</li><li>0.0214368845780635</li><li>0.0214465630812921</li></ol>\n"
      ],
      "text/latex": [
       "\\begin{enumerate*}\n",
       "\\item 0.0214770000012064\n",
       "\\item 0.0214902732262196\n",
       "\\item 0.0214362081457951\n",
       "\\item 0.0214621106214393\n",
       "\\item 0.0214883326117363\n",
       "\\item 0.0214939776167822\n",
       "\\item 0.0214503614379529\n",
       "\\item 0.021493517064488\n",
       "\\item 0.0214368845780635\n",
       "\\item 0.0214465630812921\n",
       "\\end{enumerate*}\n"
      ],
      "text/markdown": [
       "1. 0.0214770000012064\n",
       "2. 0.0214902732262196\n",
       "3. 0.0214362081457951\n",
       "4. 0.0214621106214393\n",
       "5. 0.0214883326117363\n",
       "6. 0.0214939776167822\n",
       "7. 0.0214503614379529\n",
       "8. 0.021493517064488\n",
       "9. 0.0214368845780635\n",
       "10. 0.0214465630812921\n",
       "\n",
       "\n"
      ],
      "text/plain": [
       " [1] 0.02147700 0.02149027 0.02143621 0.02146211 0.02148833 0.02149398\n",
       " [7] 0.02145036 0.02149352 0.02143688 0.02144656"
      ]
     },
     "metadata": {},
     "output_type": "display_data"
    }
   ],
   "source": [
    "cv.error.10 = c()\n",
    "for (i in 1:10) {\n",
    "    glm.fit = glm(default ~ income + balance, data = Default, family = \"binomial\")\n",
    "    cv.error.10[i] = cv.glm(Default, glm.fit, K = 10)$delta[1]\n",
    "}\n",
    "cv.error.10\n",
    "# mean(cv.error.10) sd(cv.error.10) plot(cv.error.10,type='l')"
   ]
  },
  {
   "cell_type": "code",
   "execution_count": 58,
   "metadata": {},
   "outputs": [
    {
     "data": {
      "text/html": [
       "0.0213721895497437"
      ],
      "text/latex": [
       "0.0213721895497437"
      ],
      "text/markdown": [
       "0.0213721895497437"
      ],
      "text/plain": [
       "[1] 0.02137219"
      ]
     },
     "metadata": {},
     "output_type": "display_data"
    }
   ],
   "source": [
    "cv.error.10=c()\n",
    "for (i in 1:1) {\n",
    "    glm.fit = glm (default~income+balance+student,data=Default, family=\"binomial\") \n",
    "    cv.error.10[i]= cv.glm (Default, glm.fit, K =10)$delta[1]\n",
    "}\n",
    "cv.error.10\n",
    "#mean(cv.error.10)\n",
    "#sd(cv.error.10)\n",
    "#plot(cv.error.10,type='l')"
   ]
  },
  {
   "cell_type": "markdown",
   "metadata": {},
   "source": [
    "Cette fois-ci, il semble que l'on devrait garder Student ; mais encore une fois la différence est extrèmement faible. Les différences de performances entre l'approche validation et la validation croisée viennent du fait que dans la validation croisée, on utilise un apprentissage sur plus de données. Donc un modèle mieux appris."
   ]
  },
  {
   "cell_type": "markdown",
   "metadata": {},
   "source": [
    "## Estimées des erreurs standard par Bootstrap\n",
    "\n",
    "On poursuit avec la régression logistique et les données `Default`. On va maintennat comparer les erreurs standard sur le coefficients soit calculées analytiquement (et lues sur la sortie de `glm`), soit en utilisant un bootstrap. \n",
    "\n",
    "### Direct\n",
    "En utilisant `summary()` et `glm()`, déterminez les erreurs standards sur les coefficients associées à `income` `balance` dans une régression logistique. "
   ]
  },
  {
   "cell_type": "code",
   "execution_count": 59,
   "metadata": {},
   "outputs": [
    {
     "data": {
      "text/plain": [
       "\n",
       "Call:\n",
       "glm(formula = default ~ income + balance, family = \"binomial\", \n",
       "    data = Default)\n",
       "\n",
       "Deviance Residuals: \n",
       "    Min       1Q   Median       3Q      Max  \n",
       "-2.4725  -0.1444  -0.0574  -0.0211   3.7245  \n",
       "\n",
       "Coefficients:\n",
       "              Estimate Std. Error z value Pr(>|z|)    \n",
       "(Intercept) -1.154e+01  4.348e-01 -26.545  < 2e-16 ***\n",
       "income       2.081e-05  4.985e-06   4.174 2.99e-05 ***\n",
       "balance      5.647e-03  2.274e-04  24.836  < 2e-16 ***\n",
       "---\n",
       "Signif. codes:  0 ‘***’ 0.001 ‘**’ 0.01 ‘*’ 0.05 ‘.’ 0.1 ‘ ’ 1\n",
       "\n",
       "(Dispersion parameter for binomial family taken to be 1)\n",
       "\n",
       "    Null deviance: 2920.6  on 9999  degrees of freedom\n",
       "Residual deviance: 1579.0  on 9997  degrees of freedom\n",
       "AIC: 1585\n",
       "\n",
       "Number of Fisher Scoring iterations: 8\n"
      ]
     },
     "metadata": {},
     "output_type": "display_data"
    }
   ],
   "source": [
    "set.seed(1)\n",
    "glm.fit = glm(default ~ income + balance, data = Default, family = \"binomial\")\n",
    "summary(glm.fit)"
   ]
  },
  {
   "cell_type": "markdown",
   "metadata": {},
   "source": [
    "### Par bootstrap\n",
    "\n",
    "1.  Écrire une fonction `boot.fn()` qui reçoit `Default` ainsi qu'un index des observations et rend les estimées des coefficients pour  income et balance.\n",
    "2. Utiliser `boot()` et  `boot.fn()` pour calculer les erreurs standard. Comparer avec les résultats précédents et commenter..\n"
   ]
  },
  {
   "cell_type": "code",
   "execution_count": 60,
   "metadata": {},
   "outputs": [
    {
     "data": {
      "text/html": [
       "<style>\n",
       ".dl-inline {width: auto; margin:0; padding: 0}\n",
       ".dl-inline>dt, .dl-inline>dd {float: none; width: auto; display: inline-block}\n",
       ".dl-inline>dt::after {content: \":\\0020\"; padding-right: .5ex}\n",
       ".dl-inline>dt:not(:first-of-type) {padding-left: .5ex}\n",
       "</style><dl class=dl-inline><dt>(Intercept)</dt><dd>-11.5404684366776</dd><dt>income</dt><dd>2.08089755005987e-05</dd><dt>balance</dt><dd>0.00564710294333903</dd></dl>\n"
      ],
      "text/latex": [
       "\\begin{description*}\n",
       "\\item[(Intercept)] -11.5404684366776\n",
       "\\item[income] 2.08089755005987e-05\n",
       "\\item[balance] 0.00564710294333903\n",
       "\\end{description*}\n"
      ],
      "text/markdown": [
       "(Intercept)\n",
       ":   -11.5404684366776income\n",
       ":   2.08089755005987e-05balance\n",
       ":   0.00564710294333903\n",
       "\n"
      ],
      "text/plain": [
       "  (Intercept)        income       balance \n",
       "-1.154047e+01  2.080898e-05  5.647103e-03 "
      ]
     },
     "metadata": {},
     "output_type": "display_data"
    }
   ],
   "source": [
    "boot.fn = function(data, index) {\n",
    "    coefficients(glm(default ~ income + balance, data = data, subset = index, family = \"binomial\"))\n",
    "}\n",
    "\n",
    "boot.fn(Default, 1:nrow(Default))"
   ]
  },
  {
   "cell_type": "code",
   "execution_count": 61,
   "metadata": {},
   "outputs": [
    {
     "data": {
      "text/plain": [
       "\n",
       "ORDINARY NONPARAMETRIC BOOTSTRAP\n",
       "\n",
       "\n",
       "Call:\n",
       "boot(data = Default, statistic = boot.fn, R = 1000)\n",
       "\n",
       "\n",
       "Bootstrap Statistics :\n",
       "         original        bias     std. error\n",
       "t1* -1.154047e+01 -3.945460e-02 4.344722e-01\n",
       "t2*  2.080898e-05  1.680317e-07 4.866284e-06\n",
       "t3*  5.647103e-03  1.855765e-05 2.298949e-04"
      ]
     },
     "metadata": {},
     "output_type": "display_data"
    }
   ],
   "source": [
    "library(boot)\n",
    "boot(Default, boot.fn, 1000)"
   ]
  },
  {
   "cell_type": "code",
   "execution_count": 31,
   "metadata": {},
   "outputs": [],
   "source": [
    "?boot"
   ]
  },
  {
   "cell_type": "markdown",
   "metadata": {},
   "source": [
    "```r\n",
    "## \n",
    "## ORDINARY NONPARAMETRIC BOOTSTRAP\n",
    "## \n",
    "## \n",
    "## Call:\n",
    "## boot(data = Default, statistic = boot.fn, R = 1000)\n",
    "## \n",
    "## \n",
    "## Bootstrap Statistics :\n",
    "##       original     bias    std. error\n",
    "## t1* -1.154e+01 -8.008e-03   4.239e-01\n",
    "## t2*  2.081e-05  5.871e-08   4.583e-06\n",
    "## t3*  5.647e-03  2.300e-06   2.268e-04\n",
    "```"
   ]
  },
  {
   "cell_type": "markdown",
   "metadata": {},
   "source": [
    "Les estimées bootstrap sont très proches des valeurs fournies par `summary`. C'est bon signe !"
   ]
  }
 ],
 "metadata": {
  "hide_input": false,
  "interactive_sols": {
   "cbx_id": 1
  },
  "kernelspec": {
   "display_name": "R",
   "language": "R",
   "name": "ir"
  },
  "language_info": {
   "codemirror_mode": "r",
   "file_extension": ".r",
   "mimetype": "text/x-r-source",
   "name": "R",
   "pygments_lexer": "r",
   "version": "4.0.3"
  },
  "latex_envs": {
   "LaTeX_envs_menu_present": true,
   "autoclose": false,
   "autocomplete": true,
   "bibliofile": "biblio.bib",
   "cite_by": "apalike",
   "current_citInitial": 1,
   "eqLabelWithNumbers": true,
   "eqNumInitial": 0,
   "hotkeys": {
    "equation": "ctrl-e"
   },
   "labels_anchors": false,
   "latex_user_defs": false,
   "report_style_numbering": false,
   "user_envs_cfg": false
  },
  "nbTranslate": {
   "displayLangs": [
    "fr",
    "en"
   ],
   "hotkey": "alt-t",
   "langInMainMenu": true,
   "sourceLang": "en",
   "targetLang": "fr",
   "useGoogleTranslate": true
  },
  "toc": {
   "base_numbering": "1",
   "lock_sidebar": true,
   "nav_menu": {
    "height": "300px",
    "width": "252px"
   },
   "number_sections": true,
   "sideBar": true,
   "skip_h1_title": false,
   "title_cell": "Table of Contents",
   "title_sidebar": "Contents",
   "toc_cell": true,
   "toc_position": {
    "height": "415px",
    "left": "0px",
    "right": "938.011px",
    "top": "105px",
    "width": "212px"
   },
   "toc_section_display": "block",
   "toc_window_display": false
  },
  "toc_position": {
   "left": "1438.38px",
   "right": "21.6167px",
   "top": "124px"
  }
 },
 "nbformat": 4,
 "nbformat_minor": 1
}
