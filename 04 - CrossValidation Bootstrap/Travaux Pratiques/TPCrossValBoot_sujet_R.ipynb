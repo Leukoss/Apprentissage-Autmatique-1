{
 "cells": [
  {
   "cell_type": "markdown",
   "metadata": {
    "toc": "true"
   },
   "source": [
    "<h1>Table of Contents<span class=\"tocSkip\"></span></h1>\n",
    "<div class=\"toc\"><ul class=\"toc-item\"><li><span><a href=\"#Analyse-des-performances-sur-les-données-de-Auto-Data-Set\" data-toc-modified-id=\"Analyse-des-performances-sur-les-données-de-Auto-Data-Set-1\"><span class=\"toc-item-num\">1&nbsp;&nbsp;</span>Analyse des performances sur les données de <em>Auto Data Set</em></a></span><ul class=\"toc-item\"><li><span><a href=\"#Utilisation-d'un-ensemble-de-validation---Train/test-split\" data-toc-modified-id=\"Utilisation-d'un-ensemble-de-validation---Train/test-split-1.1\"><span class=\"toc-item-num\">1.1&nbsp;&nbsp;</span>Utilisation d'un ensemble de validation - Train/test split</a></span></li><li><span><a href=\"#Utilisation-de-la-validation-croisée\" data-toc-modified-id=\"Utilisation-de-la-validation-croisée-1.2\"><span class=\"toc-item-num\">1.2&nbsp;&nbsp;</span>Utilisation de la validation croisée</a></span></li></ul></li><li><span><a href=\"#Utilisation-du-bootstrap-sur-les-données-Porfolio\" data-toc-modified-id=\"Utilisation-du-bootstrap-sur-les-données-Porfolio-2\"><span class=\"toc-item-num\">2&nbsp;&nbsp;</span>Utilisation du bootstrap sur les données <em>Porfolio</em></a></span></li><li><span><a href=\"#Estimation-des-performances-d'un-modèle-de-régression-linéaire\" data-toc-modified-id=\"Estimation-des-performances-d'un-modèle-de-régression-linéaire-3\"><span class=\"toc-item-num\">3&nbsp;&nbsp;</span>Estimation des performances d'un modèle de régression linéaire</a></span></li><li><span><a href=\"#Exercices-supplémentaires-[optionnels!]---Validation-sur-la-base-Default\" data-toc-modified-id=\"Exercices-supplémentaires-[optionnels!]---Validation-sur-la-base-Default-4\"><span class=\"toc-item-num\">4&nbsp;&nbsp;</span>Exercices supplémentaires [optionnels!] - Validation sur la base <code>Default</code></a></span><ul class=\"toc-item\"><li><span><a href=\"#Modèle\" data-toc-modified-id=\"Modèle-4.1\"><span class=\"toc-item-num\">4.1&nbsp;&nbsp;</span>Modèle</a></span></li><li><span><a href=\"#Erreur-de-prédiction-par-validation.\" data-toc-modified-id=\"Erreur-de-prédiction-par-validation.-4.2\"><span class=\"toc-item-num\">4.2&nbsp;&nbsp;</span>Erreur de prédiction par validation.</a></span></li><li><span><a href=\"#Recommencer\" data-toc-modified-id=\"Recommencer-4.3\"><span class=\"toc-item-num\">4.3&nbsp;&nbsp;</span>Recommencer</a></span></li><li><span><a href=\"#Pertinence-d'une-nouvelle-variable----Validation\" data-toc-modified-id=\"Pertinence-d'une-nouvelle-variable----Validation-4.4\"><span class=\"toc-item-num\">4.4&nbsp;&nbsp;</span>Pertinence d'une nouvelle variable -- Validation</a></span></li><li><span><a href=\"#Pertinence-d'une-nouvelle-variable----Validation-croisée\" data-toc-modified-id=\"Pertinence-d'une-nouvelle-variable----Validation-croisée-4.5\"><span class=\"toc-item-num\">4.5&nbsp;&nbsp;</span>Pertinence d'une nouvelle variable -- Validation croisée</a></span></li><li><span><a href=\"#Estimées-des-erreurs-standard-par-Bootstrap\" data-toc-modified-id=\"Estimées-des-erreurs-standard-par-Bootstrap-4.6\"><span class=\"toc-item-num\">4.6&nbsp;&nbsp;</span>Estimées des erreurs standard par Bootstrap</a></span><ul class=\"toc-item\"><li><span><a href=\"#Direct\" data-toc-modified-id=\"Direct-4.6.1\"><span class=\"toc-item-num\">4.6.1&nbsp;&nbsp;</span>Direct</a></span></li><li><span><a href=\"#Par-bootstrap\" data-toc-modified-id=\"Par-bootstrap-4.6.2\"><span class=\"toc-item-num\">4.6.2&nbsp;&nbsp;</span>Par bootstrap</a></span></li></ul></li></ul></li></ul></div>"
   ]
  },
  {
   "cell_type": "markdown",
   "metadata": {},
   "source": [
    "Les exercices proposés dans cette séance de travaux pratiques sont adaptés de notre [livre de référence](http://www-bcf.usc.edu/~gareth/ISL/), chapitre 5, pp. 190-197 ainsi que des exercices plus avancés pp 199-201. "
   ]
  },
  {
   "cell_type": "markdown",
   "metadata": {},
   "source": [
    "Avant de vous lancer, vous installerez les packages utiles en lançant, sous R:\n",
    "```r\n",
    "install.packages(\"ISLR\")\n",
    "install.packages(\"boot\")\n",
    "```"
   ]
  },
  {
   "cell_type": "markdown",
   "metadata": {},
   "source": [
    "# Analyse des performances sur les données de *Auto Data Set*"
   ]
  },
  {
   "cell_type": "markdown",
   "metadata": {},
   "source": [
    "On utilisera à nouveau les données `Auto`. Vous obtiendrez la description des variables par `?Auto`. "
   ]
  },
  {
   "cell_type": "markdown",
   "metadata": {},
   "source": [
    "## Utilisation d'un ensemble de validation - Train/test split"
   ]
  },
  {
   "cell_type": "markdown",
   "metadata": {},
   "source": [
    "Vous explorerez l'utilisation d'un ensemble de validation pour estimer l'erreur de prédiction pour différents modèles de régression ajustés sur les données `Auto`. \n",
    "\n",
    "1) Pour commencer, il faut donc définir un ensemble d'apprentissage et un ensemble de validation. Vous utiliserez pour ce faire la fonction `sample`. "
   ]
  },
  {
   "cell_type": "markdown",
   "metadata": {},
   "source": [
    "- Charger le module ISLR\n",
    "- Choisir un seed pour le générateur aléatoire\n",
    "- Sélectionner aléatoirement 50% des indices de `Auto` afin de former l'ensemble d'apprentissage ; vous noterez par exemple train ces indices\n"
   ]
  },
  {
   "cell_type": "code",
   "execution_count": null,
   "metadata": {},
   "outputs": [],
   "source": []
  },
  {
   "cell_type": "markdown",
   "metadata": {},
   "source": [
    "2) Vous effectuerez ensuite une régression de `mpg` sur `horsepower`, en envisageant des régressions polynomiales, pour des degrés allant de 1 à 4. Fonction `lm`\n",
    "\n",
    "- pour chacun des degrés de polynôme, \n",
    "  - effectuer une régression avec le dataset Auto, **sur l'ensemble d'apprentissage** sélectionné question 1)\n",
    "  - tester les performances **sur la base de test** en calculant la moyenne de l'écart quadratique entre `mpg` et la valeur prédite. Fonction `predict`\n",
    "- tracer le résultat et/ou imprimer les performances obtenues\n",
    "- Effectuer l'ensemble de la procédure pour différentes valeurs de seed, c'est-à-dire différents splits training/validation\n",
    "- Quel degré faudrait-il adopter au vu de ces résultats, que penser de la stabilité des différentes estimées de l'erreur de prédiction ?"
   ]
  },
  {
   "cell_type": "code",
   "execution_count": null,
   "metadata": {},
   "outputs": [],
   "source": []
  },
  {
   "cell_type": "markdown",
   "metadata": {},
   "source": [
    "## Utilisation de la validation croisée"
   ]
  },
  {
   "cell_type": "markdown",
   "metadata": {},
   "source": [
    "La librairie `boot` contient à la fois des fonctions pour effectuer du bootstrap et des fonctions pour la validation croisée. Elle contient également une fonction `glm` qui permet, entre autres, d'effectuer des régressions linéaires, tout comme `lm`. \n",
    "\n",
    "1) Vérifier que l'on peut effectivement remplacer `lm` par `glm` en comparant les resultats des régressions `mpg~horsepower` (charger `boot` au préalable) "
   ]
  },
  {
   "cell_type": "code",
   "execution_count": null,
   "metadata": {},
   "outputs": [],
   "source": []
  },
  {
   "cell_type": "markdown",
   "metadata": {},
   "source": [
    "2) Consulter l'aide de `cv.glm`\n",
    "\n",
    "3) Effectuer une estimation de l'erreur par validation croisée en utilisant cette fonction. Regarder la valeur de l'attribut delta et comprendre quels sont les résultats fournis. Quel est, qualitativement, l'effet du choix de K sur les résultats et le temps d'exécution (et quelle est la valeur par défaut) ? "
   ]
  },
  {
   "cell_type": "code",
   "execution_count": null,
   "metadata": {},
   "outputs": [],
   "source": []
  },
  {
   "cell_type": "markdown",
   "metadata": {},
   "source": [
    "4) Pour différentes valeurs de seed et des degrés compris entre 1 et 12, effectuer une régression de `mpg~poly (horsepower, x)` et évaluer l'erreur de prédiction via une validation croisée avec K=10. Comment se compare cette approche avec l'approche précédente. Quel degré choisiriez vous ?"
   ]
  },
  {
   "cell_type": "code",
   "execution_count": null,
   "metadata": {},
   "outputs": [],
   "source": []
  },
  {
   "cell_type": "markdown",
   "metadata": {},
   "source": [
    "5) Pour les étudiants les plus avancés dans le TP, charger la librairie `parallel`. Celle-ci permet d'effectuer les calculs, notamment de CV, sur plusieur coeurs. Il faut utiliser la fonction `mclapply`, équivalent à une `lapply` qui appliquerait la même fonction sur plusieurs coeurs. Utiliser cette fonction pour paralléliser le calcul du CV"
   ]
  },
  {
   "cell_type": "code",
   "execution_count": null,
   "metadata": {},
   "outputs": [],
   "source": []
  },
  {
   "cell_type": "markdown",
   "metadata": {},
   "source": [
    "# Utilisation du bootstrap sur les données *Porfolio*\n",
    "\n",
    "Un des grands avantages du bootstrap est qu'il peut-être appliqué dans à peu près n'importe quelle situation. En R, utiliser le bootstrap se fait en deux étapes : \n",
    "\n",
    "- Créer une fonction qui calcule la statistique d'intérêt, \n",
    "- Utiliser la fonction `boot()`, contenue dans la librairie de mêm nom, pour calculer la statistique bootsrap en répétant le cacul de cette statistique sur des échantillons bootstrap obtenus par rééchantillonage avec remplacement des données initiales. \n",
    "\n",
    "Nous allons réutiliser l'exemple vu en cours sur des données qu'on imagine être des données d'investissement, $X$ et $Y$. On cherche le meilleur paramètre de mélange entre ces deux populations de manière à minimiser la variance de l'ensemble \n",
    "$$\n",
    "\\mathrm{Var}\\left[{\\alpha X+(1-\\alpha Y)}\\right]\n",
    "$$\n",
    "La solution analytique est donnée par\n",
    "$$\n",
    "\\alpha = \\frac{\\sigma_Y^2-\\sigma_{XY} }{\\sigma_X^2 + \\sigma_Y^2-2\\sigma_{XY}}.\n",
    "$$\n",
    "En pratique, la valeur sera estimée en $\\hat{\\alpha}$ en remplaçant les différentes variances et covariances par leurs estimées. Les données sont disponibles dans le dataframe Portfolio. \n",
    "\n",
    "1. Consultez l'aide par `?Portfolio`.  \n",
    "2. Écrire une fonction `alpha.fn(data, index)` qui reçoit les données et un vecteur des indices à utiliser. La fonction doit retourner une estimée de $\\alpha$. Fonctions utiles: `var`, `cov`. \n",
    "3. Consulter l'aide de `boot`, puis utiliser la fonction afin de calculer l'estimée bootstrap à partir de 1000 échantillons bootsrap. Tracer l'histogramme des résultats ; donner l'intervalle de confiance à 95% correspondant. "
   ]
  },
  {
   "cell_type": "code",
   "execution_count": null,
   "metadata": {},
   "outputs": [],
   "source": []
  },
  {
   "cell_type": "markdown",
   "metadata": {},
   "source": [
    "# Estimation des performances d'un modèle de régression linéaire\n",
    "\n",
    "Comme on l'a vu en cours, il est possible d'utiliser le bootstrap afin de quantifier la qualité des estimées et prédictions des méthodes d'appprentissage statistique. Cela s'applique par exemple à la régression linéaire toute simple. On va considérer la régression habituelle  `mpg~horsepower` pour le dataset `Auto`, pour des degrés 1 et 2, et comparer les performances affichées à l'aide des formules explicites (connues dans ce cas simple), et l'évaluation numérique donnée par le bootstrap. \n",
    "\n",
    "1. Créer une fonction `boot.fn()` qui prenne en entrée les données et un vecteur d'index et retourne les coefficients de la régression linéaire correspondante. \n",
    "2. Utiliser la fonction `sample` pour rééchantillonner les données et calculer les estimées correspondantes par `boot.fn`. Réitérer avec une autre valeur de seed. Comparer ces résultats. \n",
    "3. Utiliser mainetant la fonction `boot` pour calculer un millier de ces estimées. Afficher les résultats. \n",
    "4. Comparer ces résultats à ceux qu'on relève sur le résumé `summary` de la fonction `lm`. "
   ]
  },
  {
   "cell_type": "code",
   "execution_count": null,
   "metadata": {},
   "outputs": [],
   "source": []
  },
  {
   "cell_type": "markdown",
   "metadata": {},
   "source": [
    "5 Enfin, effectuer les mêmes opérations pour une régression polynomiale de degré 2. Que pensez-vous de la qualité des estimées bootstrap ?"
   ]
  },
  {
   "cell_type": "code",
   "execution_count": null,
   "metadata": {},
   "outputs": [],
   "source": []
  },
  {
   "cell_type": "markdown",
   "metadata": {},
   "source": [
    "# Exercices supplémentaires [optionnels!] - Validation sur la base `Default`\n"
   ]
  },
  {
   "cell_type": "markdown",
   "metadata": {},
   "source": [
    "Dans le TP sur la discrimination, on a utilisé la base `Default` avec une régression logistique. On va maintenant estimer l'erreur de prédiction en utilisant un ensemble de validation, puis on testera l'importance des variables dans le modèle. Enfin, on estimera les statistiques sur les coefficients par bootstrap. \n",
    "\n",
    "## Modèle \n",
    "Charger ISLR, choisir un seed, et apprendre un modèle de régression logistique pour `default~income+balance`. Afficher les résultats.  "
   ]
  },
  {
   "cell_type": "code",
   "execution_count": null,
   "metadata": {},
   "outputs": [],
   "source": []
  },
  {
   "cell_type": "markdown",
   "metadata": {},
   "source": [
    "## Erreur de prédiction par validation. \n",
    "\n",
    "Estimez l'erreur de prédiction pour ce modèle. Pour cela :\n",
    "\n",
    "1. Séparer les données en un ensemble d'apprentissage et un ensemble de validation (train=3/4 des donnéesa, test=le 1/4 restant)\n",
    "2. Apprendre le modèle\n",
    "3. Calculer les prédictions sur la base de test, et le taux d'erreur en seuillant la probabilité a posteriori à 0.5"
   ]
  },
  {
   "cell_type": "code",
   "execution_count": null,
   "metadata": {},
   "outputs": [],
   "source": []
  },
  {
   "cell_type": "markdown",
   "metadata": {},
   "source": [
    "## Recommencer\n",
    "\n",
    "Répéter le processus précédent un certain nombre de fois, en utililisant différentes segmentations des données. Commenter. "
   ]
  },
  {
   "cell_type": "code",
   "execution_count": null,
   "metadata": {},
   "outputs": [],
   "source": []
  },
  {
   "cell_type": "markdown",
   "metadata": {},
   "source": [
    "## Pertinence d'une nouvelle variable -- Validation\n",
    "\n",
    "Considérons maintenant un modèle qui prédict la probabilité de défaut à partir de  income, balance, et d'une variable catégorielle sur student. Estimer le taux d'erreur sur un ensemble validation, pour plusieurs ensembles. Commenter sur l'utilité d'inclure ou non la variable student ?"
   ]
  },
  {
   "cell_type": "code",
   "execution_count": null,
   "metadata": {
    "collapsed": true
   },
   "outputs": [],
   "source": []
  },
  {
   "cell_type": "markdown",
   "metadata": {},
   "source": [
    "## Pertinence d'une nouvelle variable -- Validation croisée"
   ]
  },
  {
   "cell_type": "markdown",
   "metadata": {},
   "source": [
    "Effectuer la même étude que précédemment, mais en évaluant les performances par validation croisée. Que concluerait-on cette fois ? Comment expliquer les différences éventuelles entre les performances ?"
   ]
  },
  {
   "cell_type": "code",
   "execution_count": null,
   "metadata": {
    "collapsed": true
   },
   "outputs": [],
   "source": []
  },
  {
   "cell_type": "markdown",
   "metadata": {},
   "source": [
    "## Estimées des erreurs standard par Bootstrap\n",
    "\n",
    "On poursuit avec la régression logistique et les données `Default`. On va maintennat comparer les erreurs standard sur le coefficients soit calculées analytiquement (et lues sur la sortie de `glm`, soit en utilisant un bootstrap. \n",
    "\n",
    "### Direct\n",
    "En utilisant `summary()` et `glm()`, déterminez les erreurs standards sur les coefficients associées à `income` `balance` dans une régression logistique. "
   ]
  },
  {
   "cell_type": "code",
   "execution_count": null,
   "metadata": {},
   "outputs": [],
   "source": []
  },
  {
   "cell_type": "markdown",
   "metadata": {},
   "source": [
    "### Par bootstrap\n",
    "\n",
    "1.  Écrire une fonction `boot.fn()` qui reçoit `Default` ainsi qu'un index des observations et rend les estimées des coefficients pour  income et balance.\n",
    "2. Utiliser `boot()` et  `boot.fn()` pour calculer les erreurs standard. Comparer avec les résultats précédents et commenter..\n"
   ]
  },
  {
   "cell_type": "code",
   "execution_count": null,
   "metadata": {},
   "outputs": [],
   "source": []
  }
 ],
 "metadata": {
  "hide_input": false,
  "interactive_sols": {
   "cbx_id": 1
  },
  "kernelspec": {
   "display_name": "R",
   "language": "R",
   "name": "ir"
  },
  "language_info": {
   "codemirror_mode": "r",
   "file_extension": ".r",
   "mimetype": "text/x-r-source",
   "name": "R",
   "pygments_lexer": "r",
   "version": "3.5.1"
  },
  "latex_envs": {
   "LaTeX_envs_menu_present": true,
   "autoclose": false,
   "autocomplete": true,
   "bibliofile": "biblio.bib",
   "cite_by": "apalike",
   "current_citInitial": 1,
   "eqLabelWithNumbers": true,
   "eqNumInitial": 0,
   "hotkeys": {
    "equation": "ctrl-e"
   },
   "labels_anchors": false,
   "latex_user_defs": false,
   "report_style_numbering": false,
   "user_envs_cfg": false
  },
  "nbTranslate": {
   "displayLangs": [
    "fr",
    "en"
   ],
   "hotkey": "alt-t",
   "langInMainMenu": true,
   "sourceLang": "en",
   "targetLang": "fr",
   "useGoogleTranslate": true
  },
  "toc": {
   "base_numbering": "1",
   "nav_menu": {
    "height": "300px",
    "width": "252px"
   },
   "number_sections": true,
   "sideBar": true,
   "skip_h1_title": false,
   "title_cell": "Table of Contents",
   "title_sidebar": "Contents",
   "toc_cell": true,
   "toc_position": {},
   "toc_section_display": "block",
   "toc_window_display": false
  },
  "toc_position": {
   "left": "1451.38px",
   "right": "8.61667px",
   "top": "54px"
  }
 },
 "nbformat": 4,
 "nbformat_minor": 1
}
