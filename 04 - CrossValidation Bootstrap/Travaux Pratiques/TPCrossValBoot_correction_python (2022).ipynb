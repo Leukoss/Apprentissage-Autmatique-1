{
 "cells": [
  {
   "cell_type": "markdown",
   "metadata": {
    "toc": true
   },
   "source": [
    "<h1>Table of Contents<span class=\"tocSkip\"></span></h1>\n",
    "<div class=\"toc\"><ul class=\"toc-item\"><li><span><a href=\"#Analyse-des-performances-sur-les-données-de-Auto-Data-Set\" data-toc-modified-id=\"Analyse-des-performances-sur-les-données-de-Auto-Data-Set-1\"><span class=\"toc-item-num\">1&nbsp;&nbsp;</span>Analyse des performances sur les données de <em>Auto Data Set</em></a></span><ul class=\"toc-item\"><li><span><a href=\"#Utilisation-d'un-ensemble-de-validation---Train/test-split\" data-toc-modified-id=\"Utilisation-d'un-ensemble-de-validation---Train/test-split-1.1\"><span class=\"toc-item-num\">1.1&nbsp;&nbsp;</span>Utilisation d'un ensemble de validation - Train/test split</a></span></li><li><span><a href=\"#Utilisation-de-la-validation-croisée\" data-toc-modified-id=\"Utilisation-de-la-validation-croisée-1.2\"><span class=\"toc-item-num\">1.2&nbsp;&nbsp;</span>Utilisation de la validation croisée</a></span></li></ul></li><li><span><a href=\"#Estimation-des-performances-d'un-modèle-de-régression-linéaire\" data-toc-modified-id=\"Estimation-des-performances-d'un-modèle-de-régression-linéaire-2\"><span class=\"toc-item-num\">2&nbsp;&nbsp;</span>Estimation des performances d'un modèle de régression linéaire</a></span></li><li><span><a href=\"#Validation-sur-la-base-Default\" data-toc-modified-id=\"Validation-sur-la-base-Default-3\"><span class=\"toc-item-num\">3&nbsp;&nbsp;</span>Validation sur la base <code>Default</code></a></span><ul class=\"toc-item\"><li><span><a href=\"#Modèle\" data-toc-modified-id=\"Modèle-3.1\"><span class=\"toc-item-num\">3.1&nbsp;&nbsp;</span>Modèle</a></span></li><li><span><a href=\"#Erreur-de-prédiction-par-validation.\" data-toc-modified-id=\"Erreur-de-prédiction-par-validation.-3.2\"><span class=\"toc-item-num\">3.2&nbsp;&nbsp;</span>Erreur de prédiction par validation.</a></span></li><li><span><a href=\"#Recommencer\" data-toc-modified-id=\"Recommencer-3.3\"><span class=\"toc-item-num\">3.3&nbsp;&nbsp;</span>Recommencer</a></span></li><li><span><a href=\"#Pertinence-d'une-nouvelle-variable----Validation\" data-toc-modified-id=\"Pertinence-d'une-nouvelle-variable----Validation-3.4\"><span class=\"toc-item-num\">3.4&nbsp;&nbsp;</span>Pertinence d'une nouvelle variable -- Validation</a></span></li><li><span><a href=\"#Pertinence-d'une-nouvelle-variable----Validation-croisée\" data-toc-modified-id=\"Pertinence-d'une-nouvelle-variable----Validation-croisée-3.5\"><span class=\"toc-item-num\">3.5&nbsp;&nbsp;</span>Pertinence d'une nouvelle variable -- Validation croisée</a></span></li><li><span><a href=\"#Estimées-des-erreurs-standard-par-Bootstrap\" data-toc-modified-id=\"Estimées-des-erreurs-standard-par-Bootstrap-3.6\"><span class=\"toc-item-num\">3.6&nbsp;&nbsp;</span>Estimées des erreurs standard par Bootstrap</a></span><ul class=\"toc-item\"><li><span><a href=\"#Direct\" data-toc-modified-id=\"Direct-3.6.1\"><span class=\"toc-item-num\">3.6.1&nbsp;&nbsp;</span>Direct</a></span></li><li><span><a href=\"#Par-bootstrap\" data-toc-modified-id=\"Par-bootstrap-3.6.2\"><span class=\"toc-item-num\">3.6.2&nbsp;&nbsp;</span>Par bootstrap</a></span></li></ul></li></ul></li></ul></div>"
   ]
  },
  {
   "cell_type": "markdown",
   "metadata": {},
   "source": [
    "Les exercices proposés dans cette séance de travaux pratiques sont adaptés de notre [livre de référence](http://www-bcf.usc.edu/~gareth/ISL/), chapitre 5, pp. 190-197 ainsi que des exercices plus avancés pp 199-201. "
   ]
  },
  {
   "cell_type": "markdown",
   "metadata": {},
   "source": [
    "Avant de vous lancer, vous installerez les packages utiles en lançant\n"
   ]
  },
  {
   "cell_type": "code",
   "execution_count": 1,
   "metadata": {
    "ExecuteTime": {
     "end_time": "2024-01-10T10:32:44.666764Z",
     "start_time": "2024-01-10T10:32:44.337285300Z"
    }
   },
   "outputs": [],
   "source": [
    "import sklearn"
   ]
  },
  {
   "cell_type": "code",
   "execution_count": 2,
   "metadata": {
    "ExecuteTime": {
     "end_time": "2024-01-10T10:32:45.109334600Z",
     "start_time": "2024-01-10T10:32:44.672765400Z"
    }
   },
   "outputs": [],
   "source": [
    "import pandas as pd\n",
    "import numpy as np\n",
    "import matplotlib.pyplot as plt\n",
    "import seaborn as sns\n",
    "\n",
    "from IPython.display import HTML\n",
    "\n",
    "import sklearn.linear_model as linear_model\n",
    "from sklearn.metrics import mean_squared_error\n",
    "from sklearn.model_selection import train_test_split, LeaveOneOut, KFold, cross_val_score # (sklearn > 0.2)\n",
    "#from sklearn.cross_validation import train_test_split, LeaveOneOut, KFold, cross_val_score\n",
    "from sklearn.preprocessing import PolynomialFeatures\n",
    "\n",
    "%matplotlib inline\n",
    "plt.style.use('seaborn-v0_8-white')"
   ]
  },
  {
   "cell_type": "markdown",
   "metadata": {},
   "source": [
    "Les datasets utiles peuvent être obtenus ici : [https://vincentarelbundock.github.io/Rdatasets/datasets.html](https://vincentarelbundock.github.io/Rdatasets/datasets.html)"
   ]
  },
  {
   "cell_type": "markdown",
   "metadata": {},
   "source": [
    "# Analyse des performances sur les données de *Auto Data Set*"
   ]
  },
  {
   "cell_type": "markdown",
   "metadata": {},
   "source": [
    "Chargez les données contenues dans le fichier csv `Auto` dans un dataframe `df`, et éliminez les lignes contenant des valeurs inconnues (NA).  Examinez quelles sont les caractéristqies de ce dataframe. \n",
    "\n",
    "/!\\ Les NA sint désignés par '?'"
   ]
  },
  {
   "cell_type": "code",
   "execution_count": 3,
   "metadata": {
    "ExecuteTime": {
     "end_time": "2024-01-10T10:32:45.309334600Z",
     "start_time": "2024-01-10T10:32:45.111333500Z"
    }
   },
   "outputs": [
    {
     "name": "stdout",
     "output_type": "stream",
     "text": [
      "<class 'pandas.core.frame.DataFrame'>\n",
      "RangeIndex: 392 entries, 0 to 391\n",
      "Data columns (total 10 columns):\n",
      " #   Column        Non-Null Count  Dtype  \n",
      "---  ------        --------------  -----  \n",
      " 0   Unnamed: 0    392 non-null    int64  \n",
      " 1   mpg           392 non-null    float64\n",
      " 2   cylinders     392 non-null    int64  \n",
      " 3   displacement  392 non-null    float64\n",
      " 4   horsepower    392 non-null    int64  \n",
      " 5   weight        392 non-null    int64  \n",
      " 6   acceleration  392 non-null    float64\n",
      " 7   year          392 non-null    int64  \n",
      " 8   origin        392 non-null    int64  \n",
      " 9   name          392 non-null    object \n",
      "dtypes: float64(3), int64(6), object(1)\n",
      "memory usage: 30.8+ KB\n"
     ]
    }
   ],
   "source": [
    "df = pd.read_csv('Auto.csv', na_values='?').dropna()\n",
    "df.info()"
   ]
  },
  {
   "cell_type": "markdown",
   "metadata": {},
   "source": [
    "On utilisera à nouveau les données `Auto`. \n",
    "Vous obtiendrez la description des variables par les lignes suivantes : "
   ]
  },
  {
   "cell_type": "code",
   "execution_count": 4,
   "metadata": {
    "ExecuteTime": {
     "end_time": "2024-01-10T10:32:45.346371600Z",
     "start_time": "2024-01-10T10:32:45.261649Z"
    }
   },
   "outputs": [
    {
     "data": {
      "text/plain": "<IPython.core.display.HTML object>",
      "text/html": "<!DOCTYPE html PUBLIC \"-//W3C//DTD XHTML 1.0 Strict//EN\" \"http://www.w3.org/TR/xhtml1/DTD/xhtml1-strict.dtd\"><html xmlns=\"http://www.w3.org/1999/xhtml\"><head><title>R: Auto Data Set</title>\n<meta http-equiv=\"Content-Type\" content=\"text/html; charset=utf-8\" />\n<link rel=\"stylesheet\" type=\"text/css\" href=\"R.css\" />\n</head><body>\n\n<table width=\"100%\" summary=\"page for Auto\"><tr><td>Auto</td><td style=\"text-align: right;\">R Documentation</td></tr></table>\n\n<h2>\nAuto Data Set\n</h2>\n\n<h3>Description</h3>\n\n<p>Gas mileage, horsepower, and other information for 392 vehicles.</p>\n\n\n<h3>Usage</h3>\n\n<pre>Auto</pre>\n\n\n<h3>Format</h3>\n\n<p>A data frame with 392 observations on the following 9 variables.\n</p>\n\n<dl>\n<dt><code>mpg</code></dt><dd><p>miles per gallon</p>\n</dd>\n<dt><code>cylinders</code></dt><dd><p>Number of cylinders between 4 and 8</p>\n</dd>\n<dt><code>displacement</code></dt><dd><p>Engine displacement (cu. inches)</p>\n</dd>\n<dt><code>horsepower</code></dt><dd><p>Engine horsepower</p>\n</dd>\n<dt><code>weight</code></dt><dd><p>Vehicle weight (lbs.)</p>\n</dd>\n<dt><code>acceleration</code></dt><dd><p>Time to accelerate from 0 to 60 mph (sec.)</p>\n</dd>\n<dt><code>year</code></dt><dd><p>Model year (modulo 100)</p>\n</dd>\n<dt><code>origin</code></dt><dd><p>Origin of car (1. American, 2. European, 3. Japanese)</p>\n</dd>\n<dt><code>name</code></dt><dd><p>Vehicle name</p>\n</dd></dl>\n\n<p>The orginal data contained 408 observations but 16 observations with\nmissing values were removed.</p>\n\n\n<h3>Source</h3>\n\n<p>This dataset was taken from the StatLib library which is maintained at Carnegie Mellon University. The dataset was used in the 1983 American Statistical Association Exposition.\n</p>\n\n\n<h3>References</h3>\n\n<p>James, G., Witten, D., Hastie, T., and Tibshirani, R. (2013)\n<em>An Introduction to Statistical Learning with applications in R</em>,\n<a href=\"www.StatLearning.com\">www.StatLearning.com</a>,\nSpringer-Verlag, New York\n</p>\n\n\n<h3>Examples</h3>\n\n<pre>\npairs(Auto)\nattach(Auto)\nhist(mpg)\n</pre>\n\n\n</body></html>\n"
     },
     "metadata": {},
     "output_type": "display_data"
    }
   ],
   "source": [
    "from IPython.display import HTML\n",
    "\n",
    "with open(\"R_ Auto Data Set.html\",'r') as f: \n",
    "    display(HTML(f.read()))"
   ]
  },
  {
   "cell_type": "markdown",
   "metadata": {},
   "source": [
    "## Utilisation d'un ensemble de validation - Train/test split"
   ]
  },
  {
   "cell_type": "markdown",
   "metadata": {},
   "source": [
    "Vous explorerez l'utilisation d'un ensemble de validation pour estimer l'erreur de prédiction pour différents modèles de régression ajustés sur les données `Auto`. \n",
    "\n",
    "1) Pour commencer, il faut donc définir un ensemble d'apprentissage et un ensemble de validation. Vous utiliserez pour ce faire la fonction `sample`. "
   ]
  },
  {
   "cell_type": "markdown",
   "metadata": {},
   "source": [
    "1) On utilisera la librairie scikit learn. Séparez votre dataframe en une matrice X des variables expicatives, et une réponse y. Vous chercherez à prédire `mpg` en fonction de `horsepower` (et plus tard de `horsepower` et de ses puissances)\n",
    "\n",
    "Vous utiliserez ensuite `train_test_split` pour séparer vos données en des données d'apprentissage et de test (validation). Vous prendrez 50% des données dans chaque ensemble. "
   ]
  },
  {
   "cell_type": "code",
   "execution_count": 5,
   "metadata": {
    "ExecuteTime": {
     "end_time": "2024-01-10T10:32:45.416296300Z",
     "start_time": "2024-01-10T10:32:45.283005900Z"
    }
   },
   "outputs": [],
   "source": [
    "X = df[['horsepower']]\n",
    "y = df['mpg']"
   ]
  },
  {
   "cell_type": "code",
   "execution_count": 6,
   "metadata": {
    "ExecuteTime": {
     "end_time": "2024-01-10T10:32:45.497313500Z",
     "start_time": "2024-01-10T10:32:45.311337900Z"
    }
   },
   "outputs": [],
   "source": [
    "X_train, X_test, y_train, y_test = train_test_split(X, y,\n",
    "                                                        test_size=0.5, random_state=21)"
   ]
  },
  {
   "cell_type": "code",
   "execution_count": 7,
   "metadata": {
    "ExecuteTime": {
     "end_time": "2024-01-10T10:32:45.549031Z",
     "start_time": "2024-01-10T10:32:45.343904700Z"
    }
   },
   "outputs": [],
   "source": [
    "idx = range(df.shape[0])\n",
    "train_idx = np.random.choice(idx, size=int(round(df.shape[0]/2)))\n",
    "test_idx = [index for index in idx if index not in train_idx]"
   ]
  },
  {
   "cell_type": "markdown",
   "metadata": {},
   "source": [
    "2) Vous effectuerez ensuite une régression de `mpg` sur `horsepower`, en envisageant des régressions polynomiales, pour des degrés allant de 1 à 4. Utiliser la classe `LinearRegression()` de `sklearn.linear_model`. "
   ]
  },
  {
   "cell_type": "markdown",
   "metadata": {},
   "source": [
    "Commencez par une régression linéaire avec un ordre 1"
   ]
  },
  {
   "cell_type": "code",
   "execution_count": 8,
   "metadata": {
    "ExecuteTime": {
     "end_time": "2024-01-10T10:32:45.581095900Z",
     "start_time": "2024-01-10T10:32:45.408298600Z"
    }
   },
   "outputs": [],
   "source": [
    "model = sklearn.linear_model.LinearRegression()"
   ]
  },
  {
   "cell_type": "code",
   "execution_count": 9,
   "metadata": {
    "ExecuteTime": {
     "end_time": "2024-01-10T10:32:45.647425100Z",
     "start_time": "2024-01-10T10:32:45.428846700Z"
    }
   },
   "outputs": [
    {
     "name": "stdout",
     "output_type": "stream",
     "text": [
      "score 0.596503689620603\n",
      "Erreur moyenne (train) :  25.128482562321295\n",
      "Erreur moyenne (test) :  23.061163401524546\n"
     ]
    }
   ],
   "source": [
    "model.fit(X_train,y_train)\n",
    "print(\"score\", model.score(X_train,y_train))\n",
    "eqm_train = mean_squared_error(y_train, model.predict(X_train))\n",
    "eqm_test = mean_squared_error(y_test, model.predict(X_test))\n",
    "print(\"Erreur moyenne (train) : \", eqm_train)\n",
    "print(\"Erreur moyenne (test) : \", eqm_test)"
   ]
  },
  {
   "cell_type": "markdown",
   "metadata": {},
   "source": [
    "Pour ajouter des variables constituées par les puissances successives de `horsepower`, vous utiliserez la classe `PolynomialFeatures()`, que vous instancierez et dont vous utiliserez la méthode `fit_transform`.  Tester avec un ordre 2."
   ]
  },
  {
   "cell_type": "code",
   "execution_count": 10,
   "metadata": {
    "ExecuteTime": {
     "end_time": "2024-01-10T10:32:45.647425100Z",
     "start_time": "2024-01-10T10:32:45.481862200Z"
    }
   },
   "outputs": [],
   "source": [
    "ordre = 2\n",
    "poly = PolynomialFeatures(degree=ordre)\n",
    "X_poly = poly.fit_transform(df[['horsepower']])"
   ]
  },
  {
   "cell_type": "code",
   "execution_count": 11,
   "outputs": [
    {
     "data": {
      "text/plain": "   horsepower\n0         130\n1         165\n2         150\n3         150\n4         140",
      "text/html": "<div>\n<style scoped>\n    .dataframe tbody tr th:only-of-type {\n        vertical-align: middle;\n    }\n\n    .dataframe tbody tr th {\n        vertical-align: top;\n    }\n\n    .dataframe thead th {\n        text-align: right;\n    }\n</style>\n<table border=\"1\" class=\"dataframe\">\n  <thead>\n    <tr style=\"text-align: right;\">\n      <th></th>\n      <th>horsepower</th>\n    </tr>\n  </thead>\n  <tbody>\n    <tr>\n      <th>0</th>\n      <td>130</td>\n    </tr>\n    <tr>\n      <th>1</th>\n      <td>165</td>\n    </tr>\n    <tr>\n      <th>2</th>\n      <td>150</td>\n    </tr>\n    <tr>\n      <th>3</th>\n      <td>150</td>\n    </tr>\n    <tr>\n      <th>4</th>\n      <td>140</td>\n    </tr>\n  </tbody>\n</table>\n</div>"
     },
     "execution_count": 11,
     "metadata": {},
     "output_type": "execute_result"
    }
   ],
   "source": [
    "df[['horsepower']].head()"
   ],
   "metadata": {
    "collapsed": false,
    "ExecuteTime": {
     "end_time": "2024-01-10T10:32:45.684576300Z",
     "start_time": "2024-01-10T10:32:45.496192300Z"
    }
   }
  },
  {
   "cell_type": "code",
   "execution_count": 12,
   "metadata": {
    "ExecuteTime": {
     "end_time": "2024-01-10T10:32:45.687590800Z",
     "start_time": "2024-01-10T10:32:45.523546Z"
    }
   },
   "outputs": [
    {
     "data": {
      "text/plain": "array([[1.0000e+00, 1.3000e+02, 1.6900e+04],\n       [1.0000e+00, 1.6500e+02, 2.7225e+04],\n       [1.0000e+00, 1.5000e+02, 2.2500e+04],\n       ...,\n       [1.0000e+00, 8.4000e+01, 7.0560e+03],\n       [1.0000e+00, 7.9000e+01, 6.2410e+03],\n       [1.0000e+00, 8.2000e+01, 6.7240e+03]])"
     },
     "execution_count": 12,
     "metadata": {},
     "output_type": "execute_result"
    }
   ],
   "source": [
    "X_poly"
   ]
  },
  {
   "cell_type": "markdown",
   "metadata": {},
   "source": [
    "Effectuez maintenant la régression linéaire avec un polynôme d'ordre 2 en `horsepower`, après avoir séparé vos données en train et test (comme précédemment)"
   ]
  },
  {
   "cell_type": "code",
   "execution_count": 13,
   "metadata": {
    "ExecuteTime": {
     "end_time": "2024-01-10T10:32:45.716472Z",
     "start_time": "2024-01-10T10:32:45.534086Z"
    }
   },
   "outputs": [],
   "source": [
    "X_train, X_test, y_train, y_test = train_test_split(X_poly, y, test_size=0.5,\n",
    "                                                    random_state=117)"
   ]
  },
  {
   "cell_type": "code",
   "execution_count": 14,
   "metadata": {
    "ExecuteTime": {
     "end_time": "2024-01-10T10:32:45.717517200Z",
     "start_time": "2024-01-10T10:32:45.556061700Z"
    }
   },
   "outputs": [
    {
     "name": "stdout",
     "output_type": "stream",
     "text": [
      "score 0.6866858730765223\n",
      "Erreur moyenne (train) :  18.37307250793768\n",
      "Erreur moyenne (test) :  19.680109650082244\n"
     ]
    }
   ],
   "source": [
    "model = sklearn.linear_model.LinearRegression(fit_intercept=False)\n",
    "model.fit(X_train,y_train)\n",
    "print(\"score\", model.score(X_train,y_train))\n",
    "eqm_train = mean_squared_error(y_train, model.predict(X_train))\n",
    "eqm_test = mean_squared_error(y_test, model.predict(X_test))\n",
    "print(\"Erreur moyenne (train) : \", eqm_train )\n",
    "print(\"Erreur moyenne (test) : \", eqm_test )"
   ]
  },
  {
   "cell_type": "markdown",
   "metadata": {},
   "source": [
    "On envisage maintenant des ordre allant de 0 à 12\n",
    "\n",
    "- pour chacun des degrés de polynôme, \n",
    "  - effectuer une régression avec le dataset Auto, **sur l'ensemble d'apprentissage** sélectionné question 1)\n",
    "  - tester les performances **sur la base de test** en calculant la moyenne de l'écart quadratique entre `mpg` et la valeur prédite. Méthode `predict`\n",
    "- tracer le résultat Erreur = f(ordre),  et/ou imprimer les performances obtenues\n",
    "- Effectuer l'ensemble de la procédure pour différentes valeurs du random seed, c'est-à-dire différents splits training/validation -- tracer l'ensemble des courbes obtenus\n",
    "- Quel degré faudrait-il adopter au vu de ces résultats, que penser de la stabilité des différentes estimées de l'erreur de prédiction ?"
   ]
  },
  {
   "cell_type": "code",
   "execution_count": 15,
   "metadata": {
    "ExecuteTime": {
     "end_time": "2024-01-10T10:32:47.121782900Z",
     "start_time": "2024-01-10T10:32:45.583094Z"
    }
   },
   "outputs": [
    {
     "data": {
      "text/plain": "<Figure size 640x480 with 1 Axes>",
      "image/png": "[encoded data removed]"
     },
     "metadata": {},
     "output_type": "display_data"
    }
   ],
   "source": [
    "ordremax = 14\n",
    "ordres  = range(ordremax)\n",
    "Eqm_train = np.zeros(shape=ordremax)\n",
    "Eqm_test = np.zeros(shape=ordremax)\n",
    "Eqm_test_cumul = np.zeros(shape=ordremax)\n",
    "verbose = False\n",
    "for split in np.random.choice(range(2000),size=10):\n",
    "    for order in range(ordremax):\n",
    "        if verbose: print(\"ordre = \", order, 10*'*')\n",
    "        # polynomial features\n",
    "        poly = PolynomialFeatures(degree=order)\n",
    "        X_poly = poly.fit_transform(df[['horsepower']])\n",
    "        # split train/test\n",
    "        X_train, X_test, y_train, y_test = train_test_split(X_poly, y,\n",
    "                                                            test_size=0.5, random_state=split)\n",
    "        # modèle\n",
    "        model = sklearn.linear_model.LinearRegression(fit_intercept=True)\n",
    "        model.fit(X_train,y_train)\n",
    "        # performances du modèle\n",
    "        if verbose: print(\"score\", model.score(X_train,y_train))\n",
    "        eqm_train = mean_squared_error(y_train, model.predict(X_train))\n",
    "        eqm_test = mean_squared_error(y_test, model.predict(X_test))\n",
    "        Eqm_train[order] = eqm_train    \n",
    "        Eqm_test[order] = eqm_test\n",
    "        Eqm_test_cumul[order]  = Eqm_test_cumul[order]  + eqm_test\n",
    "        if verbose: print(\"Erreur moyenne (train) : \", eqm_train)\n",
    "        if verbose: print(\"Erreur moyenne (test) : \", eqm_test)\n",
    "    plt.plot(ordres, Eqm_test, '-o')  \n",
    "    plt.xlabel(\"Ordre du modèle\")\n",
    "    plt.ylabel(\"EQM sur l'ensemble de test\")\n",
    "    plt.axis([0, 13, 15, 30])"
   ]
  },
  {
   "cell_type": "markdown",
   "metadata": {},
   "source": [
    "Tracer la moyenne des erreurs (sur les différents splits), en fonction de l'ordre du modèle. "
   ]
  },
  {
   "cell_type": "code",
   "execution_count": 16,
   "metadata": {
    "ExecuteTime": {
     "end_time": "2024-01-10T10:32:47.378649300Z",
     "start_time": "2024-01-10T10:32:46.998439Z"
    }
   },
   "outputs": [
    {
     "data": {
      "text/plain": "Text(0, 0.5, \"EQM sur l'ensemble de test (moyenne)\")"
     },
     "execution_count": 16,
     "metadata": {},
     "output_type": "execute_result"
    },
    {
     "data": {
      "text/plain": "<Figure size 640x480 with 1 Axes>",
      "image/png": "[encoded data removed]"
     },
     "metadata": {},
     "output_type": "display_data"
    }
   ],
   "source": [
    "plt.plot(ordres, Eqm_test_cumul/10)\n",
    "plt.xlabel(\"Ordre du modèle\")\n",
    "plt.ylabel(\"EQM sur l'ensemble de test (moyenne)\")"
   ]
  },
  {
   "cell_type": "markdown",
   "metadata": {},
   "source": [
    "Pas si simple de choisir le degré \"optimal\" lorque qu'on teste dfférents couples training/validation. le handicap est ici le faible nombre de données qui donne une très grande variabilité. Ce qui est net c'est que passer à un degré 2 donne une nette amélioration ; après c'est très variable suivant les différents assais. Dans ces conditions, on aura tendance à être très conservateur et à privilégier les ordres les plus faibles (donc le moins de variance).\n",
    "\n"
   ]
  },
  {
   "cell_type": "markdown",
   "metadata": {},
   "source": [
    "## Utilisation de la validation croisée"
   ]
  },
  {
   "cell_type": "markdown",
   "metadata": {},
   "source": [
    "Pour utiliser la validation croisée en Python, vous utiliserez tout simplement la méthode `cross_val_score` de la librairie `sklearn.cross_validation`. "
   ]
  },
  {
   "cell_type": "code",
   "execution_count": 17,
   "metadata": {
    "ExecuteTime": {
     "end_time": "2024-01-10T10:32:48.667095Z",
     "start_time": "2024-01-10T10:32:47.337698300Z"
    }
   },
   "outputs": [],
   "source": [
    "# k-fold CV\n",
    "folds = 10\n",
    "\n",
    "model = linear_model.LinearRegression()\n",
    "cv_score = np.zeros(ordremax)\n",
    "\n",
    "for order in ordres:\n",
    "    poly = PolynomialFeatures(order)\n",
    "    X_poly = poly.fit_transform(df[['horsepower']])\n",
    "    cv_score[order] = cross_val_score(model, X_poly, y, cv=10, scoring='neg_mean_squared_error').mean()"
   ]
  },
  {
   "cell_type": "code",
   "execution_count": 18,
   "metadata": {
    "ExecuteTime": {
     "end_time": "2024-01-10T10:32:48.668275400Z",
     "start_time": "2024-01-10T10:32:47.801473400Z"
    }
   },
   "outputs": [
    {
     "data": {
      "text/plain": "Text(0, 0.5, 'EQM par validation croisée')"
     },
     "execution_count": 18,
     "metadata": {},
     "output_type": "execute_result"
    },
    {
     "data": {
      "text/plain": "<Figure size 640x480 with 1 Axes>",
      "image/png": "[encoded data removed]"
     },
     "metadata": {},
     "output_type": "display_data"
    }
   ],
   "source": [
    "plt.plot(ordres, -cv_score)\n",
    "plt.xlabel(\"Ordre du modèle\")\n",
    "plt.ylabel(\"EQM par validation croisée\")"
   ]
  },
  {
   "cell_type": "code",
   "execution_count": 19,
   "metadata": {
    "ExecuteTime": {
     "end_time": "2024-01-10T10:32:48.669570500Z",
     "start_time": "2024-01-10T10:32:48.066239700Z"
    }
   },
   "outputs": [
    {
     "data": {
      "text/plain": "6"
     },
     "execution_count": 19,
     "metadata": {},
     "output_type": "execute_result"
    }
   ],
   "source": [
    "np.argmin(-cv_score)"
   ]
  },
  {
   "cell_type": "markdown",
   "metadata": {},
   "source": [
    "# Estimation des performances d'un modèle de régression linéaire\n",
    "\n",
    "Comme on l'a vu en cours, il est possible d'utiliser le bootstrap afin de quantifier la qualité des estimées et prédictions des méthodes d'appprentissage statistique. Cela s'applique par exemple à la régression linéaire toute simple. On va considérer la régression habituelle  `mpg~horsepower` pour le dataset `Auto`, pour des degrés 1 et 2, et comparer les performances affichées à l'aide des formules explicites (connues dans ce cas simple), et l'évaluation numérique donnée par le bootstrap. \n",
    "\n",
    "1 -  Utiliser la fonction `lm` du TP sur la régression linéaire pour avoir effectuer la prédiction linéaire ci-dessus, en ayant accès aux performances (écart-type, p-values, etc)"
   ]
  },
  {
   "cell_type": "code",
   "execution_count": 20,
   "metadata": {
    "ExecuteTime": {
     "end_time": "2024-01-10T10:32:52.393066300Z",
     "start_time": "2024-01-10T10:32:48.075943Z"
    }
   },
   "outputs": [
    {
     "ename": "KeyboardInterrupt",
     "evalue": "",
     "output_type": "error",
     "traceback": [
      "\u001B[1;31m---------------------------------------------------------------------------\u001B[0m",
      "\u001B[1;31mKeyboardInterrupt\u001B[0m                         Traceback (most recent call last)",
      "Cell \u001B[1;32mIn[20], line 1\u001B[0m\n\u001B[1;32m----> 1\u001B[0m \u001B[38;5;28;01mfrom\u001B[39;00m \u001B[38;5;21;01mLinearRegression_in_Python_like_in_R\u001B[39;00m \u001B[38;5;28;01mimport\u001B[39;00m lm, summary\n",
      "File \u001B[1;32m~\\Documents\\Ecole\\ESIEE\\E4DSIA\\S1P2 - Apprentissage Automatique 1\\04 - CrossValidation Bootstrap\\Travaux Pratiques\\LinearRegression_in_Python_like_in_R.py:7\u001B[0m\n\u001B[0;32m      2\u001B[0m \u001B[38;5;66;03m# coding: utf-8\u001B[39;00m\n\u001B[0;32m      3\u001B[0m \n\u001B[0;32m      4\u001B[0m \u001B[38;5;66;03m# # Utilisation de Statsmodels pour faire une régression linéaire\u001B[39;00m\n\u001B[0;32m      6\u001B[0m \u001B[38;5;28;01mimport\u001B[39;00m \u001B[38;5;21;01mpandas\u001B[39;00m \u001B[38;5;28;01mas\u001B[39;00m \u001B[38;5;21;01mpd\u001B[39;00m \n\u001B[1;32m----> 7\u001B[0m \u001B[38;5;28;01mimport\u001B[39;00m \u001B[38;5;21;01mstatsmodels\u001B[39;00m\u001B[38;5;21;01m.\u001B[39;00m\u001B[38;5;21;01mapi\u001B[39;00m \u001B[38;5;28;01mas\u001B[39;00m \u001B[38;5;21;01msm\u001B[39;00m\n\u001B[0;32m      8\u001B[0m \u001B[38;5;28;01mimport\u001B[39;00m \u001B[38;5;21;01mstatsmodels\u001B[39;00m\u001B[38;5;21;01m.\u001B[39;00m\u001B[38;5;21;01mformula\u001B[39;00m\u001B[38;5;21;01m.\u001B[39;00m\u001B[38;5;21;01mapi\u001B[39;00m \u001B[38;5;28;01mas\u001B[39;00m \u001B[38;5;21;01msmf\u001B[39;00m\n\u001B[0;32m     10\u001B[0m \u001B[38;5;66;03m# # Émulation sous Python de la régression linéaire R\u001B[39;00m\n\u001B[0;32m     11\u001B[0m \n\u001B[0;32m     12\u001B[0m \u001B[38;5;66;03m# ## Fontions utilitaires\u001B[39;00m\n",
      "File \u001B[1;32m~\\AppData\\Local\\Programs\\Python\\Python311\\Lib\\site-packages\\statsmodels\\api.py:144\u001B[0m\n\u001B[0;32m    142\u001B[0m \u001B[38;5;28;01mfrom\u001B[39;00m \u001B[38;5;21;01m.\u001B[39;00m\u001B[38;5;21;01mtools\u001B[39;00m\u001B[38;5;21;01m.\u001B[39;00m\u001B[38;5;21;01mtools\u001B[39;00m \u001B[38;5;28;01mimport\u001B[39;00m add_constant, categorical\n\u001B[0;32m    143\u001B[0m \u001B[38;5;28;01mfrom\u001B[39;00m \u001B[38;5;21;01m.\u001B[39;00m\u001B[38;5;21;01mtools\u001B[39;00m\u001B[38;5;21;01m.\u001B[39;00m\u001B[38;5;21;01mweb\u001B[39;00m \u001B[38;5;28;01mimport\u001B[39;00m webdoc\n\u001B[1;32m--> 144\u001B[0m \u001B[38;5;28;01mfrom\u001B[39;00m \u001B[38;5;21;01m.\u001B[39;00m\u001B[38;5;21;01mtsa\u001B[39;00m \u001B[38;5;28;01mimport\u001B[39;00m api \u001B[38;5;28;01mas\u001B[39;00m tsa\n\u001B[0;32m    146\u001B[0m load \u001B[38;5;241m=\u001B[39m load_pickle\n",
      "File \u001B[1;32m~\\AppData\\Local\\Programs\\Python\\Python311\\Lib\\site-packages\\statsmodels\\tsa\\api.py:69\u001B[0m\n\u001B[0;32m     67\u001B[0m \u001B[38;5;28;01mfrom\u001B[39;00m \u001B[38;5;21;01m.\u001B[39;00m\u001B[38;5;21;01mar_model\u001B[39;00m \u001B[38;5;28;01mimport\u001B[39;00m AR, AutoReg\n\u001B[0;32m     68\u001B[0m \u001B[38;5;28;01mfrom\u001B[39;00m \u001B[38;5;21;01m.\u001B[39;00m\u001B[38;5;21;01mardl\u001B[39;00m \u001B[38;5;28;01mimport\u001B[39;00m ARDL, UECM, ardl_select_order\n\u001B[1;32m---> 69\u001B[0m \u001B[38;5;28;01mfrom\u001B[39;00m \u001B[38;5;21;01m.\u001B[39;00m\u001B[38;5;21;01marima\u001B[39;00m \u001B[38;5;28;01mimport\u001B[39;00m api \u001B[38;5;28;01mas\u001B[39;00m arima\n\u001B[0;32m     70\u001B[0m \u001B[38;5;28;01mfrom\u001B[39;00m \u001B[38;5;21;01m.\u001B[39;00m\u001B[38;5;21;01marima\u001B[39;00m\u001B[38;5;21;01m.\u001B[39;00m\u001B[38;5;21;01mmodel\u001B[39;00m \u001B[38;5;28;01mimport\u001B[39;00m ARIMA\n\u001B[0;32m     71\u001B[0m \u001B[38;5;28;01mfrom\u001B[39;00m \u001B[38;5;21;01m.\u001B[39;00m\u001B[38;5;21;01marima_process\u001B[39;00m \u001B[38;5;28;01mimport\u001B[39;00m ArmaProcess, arma_generate_sample\n",
      "File \u001B[1;32m~\\AppData\\Local\\Programs\\Python\\Python311\\Lib\\site-packages\\statsmodels\\tsa\\arima\\api.py:3\u001B[0m\n\u001B[0;32m      1\u001B[0m __all__ \u001B[38;5;241m=\u001B[39m [\u001B[38;5;124m\"\u001B[39m\u001B[38;5;124mARIMA\u001B[39m\u001B[38;5;124m\"\u001B[39m]\n\u001B[1;32m----> 3\u001B[0m \u001B[38;5;28;01mfrom\u001B[39;00m \u001B[38;5;21;01mstatsmodels\u001B[39;00m\u001B[38;5;21;01m.\u001B[39;00m\u001B[38;5;21;01mtsa\u001B[39;00m\u001B[38;5;21;01m.\u001B[39;00m\u001B[38;5;21;01marima\u001B[39;00m\u001B[38;5;21;01m.\u001B[39;00m\u001B[38;5;21;01mmodel\u001B[39;00m \u001B[38;5;28;01mimport\u001B[39;00m ARIMA\n",
      "File \u001B[1;32m~\\AppData\\Local\\Programs\\Python\\Python311\\Lib\\site-packages\\statsmodels\\tsa\\arima\\model.py:19\u001B[0m\n\u001B[0;32m     16\u001B[0m \u001B[38;5;28;01mfrom\u001B[39;00m \u001B[38;5;21;01mstatsmodels\u001B[39;00m\u001B[38;5;21;01m.\u001B[39;00m\u001B[38;5;21;01mtsa\u001B[39;00m\u001B[38;5;21;01m.\u001B[39;00m\u001B[38;5;21;01mstatespace\u001B[39;00m\u001B[38;5;21;01m.\u001B[39;00m\u001B[38;5;21;01mtools\u001B[39;00m \u001B[38;5;28;01mimport\u001B[39;00m diff\n\u001B[0;32m     17\u001B[0m \u001B[38;5;28;01mimport\u001B[39;00m \u001B[38;5;21;01mstatsmodels\u001B[39;00m\u001B[38;5;21;01m.\u001B[39;00m\u001B[38;5;21;01mbase\u001B[39;00m\u001B[38;5;21;01m.\u001B[39;00m\u001B[38;5;21;01mwrapper\u001B[39;00m \u001B[38;5;28;01mas\u001B[39;00m \u001B[38;5;21;01mwrap\u001B[39;00m\n\u001B[1;32m---> 19\u001B[0m \u001B[38;5;28;01mfrom\u001B[39;00m \u001B[38;5;21;01mstatsmodels\u001B[39;00m\u001B[38;5;21;01m.\u001B[39;00m\u001B[38;5;21;01mtsa\u001B[39;00m\u001B[38;5;21;01m.\u001B[39;00m\u001B[38;5;21;01marima\u001B[39;00m\u001B[38;5;21;01m.\u001B[39;00m\u001B[38;5;21;01mestimators\u001B[39;00m\u001B[38;5;21;01m.\u001B[39;00m\u001B[38;5;21;01myule_walker\u001B[39;00m \u001B[38;5;28;01mimport\u001B[39;00m yule_walker\n\u001B[0;32m     20\u001B[0m \u001B[38;5;28;01mfrom\u001B[39;00m \u001B[38;5;21;01mstatsmodels\u001B[39;00m\u001B[38;5;21;01m.\u001B[39;00m\u001B[38;5;21;01mtsa\u001B[39;00m\u001B[38;5;21;01m.\u001B[39;00m\u001B[38;5;21;01marima\u001B[39;00m\u001B[38;5;21;01m.\u001B[39;00m\u001B[38;5;21;01mestimators\u001B[39;00m\u001B[38;5;21;01m.\u001B[39;00m\u001B[38;5;21;01mburg\u001B[39;00m \u001B[38;5;28;01mimport\u001B[39;00m burg\n\u001B[0;32m     21\u001B[0m \u001B[38;5;28;01mfrom\u001B[39;00m \u001B[38;5;21;01mstatsmodels\u001B[39;00m\u001B[38;5;21;01m.\u001B[39;00m\u001B[38;5;21;01mtsa\u001B[39;00m\u001B[38;5;21;01m.\u001B[39;00m\u001B[38;5;21;01marima\u001B[39;00m\u001B[38;5;21;01m.\u001B[39;00m\u001B[38;5;21;01mestimators\u001B[39;00m\u001B[38;5;21;01m.\u001B[39;00m\u001B[38;5;21;01mhannan_rissanen\u001B[39;00m \u001B[38;5;28;01mimport\u001B[39;00m hannan_rissanen\n",
      "File \u001B[1;32m<frozen importlib._bootstrap>:1176\u001B[0m, in \u001B[0;36m_find_and_load\u001B[1;34m(name, import_)\u001B[0m\n",
      "File \u001B[1;32m<frozen importlib._bootstrap>:1138\u001B[0m, in \u001B[0;36m_find_and_load_unlocked\u001B[1;34m(name, import_)\u001B[0m\n",
      "File \u001B[1;32m<frozen importlib._bootstrap>:1078\u001B[0m, in \u001B[0;36m_find_spec\u001B[1;34m(name, path, target)\u001B[0m\n",
      "File \u001B[1;32m<frozen importlib._bootstrap_external>:1504\u001B[0m, in \u001B[0;36mfind_spec\u001B[1;34m(cls, fullname, path, target)\u001B[0m\n",
      "File \u001B[1;32m<frozen importlib._bootstrap_external>:1476\u001B[0m, in \u001B[0;36m_get_spec\u001B[1;34m(cls, fullname, path, target)\u001B[0m\n",
      "File \u001B[1;32m<frozen importlib._bootstrap_external>:1631\u001B[0m, in \u001B[0;36mfind_spec\u001B[1;34m(self, fullname, target)\u001B[0m\n",
      "\u001B[1;31mKeyboardInterrupt\u001B[0m: "
     ]
    }
   ],
   "source": [
    "from LinearRegression_in_Python_like_in_R import lm, summary"
   ]
  },
  {
   "cell_type": "code",
   "execution_count": null,
   "metadata": {
    "ExecuteTime": {
     "start_time": "2024-01-10T10:32:52.380793500Z"
    }
   },
   "outputs": [],
   "source": [
    "model = lm('mpg~horsepower+I(horsepower**2)', data=df)\n",
    "model.summary()"
   ]
  },
  {
   "cell_type": "markdown",
   "metadata": {},
   "source": [
    "Les coefficients du modèle peuvent être accédés, sous leur nom, par `model.params['nom_du_coeff']` (et `model.params` pour examiner ces coefficients)"
   ]
  },
  {
   "cell_type": "markdown",
   "metadata": {},
   "source": [
    "2 -  Créer une fonction `bootfn` qui prenne en entrée les données et un vecteur d'index et retourne les coefficients de la régression linéaire correspondante. "
   ]
  },
  {
   "cell_type": "code",
   "execution_count": null,
   "metadata": {
    "ExecuteTime": {
     "start_time": "2024-01-10T10:32:52.385795300Z"
    }
   },
   "outputs": [],
   "source": [
    "def bootfn(data, index):\n",
    "    model = lm('mpg~horsepower+I(horsepower**2)', data=data.loc[I,:])\n",
    "    return model.params"
   ]
  },
  {
   "cell_type": "markdown",
   "metadata": {},
   "source": [
    "3 -  Utiliser la fonction `random.choice` pour rééchantillonner les données, puis calculer les estimées correspondantes par `bootfn`. Réitérer avec une autre valeur de seed. Comparer ces résultats. \n"
   ]
  },
  {
   "cell_type": "code",
   "execution_count": null,
   "metadata": {
    "ExecuteTime": {
     "start_time": "2024-01-10T10:32:52.390791300Z"
    }
   },
   "outputs": [],
   "source": [
    "np.random.seed(27)\n",
    "I = np.random.choice(df.shape[0], size=100, )  # Choix des index\n",
    "bootfn(df, I)"
   ]
  },
  {
   "cell_type": "code",
   "execution_count": null,
   "metadata": {
    "ExecuteTime": {
     "end_time": "2024-01-10T10:32:52.415616900Z",
     "start_time": "2024-01-10T10:32:52.394078200Z"
    }
   },
   "outputs": [],
   "source": [
    "np.random.seed(45)\n",
    "I = np.random.choice(df.shape[0], size=100, )  # Choix des index\n",
    "bootfn(df, I)"
   ]
  },
  {
   "cell_type": "markdown",
   "metadata": {},
   "source": [
    "4 -  Utiliser maintenant la fonction `boot` pour calculer un millier de ces estimées. Stocker les résultats dans un Dataframe.  Tracer les histogrammes correspondants, calculer les moyennes (`mean`)  et écarts-types (`std`)"
   ]
  },
  {
   "cell_type": "code",
   "execution_count": null,
   "metadata": {
    "ExecuteTime": {
     "start_time": "2024-01-10T10:32:52.399078300Z"
    }
   },
   "outputs": [],
   "source": [
    "B = 1000\n",
    "coeffs_boot = pd.DataFrame(index=range(B), columns=['intercept', 'horsepower', 'horsepower**2'])\n",
    "\n",
    "for b in range(B):\n",
    "    I = np.random.choice(df.shape[0], size=df.shape[0], )  # Choix des index\n",
    "    intercept, h, h2 = bootfn(df, I)\n",
    "    coeffs_boot.iloc[b] = intercept, h, h2 "
   ]
  },
  {
   "cell_type": "code",
   "execution_count": null,
   "metadata": {
    "ExecuteTime": {
     "start_time": "2024-01-10T10:32:52.404080800Z"
    }
   },
   "outputs": [],
   "source": [
    "coeffs_boot"
   ]
  },
  {
   "cell_type": "code",
   "execution_count": null,
   "metadata": {
    "ExecuteTime": {
     "start_time": "2024-01-10T10:32:52.409079100Z"
    }
   },
   "outputs": [],
   "source": [
    "from itertools import cycle\n",
    "c = cycle(['c', 'r', 'b', 'g'])\n",
    "\n",
    "for col in coeffs_boot.columns:\n",
    "    plt.figure()\n",
    "    plt.hist(coeffs_boot[col].values.astype(float), color=next(c))\n",
    "    plt.title(col)"
   ]
  },
  {
   "cell_type": "code",
   "execution_count": null,
   "metadata": {
    "ExecuteTime": {
     "start_time": "2024-01-10T10:32:52.415616900Z"
    }
   },
   "outputs": [],
   "source": [
    "coeffs_boot.mean()"
   ]
  },
  {
   "cell_type": "code",
   "execution_count": null,
   "metadata": {
    "ExecuteTime": {
     "end_time": "2024-01-10T10:32:52.661648200Z",
     "start_time": "2024-01-10T10:32:52.422461400Z"
    }
   },
   "outputs": [],
   "source": [
    "coeffs_boot.std()"
   ]
  },
  {
   "cell_type": "markdown",
   "metadata": {},
   "source": [
    "5 - Comparer ces résultats à ceux qu'on relève sur le résumé `summary` de la fonction `lm`. "
   ]
  },
  {
   "cell_type": "code",
   "execution_count": null,
   "metadata": {
    "ExecuteTime": {
     "start_time": "2024-01-10T10:32:52.428460500Z"
    }
   },
   "outputs": [],
   "source": [
    "summary(model)"
   ]
  },
  {
   "cell_type": "markdown",
   "metadata": {},
   "source": [
    "# Validation sur la base `Default`\n"
   ]
  },
  {
   "cell_type": "markdown",
   "metadata": {},
   "source": [
    "La base `Default` est un exemple célèbre de jeu de données pour un problème de classification.\n",
    "On utilisera ici une régression logistique. On estimera l'erreur de prédiction en utilisant un ensemble de validation, puis on testera l'importance des variables dans le modèle. Enfin, on estimera les statistiques sur les coefficients par bootstrap. \n",
    "\n",
    "## Modèle \n",
    "Charger la base defaut, fichier `default.csv`, choisir un seed, et apprendre un modèle de régression logistique pour `default~income+balance` (donc sans `student`). Afficher les résultats.  "
   ]
  },
  {
   "cell_type": "code",
   "execution_count": null,
   "metadata": {
    "ExecuteTime": {
     "start_time": "2024-01-10T10:32:52.434844900Z"
    }
   },
   "outputs": [],
   "source": [
    "D = pd.read_csv(\"default.csv\", index_col=0)"
   ]
  },
  {
   "cell_type": "code",
   "execution_count": null,
   "metadata": {
    "ExecuteTime": {
     "start_time": "2024-01-10T10:32:52.440128800Z"
    }
   },
   "outputs": [],
   "source": [
    "D.head()"
   ]
  },
  {
   "cell_type": "code",
   "execution_count": null,
   "metadata": {
    "ExecuteTime": {
     "start_time": "2024-01-10T10:32:52.447383900Z"
    }
   },
   "outputs": [],
   "source": [
    "import statsmodels.api as sm\n",
    "import statsmodels.formula.api as smf\n",
    "#\n",
    "from GLMRegression_in_Python_like_in_R import GLMsummary, glm_residplot\n",
    "from LinearRegression_in_Python_like_in_R import lm, summary, vif"
   ]
  },
  {
   "cell_type": "markdown",
   "metadata": {},
   "source": [
    "Apprendre une régression logistique pour prédire `default` en fonction des autres variables et afficher les performances"
   ]
  },
  {
   "cell_type": "code",
   "execution_count": null,
   "metadata": {
    "ExecuteTime": {
     "start_time": "2024-01-10T10:32:52.453245100Z"
    }
   },
   "outputs": [],
   "source": [
    "glm_default = smf.glm(\"default ~ student + balance + income\", \n",
    "                      D, family=sm.families.Binomial())\n",
    "\n",
    "res = glm_default.fit()\n",
    "GLMsummary(res)"
   ]
  },
  {
   "cell_type": "code",
   "execution_count": null,
   "metadata": {
    "ExecuteTime": {
     "start_time": "2024-01-10T10:32:52.462251500Z"
    }
   },
   "outputs": [],
   "source": [
    "%load_ext rpy2.ipython"
   ]
  },
  {
   "cell_type": "code",
   "execution_count": null,
   "metadata": {
    "ExecuteTime": {
     "start_time": "2024-01-10T10:32:52.469359300Z"
    }
   },
   "outputs": [],
   "source": [
    "%%R\n",
    "library(ISLR)\n",
    "set.seed(1)\n",
    "glm.fit = glm(default ~ income + balance + C(student), data = Default, family = \"binomial\")\n",
    "summary(glm.fit)"
   ]
  },
  {
   "cell_type": "markdown",
   "metadata": {},
   "source": [
    "## Erreur de prédiction par validation. \n",
    "\n",
    "Estimez l'erreur de prédiction pour ce modèle. Pour cela :\n",
    "\n",
    "1. Séparer les données en un ensemble d'apprentissage et un ensemble de validation (train=3/4 des données, test=le 1/4 restant)\n",
    "2. Apprendre le modèle\n",
    "3. Calculer les prédictions sur la base de test, et le taux d'erreur en seuillant la probabilité a posteriori à 0.5"
   ]
  },
  {
   "cell_type": "code",
   "execution_count": null,
   "metadata": {
    "ExecuteTime": {
     "start_time": "2024-01-10T10:32:52.477113500Z"
    }
   },
   "outputs": [],
   "source": [
    "# 1\n",
    "L = len(D.index)\n",
    "J = D.index>0\n",
    "J[np.random.randint(0, L, int(0.75*L))] = False\n",
    "Train = D[J]\n",
    "Test = D[~J]\n",
    "# autre approche\n",
    "Train, Test = train_test_split(D, test_size=0.25)"
   ]
  },
  {
   "cell_type": "code",
   "execution_count": null,
   "metadata": {
    "ExecuteTime": {
     "start_time": "2024-01-10T10:32:52.483359300Z"
    }
   },
   "outputs": [],
   "source": [
    "# 2\n",
    "glm_default = smf.glm(\"default ~  balance + income\", \n",
    "                      Train, family=sm.families.Binomial())\n",
    "\n",
    "res = glm_default.fit()\n",
    "GLMsummary(res)"
   ]
  },
  {
   "cell_type": "code",
   "execution_count": null,
   "metadata": {
    "ExecuteTime": {
     "start_time": "2024-01-10T10:32:52.489623100Z"
    }
   },
   "outputs": [],
   "source": [
    "# 3\n",
    "probas_preds = res.predict(Test)\n",
    "preds = probas_preds < 0.5\n",
    "C = pd.crosstab(Test['default'], preds)\n",
    "C"
   ]
  },
  {
   "cell_type": "code",
   "execution_count": null,
   "metadata": {
    "ExecuteTime": {
     "start_time": "2024-01-10T10:32:52.495141700Z"
    }
   },
   "outputs": [],
   "source": [
    "# Erreur = 1 - accuracy\n",
    "1 - np.sum(np.diag(C))/np.sum(np.sum(C))"
   ]
  },
  {
   "cell_type": "code",
   "execution_count": null,
   "metadata": {
    "ExecuteTime": {
     "start_time": "2024-01-10T10:32:52.500141600Z"
    }
   },
   "outputs": [],
   "source": [
    "%%R\n",
    "set.seed(1)\n",
    "train = sample(nrow(Default), 3 * nrow(Default)/4)  #1.\n",
    "Default.train = Default[train, ]\n",
    "Default.test = Default[-train, ]\n",
    "\n",
    "glm.fit = glm(default ~ income + balance, data = Default.train, family = \"binomial\")  #2.\n",
    "glm.probs = predict(glm.fit, Default.test, type = \"response\")  #3.\n",
    "glm.pred = ifelse(glm.probs > 0.5, \"Yes\", \"No\")\n",
    "mean(glm.pred != Default.test$default)  #4. accuracy"
   ]
  },
  {
   "cell_type": "markdown",
   "metadata": {},
   "source": [
    "## Recommencer\n",
    "\n",
    "Répéter le processus précédent un certain nombre de fois (par exemple 300 fois), en utilisant différentes segmentations train-test des données. Commenter. "
   ]
  },
  {
   "cell_type": "code",
   "execution_count": null,
   "metadata": {
    "ExecuteTime": {
     "start_time": "2024-01-10T10:32:52.505144Z"
    }
   },
   "outputs": [],
   "source": []
  },
  {
   "cell_type": "code",
   "execution_count": null,
   "metadata": {
    "ExecuteTime": {
     "start_time": "2024-01-10T10:32:52.510146100Z"
    }
   },
   "outputs": [],
   "source": [
    "M = 300\n",
    "Seeds = np.random.randint(0,10000, M)\n",
    "Erreur = np.zeros(M)\n",
    "for k, seed in enumerate(Seeds):\n",
    "\n",
    "    Train, Test = train_test_split(D, test_size=0.25, random_state=seed)\n",
    "    glm_default = smf.glm(\"default ~  balance + income \", \n",
    "                          Train, family=sm.families.Binomial())\n",
    "    res = glm_default.fit()\n",
    "    probas_preds = res.predict(Test)\n",
    "    preds = probas_preds < 0.5\n",
    "    C = pd.crosstab(Test['default'], preds)\n",
    "    # Erreur = 1 - accuracy\n",
    "    Erreur[k] = 1 - np.sum(np.diag(C))/np.sum(np.sum(C))"
   ]
  },
  {
   "cell_type": "code",
   "execution_count": null,
   "metadata": {
    "ExecuteTime": {
     "start_time": "2024-01-10T10:32:52.514927300Z"
    }
   },
   "outputs": [],
   "source": [
    "%matplotlib widget\n",
    "plt.figure(figsize = (10,5))\n",
    "print(np.mean(Erreur))\n",
    "_ = plt.hist(Erreur)"
   ]
  },
  {
   "cell_type": "code",
   "execution_count": null,
   "metadata": {
    "ExecuteTime": {
     "start_time": "2024-01-10T10:32:52.520010400Z"
    }
   },
   "outputs": [],
   "source": [
    "%%R\n",
    "for (seed in c(15, 5, 34)) {\n",
    "    set.seed(seed)\n",
    "    train = sample(nrow(Default), nrow(Default) - nrow(Default)/4)\n",
    "    Default.train = Default[train, ]\n",
    "    Default.test = Default[-train, ]\n",
    "    glm.fit = glm(default ~ income + balance, data = Default.train, family = \"binomial\")\n",
    "    glm.probs = predict(glm.fit, Default.test, type = \"response\")\n",
    "    glm.pred = ifelse(glm.probs > 0.5, \"Yes\", \"No\")\n",
    "    print(mean(glm.pred != Default.test$default))\n",
    "}"
   ]
  },
  {
   "cell_type": "markdown",
   "metadata": {},
   "source": [
    "Ci-dessous une boucle sur 300 essais. Cela commence à devenir long. "
   ]
  },
  {
   "cell_type": "code",
   "execution_count": null,
   "metadata": {
    "ExecuteTime": {
     "start_time": "2024-01-10T10:32:52.523621200Z"
    }
   },
   "outputs": [],
   "source": [
    "%%R\n",
    "z = c()\n",
    "k = 0\n",
    "for (seed in seq(300)) {\n",
    "    set.seed(seed)\n",
    "    train = sample(nrow(Default), nrow(Default) - nrow(Default)/4)\n",
    "    Default.train = Default[train, ]\n",
    "    Default.test = Default[-train, ]\n",
    "    glm.fit = glm(default ~ income + balance, data = Default.train, family = \"binomial\")\n",
    "    glm.probs = predict(glm.fit, Default.test, type = \"response\")\n",
    "    glm.pred = ifelse(glm.probs > 0.5, \"Yes\", \"No\")\n",
    "    z[k] = mean(glm.pred != Default.test$default)\n",
    "    k = k + 1\n",
    "}\n",
    "\n",
    "print(mean(z))\n",
    "\n",
    "hist(z,20)"
   ]
  },
  {
   "cell_type": "markdown",
   "metadata": {},
   "source": [
    "## Pertinence d'une nouvelle variable -- Validation\n",
    "\n",
    "Considérons maintenant un modèle qui prédit la probabilité de défaut à partir de  income, balance, et d'une variable catégorielle sur student. Estimer le taux d'erreur sur un ensemble validation, pour plusieurs ensembles. Commenter sur l'utilité d'inclure ou non la variable student ?"
   ]
  },
  {
   "cell_type": "code",
   "execution_count": null,
   "metadata": {
    "ExecuteTime": {
     "start_time": "2024-01-10T10:32:52.526964100Z"
    }
   },
   "outputs": [],
   "source": [
    "M = 300\n",
    "Seeds = np.random.randint(0,10000, M)\n",
    "Erreur = np.zeros(M)\n",
    "for k, seed in enumerate(Seeds):\n",
    "\n",
    "    Train, Test = train_test_split(D, test_size=0.25, random_state=seed)\n",
    "    glm_default = smf.glm(\"default ~ student + balance + income \", \n",
    "                          Train, family=sm.families.Binomial())\n",
    "    res = glm_default.fit()\n",
    "    probas_preds = res.predict(Test)\n",
    "    preds = probas_preds < 0.5\n",
    "    C = pd.crosstab(Test['default'], preds)\n",
    "    # Erreur = 1 - accuracy\n",
    "    Erreur[k] = 1 - np.sum(np.diag(C))/np.sum(np.sum(C))\n",
    "\n",
    "print(np.mean(Erreur))    "
   ]
  },
  {
   "cell_type": "code",
   "execution_count": null,
   "metadata": {
    "ExecuteTime": {
     "start_time": "2024-01-10T10:32:52.529965600Z"
    }
   },
   "outputs": [],
   "source": [
    "%%R\n",
    "zz = c()\n",
    "k = 0\n",
    "for (seed in seq(300)) {\n",
    "    set.seed(seed)\n",
    "    train = sample(nrow(Default), nrow(Default) - nrow(Default)/4)\n",
    "    Default.train = Default[train, ]\n",
    "    Default.test = Default[-train, ]\n",
    "    glm.fit = glm(default ~ income + balance + student, data = Default.train, family = \"binomial\")\n",
    "    glm.probs = predict(glm.fit, Default.test, type = \"response\")\n",
    "    glm.pred = ifelse(glm.probs > 0.5, \"Yes\", \"No\")\n",
    "    zz[k] = mean(glm.pred != Default.test$default)\n",
    "    k = k + 1\n",
    "}\n",
    "mean(zz)"
   ]
  },
  {
   "cell_type": "markdown",
   "metadata": {},
   "source": [
    "Il ne semble pas qu'ajouter cette variable soit complètement pertinent car le taux d'erreur moyen est un peu supérieur... Mais cet effet reste faible, et à l'intérieur de l'intervalle de confiance. "
   ]
  },
  {
   "cell_type": "markdown",
   "metadata": {},
   "source": [
    "## Pertinence d'une nouvelle variable -- Validation croisée"
   ]
  },
  {
   "cell_type": "markdown",
   "metadata": {},
   "source": [
    "Effectuer la même étude que précédemment, mais en évaluant les performances par validation croisée. Que concluerait-on cette fois ? Comment expliquer les différences éventuelles entre les performances ?"
   ]
  },
  {
   "cell_type": "markdown",
   "metadata": {},
   "source": [
    "Pour utiliser la validation croisée de sklearn sous Python, vous devrez aussi définir l'estimateur à partir de la classe LogisticRegression, ainsi qu'encoder la variable catégorielle `student`"
   ]
  },
  {
   "cell_type": "code",
   "execution_count": null,
   "metadata": {
    "ExecuteTime": {
     "start_time": "2024-01-10T10:32:52.532965600Z"
    }
   },
   "outputs": [],
   "source": [
    "D[\"student_enc\"] = D[\"student\"].replace({\"No\":0, \"Yes\":1}) "
   ]
  },
  {
   "cell_type": "code",
   "execution_count": null,
   "metadata": {
    "ExecuteTime": {
     "start_time": "2024-01-10T10:32:52.536211500Z"
    }
   },
   "outputs": [],
   "source": [
    "# Sans student\n",
    "from sklearn.linear_model import LogisticRegression\n",
    "clf = LogisticRegression(C=100000)\n",
    "X = D[['balance', 'income' ]]\n",
    "y = D['default']\n",
    "out = cross_val_score(clf, X, y, cv = 10, )\n",
    "print(out)\n",
    "print(\"précision :\", np.mean(out))\n",
    "print(\"erreur :\", 1 - np.mean(out))"
   ]
  },
  {
   "cell_type": "code",
   "execution_count": null,
   "metadata": {
    "ExecuteTime": {
     "start_time": "2024-01-10T10:32:52.539256300Z"
    }
   },
   "outputs": [],
   "source": [
    "# Avec student\n",
    "from sklearn.linear_model import LogisticRegression\n",
    "clf = LogisticRegression(C=100000)\n",
    "X = D[['balance', 'income', 'student_enc' ]]\n",
    "y = D['default']\n",
    "out = cross_val_score(clf, X, y, cv = 10, )\n",
    "print(out)\n",
    "print(\"précision :\", np.mean(out))\n",
    "print(\"erreur :\", 1 - np.mean(out))"
   ]
  },
  {
   "cell_type": "markdown",
   "metadata": {},
   "source": [
    "Il semble que l'erreur augmente avec la variable student, qu'il ne faudrait donc pas conserver. "
   ]
  },
  {
   "cell_type": "markdown",
   "metadata": {},
   "source": [
    "Le R ci-dessous dit le contraire ; c'est ennuyeux.."
   ]
  },
  {
   "cell_type": "code",
   "execution_count": null,
   "metadata": {
    "ExecuteTime": {
     "start_time": "2024-01-10T10:32:52.542853300Z"
    }
   },
   "outputs": [],
   "source": [
    "%%R\n",
    "library(boot)\n",
    "cv.error.10 = c()\n",
    "for (i in 1:10) {\n",
    "    glm.fit = glm(default ~ income + balance, data = Default, family = \"binomial\")\n",
    "    cv.error.10[i] = cv.glm(Default, glm.fit, K = 10)$delta[1]\n",
    "}\n",
    "print(cv.error.10)\n",
    "#mean(cv.error.10) sd(cv.error.10) plot(cv.error.10,type='l')\n",
    "print(mean(cv.error.10))"
   ]
  },
  {
   "cell_type": "code",
   "execution_count": null,
   "metadata": {
    "ExecuteTime": {
     "start_time": "2024-01-10T10:32:52.545851Z"
    }
   },
   "outputs": [],
   "source": [
    "%%R\n",
    "cv.error.10=c()\n",
    "for (i in 1:1) {\n",
    "    glm.fit = glm (default~income+balance+student,data=Default, family=\"binomial\") \n",
    "    cv.error.10[i]= cv.glm (Default, glm.fit, K =10)$delta[1]\n",
    "}\n",
    "cv.error.10\n",
    "#mean(cv.error.10)\n",
    "#sd(cv.error.10)\n",
    "#plot(cv.error.10,type='l')\n",
    "print(mean(cv.error.10))"
   ]
  },
  {
   "cell_type": "markdown",
   "metadata": {},
   "source": [
    "Cette fois-ci, il semble que l'on devrait garder Student ; mais encore une fois la différence est extrèmement faible. Les différences de performances entre l'approche validation et la validation croisée viennent du fait que dans la validation croisée, on utilise un apprentissage sur plus de données. Donc un modèle mieux appris."
   ]
  },
  {
   "cell_type": "markdown",
   "metadata": {},
   "source": [
    "## Estimées des erreurs standard par Bootstrap\n",
    "\n",
    "On poursuit avec la régression logistique et les données `Default`. On va maintenant comparer les erreurs standard sur le coefficients soit calculées analytiquement (et lues sur la sortie de `glm`), soit en utilisant un bootstrap. \n",
    "\n",
    "### Direct\n",
    "En utilisant `summary()` (ou `GLMsummary`) et `glm()`, déterminez les erreurs standards sur les coefficients associées à `income` `balance` dans une régression logistique. "
   ]
  },
  {
   "cell_type": "code",
   "execution_count": null,
   "metadata": {
    "ExecuteTime": {
     "start_time": "2024-01-10T10:32:52.549852600Z"
    }
   },
   "outputs": [],
   "source": [
    "glm_default = smf.glm(\"default ~ balance + income\", \n",
    "                      D, family=sm.families.Binomial())\n",
    "\n",
    "res = glm_default.fit()\n",
    "GLMsummary(res)"
   ]
  },
  {
   "cell_type": "code",
   "execution_count": null,
   "metadata": {
    "ExecuteTime": {
     "start_time": "2024-01-10T10:32:52.554850800Z"
    }
   },
   "outputs": [],
   "source": [
    "%%R\n",
    "set.seed(1)\n",
    "glm.fit = glm(default ~ income + balance, data = Default, family = \"binomial\")\n",
    "summary(glm.fit)"
   ]
  },
  {
   "cell_type": "markdown",
   "metadata": {},
   "source": [
    "### Par bootstrap\n",
    "\n",
    "1.  Écrire une fonction `boot.fn()` ou `bootfn`sous Python, qui reçoit `Default` ainsi qu'un index des observations et rend les estimées des coefficients pour  income et balance.\n",
    "2. Utiliser le bootstrap pour calculer les erreurs standard. Comparer avec les résultats précédents et commenter..\n"
   ]
  },
  {
   "cell_type": "code",
   "execution_count": null,
   "metadata": {
    "ExecuteTime": {
     "start_time": "2024-01-10T10:32:52.559375500Z"
    }
   },
   "outputs": [],
   "source": [
    "def bootfn(data, index):\n",
    "    model = smf.glm('default~balance+income', data=data.iloc[index,:], family=sm.families.Binomial()).fit()\n",
    "    return model.params"
   ]
  },
  {
   "cell_type": "code",
   "execution_count": null,
   "metadata": {
    "ExecuteTime": {
     "start_time": "2024-01-10T10:32:52.562750600Z"
    }
   },
   "outputs": [],
   "source": [
    "D.shape[0]"
   ]
  },
  {
   "cell_type": "code",
   "execution_count": null,
   "metadata": {
    "ExecuteTime": {
     "start_time": "2024-01-10T10:32:52.566072500Z"
    }
   },
   "outputs": [],
   "source": [
    "# Essai avec un seed\n",
    "np.random.seed(27)\n",
    "I = np.random.choice(D.shape[0], size=D.shape[0] )  # Choix des index\n",
    "bootfn(D, I)"
   ]
  },
  {
   "cell_type": "code",
   "execution_count": null,
   "metadata": {
    "ExecuteTime": {
     "start_time": "2024-01-10T10:32:52.570592200Z"
    }
   },
   "outputs": [],
   "source": [
    "B = 1000\n",
    "coeffs_boot = pd.DataFrame(index=range(B), columns=['intercept', 'balance', 'income'])\n",
    "\n",
    "for b in range(B):\n",
    "    I = np.random.choice(D.shape[0], size=D.shape[0], )  # Choix des index\n",
    "    intercept, bal, inc = bootfn(D, I)\n",
    "    coeffs_boot.iloc[b] = intercept, bal, inc\n",
    "coeffs_boot.head()    "
   ]
  },
  {
   "cell_type": "markdown",
   "metadata": {},
   "source": [
    "Les statistiques bootstrap :"
   ]
  },
  {
   "cell_type": "code",
   "execution_count": null,
   "metadata": {
    "ExecuteTime": {
     "start_time": "2024-01-10T10:32:52.572942700Z"
    }
   },
   "outputs": [],
   "source": [
    "np.mean(coeffs_boot, axis=0)"
   ]
  },
  {
   "cell_type": "code",
   "execution_count": null,
   "metadata": {
    "ExecuteTime": {
     "start_time": "2024-01-10T10:32:52.577051800Z"
    }
   },
   "outputs": [],
   "source": [
    "np.std(coeffs_boot, axis=0)"
   ]
  },
  {
   "cell_type": "code",
   "execution_count": null,
   "metadata": {
    "ExecuteTime": {
     "start_time": "2024-01-10T10:32:52.579784300Z"
    }
   },
   "outputs": [],
   "source": [
    "# Coefficients obtenus par le calcul analytique (possible ici) dans statsmodels\n",
    "res.bse"
   ]
  },
  {
   "cell_type": "code",
   "execution_count": null,
   "metadata": {
    "ExecuteTime": {
     "start_time": "2024-01-10T10:32:52.583135400Z"
    }
   },
   "outputs": [],
   "source": [
    "# Et le résumé total\n",
    "GLMsummary(res)"
   ]
  },
  {
   "cell_type": "code",
   "execution_count": null,
   "metadata": {
    "ExecuteTime": {
     "start_time": "2024-01-10T10:32:52.585326600Z"
    }
   },
   "outputs": [],
   "source": [
    "%%R\n",
    "boot.fn = function(data, index) {\n",
    "    coefficients(glm(default ~ income + balance, data = data, subset = index, family = \"binomial\"))\n",
    "}\n",
    "\n",
    "boot.fn(Default, 1:nrow(Default))"
   ]
  },
  {
   "cell_type": "code",
   "execution_count": null,
   "metadata": {
    "ExecuteTime": {
     "start_time": "2024-01-10T10:32:52.588992900Z"
    }
   },
   "outputs": [],
   "source": [
    "%%R\n",
    "library(boot)\n",
    "boot(Default, boot.fn, 1000)"
   ]
  },
  {
   "cell_type": "code",
   "execution_count": null,
   "metadata": {
    "ExecuteTime": {
     "start_time": "2024-01-10T10:32:52.591038700Z"
    }
   },
   "outputs": [],
   "source": [
    "?boot"
   ]
  },
  {
   "cell_type": "markdown",
   "metadata": {},
   "source": [
    "```r\n",
    "## \n",
    "## ORDINARY NONPARAMETRIC BOOTSTRAP\n",
    "## \n",
    "## \n",
    "## Call:\n",
    "## boot(data = Default, statistic = boot.fn, R = 1000)\n",
    "## \n",
    "## \n",
    "## Bootstrap Statistics :\n",
    "##       original     bias    std. error\n",
    "## t1* -1.154e+01 -8.008e-03   4.239e-01\n",
    "## t2*  2.081e-05  5.871e-08   4.583e-06\n",
    "## t3*  5.647e-03  2.300e-06   2.268e-04\n",
    "```"
   ]
  },
  {
   "cell_type": "markdown",
   "metadata": {},
   "source": [
    "Les estimées bootstrap sont très proches des valeurs fournies par `summary`. C'est bon signe !"
   ]
  }
 ],
 "metadata": {
  "hide_input": false,
  "interactive_sols": {
   "cbx_id": 1
  },
  "kernelspec": {
   "display_name": "Python 3 (ipykernel)",
   "language": "python",
   "name": "python3"
  },
  "language_info": {
   "codemirror_mode": {
    "name": "ipython",
    "version": 3
   },
   "file_extension": ".py",
   "mimetype": "text/x-python",
   "name": "python",
   "nbconvert_exporter": "python",
   "pygments_lexer": "ipython3",
   "version": "3.9.12"
  },
  "latex_envs": {
   "LaTeX_envs_menu_present": true,
   "autoclose": false,
   "autocomplete": true,
   "bibliofile": "biblio.bib",
   "cite_by": "apalike",
   "current_citInitial": 1,
   "eqLabelWithNumbers": true,
   "eqNumInitial": 0,
   "hotkeys": {
    "equation": "ctrl-e",
    "itemize": "Ctrl-I"
   },
   "labels_anchors": false,
   "latex_user_defs": false,
   "report_style_numbering": false,
   "user_envs_cfg": false
  },
  "nbTranslate": {
   "displayLangs": [
    "fr",
    "en"
   ],
   "hotkey": "alt-t",
   "langInMainMenu": true,
   "sourceLang": "en",
   "targetLang": "fr",
   "useGoogleTranslate": true
  },
  "toc": {
   "base_numbering": "1",
   "nav_menu": {
    "height": "300px",
    "width": "252px"
   },
   "number_sections": true,
   "sideBar": true,
   "skip_h1_title": false,
   "title_cell": "Table of Contents",
   "title_sidebar": "Contents",
   "toc_cell": true,
   "toc_position": {
    "height": "415px",
    "left": "0px",
    "right": "938.011px",
    "top": "105px",
    "width": "212px"
   },
   "toc_section_display": "block",
   "toc_window_display": false
  },
  "toc_position": {
   "left": "1438.38px",
   "right": "21.6167px",
   "top": "124px"
  }
 },
 "nbformat": 4,
 "nbformat_minor": 4
}
