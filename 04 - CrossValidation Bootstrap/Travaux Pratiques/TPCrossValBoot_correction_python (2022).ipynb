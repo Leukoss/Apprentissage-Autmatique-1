{
 "cells": [
  {
   "cell_type": "markdown",
   "metadata": {
    "toc": true
   },
   "source": [
    "<h1>Table of Contents<span class=\"tocSkip\"></span></h1>\n",
    "<div class=\"toc\"><ul class=\"toc-item\"><li><span><a href=\"#Analyse-des-performances-sur-les-données-de-Auto-Data-Set\" data-toc-modified-id=\"Analyse-des-performances-sur-les-données-de-Auto-Data-Set-1\"><span class=\"toc-item-num\">1&nbsp;&nbsp;</span>Analyse des performances sur les données de <em>Auto Data Set</em></a></span><ul class=\"toc-item\"><li><span><a href=\"#Utilisation-d'un-ensemble-de-validation---Train/test-split\" data-toc-modified-id=\"Utilisation-d'un-ensemble-de-validation---Train/test-split-1.1\"><span class=\"toc-item-num\">1.1&nbsp;&nbsp;</span>Utilisation d'un ensemble de validation - Train/test split</a></span></li><li><span><a href=\"#Utilisation-de-la-validation-croisée\" data-toc-modified-id=\"Utilisation-de-la-validation-croisée-1.2\"><span class=\"toc-item-num\">1.2&nbsp;&nbsp;</span>Utilisation de la validation croisée</a></span></li></ul></li><li><span><a href=\"#Estimation-des-performances-d'un-modèle-de-régression-linéaire\" data-toc-modified-id=\"Estimation-des-performances-d'un-modèle-de-régression-linéaire-2\"><span class=\"toc-item-num\">2&nbsp;&nbsp;</span>Estimation des performances d'un modèle de régression linéaire</a></span></li><li><span><a href=\"#Validation-sur-la-base-Default\" data-toc-modified-id=\"Validation-sur-la-base-Default-3\"><span class=\"toc-item-num\">3&nbsp;&nbsp;</span>Validation sur la base <code>Default</code></a></span><ul class=\"toc-item\"><li><span><a href=\"#Modèle\" data-toc-modified-id=\"Modèle-3.1\"><span class=\"toc-item-num\">3.1&nbsp;&nbsp;</span>Modèle</a></span></li><li><span><a href=\"#Erreur-de-prédiction-par-validation.\" data-toc-modified-id=\"Erreur-de-prédiction-par-validation.-3.2\"><span class=\"toc-item-num\">3.2&nbsp;&nbsp;</span>Erreur de prédiction par validation.</a></span></li><li><span><a href=\"#Recommencer\" data-toc-modified-id=\"Recommencer-3.3\"><span class=\"toc-item-num\">3.3&nbsp;&nbsp;</span>Recommencer</a></span></li><li><span><a href=\"#Pertinence-d'une-nouvelle-variable----Validation\" data-toc-modified-id=\"Pertinence-d'une-nouvelle-variable----Validation-3.4\"><span class=\"toc-item-num\">3.4&nbsp;&nbsp;</span>Pertinence d'une nouvelle variable -- Validation</a></span></li><li><span><a href=\"#Pertinence-d'une-nouvelle-variable----Validation-croisée\" data-toc-modified-id=\"Pertinence-d'une-nouvelle-variable----Validation-croisée-3.5\"><span class=\"toc-item-num\">3.5&nbsp;&nbsp;</span>Pertinence d'une nouvelle variable -- Validation croisée</a></span></li><li><span><a href=\"#Estimées-des-erreurs-standard-par-Bootstrap\" data-toc-modified-id=\"Estimées-des-erreurs-standard-par-Bootstrap-3.6\"><span class=\"toc-item-num\">3.6&nbsp;&nbsp;</span>Estimées des erreurs standard par Bootstrap</a></span><ul class=\"toc-item\"><li><span><a href=\"#Direct\" data-toc-modified-id=\"Direct-3.6.1\"><span class=\"toc-item-num\">3.6.1&nbsp;&nbsp;</span>Direct</a></span></li><li><span><a href=\"#Par-bootstrap\" data-toc-modified-id=\"Par-bootstrap-3.6.2\"><span class=\"toc-item-num\">3.6.2&nbsp;&nbsp;</span>Par bootstrap</a></span></li></ul></li></ul></li></ul></div>"
   ]
  },
  {
   "cell_type": "markdown",
   "metadata": {},
   "source": [
    "Les exercices proposés dans cette séance de travaux pratiques sont adaptés de notre [livre de référence](http://www-bcf.usc.edu/~gareth/ISL/), chapitre 5, pp. 190-197 ainsi que des exercices plus avancés pp 199-201. "
   ]
  },
  {
   "cell_type": "markdown",
   "metadata": {},
   "source": [
    "Avant de vous lancer, vous installerez les packages utiles en lançant\n"
   ]
  },
  {
   "cell_type": "code",
   "execution_count": 1,
   "metadata": {},
   "outputs": [],
   "source": [
    "import sklearn"
   ]
  },
  {
   "cell_type": "code",
   "execution_count": 2,
   "metadata": {},
   "outputs": [],
   "source": [
    "import pandas as pd\n",
    "import numpy as np\n",
    "import matplotlib.pyplot as plt\n",
    "import seaborn as sns\n",
    "\n",
    "from IPython.display import HTML\n",
    "\n",
    "import sklearn.linear_model as linear_model\n",
    "from sklearn.metrics import mean_squared_error\n",
    "from sklearn.model_selection import train_test_split, LeaveOneOut, KFold, cross_val_score # (sklearn > 0.2)\n",
    "#from sklearn.cross_validation import train_test_split, LeaveOneOut, KFold, cross_val_score\n",
    "from sklearn.preprocessing import PolynomialFeatures\n",
    "\n",
    "%matplotlib inline\n",
    "plt.style.use('seaborn-white')\n"
   ]
  },
  {
   "cell_type": "markdown",
   "metadata": {},
   "source": [
    "Les datasets utiles peuvent être obtenus ici : [https://vincentarelbundock.github.io/Rdatasets/datasets.html](https://vincentarelbundock.github.io/Rdatasets/datasets.html)"
   ]
  },
  {
   "cell_type": "markdown",
   "metadata": {},
   "source": [
    "# Analyse des performances sur les données de *Auto Data Set*"
   ]
  },
  {
   "cell_type": "markdown",
   "metadata": {},
   "source": [
    "Chargez les données contenues dans le fichier csv `Auto` dans un dataframe `df`, et éliminez les lignes contenant des valeurs inconnues (NA).  Examinez quelles sont les caractéristqies de ce dataframe. \n",
    "\n",
    "/!\\ Les NA sint désignés par '?'"
   ]
  },
  {
   "cell_type": "code",
   "execution_count": 3,
   "metadata": {},
   "outputs": [
    {
     "name": "stdout",
     "output_type": "stream",
     "text": [
      "<class 'pandas.core.frame.DataFrame'>\n",
      "RangeIndex: 392 entries, 0 to 391\n",
      "Data columns (total 10 columns):\n",
      " #   Column        Non-Null Count  Dtype  \n",
      "---  ------        --------------  -----  \n",
      " 0   Unnamed: 0    392 non-null    int64  \n",
      " 1   mpg           392 non-null    float64\n",
      " 2   cylinders     392 non-null    int64  \n",
      " 3   displacement  392 non-null    float64\n",
      " 4   horsepower    392 non-null    int64  \n",
      " 5   weight        392 non-null    int64  \n",
      " 6   acceleration  392 non-null    float64\n",
      " 7   year          392 non-null    int64  \n",
      " 8   origin        392 non-null    int64  \n",
      " 9   name          392 non-null    object \n",
      "dtypes: float64(3), int64(6), object(1)\n",
      "memory usage: 30.8+ KB\n"
     ]
    }
   ],
   "source": [
    "df = pd.read_csv('Auto.csv', na_values='?').dropna()\n",
    "df.info()"
   ]
  },
  {
   "cell_type": "markdown",
   "metadata": {},
   "source": [
    "On utilisera à nouveau les données `Auto`. \n",
    "Vous obtiendrez la description des variables par les lignes suivantes : "
   ]
  },
  {
   "cell_type": "code",
   "execution_count": 4,
   "metadata": {},
   "outputs": [
    {
     "data": {
      "text/html": [
       "<!DOCTYPE html PUBLIC \"-//W3C//DTD XHTML 1.0 Strict//EN\" \"http://www.w3.org/TR/xhtml1/DTD/xhtml1-strict.dtd\"><html xmlns=\"http://www.w3.org/1999/xhtml\"><head><title>R: Auto Data Set</title>\n",
       "<meta http-equiv=\"Content-Type\" content=\"text/html; charset=utf-8\" />\n",
       "<link rel=\"stylesheet\" type=\"text/css\" href=\"R.css\" />\n",
       "</head><body>\n",
       "\n",
       "<table width=\"100%\" summary=\"page for Auto\"><tr><td>Auto</td><td style=\"text-align: right;\">R Documentation</td></tr></table>\n",
       "\n",
       "<h2>\n",
       "Auto Data Set\n",
       "</h2>\n",
       "\n",
       "<h3>Description</h3>\n",
       "\n",
       "<p>Gas mileage, horsepower, and other information for 392 vehicles.</p>\n",
       "\n",
       "\n",
       "<h3>Usage</h3>\n",
       "\n",
       "<pre>Auto</pre>\n",
       "\n",
       "\n",
       "<h3>Format</h3>\n",
       "\n",
       "<p>A data frame with 392 observations on the following 9 variables.\n",
       "</p>\n",
       "\n",
       "<dl>\n",
       "<dt><code>mpg</code></dt><dd><p>miles per gallon</p>\n",
       "</dd>\n",
       "<dt><code>cylinders</code></dt><dd><p>Number of cylinders between 4 and 8</p>\n",
       "</dd>\n",
       "<dt><code>displacement</code></dt><dd><p>Engine displacement (cu. inches)</p>\n",
       "</dd>\n",
       "<dt><code>horsepower</code></dt><dd><p>Engine horsepower</p>\n",
       "</dd>\n",
       "<dt><code>weight</code></dt><dd><p>Vehicle weight (lbs.)</p>\n",
       "</dd>\n",
       "<dt><code>acceleration</code></dt><dd><p>Time to accelerate from 0 to 60 mph (sec.)</p>\n",
       "</dd>\n",
       "<dt><code>year</code></dt><dd><p>Model year (modulo 100)</p>\n",
       "</dd>\n",
       "<dt><code>origin</code></dt><dd><p>Origin of car (1. American, 2. European, 3. Japanese)</p>\n",
       "</dd>\n",
       "<dt><code>name</code></dt><dd><p>Vehicle name</p>\n",
       "</dd></dl>\n",
       "\n",
       "<p>The orginal data contained 408 observations but 16 observations with\n",
       "missing values were removed.</p>\n",
       "\n",
       "\n",
       "<h3>Source</h3>\n",
       "\n",
       "<p>This dataset was taken from the StatLib library which is maintained at Carnegie Mellon University. The dataset was used in the 1983 American Statistical Association Exposition.\n",
       "</p>\n",
       "\n",
       "\n",
       "<h3>References</h3>\n",
       "\n",
       "<p>James, G., Witten, D., Hastie, T., and Tibshirani, R. (2013)\n",
       "<em>An Introduction to Statistical Learning with applications in R</em>,\n",
       "<a href=\"www.StatLearning.com\">www.StatLearning.com</a>,\n",
       "Springer-Verlag, New York\n",
       "</p>\n",
       "\n",
       "\n",
       "<h3>Examples</h3>\n",
       "\n",
       "<pre>\n",
       "pairs(Auto)\n",
       "attach(Auto)\n",
       "hist(mpg)\n",
       "</pre>\n",
       "\n",
       "\n",
       "</body></html>\n"
      ],
      "text/plain": [
       "<IPython.core.display.HTML object>"
      ]
     },
     "metadata": {},
     "output_type": "display_data"
    }
   ],
   "source": [
    "from IPython.display import HTML\n",
    "\n",
    "with open(\"R_ Auto Data Set.html\",'r') as f: \n",
    "    display(HTML(f.read()))"
   ]
  },
  {
   "cell_type": "markdown",
   "metadata": {},
   "source": [
    "## Utilisation d'un ensemble de validation - Train/test split"
   ]
  },
  {
   "cell_type": "markdown",
   "metadata": {},
   "source": [
    "Vous explorerez l'utilisation d'un ensemble de validation pour estimer l'erreur de prédiction pour différents modèles de régression ajustés sur les données `Auto`. \n",
    "\n",
    "1) Pour commencer, il faut donc définir un ensemble d'apprentissage et un ensemble de validation. Vous utiliserez pour ce faire la fonction `sample`. "
   ]
  },
  {
   "cell_type": "markdown",
   "metadata": {},
   "source": [
    "1) On utilisera la librairie scikit learn. Séparez votre dataframe en une matrice X des variables expicatives, et une réponse y. Vous chercherez à prédire `mpg` en fonction de `horsepower` (et plus tard de `horsepower` et de ses puissances)\n",
    "\n",
    "Vous utiliserez ensuite `train_test_split` pour séparer vos données en des données d'apprentissage et de test (validation). Vous prendrez 50% des données dans chaque ensemble. "
   ]
  },
  {
   "cell_type": "code",
   "execution_count": 5,
   "metadata": {},
   "outputs": [],
   "source": [
    "X = df[['horsepower']]\n",
    "y = df['mpg']"
   ]
  },
  {
   "cell_type": "code",
   "execution_count": 6,
   "metadata": {},
   "outputs": [],
   "source": [
    "X_train, X_test, y_train, y_test = train_test_split(X, y,\n",
    "                                                        test_size=0.5, random_state=21)"
   ]
  },
  {
   "cell_type": "code",
   "execution_count": 7,
   "metadata": {},
   "outputs": [],
   "source": [
    "idx = range(df.shape[0])\n",
    "train_idx = np.random.choice(idx, size=int(round(df.shape[0]/2)))\n",
    "test_idx = [index for index in idx if index not in train_idx]"
   ]
  },
  {
   "cell_type": "code",
   "execution_count": null,
   "metadata": {},
   "outputs": [],
   "source": []
  },
  {
   "cell_type": "markdown",
   "metadata": {},
   "source": [
    "2) Vous effectuerez ensuite une régression de `mpg` sur `horsepower`, en envisageant des régressions polynomiales, pour des degrés allant de 1 à 4. Utiliser la classe `LinearRegression()` de `sklearn.linear_model`. "
   ]
  },
  {
   "cell_type": "markdown",
   "metadata": {},
   "source": [
    "Commencez par une régression linéaire avec un ordre 1"
   ]
  },
  {
   "cell_type": "code",
   "execution_count": 8,
   "metadata": {},
   "outputs": [],
   "source": [
    "model = sklearn.linear_model.LinearRegression()"
   ]
  },
  {
   "cell_type": "code",
   "execution_count": 9,
   "metadata": {},
   "outputs": [
    {
     "name": "stdout",
     "output_type": "stream",
     "text": [
      "score 0.5965036896206031\n",
      "Erreur moyenne (train) :  25.12848256232129\n",
      "Erreur moyenne (test) :  23.061163401524542\n"
     ]
    }
   ],
   "source": [
    "model.fit(X_train,y_train)\n",
    "print(\"score\", model.score(X_train,y_train))\n",
    "eqm_train = mean_squared_error(y_train, model.predict(X_train))\n",
    "eqm_test = mean_squared_error(y_test, model.predict(X_test))\n",
    "print(\"Erreur moyenne (train) : \", eqm_train )\n",
    "print(\"Erreur moyenne (test) : \", eqm_test )"
   ]
  },
  {
   "cell_type": "markdown",
   "metadata": {},
   "source": [
    "Pour ajouter des variables constituées par les puissances successives de `horsepower`, vous utiliserez la classe `PolynomialFeatures()`, que vous instancierez et dont vous utiliserez la méthode `fit_transform`.  Tester avec un ordre 2."
   ]
  },
  {
   "cell_type": "code",
   "execution_count": 10,
   "metadata": {},
   "outputs": [],
   "source": [
    "ordre = 2\n",
    "poly = PolynomialFeatures(degree=ordre)\n",
    "X_poly = poly.fit_transform(df[['horsepower']])"
   ]
  },
  {
   "cell_type": "code",
   "execution_count": 12,
   "metadata": {},
   "outputs": [
    {
     "data": {
      "text/plain": [
       "array([[1.0000e+00, 1.3000e+02, 1.6900e+04],\n",
       "       [1.0000e+00, 1.6500e+02, 2.7225e+04],\n",
       "       [1.0000e+00, 1.5000e+02, 2.2500e+04],\n",
       "       ...,\n",
       "       [1.0000e+00, 8.4000e+01, 7.0560e+03],\n",
       "       [1.0000e+00, 7.9000e+01, 6.2410e+03],\n",
       "       [1.0000e+00, 8.2000e+01, 6.7240e+03]])"
      ]
     },
     "execution_count": 12,
     "metadata": {},
     "output_type": "execute_result"
    }
   ],
   "source": [
    "X_poly"
   ]
  },
  {
   "cell_type": "markdown",
   "metadata": {},
   "source": [
    "Effectuez maintenant la régression linéaire avec un polynôme d'ordre 2 en `horsepower`, après avoir séparé vos données en train et test (comme précédemment)"
   ]
  },
  {
   "cell_type": "code",
   "execution_count": 13,
   "metadata": {},
   "outputs": [],
   "source": [
    "X_train, X_test, y_train, y_test = train_test_split(X_poly, y,\n",
    "                                                        test_size=0.5, random_state=117)"
   ]
  },
  {
   "cell_type": "code",
   "execution_count": 14,
   "metadata": {},
   "outputs": [
    {
     "name": "stdout",
     "output_type": "stream",
     "text": [
      "score 0.6866858730765223\n",
      "Erreur moyenne (train) :  18.37307250793768\n",
      "Erreur moyenne (test) :  19.68010965008266\n"
     ]
    }
   ],
   "source": [
    "model = sklearn.linear_model.LinearRegression(fit_intercept=False)\n",
    "model.fit(X_train,y_train)\n",
    "print(\"score\", model.score(X_train,y_train))\n",
    "eqm_train = mean_squared_error(y_train, model.predict(X_train))\n",
    "eqm_test = mean_squared_error(y_test, model.predict(X_test))\n",
    "print(\"Erreur moyenne (train) : \", eqm_train )\n",
    "print(\"Erreur moyenne (test) : \", eqm_test )"
   ]
  },
  {
   "cell_type": "markdown",
   "metadata": {},
   "source": [
    "On envisage maintenant des ordre allant de 0 à 12\n",
    "\n",
    "- pour chacun des degrés de polynôme, \n",
    "  - effectuer une régression avec le dataset Auto, **sur l'ensemble d'apprentissage** sélectionné question 1)\n",
    "  - tester les performances **sur la base de test** en calculant la moyenne de l'écart quadratique entre `mpg` et la valeur prédite. Méthode `predict`\n",
    "- tracer le résultat Erreur = f(ordre),  et/ou imprimer les performances obtenues\n",
    "- Effectuer l'ensemble de la procédure pour différentes valeurs du random seed, c'est-à-dire différents splits training/validation -- tracer l'ensemble des courbes obtenus\n",
    "- Quel degré faudrait-il adopter au vu de ces résultats, que penser de la stabilité des différentes estimées de l'erreur de prédiction ?"
   ]
  },
  {
   "cell_type": "code",
   "execution_count": 15,
   "metadata": {},
   "outputs": [
    {
     "data": {
      "image/png": "[encoded data removed]",
      "text/plain": [
       "<Figure size 432x288 with 1 Axes>"
      ]
     },
     "metadata": {},
     "output_type": "display_data"
    }
   ],
   "source": [
    "ordremax = 16\n",
    "ordres  = range(ordremax)\n",
    "Eqm_train = np.zeros(shape=(ordremax))\n",
    "Eqm_test = np.zeros(shape=(ordremax))\n",
    "Eqm_test_cumul = np.zeros(shape=(ordremax))\n",
    "verbose = False\n",
    "for split in np.random.choice(range(2000),size=10):\n",
    "    for order in range(ordremax):\n",
    "        if verbose: print(\"ordre = \", order, 10*'*')\n",
    "        # polynomial features\n",
    "        poly = PolynomialFeatures(degree=order)\n",
    "        X_poly = poly.fit_transform(df[['horsepower']])\n",
    "        # split train/test\n",
    "        X_train, X_test, y_train, y_test = train_test_split(X_poly, y,\n",
    "                                                            test_size=0.5, random_state=split)\n",
    "        # modèle\n",
    "        model = sklearn.linear_model.LinearRegression(fit_intercept=True)\n",
    "        model.fit(X_train,y_train)\n",
    "        # performances du modèle\n",
    "        if verbose: print(\"score\", model.score(X_train,y_train))\n",
    "        eqm_train = mean_squared_error(y_train, model.predict(X_train))\n",
    "        eqm_test = mean_squared_error(y_test, model.predict(X_test))\n",
    "        Eqm_train[order] = eqm_train    \n",
    "        Eqm_test[order] = eqm_test\n",
    "        Eqm_test_cumul[order]  = Eqm_test_cumul[order]  + eqm_test\n",
    "        if verbose: print(\"Erreur moyenne (train) : \", eqm_train )\n",
    "        if verbose: print(\"Erreur moyenne (test) : \", eqm_test )\n",
    "    plt.plot(ordres, Eqm_test, '-o')  \n",
    "    plt.xlabel(\"Ordre du modèle\")\n",
    "    plt.ylabel(\"EQM sur l'ensemble de test\")\n",
    "    plt.axis([0, 13, 15, 30])"
   ]
  },
  {
   "cell_type": "markdown",
   "metadata": {},
   "source": [
    "Tracer la moyenne des erreurs (sur les différents splits), en fonction de l'ordre du modèle. "
   ]
  },
  {
   "cell_type": "code",
   "execution_count": 16,
   "metadata": {},
   "outputs": [
    {
     "data": {
      "text/plain": [
       "Text(0, 0.5, \"EQM sur l'ensemble de test (moyenne)\")"
      ]
     },
     "execution_count": 16,
     "metadata": {},
     "output_type": "execute_result"
    },
    {
     "data": {
      "image/png": "[encoded data removed]",
      "text/plain": [
       "<Figure size 432x288 with 1 Axes>"
      ]
     },
     "metadata": {},
     "output_type": "display_data"
    }
   ],
   "source": [
    "plt.plot(ordres, Eqm_test_cumul/10)\n",
    "plt.xlabel(\"Ordre du modèle\")\n",
    "plt.ylabel(\"EQM sur l'ensemble de test (moyenne)\")"
   ]
  },
  {
   "cell_type": "markdown",
   "metadata": {},
   "source": [
    "Pas si simple de choisir le degré \"optimal\" lorque qu'on teste dfférents couples training/validation. le handicap est ici le faible nombre de données qui donne une très grande variabilité. Ce qui est net c'est que passer à un degré 2 donne une nette amélioration ; après c'est très variable suivant les différents assais. Dans ces conditions, on aura tendance à être très conservateur et à privilégier les ordres les plus faibles (donc le moins de variance).\n",
    "\n"
   ]
  },
  {
   "cell_type": "code",
   "execution_count": null,
   "metadata": {},
   "outputs": [],
   "source": []
  },
  {
   "cell_type": "markdown",
   "metadata": {},
   "source": [
    "## Utilisation de la validation croisée"
   ]
  },
  {
   "cell_type": "markdown",
   "metadata": {},
   "source": [
    "Pour utiliser la validation croisée en Python, vous utiliserez tout simplement la méthode `cross_val_score` de la librairie `sklearn.cross_validation`. "
   ]
  },
  {
   "cell_type": "code",
   "execution_count": 17,
   "metadata": {},
   "outputs": [],
   "source": [
    "# k-fold CV\n",
    "folds = 10\n",
    "\n",
    "model = linear_model.LinearRegression()\n",
    "cv_score = np.zeros((ordremax))\n",
    "\n",
    "for order in ordres:\n",
    "    poly = PolynomialFeatures(order)\n",
    "    X_poly = poly.fit_transform(df[['horsepower']])\n",
    "    cv_score[order] = cross_val_score(model, X_poly, y, cv=10, scoring='neg_mean_squared_error').mean()"
   ]
  },
  {
   "cell_type": "code",
   "execution_count": 18,
   "metadata": {},
   "outputs": [
    {
     "data": {
      "text/plain": [
       "Text(0, 0.5, 'EQM par validation croisée')"
      ]
     },
     "execution_count": 18,
     "metadata": {},
     "output_type": "execute_result"
    },
    {
     "data": {
      "image/png": "[encoded data removed]",
      "text/plain": [
       "<Figure size 432x288 with 1 Axes>"
      ]
     },
     "metadata": {},
     "output_type": "display_data"
    }
   ],
   "source": [
    "plt.plot(ordres, -cv_score)\n",
    "plt.xlabel(\"Ordre du modèle\")\n",
    "plt.ylabel(\"EQM par validation croisée\")"
   ]
  },
  {
   "cell_type": "code",
   "execution_count": 38,
   "metadata": {},
   "outputs": [
    {
     "data": {
      "text/plain": [
       "6"
      ]
     },
     "execution_count": 38,
     "metadata": {},
     "output_type": "execute_result"
    }
   ],
   "source": [
    "np.argmin(-cv_score)"
   ]
  },
  {
   "cell_type": "markdown",
   "metadata": {},
   "source": [
    "# Estimation des performances d'un modèle de régression linéaire\n",
    "\n",
    "Comme on l'a vu en cours, il est possible d'utiliser le bootstrap afin de quantifier la qualité des estimées et prédictions des méthodes d'appprentissage statistique. Cela s'applique par exemple à la régression linéaire toute simple. On va considérer la régression habituelle  `mpg~horsepower` pour le dataset `Auto`, pour des degrés 1 et 2, et comparer les performances affichées à l'aide des formules explicites (connues dans ce cas simple), et l'évaluation numérique donnée par le bootstrap. \n",
    "\n",
    "1 -  Utiliser la fonction `lm` du TP sur la régression linéaire pour avoir effectuer la prédiction linéaire ci-dessus, en ayant accès aux performances (écart-type, p-values, etc)"
   ]
  },
  {
   "cell_type": "code",
   "execution_count": 19,
   "metadata": {},
   "outputs": [],
   "source": [
    "from LinearRegression_in_Python_like_in_R import lm, summary"
   ]
  },
  {
   "cell_type": "code",
   "execution_count": 20,
   "metadata": {},
   "outputs": [
    {
     "name": "stdout",
     "output_type": "stream",
     "text": [
      "Call\n",
      "smf.ols('mpg~horsepower+I(horsepower**2)', data=...)\n",
      "\n",
      "Coefficients:\n",
      "                     Estimate  Std. Error    t value       Pr(>|t|) code\n",
      "Intercept           56.900100    1.800427  31.603673  1.740911e-109  ***\n",
      "horsepower          -0.466190    0.031125 -14.978164   2.289429e-40  ***\n",
      "I(horsepower ** 2)   0.001231    0.000122  10.080093   2.196340e-21  ***\n",
      "\n",
      "Residuals:\n",
      "         Min        1Q    Median        3Q       Max\n",
      "0 -14.713545 -2.594292 -0.085934  2.286798  15.89607\n",
      "---\n",
      "Signif. codes:  0 ‘***’ 0.001 ‘**’ 0.01 ‘*’ 0.05 ‘.’ 0.1 ‘ ’ 1\n",
      "\n",
      "Residual standard error: 4.3739 on 389 degrees of freedom\n",
      "Multiple R-squared:  0.6876,\tAdjusted R-squared:  0.686 \n",
      "F-statistic: 428.018 on 2 and 389 DF,  p-value: 5.400e-99\n",
      "\n",
      "\n"
     ]
    }
   ],
   "source": [
    "model = lm('mpg~horsepower+I(horsepower**2)', data=df)\n",
    "model.summary()"
   ]
  },
  {
   "cell_type": "markdown",
   "metadata": {},
   "source": [
    "Les coefficients du modèle peuvent être accédés, sous leur nom, par `model.params['nom_du_coeff']` (et `model.params` pour examiner ces coefficients)"
   ]
  },
  {
   "cell_type": "markdown",
   "metadata": {},
   "source": [
    "2 -  Créer une fonction `bootfn` qui prenne en entrée les données et un vecteur d'index et retourne les coefficients de la régression linéaire correspondante. "
   ]
  },
  {
   "cell_type": "code",
   "execution_count": 21,
   "metadata": {},
   "outputs": [],
   "source": [
    "def bootfn(data, index):\n",
    "    model = lm('mpg~horsepower+I(horsepower**2)', data=data.loc[I,:])\n",
    "    return model.params"
   ]
  },
  {
   "cell_type": "markdown",
   "metadata": {},
   "source": [
    "3 -  Utiliser la fonction `random.choice` pour rééchantillonner les données, puis calculer les estimées correspondantes par `bootfn`. Réitérer avec une autre valeur de seed. Comparer ces résultats. \n"
   ]
  },
  {
   "cell_type": "code",
   "execution_count": 22,
   "metadata": {},
   "outputs": [
    {
     "data": {
      "text/plain": [
       "Intercept             56.316755\n",
       "horsepower            -0.451222\n",
       "I(horsepower ** 2)     0.001142\n",
       "dtype: float64"
      ]
     },
     "execution_count": 22,
     "metadata": {},
     "output_type": "execute_result"
    }
   ],
   "source": [
    "np.random.seed(27)\n",
    "I = np.random.choice(df.shape[0], size=100, )  # Choix des index\n",
    "bootfn(df, I)"
   ]
  },
  {
   "cell_type": "code",
   "execution_count": 23,
   "metadata": {},
   "outputs": [
    {
     "data": {
      "text/plain": [
       "Intercept             58.743686\n",
       "horsepower            -0.504709\n",
       "I(horsepower ** 2)     0.001388\n",
       "dtype: float64"
      ]
     },
     "execution_count": 23,
     "metadata": {},
     "output_type": "execute_result"
    }
   ],
   "source": [
    "np.random.seed(45)\n",
    "I = np.random.choice(df.shape[0], size=100, )  # Choix des index\n",
    "bootfn(df, I)"
   ]
  },
  {
   "cell_type": "markdown",
   "metadata": {},
   "source": [
    "4 -  Utiliser maintenant la fonction `boot` pour calculer un millier de ces estimées. Stocker les résultats dans un Dataframe.  Tracer les histogrammes correspondants, calculer les moyennes (`mean`)  et écarts-types (`std`)"
   ]
  },
  {
   "cell_type": "code",
   "execution_count": 24,
   "metadata": {},
   "outputs": [],
   "source": [
    "B = 1000\n",
    "coeffs_boot = pd.DataFrame(index=range(B), columns=['intercept', 'horsepower', 'horsepower**2'])\n",
    "\n",
    "for b in range(B):\n",
    "    I = np.random.choice(df.shape[0], size=df.shape[0], )  # Choix des index\n",
    "    intercept, h, h2 = bootfn(df, I)\n",
    "    coeffs_boot.iloc[b] = intercept, h, h2 "
   ]
  },
  {
   "cell_type": "code",
   "execution_count": 25,
   "metadata": {},
   "outputs": [
    {
     "data": {
      "text/html": [
       "<div>\n",
       "<style scoped>\n",
       "    .dataframe tbody tr th:only-of-type {\n",
       "        vertical-align: middle;\n",
       "    }\n",
       "\n",
       "    .dataframe tbody tr th {\n",
       "        vertical-align: top;\n",
       "    }\n",
       "\n",
       "    .dataframe thead th {\n",
       "        text-align: right;\n",
       "    }\n",
       "</style>\n",
       "<table border=\"1\" class=\"dataframe\">\n",
       "  <thead>\n",
       "    <tr style=\"text-align: right;\">\n",
       "      <th></th>\n",
       "      <th>intercept</th>\n",
       "      <th>horsepower</th>\n",
       "      <th>horsepower**2</th>\n",
       "    </tr>\n",
       "  </thead>\n",
       "  <tbody>\n",
       "    <tr>\n",
       "      <th>0</th>\n",
       "      <td>60.042631</td>\n",
       "      <td>-0.509134</td>\n",
       "      <td>0.001352</td>\n",
       "    </tr>\n",
       "    <tr>\n",
       "      <th>1</th>\n",
       "      <td>57.852288</td>\n",
       "      <td>-0.474407</td>\n",
       "      <td>0.001231</td>\n",
       "    </tr>\n",
       "    <tr>\n",
       "      <th>2</th>\n",
       "      <td>54.31715</td>\n",
       "      <td>-0.429092</td>\n",
       "      <td>0.001089</td>\n",
       "    </tr>\n",
       "    <tr>\n",
       "      <th>3</th>\n",
       "      <td>58.711568</td>\n",
       "      <td>-0.494808</td>\n",
       "      <td>0.001337</td>\n",
       "    </tr>\n",
       "    <tr>\n",
       "      <th>4</th>\n",
       "      <td>52.343564</td>\n",
       "      <td>-0.398388</td>\n",
       "      <td>0.001013</td>\n",
       "    </tr>\n",
       "    <tr>\n",
       "      <th>...</th>\n",
       "      <td>...</td>\n",
       "      <td>...</td>\n",
       "      <td>...</td>\n",
       "    </tr>\n",
       "    <tr>\n",
       "      <th>995</th>\n",
       "      <td>59.904518</td>\n",
       "      <td>-0.508743</td>\n",
       "      <td>0.00137</td>\n",
       "    </tr>\n",
       "    <tr>\n",
       "      <th>996</th>\n",
       "      <td>56.007764</td>\n",
       "      <td>-0.449487</td>\n",
       "      <td>0.001168</td>\n",
       "    </tr>\n",
       "    <tr>\n",
       "      <th>997</th>\n",
       "      <td>55.968163</td>\n",
       "      <td>-0.449961</td>\n",
       "      <td>0.00117</td>\n",
       "    </tr>\n",
       "    <tr>\n",
       "      <th>998</th>\n",
       "      <td>55.597946</td>\n",
       "      <td>-0.441816</td>\n",
       "      <td>0.001129</td>\n",
       "    </tr>\n",
       "    <tr>\n",
       "      <th>999</th>\n",
       "      <td>55.440294</td>\n",
       "      <td>-0.449046</td>\n",
       "      <td>0.001187</td>\n",
       "    </tr>\n",
       "  </tbody>\n",
       "</table>\n",
       "<p>1000 rows × 3 columns</p>\n",
       "</div>"
      ],
      "text/plain": [
       "     intercept horsepower horsepower**2\n",
       "0    60.042631  -0.509134      0.001352\n",
       "1    57.852288  -0.474407      0.001231\n",
       "2     54.31715  -0.429092      0.001089\n",
       "3    58.711568  -0.494808      0.001337\n",
       "4    52.343564  -0.398388      0.001013\n",
       "..         ...        ...           ...\n",
       "995  59.904518  -0.508743       0.00137\n",
       "996  56.007764  -0.449487      0.001168\n",
       "997  55.968163  -0.449961       0.00117\n",
       "998  55.597946  -0.441816      0.001129\n",
       "999  55.440294  -0.449046      0.001187\n",
       "\n",
       "[1000 rows x 3 columns]"
      ]
     },
     "execution_count": 25,
     "metadata": {},
     "output_type": "execute_result"
    }
   ],
   "source": [
    "coeffs_boot"
   ]
  },
  {
   "cell_type": "code",
   "execution_count": 26,
   "metadata": {},
   "outputs": [
    {
     "data": {
      "image/png": "[encoded data removed]",
      "text/plain": [
       "<Figure size 432x288 with 1 Axes>"
      ]
     },
     "metadata": {},
     "output_type": "display_data"
    },
    {
     "data": {
      "image/png": "[encoded data removed]",
      "text/plain": [
       "<Figure size 432x288 with 1 Axes>"
      ]
     },
     "metadata": {},
     "output_type": "display_data"
    },
    {
     "data": {
      "image/png": "[encoded data removed]",
      "text/plain": [
       "<Figure size 432x288 with 1 Axes>"
      ]
     },
     "metadata": {},
     "output_type": "display_data"
    }
   ],
   "source": [
    "from itertools import cycle\n",
    "c = cycle(['c', 'r', 'b', 'g'])\n",
    "\n",
    "for col in coeffs_boot.columns:\n",
    "    plt.figure()\n",
    "    plt.hist(coeffs_boot[col].values.astype(float), color=next(c))\n",
    "    plt.title(col)"
   ]
  },
  {
   "cell_type": "code",
   "execution_count": 27,
   "metadata": {},
   "outputs": [
    {
     "data": {
      "text/plain": [
       "intercept        57.009171\n",
       "horsepower       -0.467740\n",
       "horsepower**2     0.001236\n",
       "dtype: float64"
      ]
     },
     "execution_count": 27,
     "metadata": {},
     "output_type": "execute_result"
    }
   ],
   "source": [
    "coeffs_boot.mean()"
   ]
  },
  {
   "cell_type": "code",
   "execution_count": 28,
   "metadata": {},
   "outputs": [
    {
     "data": {
      "text/plain": [
       "intercept        2.127831\n",
       "horsepower       0.034137\n",
       "horsepower**2    0.000124\n",
       "dtype: float64"
      ]
     },
     "execution_count": 28,
     "metadata": {},
     "output_type": "execute_result"
    }
   ],
   "source": [
    "coeffs_boot.std()"
   ]
  },
  {
   "cell_type": "markdown",
   "metadata": {},
   "source": [
    "5 - Comparer ces résultats à ceux qu'on relève sur le résumé `summary` de la fonction `lm`. "
   ]
  },
  {
   "cell_type": "code",
   "execution_count": 29,
   "metadata": {},
   "outputs": [
    {
     "name": "stdout",
     "output_type": "stream",
     "text": [
      "Call\n",
      "smf.ols('mpg~horsepower+I(horsepower**2)', data=...)\n",
      "\n",
      "Coefficients:\n",
      "                     Estimate  Std. Error    t value       Pr(>|t|) code\n",
      "Intercept           56.900100    1.800427  31.603673  1.740911e-109  ***\n",
      "horsepower          -0.466190    0.031125 -14.978164   2.289429e-40  ***\n",
      "I(horsepower ** 2)   0.001231    0.000122  10.080093   2.196340e-21  ***\n",
      "\n",
      "Residuals:\n",
      "         Min        1Q    Median        3Q       Max\n",
      "0 -14.713545 -2.594292 -0.085934  2.286798  15.89607\n",
      "---\n",
      "Signif. codes:  0 ‘***’ 0.001 ‘**’ 0.01 ‘*’ 0.05 ‘.’ 0.1 ‘ ’ 1\n",
      "\n",
      "Residual standard error: 4.3739 on 389 degrees of freedom\n",
      "Multiple R-squared:  0.6876,\tAdjusted R-squared:  0.686 \n",
      "F-statistic: 428.018 on 2 and 389 DF,  p-value: 5.400e-99\n",
      "\n",
      "\n"
     ]
    }
   ],
   "source": [
    "summary(model)"
   ]
  },
  {
   "cell_type": "markdown",
   "metadata": {},
   "source": [
    "# Validation sur la base `Default`\n"
   ]
  },
  {
   "cell_type": "markdown",
   "metadata": {},
   "source": [
    "La base `Default` est un exemple célèbre de jeu de données pour un problème de classification.\n",
    "On utilisera ici une régression logistique. On estimera l'erreur de prédiction en utilisant un ensemble de validation, puis on testera l'importance des variables dans le modèle. Enfin, on estimera les statistiques sur les coefficients par bootstrap. \n",
    "\n",
    "## Modèle \n",
    "Charger la base defaut, fichier `default.csv`, choisir un seed, et apprendre un modèle de régression logistique pour `default~income+balance` (donc sans `student`). Afficher les résultats.  "
   ]
  },
  {
   "cell_type": "code",
   "execution_count": 32,
   "metadata": {},
   "outputs": [],
   "source": [
    "D = pd.read_csv(\"default.csv\", index_col=0)"
   ]
  },
  {
   "cell_type": "code",
   "execution_count": 33,
   "metadata": {},
   "outputs": [
    {
     "data": {
      "text/html": [
       "<div>\n",
       "<style scoped>\n",
       "    .dataframe tbody tr th:only-of-type {\n",
       "        vertical-align: middle;\n",
       "    }\n",
       "\n",
       "    .dataframe tbody tr th {\n",
       "        vertical-align: top;\n",
       "    }\n",
       "\n",
       "    .dataframe thead th {\n",
       "        text-align: right;\n",
       "    }\n",
       "</style>\n",
       "<table border=\"1\" class=\"dataframe\">\n",
       "  <thead>\n",
       "    <tr style=\"text-align: right;\">\n",
       "      <th></th>\n",
       "      <th>default</th>\n",
       "      <th>student</th>\n",
       "      <th>balance</th>\n",
       "      <th>income</th>\n",
       "    </tr>\n",
       "  </thead>\n",
       "  <tbody>\n",
       "    <tr>\n",
       "      <th>1</th>\n",
       "      <td>No</td>\n",
       "      <td>No</td>\n",
       "      <td>729.526495</td>\n",
       "      <td>44361.625074</td>\n",
       "    </tr>\n",
       "    <tr>\n",
       "      <th>2</th>\n",
       "      <td>No</td>\n",
       "      <td>Yes</td>\n",
       "      <td>817.180407</td>\n",
       "      <td>12106.134700</td>\n",
       "    </tr>\n",
       "    <tr>\n",
       "      <th>3</th>\n",
       "      <td>No</td>\n",
       "      <td>No</td>\n",
       "      <td>1073.549164</td>\n",
       "      <td>31767.138947</td>\n",
       "    </tr>\n",
       "    <tr>\n",
       "      <th>4</th>\n",
       "      <td>No</td>\n",
       "      <td>No</td>\n",
       "      <td>529.250605</td>\n",
       "      <td>35704.493935</td>\n",
       "    </tr>\n",
       "    <tr>\n",
       "      <th>5</th>\n",
       "      <td>No</td>\n",
       "      <td>No</td>\n",
       "      <td>785.655883</td>\n",
       "      <td>38463.495879</td>\n",
       "    </tr>\n",
       "  </tbody>\n",
       "</table>\n",
       "</div>"
      ],
      "text/plain": [
       "  default student      balance        income\n",
       "1      No      No   729.526495  44361.625074\n",
       "2      No     Yes   817.180407  12106.134700\n",
       "3      No      No  1073.549164  31767.138947\n",
       "4      No      No   529.250605  35704.493935\n",
       "5      No      No   785.655883  38463.495879"
      ]
     },
     "execution_count": 33,
     "metadata": {},
     "output_type": "execute_result"
    }
   ],
   "source": [
    "D.head()"
   ]
  },
  {
   "cell_type": "code",
   "execution_count": 34,
   "metadata": {},
   "outputs": [],
   "source": [
    "import statsmodels.api as sm\n",
    "import statsmodels.formula.api as smf\n",
    "#\n",
    "from GLMRegression_in_Python_like_in_R import GLMsummary, glm_residplot\n",
    "from LinearRegression_in_Python_like_in_R import lm, summary, vif"
   ]
  },
  {
   "cell_type": "markdown",
   "metadata": {},
   "source": [
    "Apprendre une régression logistique pour prédire `default` en fonction des autres variables et afficher les performances"
   ]
  },
  {
   "cell_type": "code",
   "execution_count": 35,
   "metadata": {},
   "outputs": [
    {
     "data": {
      "text/html": [
       "<table class=\"simpletable\">\n",
       "<caption>Generalized Linear Model Regression Results</caption>\n",
       "<tr>\n",
       "  <th>Dep. Variable:</th>   <td>['default[No]', 'default[Yes]']</td> <th>  No. Observations:  </th>  <td> 10000</td> \n",
       "</tr>\n",
       "<tr>\n",
       "  <th>Model:</th>                         <td>GLM</td>               <th>  Df Residuals:      </th>  <td>  9996</td> \n",
       "</tr>\n",
       "<tr>\n",
       "  <th>Model Family:</th>               <td>Binomial</td>             <th>  Df Model:          </th>  <td>     3</td> \n",
       "</tr>\n",
       "<tr>\n",
       "  <th>Link Function:</th>                <td>Logit</td>              <th>  Scale:             </th> <td>  1.0000</td>\n",
       "</tr>\n",
       "<tr>\n",
       "  <th>Method:</th>                       <td>IRLS</td>               <th>  Log-Likelihood:    </th> <td> -785.77</td>\n",
       "</tr>\n",
       "<tr>\n",
       "  <th>Date:</th>                   <td>Mon, 05 Dec 2022</td>         <th>  Deviance:          </th> <td>  1571.5</td>\n",
       "</tr>\n",
       "<tr>\n",
       "  <th>Time:</th>                       <td>11:44:04</td>             <th>  Pearson chi2:      </th> <td>7.00e+03</td>\n",
       "</tr>\n",
       "<tr>\n",
       "  <th>No. Iterations:</th>                 <td>9</td>                <th>  Pseudo R-squ. (CS):</th>  <td>0.1262</td> \n",
       "</tr>\n",
       "<tr>\n",
       "  <th>Covariance Type:</th>            <td>nonrobust</td>            <th>                     </th>     <td> </td>   \n",
       "</tr>\n",
       "</table>"
      ],
      "text/plain": [
       "<class 'statsmodels.iolib.table.SimpleTable'>"
      ]
     },
     "metadata": {},
     "output_type": "display_data"
    },
    {
     "data": {
      "text/html": [
       "<div>\n",
       "<style scoped>\n",
       "    .dataframe tbody tr th:only-of-type {\n",
       "        vertical-align: middle;\n",
       "    }\n",
       "\n",
       "    .dataframe tbody tr th {\n",
       "        vertical-align: top;\n",
       "    }\n",
       "\n",
       "    .dataframe thead th {\n",
       "        text-align: right;\n",
       "    }\n",
       "</style>\n",
       "<table border=\"1\" class=\"dataframe\">\n",
       "  <thead>\n",
       "    <tr style=\"text-align: right;\">\n",
       "      <th></th>\n",
       "      <th>coef</th>\n",
       "      <th>std err</th>\n",
       "      <th>z</th>\n",
       "      <th>P&gt;|z|</th>\n",
       "      <th>[0.025</th>\n",
       "      <th>0.975]</th>\n",
       "      <th>p-value</th>\n",
       "      <th>Code</th>\n",
       "    </tr>\n",
       "  </thead>\n",
       "  <tbody>\n",
       "    <tr>\n",
       "      <th>Intercept</th>\n",
       "      <td>10.8690</td>\n",
       "      <td>0.492</td>\n",
       "      <td>22.079</td>\n",
       "      <td>0.000</td>\n",
       "      <td>9.904</td>\n",
       "      <td>11.834</td>\n",
       "      <td>4.995494e-108</td>\n",
       "      <td>***</td>\n",
       "    </tr>\n",
       "    <tr>\n",
       "      <th>student[T.Yes]</th>\n",
       "      <td>0.6468</td>\n",
       "      <td>0.236</td>\n",
       "      <td>2.738</td>\n",
       "      <td>0.006</td>\n",
       "      <td>0.184</td>\n",
       "      <td>1.110</td>\n",
       "      <td>6.189022e-03</td>\n",
       "      <td>**</td>\n",
       "    </tr>\n",
       "    <tr>\n",
       "      <th>balance</th>\n",
       "      <td>-0.0057</td>\n",
       "      <td>0.000</td>\n",
       "      <td>-24.737</td>\n",
       "      <td>0.000</td>\n",
       "      <td>-0.006</td>\n",
       "      <td>-0.005</td>\n",
       "      <td>4.331515e-135</td>\n",
       "      <td>***</td>\n",
       "    </tr>\n",
       "    <tr>\n",
       "      <th>income</th>\n",
       "      <td>-3.033e-06</td>\n",
       "      <td>8.2e-06</td>\n",
       "      <td>-0.370</td>\n",
       "      <td>0.712</td>\n",
       "      <td>-1.91e-05</td>\n",
       "      <td>1.3e-05</td>\n",
       "      <td>7.115254e-01</td>\n",
       "      <td></td>\n",
       "    </tr>\n",
       "  </tbody>\n",
       "</table>\n",
       "</div>"
      ],
      "text/plain": [
       "                      coef    std err          z   P>|z|     [0.025  \\\n",
       "Intercept          10.8690      0.492     22.079   0.000      9.904   \n",
       "student[T.Yes]      0.6468      0.236      2.738   0.006      0.184   \n",
       "balance            -0.0057      0.000    -24.737   0.000     -0.006   \n",
       "income          -3.033e-06    8.2e-06     -0.370   0.712  -1.91e-05   \n",
       "\n",
       "                   0.975]        p-value Code  \n",
       "Intercept          11.834  4.995494e-108  ***  \n",
       "student[T.Yes]      1.110   6.189022e-03   **  \n",
       "balance            -0.005  4.331515e-135  ***  \n",
       "income            1.3e-05   7.115254e-01       "
      ]
     },
     "metadata": {},
     "output_type": "display_data"
    },
    {
     "data": {
      "text/html": [
       "Signif. codes:  0 '***' 0.001 '**' 0.01 '*' 0.05 '.' 0.1 ' ' 1"
      ],
      "text/plain": [
       "<IPython.core.display.HTML object>"
      ]
     },
     "metadata": {},
     "output_type": "display_data"
    },
    {
     "data": {
      "text/html": [
       "AIC with 4 ddl = 1579.54"
      ],
      "text/plain": [
       "<IPython.core.display.HTML object>"
      ]
     },
     "metadata": {},
     "output_type": "display_data"
    }
   ],
   "source": [
    "glm_default = smf.glm(\"default ~ student + balance + income\", \n",
    "                      D, family=sm.families.Binomial())\n",
    "\n",
    "res = glm_default.fit()\n",
    "GLMsummary(res)"
   ]
  },
  {
   "cell_type": "code",
   "execution_count": 67,
   "metadata": {},
   "outputs": [],
   "source": [
    "%load_ext rpy2.ipython"
   ]
  },
  {
   "cell_type": "code",
   "execution_count": 90,
   "metadata": {},
   "outputs": [
    {
     "name": "stdout",
     "output_type": "stream",
     "text": [
      "\n",
      "Call:\n",
      "glm(formula = default ~ income + balance + C(student), family = \"binomial\", \n",
      "    data = Default)\n",
      "\n",
      "Deviance Residuals: \n",
      "    Min       1Q   Median       3Q      Max  \n",
      "-2.4691  -0.1418  -0.0557  -0.0203   3.7383  \n",
      "\n",
      "Coefficients:\n",
      "                Estimate Std. Error z value Pr(>|z|)    \n",
      "(Intercept)   -1.087e+01  4.923e-01 -22.080  < 2e-16 ***\n",
      "income         3.033e-06  8.203e-06   0.370  0.71152    \n",
      "balance        5.737e-03  2.319e-04  24.738  < 2e-16 ***\n",
      "C(student)Yes -6.468e-01  2.363e-01  -2.738  0.00619 ** \n",
      "---\n",
      "Signif. codes:  0 ‘***’ 0.001 ‘**’ 0.01 ‘*’ 0.05 ‘.’ 0.1 ‘ ’ 1\n",
      "\n",
      "(Dispersion parameter for binomial family taken to be 1)\n",
      "\n",
      "    Null deviance: 2920.6  on 9999  degrees of freedom\n",
      "Residual deviance: 1571.5  on 9996  degrees of freedom\n",
      "AIC: 1579.5\n",
      "\n",
      "Number of Fisher Scoring iterations: 8\n",
      "\n"
     ]
    }
   ],
   "source": [
    "%%R\n",
    "library(ISLR)\n",
    "set.seed(1)\n",
    "glm.fit = glm(default ~ income + balance + C(student), data = Default, family = \"binomial\")\n",
    "summary(glm.fit)"
   ]
  },
  {
   "cell_type": "markdown",
   "metadata": {},
   "source": [
    "## Erreur de prédiction par validation. \n",
    "\n",
    "Estimez l'erreur de prédiction pour ce modèle. Pour cela :\n",
    "\n",
    "1. Séparer les données en un ensemble d'apprentissage et un ensemble de validation (train=3/4 des données, test=le 1/4 restant)\n",
    "2. Apprendre le modèle\n",
    "3. Calculer les prédictions sur la base de test, et le taux d'erreur en seuillant la probabilité a posteriori à 0.5"
   ]
  },
  {
   "cell_type": "code",
   "execution_count": 58,
   "metadata": {},
   "outputs": [],
   "source": [
    "# 1\n",
    "L = len(D.index)\n",
    "J = D.index>0\n",
    "J[np.random.randint(0, L, int(0.75*L))] = False\n",
    "Train = D[J]\n",
    "Test = D[~J]\n",
    "# autre approche\n",
    "Train, Test = train_test_split(D, test_size=0.25)"
   ]
  },
  {
   "cell_type": "code",
   "execution_count": 97,
   "metadata": {},
   "outputs": [
    {
     "data": {
      "text/html": [
       "<table class=\"simpletable\">\n",
       "<caption>Generalized Linear Model Regression Results</caption>\n",
       "<tr>\n",
       "  <th>Dep. Variable:</th>   <td>['default[No]', 'default[Yes]']</td> <th>  No. Observations:  </th>  <td>  7500</td> \n",
       "</tr>\n",
       "<tr>\n",
       "  <th>Model:</th>                         <td>GLM</td>               <th>  Df Residuals:      </th>  <td>  7497</td> \n",
       "</tr>\n",
       "<tr>\n",
       "  <th>Model Family:</th>               <td>Binomial</td>             <th>  Df Model:          </th>  <td>     2</td> \n",
       "</tr>\n",
       "<tr>\n",
       "  <th>Link Function:</th>                <td>Logit</td>              <th>  Scale:             </th> <td>  1.0000</td>\n",
       "</tr>\n",
       "<tr>\n",
       "  <th>Method:</th>                       <td>IRLS</td>               <th>  Log-Likelihood:    </th> <td> -573.63</td>\n",
       "</tr>\n",
       "<tr>\n",
       "  <th>Date:</th>                   <td>Lun, 05 déc 2022</td>         <th>  Deviance:          </th> <td>  1147.3</td>\n",
       "</tr>\n",
       "<tr>\n",
       "  <th>Time:</th>                       <td>12:45:46</td>             <th>  Pearson chi2:      </th> <td>4.96e+03</td>\n",
       "</tr>\n",
       "<tr>\n",
       "  <th>No. Iterations:</th>                 <td>9</td>                <th>  Pseudo R-squ. (CS):</th>  <td>0.1222</td> \n",
       "</tr>\n",
       "<tr>\n",
       "  <th>Covariance Type:</th>            <td>nonrobust</td>            <th>                     </th>     <td> </td>   \n",
       "</tr>\n",
       "</table>"
      ],
      "text/plain": [
       "<class 'statsmodels.iolib.table.SimpleTable'>"
      ]
     },
     "metadata": {},
     "output_type": "display_data"
    },
    {
     "data": {
      "text/html": [
       "<div>\n",
       "<style scoped>\n",
       "    .dataframe tbody tr th:only-of-type {\n",
       "        vertical-align: middle;\n",
       "    }\n",
       "\n",
       "    .dataframe tbody tr th {\n",
       "        vertical-align: top;\n",
       "    }\n",
       "\n",
       "    .dataframe thead th {\n",
       "        text-align: right;\n",
       "    }\n",
       "</style>\n",
       "<table border=\"1\" class=\"dataframe\">\n",
       "  <thead>\n",
       "    <tr style=\"text-align: right;\">\n",
       "      <th></th>\n",
       "      <th>coef</th>\n",
       "      <th>std err</th>\n",
       "      <th>z</th>\n",
       "      <th>P&gt;|z|</th>\n",
       "      <th>[0.025</th>\n",
       "      <th>0.975]</th>\n",
       "      <th>p-value</th>\n",
       "      <th>Code</th>\n",
       "    </tr>\n",
       "  </thead>\n",
       "  <tbody>\n",
       "    <tr>\n",
       "      <th>Intercept</th>\n",
       "      <td>11.6109</td>\n",
       "      <td>0.513</td>\n",
       "      <td>22.645</td>\n",
       "      <td>0.000</td>\n",
       "      <td>10.606</td>\n",
       "      <td>12.616</td>\n",
       "      <td>1.549932e-113</td>\n",
       "      <td>***</td>\n",
       "    </tr>\n",
       "    <tr>\n",
       "      <th>balance</th>\n",
       "      <td>-0.0056</td>\n",
       "      <td>0.000</td>\n",
       "      <td>-21.193</td>\n",
       "      <td>0.000</td>\n",
       "      <td>-0.006</td>\n",
       "      <td>-0.005</td>\n",
       "      <td>1.099629e-99</td>\n",
       "      <td>***</td>\n",
       "    </tr>\n",
       "    <tr>\n",
       "      <th>income</th>\n",
       "      <td>-2.212e-05</td>\n",
       "      <td>5.88e-06</td>\n",
       "      <td>-3.760</td>\n",
       "      <td>0.000</td>\n",
       "      <td>-3.36e-05</td>\n",
       "      <td>-1.06e-05</td>\n",
       "      <td>1.699030e-04</td>\n",
       "      <td>***</td>\n",
       "    </tr>\n",
       "  </tbody>\n",
       "</table>\n",
       "</div>"
      ],
      "text/plain": [
       "                 coef    std err          z   P>|z|     [0.025     0.975]  \\\n",
       "Intercept     11.6109      0.513     22.645   0.000     10.606     12.616   \n",
       "balance       -0.0056      0.000    -21.193   0.000     -0.006     -0.005   \n",
       "income     -2.212e-05   5.88e-06     -3.760   0.000  -3.36e-05  -1.06e-05   \n",
       "\n",
       "                 p-value Code  \n",
       "Intercept  1.549932e-113  ***  \n",
       "balance     1.099629e-99  ***  \n",
       "income      1.699030e-04  ***  "
      ]
     },
     "metadata": {},
     "output_type": "display_data"
    },
    {
     "data": {
      "text/html": [
       "Signif. codes:  0 '***' 0.001 '**' 0.01 '*' 0.05 '.' 0.1 ' ' 1"
      ],
      "text/plain": [
       "<IPython.core.display.HTML object>"
      ]
     },
     "metadata": {},
     "output_type": "display_data"
    },
    {
     "data": {
      "text/html": [
       "AIC with 3 ddl = 1153.27"
      ],
      "text/plain": [
       "<IPython.core.display.HTML object>"
      ]
     },
     "metadata": {},
     "output_type": "display_data"
    }
   ],
   "source": [
    "# 2\n",
    "glm_default = smf.glm(\"default ~  balance + income\", \n",
    "                      Train, family=sm.families.Binomial())\n",
    "\n",
    "res = glm_default.fit()\n",
    "GLMsummary(res)"
   ]
  },
  {
   "cell_type": "code",
   "execution_count": 98,
   "metadata": {},
   "outputs": [
    {
     "data": {
      "text/html": [
       "<div>\n",
       "<style scoped>\n",
       "    .dataframe tbody tr th:only-of-type {\n",
       "        vertical-align: middle;\n",
       "    }\n",
       "\n",
       "    .dataframe tbody tr th {\n",
       "        vertical-align: top;\n",
       "    }\n",
       "\n",
       "    .dataframe thead th {\n",
       "        text-align: right;\n",
       "    }\n",
       "</style>\n",
       "<table border=\"1\" class=\"dataframe\">\n",
       "  <thead>\n",
       "    <tr style=\"text-align: right;\">\n",
       "      <th>col_0</th>\n",
       "      <th>False</th>\n",
       "      <th>True</th>\n",
       "    </tr>\n",
       "    <tr>\n",
       "      <th>default</th>\n",
       "      <th></th>\n",
       "      <th></th>\n",
       "    </tr>\n",
       "  </thead>\n",
       "  <tbody>\n",
       "    <tr>\n",
       "      <th>No</th>\n",
       "      <td>2397</td>\n",
       "      <td>10</td>\n",
       "    </tr>\n",
       "    <tr>\n",
       "      <th>Yes</th>\n",
       "      <td>66</td>\n",
       "      <td>27</td>\n",
       "    </tr>\n",
       "  </tbody>\n",
       "</table>\n",
       "</div>"
      ],
      "text/plain": [
       "col_0    False  True\n",
       "default             \n",
       "No        2397    10\n",
       "Yes         66    27"
      ]
     },
     "execution_count": 98,
     "metadata": {},
     "output_type": "execute_result"
    }
   ],
   "source": [
    "# 3\n",
    "probas_preds = res.predict(Test)\n",
    "preds = probas_preds < 0.5\n",
    "C = pd.crosstab(Test['default'], preds)\n",
    "C"
   ]
  },
  {
   "cell_type": "code",
   "execution_count": 95,
   "metadata": {},
   "outputs": [
    {
     "data": {
      "text/plain": [
       "0.03080000000000005"
      ]
     },
     "execution_count": 95,
     "metadata": {},
     "output_type": "execute_result"
    }
   ],
   "source": [
    "# Erreur = 1 - accuracy\n",
    "1 - np.sum(np.diag(C))/np.sum(np.sum(C))"
   ]
  },
  {
   "cell_type": "code",
   "execution_count": 96,
   "metadata": {},
   "outputs": [
    {
     "name": "stdout",
     "output_type": "stream",
     "text": [
      "[1] 0.026\n"
     ]
    }
   ],
   "source": [
    "%%R\n",
    "set.seed(1)\n",
    "train = sample(nrow(Default), 3 * nrow(Default)/4)  #1.\n",
    "Default.train = Default[train, ]\n",
    "Default.test = Default[-train, ]\n",
    "\n",
    "glm.fit = glm(default ~ income + balance, data = Default.train, family = \"binomial\")  #2.\n",
    "glm.probs = predict(glm.fit, Default.test, type = \"response\")  #3.\n",
    "glm.pred = ifelse(glm.probs > 0.5, \"Yes\", \"No\")\n",
    "mean(glm.pred != Default.test$default)  #4. accuracy"
   ]
  },
  {
   "cell_type": "markdown",
   "metadata": {},
   "source": [
    "## Recommencer\n",
    "\n",
    "Répéter le processus précédent un certain nombre de fois (par exemple 300 fois), en utilisant différentes segmentations train-test des données. Commenter. "
   ]
  },
  {
   "cell_type": "code",
   "execution_count": null,
   "metadata": {},
   "outputs": [],
   "source": []
  },
  {
   "cell_type": "code",
   "execution_count": 99,
   "metadata": {},
   "outputs": [],
   "source": [
    "M = 300\n",
    "Seeds = np.random.randint(0,10000, M)\n",
    "Erreur = np.zeros(M)\n",
    "for k, seed in enumerate(Seeds):\n",
    "\n",
    "    Train, Test = train_test_split(D, test_size=0.25, random_state=seed)\n",
    "    glm_default = smf.glm(\"default ~  balance + income \", \n",
    "                          Train, family=sm.families.Binomial())\n",
    "    res = glm_default.fit()\n",
    "    probas_preds = res.predict(Test)\n",
    "    preds = probas_preds < 0.5\n",
    "    C = pd.crosstab(Test['default'], preds)\n",
    "    # Erreur = 1 - accuracy\n",
    "    Erreur[k] = 1 - np.sum(np.diag(C))/np.sum(np.sum(C))"
   ]
  },
  {
   "cell_type": "code",
   "execution_count": 100,
   "metadata": {},
   "outputs": [
    {
     "name": "stdout",
     "output_type": "stream",
     "text": [
      "0.026407999999999997\n"
     ]
    },
    {
     "data": {
      "application/vnd.jupyter.widget-view+json": {
       "model_id": "abbd437ff42b494d8065ab6ace12c298",
       "version_major": 2,
       "version_minor": 0
      },
      "image/png": "[encoded data removed]",
      "text/html": [
       "\n",
       "            <div style=\"display: inline-block;\">\n",
       "                <div class=\"jupyter-widgets widget-label\" style=\"text-align: center;\">\n",
       "                    Figure\n",
       "                </div>\n",
       "                <img src='data:image/png;base64,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' width=720.0/>\n",
       "            </div>\n",
       "        "
      ],
      "text/plain": [
       "Canvas(toolbar=Toolbar(toolitems=[('Home', 'Reset original view', 'home', 'home'), ('Back', 'Back to previous …"
      ]
     },
     "metadata": {},
     "output_type": "display_data"
    }
   ],
   "source": [
    "%matplotlib widget\n",
    "plt.figure(figsize = (10,5))\n",
    "print(np.mean(Erreur))\n",
    "_ = plt.hist(Erreur)"
   ]
  },
  {
   "cell_type": "code",
   "execution_count": 87,
   "metadata": {},
   "outputs": [
    {
     "name": "stdout",
     "output_type": "stream",
     "text": [
      "[1] 0.0264\n",
      "[1] 0.022\n",
      "[1] 0.0284\n"
     ]
    }
   ],
   "source": [
    "%%R\n",
    "for (seed in c(15, 5, 34)) {\n",
    "    set.seed(seed)\n",
    "    train = sample(nrow(Default), nrow(Default) - nrow(Default)/4)\n",
    "    Default.train = Default[train, ]\n",
    "    Default.test = Default[-train, ]\n",
    "    glm.fit = glm(default ~ income + balance, data = Default.train, family = \"binomial\")\n",
    "    glm.probs = predict(glm.fit, Default.test, type = \"response\")\n",
    "    glm.pred = ifelse(glm.probs > 0.5, \"Yes\", \"No\")\n",
    "    print(mean(glm.pred != Default.test$default))\n",
    "}"
   ]
  },
  {
   "cell_type": "markdown",
   "metadata": {},
   "source": [
    "Ci-dessous une boucle sur 300 essais. Cela commence à devenir long. "
   ]
  },
  {
   "cell_type": "code",
   "execution_count": 88,
   "metadata": {},
   "outputs": [
    {
     "name": "stdout",
     "output_type": "stream",
     "text": [
      "[1] 0.02635318\n"
     ]
    },
    {
     "data": {
      "image/png": "[encoded data removed]"
     },
     "metadata": {},
     "output_type": "display_data"
    }
   ],
   "source": [
    "%%R\n",
    "z = c()\n",
    "k = 0\n",
    "for (seed in seq(300)) {\n",
    "    set.seed(seed)\n",
    "    train = sample(nrow(Default), nrow(Default) - nrow(Default)/4)\n",
    "    Default.train = Default[train, ]\n",
    "    Default.test = Default[-train, ]\n",
    "    glm.fit = glm(default ~ income + balance, data = Default.train, family = \"binomial\")\n",
    "    glm.probs = predict(glm.fit, Default.test, type = \"response\")\n",
    "    glm.pred = ifelse(glm.probs > 0.5, \"Yes\", \"No\")\n",
    "    z[k] = mean(glm.pred != Default.test$default)\n",
    "    k = k + 1\n",
    "}\n",
    "\n",
    "print(mean(z))\n",
    "\n",
    "hist(z,20)"
   ]
  },
  {
   "cell_type": "markdown",
   "metadata": {},
   "source": [
    "## Pertinence d'une nouvelle variable -- Validation\n",
    "\n",
    "Considérons maintenant un modèle qui prédit la probabilité de défaut à partir de  income, balance, et d'une variable catégorielle sur student. Estimer le taux d'erreur sur un ensemble validation, pour plusieurs ensembles. Commenter sur l'utilité d'inclure ou non la variable student ?"
   ]
  },
  {
   "cell_type": "code",
   "execution_count": 101,
   "metadata": {},
   "outputs": [
    {
     "name": "stdout",
     "output_type": "stream",
     "text": [
      "0.026781333333333338\n"
     ]
    }
   ],
   "source": [
    "M = 300\n",
    "Seeds = np.random.randint(0,10000, M)\n",
    "Erreur = np.zeros(M)\n",
    "for k, seed in enumerate(Seeds):\n",
    "\n",
    "    Train, Test = train_test_split(D, test_size=0.25, random_state=seed)\n",
    "    glm_default = smf.glm(\"default ~ student + balance + income \", \n",
    "                          Train, family=sm.families.Binomial())\n",
    "    res = glm_default.fit()\n",
    "    probas_preds = res.predict(Test)\n",
    "    preds = probas_preds < 0.5\n",
    "    C = pd.crosstab(Test['default'], preds)\n",
    "    # Erreur = 1 - accuracy\n",
    "    Erreur[k] = 1 - np.sum(np.diag(C))/np.sum(np.sum(C))\n",
    "\n",
    "print(np.mean(Erreur))    "
   ]
  },
  {
   "cell_type": "code",
   "execution_count": 104,
   "metadata": {},
   "outputs": [
    {
     "name": "stdout",
     "output_type": "stream",
     "text": [
      "[1] 0.02674649\n"
     ]
    }
   ],
   "source": [
    "%%R\n",
    "zz = c()\n",
    "k = 0\n",
    "for (seed in seq(300)) {\n",
    "    set.seed(seed)\n",
    "    train = sample(nrow(Default), nrow(Default) - nrow(Default)/4)\n",
    "    Default.train = Default[train, ]\n",
    "    Default.test = Default[-train, ]\n",
    "    glm.fit = glm(default ~ income + balance + student, data = Default.train, family = \"binomial\")\n",
    "    glm.probs = predict(glm.fit, Default.test, type = \"response\")\n",
    "    glm.pred = ifelse(glm.probs > 0.5, \"Yes\", \"No\")\n",
    "    zz[k] = mean(glm.pred != Default.test$default)\n",
    "    k = k + 1\n",
    "}\n",
    "mean(zz)"
   ]
  },
  {
   "cell_type": "markdown",
   "metadata": {},
   "source": [
    "Il ne semble pas qu'ajouter cette variable soit complètement pertinent car le taux d'erreur moyen est un peu supérieur... Mais cet effet reste faible, et à l'intérieur de l'intervalle de confiance. "
   ]
  },
  {
   "cell_type": "markdown",
   "metadata": {},
   "source": [
    "## Pertinence d'une nouvelle variable -- Validation croisée"
   ]
  },
  {
   "cell_type": "markdown",
   "metadata": {},
   "source": [
    "Effectuer la même étude que précédemment, mais en évaluant les performances par validation croisée. Que concluerait-on cette fois ? Comment expliquer les différences éventuelles entre les performances ?"
   ]
  },
  {
   "cell_type": "markdown",
   "metadata": {},
   "source": [
    "Pour utiliser la validation croisée de sklearn sous Python, vous devrez aussi définir l'estimateur à partir de la classe LogisticRegression, ainsi qu'encoder la variable catégorielle `student`"
   ]
  },
  {
   "cell_type": "code",
   "execution_count": 124,
   "metadata": {},
   "outputs": [],
   "source": [
    "D[\"student_enc\"] = D[\"student\"].replace({\"No\":0, \"Yes\":1}) "
   ]
  },
  {
   "cell_type": "code",
   "execution_count": 136,
   "metadata": {},
   "outputs": [
    {
     "name": "stdout",
     "output_type": "stream",
     "text": [
      "[0.9745 0.9735 0.9665 0.9655 0.975 ]\n",
      "précision : 0.9709999999999999\n",
      "erreur : 0.029000000000000137\n"
     ]
    }
   ],
   "source": [
    "# Sans student\n",
    "from sklearn.linear_model import LogisticRegression\n",
    "clf = LogisticRegression(C=100000)\n",
    "X = D[['balance', 'income' ]]\n",
    "y = D['default']\n",
    "out = cross_val_score(clf, X, y, cv = 10, )\n",
    "print(out)\n",
    "print(\"précision :\", np.mean(out))\n",
    "print(\"erreur :\", 1 - np.mean(out))"
   ]
  },
  {
   "cell_type": "code",
   "execution_count": 138,
   "metadata": {},
   "outputs": [
    {
     "name": "stdout",
     "output_type": "stream",
     "text": [
      "[0.965 0.967 0.967 0.969 0.968 0.97  0.968 0.974 0.968 0.965]\n",
      "précision : 0.9681\n",
      "erreur : 0.03190000000000004\n"
     ]
    }
   ],
   "source": [
    "# Avec student\n",
    "from sklearn.linear_model import LogisticRegression\n",
    "clf = LogisticRegression(C=100000)\n",
    "X = D[['balance', 'income', 'student_enc' ]]\n",
    "y = D['default']\n",
    "out = cross_val_score(clf, X, y, cv = 10, )\n",
    "print(out)\n",
    "print(\"précision :\", np.mean(out))\n",
    "print(\"erreur :\", 1 - np.mean(out))"
   ]
  },
  {
   "cell_type": "markdown",
   "metadata": {},
   "source": [
    "Il semble que l'erreur augmente avec la variable student, qu'il ne faudrait donc pas conserver. "
   ]
  },
  {
   "cell_type": "markdown",
   "metadata": {},
   "source": [
    "Le R ci-dessous dit le contraire ; c'est ennuyeux.."
   ]
  },
  {
   "cell_type": "code",
   "execution_count": 139,
   "metadata": {},
   "outputs": [
    {
     "name": "stdout",
     "output_type": "stream",
     "text": [
      " [1] 0.02145701 0.02147502 0.02153437 0.02146277 0.02146621 0.02145814\n",
      " [7] 0.02147427 0.02147246 0.02147690 0.02144711\n",
      "[1] 0.02147243\n"
     ]
    }
   ],
   "source": [
    "%%R\n",
    "library(boot)\n",
    "cv.error.10 = c()\n",
    "for (i in 1:10) {\n",
    "    glm.fit = glm(default ~ income + balance, data = Default, family = \"binomial\")\n",
    "    cv.error.10[i] = cv.glm(Default, glm.fit, K = 10)$delta[1]\n",
    "}\n",
    "print(cv.error.10)\n",
    "#mean(cv.error.10) sd(cv.error.10) plot(cv.error.10,type='l')\n",
    "print(mean(cv.error.10))"
   ]
  },
  {
   "cell_type": "code",
   "execution_count": 140,
   "metadata": {},
   "outputs": [
    {
     "name": "stdout",
     "output_type": "stream",
     "text": [
      "[1] 0.02145453\n"
     ]
    }
   ],
   "source": [
    "%%R\n",
    "cv.error.10=c()\n",
    "for (i in 1:1) {\n",
    "    glm.fit = glm (default~income+balance+student,data=Default, family=\"binomial\") \n",
    "    cv.error.10[i]= cv.glm (Default, glm.fit, K =10)$delta[1]\n",
    "}\n",
    "cv.error.10\n",
    "#mean(cv.error.10)\n",
    "#sd(cv.error.10)\n",
    "#plot(cv.error.10,type='l')\n",
    "print(mean(cv.error.10))"
   ]
  },
  {
   "cell_type": "markdown",
   "metadata": {},
   "source": [
    "Cette fois-ci, il semble que l'on devrait garder Student ; mais encore une fois la différence est extrèmement faible. Les différences de performances entre l'approche validation et la validation croisée viennent du fait que dans la validation croisée, on utilise un apprentissage sur plus de données. Donc un modèle mieux appris."
   ]
  },
  {
   "cell_type": "markdown",
   "metadata": {},
   "source": [
    "## Estimées des erreurs standard par Bootstrap\n",
    "\n",
    "On poursuit avec la régression logistique et les données `Default`. On va maintenant comparer les erreurs standard sur le coefficients soit calculées analytiquement (et lues sur la sortie de `glm`), soit en utilisant un bootstrap. \n",
    "\n",
    "### Direct\n",
    "En utilisant `summary()` (ou `GLMsummary`) et `glm()`, déterminez les erreurs standards sur les coefficients associées à `income` `balance` dans une régression logistique. "
   ]
  },
  {
   "cell_type": "code",
   "execution_count": 142,
   "metadata": {},
   "outputs": [
    {
     "data": {
      "text/html": [
       "<table class=\"simpletable\">\n",
       "<caption>Generalized Linear Model Regression Results</caption>\n",
       "<tr>\n",
       "  <th>Dep. Variable:</th>   <td>['default[No]', 'default[Yes]']</td> <th>  No. Observations:  </th>  <td> 10000</td> \n",
       "</tr>\n",
       "<tr>\n",
       "  <th>Model:</th>                         <td>GLM</td>               <th>  Df Residuals:      </th>  <td>  9997</td> \n",
       "</tr>\n",
       "<tr>\n",
       "  <th>Model Family:</th>               <td>Binomial</td>             <th>  Df Model:          </th>  <td>     2</td> \n",
       "</tr>\n",
       "<tr>\n",
       "  <th>Link Function:</th>                <td>Logit</td>              <th>  Scale:             </th> <td>  1.0000</td>\n",
       "</tr>\n",
       "<tr>\n",
       "  <th>Method:</th>                       <td>IRLS</td>               <th>  Log-Likelihood:    </th> <td> -789.48</td>\n",
       "</tr>\n",
       "<tr>\n",
       "  <th>Date:</th>                   <td>Lun, 05 déc 2022</td>         <th>  Deviance:          </th> <td>  1579.0</td>\n",
       "</tr>\n",
       "<tr>\n",
       "  <th>Time:</th>                       <td>13:32:07</td>             <th>  Pearson chi2:      </th> <td>6.95e+03</td>\n",
       "</tr>\n",
       "<tr>\n",
       "  <th>No. Iterations:</th>                 <td>9</td>                <th>  Pseudo R-squ. (CS):</th>  <td>0.1256</td> \n",
       "</tr>\n",
       "<tr>\n",
       "  <th>Covariance Type:</th>            <td>nonrobust</td>            <th>                     </th>     <td> </td>   \n",
       "</tr>\n",
       "</table>"
      ],
      "text/plain": [
       "<class 'statsmodels.iolib.table.SimpleTable'>"
      ]
     },
     "metadata": {},
     "output_type": "display_data"
    },
    {
     "data": {
      "text/html": [
       "<div>\n",
       "<style scoped>\n",
       "    .dataframe tbody tr th:only-of-type {\n",
       "        vertical-align: middle;\n",
       "    }\n",
       "\n",
       "    .dataframe tbody tr th {\n",
       "        vertical-align: top;\n",
       "    }\n",
       "\n",
       "    .dataframe thead th {\n",
       "        text-align: right;\n",
       "    }\n",
       "</style>\n",
       "<table border=\"1\" class=\"dataframe\">\n",
       "  <thead>\n",
       "    <tr style=\"text-align: right;\">\n",
       "      <th></th>\n",
       "      <th>coef</th>\n",
       "      <th>std err</th>\n",
       "      <th>z</th>\n",
       "      <th>P&gt;|z|</th>\n",
       "      <th>[0.025</th>\n",
       "      <th>0.975]</th>\n",
       "      <th>p-value</th>\n",
       "      <th>Code</th>\n",
       "    </tr>\n",
       "  </thead>\n",
       "  <tbody>\n",
       "    <tr>\n",
       "      <th>Intercept</th>\n",
       "      <td>11.5405</td>\n",
       "      <td>0.435</td>\n",
       "      <td>26.544</td>\n",
       "      <td>0.000</td>\n",
       "      <td>10.688</td>\n",
       "      <td>12.393</td>\n",
       "      <td>3.036729e-155</td>\n",
       "      <td>***</td>\n",
       "    </tr>\n",
       "    <tr>\n",
       "      <th>balance</th>\n",
       "      <td>-0.0056</td>\n",
       "      <td>0.000</td>\n",
       "      <td>-24.835</td>\n",
       "      <td>0.000</td>\n",
       "      <td>-0.006</td>\n",
       "      <td>-0.005</td>\n",
       "      <td>3.720516e-136</td>\n",
       "      <td>***</td>\n",
       "    </tr>\n",
       "    <tr>\n",
       "      <th>income</th>\n",
       "      <td>-2.081e-05</td>\n",
       "      <td>4.99e-06</td>\n",
       "      <td>-4.174</td>\n",
       "      <td>0.000</td>\n",
       "      <td>-3.06e-05</td>\n",
       "      <td>-1.1e-05</td>\n",
       "      <td>2.991499e-05</td>\n",
       "      <td>***</td>\n",
       "    </tr>\n",
       "  </tbody>\n",
       "</table>\n",
       "</div>"
      ],
      "text/plain": [
       "                 coef    std err          z   P>|z|     [0.025     0.975]  \\\n",
       "Intercept     11.5405      0.435     26.544   0.000     10.688     12.393   \n",
       "balance       -0.0056      0.000    -24.835   0.000     -0.006     -0.005   \n",
       "income     -2.081e-05   4.99e-06     -4.174   0.000  -3.06e-05   -1.1e-05   \n",
       "\n",
       "                 p-value Code  \n",
       "Intercept  3.036729e-155  ***  \n",
       "balance    3.720516e-136  ***  \n",
       "income      2.991499e-05  ***  "
      ]
     },
     "metadata": {},
     "output_type": "display_data"
    },
    {
     "data": {
      "text/html": [
       "Signif. codes:  0 '***' 0.001 '**' 0.01 '*' 0.05 '.' 0.1 ' ' 1"
      ],
      "text/plain": [
       "<IPython.core.display.HTML object>"
      ]
     },
     "metadata": {},
     "output_type": "display_data"
    },
    {
     "data": {
      "text/html": [
       "AIC with 3 ddl = 1584.97"
      ],
      "text/plain": [
       "<IPython.core.display.HTML object>"
      ]
     },
     "metadata": {},
     "output_type": "display_data"
    }
   ],
   "source": [
    "glm_default = smf.glm(\"default ~ balance + income\", \n",
    "                      D, family=sm.families.Binomial())\n",
    "\n",
    "res = glm_default.fit()\n",
    "GLMsummary(res)"
   ]
  },
  {
   "cell_type": "code",
   "execution_count": 141,
   "metadata": {},
   "outputs": [
    {
     "name": "stdout",
     "output_type": "stream",
     "text": [
      "\n",
      "Call:\n",
      "glm(formula = default ~ income + balance, family = \"binomial\", \n",
      "    data = Default)\n",
      "\n",
      "Deviance Residuals: \n",
      "    Min       1Q   Median       3Q      Max  \n",
      "-2.4725  -0.1444  -0.0574  -0.0211   3.7245  \n",
      "\n",
      "Coefficients:\n",
      "              Estimate Std. Error z value Pr(>|z|)    \n",
      "(Intercept) -1.154e+01  4.348e-01 -26.545  < 2e-16 ***\n",
      "income       2.081e-05  4.985e-06   4.174 2.99e-05 ***\n",
      "balance      5.647e-03  2.274e-04  24.836  < 2e-16 ***\n",
      "---\n",
      "Signif. codes:  0 ‘***’ 0.001 ‘**’ 0.01 ‘*’ 0.05 ‘.’ 0.1 ‘ ’ 1\n",
      "\n",
      "(Dispersion parameter for binomial family taken to be 1)\n",
      "\n",
      "    Null deviance: 2920.6  on 9999  degrees of freedom\n",
      "Residual deviance: 1579.0  on 9997  degrees of freedom\n",
      "AIC: 1585\n",
      "\n",
      "Number of Fisher Scoring iterations: 8\n",
      "\n"
     ]
    }
   ],
   "source": [
    "%%R\n",
    "set.seed(1)\n",
    "glm.fit = glm(default ~ income + balance, data = Default, family = \"binomial\")\n",
    "summary(glm.fit)"
   ]
  },
  {
   "cell_type": "markdown",
   "metadata": {},
   "source": [
    "### Par bootstrap\n",
    "\n",
    "1.  Écrire une fonction `boot.fn()` ou `bootfn`sous Python, qui reçoit `Default` ainsi qu'un index des observations et rend les estimées des coefficients pour  income et balance.\n",
    "2. Utiliser le bootstrap pour calculer les erreurs standard. Comparer avec les résultats précédents et commenter..\n"
   ]
  },
  {
   "cell_type": "code",
   "execution_count": 207,
   "metadata": {},
   "outputs": [],
   "source": [
    "def bootfn(data, index):\n",
    "    model = smf.glm('default~balance+income', data=data.iloc[index,:], family=sm.families.Binomial()).fit()\n",
    "    return model.params"
   ]
  },
  {
   "cell_type": "code",
   "execution_count": 174,
   "metadata": {},
   "outputs": [
    {
     "data": {
      "text/plain": [
       "10000"
      ]
     },
     "execution_count": 174,
     "metadata": {},
     "output_type": "execute_result"
    }
   ],
   "source": [
    "D.shape[0]"
   ]
  },
  {
   "cell_type": "code",
   "execution_count": 220,
   "metadata": {},
   "outputs": [
    {
     "data": {
      "text/plain": [
       "Intercept    11.995101\n",
       "balance      -0.005876\n",
       "income       -0.000024\n",
       "dtype: float64"
      ]
     },
     "execution_count": 220,
     "metadata": {},
     "output_type": "execute_result"
    }
   ],
   "source": [
    "# Essai avec un seed\n",
    "np.random.seed(27)\n",
    "I = np.random.choice(D.shape[0], size=D.shape[0] )  # Choix des index\n",
    "bootfn(D, I)"
   ]
  },
  {
   "cell_type": "code",
   "execution_count": 221,
   "metadata": {},
   "outputs": [
    {
     "data": {
      "text/html": [
       "<div>\n",
       "<style scoped>\n",
       "    .dataframe tbody tr th:only-of-type {\n",
       "        vertical-align: middle;\n",
       "    }\n",
       "\n",
       "    .dataframe tbody tr th {\n",
       "        vertical-align: top;\n",
       "    }\n",
       "\n",
       "    .dataframe thead th {\n",
       "        text-align: right;\n",
       "    }\n",
       "</style>\n",
       "<table border=\"1\" class=\"dataframe\">\n",
       "  <thead>\n",
       "    <tr style=\"text-align: right;\">\n",
       "      <th></th>\n",
       "      <th>intercept</th>\n",
       "      <th>balance</th>\n",
       "      <th>income</th>\n",
       "    </tr>\n",
       "  </thead>\n",
       "  <tbody>\n",
       "    <tr>\n",
       "      <th>0</th>\n",
       "      <td>11.781733</td>\n",
       "      <td>-0.005684</td>\n",
       "      <td>-0.000023</td>\n",
       "    </tr>\n",
       "    <tr>\n",
       "      <th>1</th>\n",
       "      <td>12.115433</td>\n",
       "      <td>-0.005897</td>\n",
       "      <td>-0.000029</td>\n",
       "    </tr>\n",
       "    <tr>\n",
       "      <th>2</th>\n",
       "      <td>11.889497</td>\n",
       "      <td>-0.005765</td>\n",
       "      <td>-0.000029</td>\n",
       "    </tr>\n",
       "    <tr>\n",
       "      <th>3</th>\n",
       "      <td>12.32927</td>\n",
       "      <td>-0.005848</td>\n",
       "      <td>-0.000033</td>\n",
       "    </tr>\n",
       "    <tr>\n",
       "      <th>4</th>\n",
       "      <td>11.818274</td>\n",
       "      <td>-0.005801</td>\n",
       "      <td>-0.000022</td>\n",
       "    </tr>\n",
       "  </tbody>\n",
       "</table>\n",
       "</div>"
      ],
      "text/plain": [
       "   intercept   balance    income\n",
       "0  11.781733 -0.005684 -0.000023\n",
       "1  12.115433 -0.005897 -0.000029\n",
       "2  11.889497 -0.005765 -0.000029\n",
       "3   12.32927 -0.005848 -0.000033\n",
       "4  11.818274 -0.005801 -0.000022"
      ]
     },
     "execution_count": 221,
     "metadata": {},
     "output_type": "execute_result"
    }
   ],
   "source": [
    "B = 1000\n",
    "coeffs_boot = pd.DataFrame(index=range(B), columns=['intercept', 'balance', 'income'])\n",
    "\n",
    "for b in range(B):\n",
    "    I = np.random.choice(D.shape[0], size=D.shape[0], )  # Choix des index\n",
    "    intercept, bal, inc = bootfn(D, I)\n",
    "    coeffs_boot.iloc[b] = intercept, bal, inc\n",
    "coeffs_boot.head()    "
   ]
  },
  {
   "cell_type": "markdown",
   "metadata": {},
   "source": [
    "Les statistiques bootstrap :"
   ]
  },
  {
   "cell_type": "code",
   "execution_count": 222,
   "metadata": {},
   "outputs": [
    {
     "data": {
      "text/plain": [
       "intercept    11.593128\n",
       "balance      -0.005674\n",
       "income       -0.000021\n",
       "dtype: float64"
      ]
     },
     "execution_count": 222,
     "metadata": {},
     "output_type": "execute_result"
    }
   ],
   "source": [
    "np.mean(coeffs_boot, axis=0)"
   ]
  },
  {
   "cell_type": "code",
   "execution_count": 223,
   "metadata": {},
   "outputs": [
    {
     "data": {
      "text/plain": [
       "intercept    0.421259\n",
       "balance      0.000224\n",
       "income       0.000005\n",
       "dtype: float64"
      ]
     },
     "execution_count": 223,
     "metadata": {},
     "output_type": "execute_result"
    }
   ],
   "source": [
    "np.std(coeffs_boot, axis=0)"
   ]
  },
  {
   "cell_type": "code",
   "execution_count": 232,
   "metadata": {},
   "outputs": [
    {
     "data": {
      "text/plain": [
       "Intercept    0.434772\n",
       "balance      0.000227\n",
       "income       0.000005\n",
       "dtype: float64"
      ]
     },
     "execution_count": 232,
     "metadata": {},
     "output_type": "execute_result"
    }
   ],
   "source": [
    "# Coefficients obtenus par le calcul analytique (possible ici) dans statsmodels\n",
    "res.bse"
   ]
  },
  {
   "cell_type": "code",
   "execution_count": 233,
   "metadata": {},
   "outputs": [
    {
     "data": {
      "text/html": [
       "<table class=\"simpletable\">\n",
       "<caption>Generalized Linear Model Regression Results</caption>\n",
       "<tr>\n",
       "  <th>Dep. Variable:</th>   <td>['default[No]', 'default[Yes]']</td> <th>  No. Observations:  </th>  <td> 10000</td> \n",
       "</tr>\n",
       "<tr>\n",
       "  <th>Model:</th>                         <td>GLM</td>               <th>  Df Residuals:      </th>  <td>  9997</td> \n",
       "</tr>\n",
       "<tr>\n",
       "  <th>Model Family:</th>               <td>Binomial</td>             <th>  Df Model:          </th>  <td>     2</td> \n",
       "</tr>\n",
       "<tr>\n",
       "  <th>Link Function:</th>                <td>Logit</td>              <th>  Scale:             </th> <td>  1.0000</td>\n",
       "</tr>\n",
       "<tr>\n",
       "  <th>Method:</th>                       <td>IRLS</td>               <th>  Log-Likelihood:    </th> <td> -789.48</td>\n",
       "</tr>\n",
       "<tr>\n",
       "  <th>Date:</th>                   <td>Lun, 05 déc 2022</td>         <th>  Deviance:          </th> <td>  1579.0</td>\n",
       "</tr>\n",
       "<tr>\n",
       "  <th>Time:</th>                       <td>14:12:17</td>             <th>  Pearson chi2:      </th> <td>6.95e+03</td>\n",
       "</tr>\n",
       "<tr>\n",
       "  <th>No. Iterations:</th>                 <td>9</td>                <th>  Pseudo R-squ. (CS):</th>  <td>0.1256</td> \n",
       "</tr>\n",
       "<tr>\n",
       "  <th>Covariance Type:</th>            <td>nonrobust</td>            <th>                     </th>     <td> </td>   \n",
       "</tr>\n",
       "</table>"
      ],
      "text/plain": [
       "<class 'statsmodels.iolib.table.SimpleTable'>"
      ]
     },
     "metadata": {},
     "output_type": "display_data"
    },
    {
     "data": {
      "text/html": [
       "<div>\n",
       "<style scoped>\n",
       "    .dataframe tbody tr th:only-of-type {\n",
       "        vertical-align: middle;\n",
       "    }\n",
       "\n",
       "    .dataframe tbody tr th {\n",
       "        vertical-align: top;\n",
       "    }\n",
       "\n",
       "    .dataframe thead th {\n",
       "        text-align: right;\n",
       "    }\n",
       "</style>\n",
       "<table border=\"1\" class=\"dataframe\">\n",
       "  <thead>\n",
       "    <tr style=\"text-align: right;\">\n",
       "      <th></th>\n",
       "      <th>coef</th>\n",
       "      <th>std err</th>\n",
       "      <th>z</th>\n",
       "      <th>P&gt;|z|</th>\n",
       "      <th>[0.025</th>\n",
       "      <th>0.975]</th>\n",
       "      <th>p-value</th>\n",
       "      <th>Code</th>\n",
       "    </tr>\n",
       "  </thead>\n",
       "  <tbody>\n",
       "    <tr>\n",
       "      <th>Intercept</th>\n",
       "      <td>11.5405</td>\n",
       "      <td>0.435</td>\n",
       "      <td>26.544</td>\n",
       "      <td>0.000</td>\n",
       "      <td>10.688</td>\n",
       "      <td>12.393</td>\n",
       "      <td>3.036729e-155</td>\n",
       "      <td>***</td>\n",
       "    </tr>\n",
       "    <tr>\n",
       "      <th>balance</th>\n",
       "      <td>-0.0056</td>\n",
       "      <td>0.000</td>\n",
       "      <td>-24.835</td>\n",
       "      <td>0.000</td>\n",
       "      <td>-0.006</td>\n",
       "      <td>-0.005</td>\n",
       "      <td>3.720516e-136</td>\n",
       "      <td>***</td>\n",
       "    </tr>\n",
       "    <tr>\n",
       "      <th>income</th>\n",
       "      <td>-2.081e-05</td>\n",
       "      <td>4.99e-06</td>\n",
       "      <td>-4.174</td>\n",
       "      <td>0.000</td>\n",
       "      <td>-3.06e-05</td>\n",
       "      <td>-1.1e-05</td>\n",
       "      <td>2.991499e-05</td>\n",
       "      <td>***</td>\n",
       "    </tr>\n",
       "  </tbody>\n",
       "</table>\n",
       "</div>"
      ],
      "text/plain": [
       "                 coef    std err          z   P>|z|     [0.025     0.975]  \\\n",
       "Intercept     11.5405      0.435     26.544   0.000     10.688     12.393   \n",
       "balance       -0.0056      0.000    -24.835   0.000     -0.006     -0.005   \n",
       "income     -2.081e-05   4.99e-06     -4.174   0.000  -3.06e-05   -1.1e-05   \n",
       "\n",
       "                 p-value Code  \n",
       "Intercept  3.036729e-155  ***  \n",
       "balance    3.720516e-136  ***  \n",
       "income      2.991499e-05  ***  "
      ]
     },
     "metadata": {},
     "output_type": "display_data"
    },
    {
     "data": {
      "text/html": [
       "Signif. codes:  0 '***' 0.001 '**' 0.01 '*' 0.05 '.' 0.1 ' ' 1"
      ],
      "text/plain": [
       "<IPython.core.display.HTML object>"
      ]
     },
     "metadata": {},
     "output_type": "display_data"
    },
    {
     "data": {
      "text/html": [
       "AIC with 3 ddl = 1584.97"
      ],
      "text/plain": [
       "<IPython.core.display.HTML object>"
      ]
     },
     "metadata": {},
     "output_type": "display_data"
    }
   ],
   "source": [
    "# Et le résumé total\n",
    "GLMsummary(res)"
   ]
  },
  {
   "cell_type": "code",
   "execution_count": 218,
   "metadata": {},
   "outputs": [
    {
     "name": "stdout",
     "output_type": "stream",
     "text": [
      "  (Intercept)        income       balance \n",
      "-1.154047e+01  2.080898e-05  5.647103e-03 \n"
     ]
    }
   ],
   "source": [
    "%%R\n",
    "boot.fn = function(data, index) {\n",
    "    coefficients(glm(default ~ income + balance, data = data, subset = index, family = \"binomial\"))\n",
    "}\n",
    "\n",
    "boot.fn(Default, 1:nrow(Default))"
   ]
  },
  {
   "cell_type": "code",
   "execution_count": 219,
   "metadata": {},
   "outputs": [
    {
     "name": "stdout",
     "output_type": "stream",
     "text": [
      "\n",
      "ORDINARY NONPARAMETRIC BOOTSTRAP\n",
      "\n",
      "\n",
      "Call:\n",
      "boot(data = Default, statistic = boot.fn, R = 1000)\n",
      "\n",
      "\n",
      "Bootstrap Statistics :\n",
      "         original        bias     std. error\n",
      "t1* -1.154047e+01 -3.945460e-02 4.344722e-01\n",
      "t2*  2.080898e-05  1.680317e-07 4.866284e-06\n",
      "t3*  5.647103e-03  1.855765e-05 2.298949e-04\n"
     ]
    }
   ],
   "source": [
    "%%R\n",
    "library(boot)\n",
    "boot(Default, boot.fn, 1000)"
   ]
  },
  {
   "cell_type": "code",
   "execution_count": null,
   "metadata": {},
   "outputs": [],
   "source": [
    "?boot"
   ]
  },
  {
   "cell_type": "markdown",
   "metadata": {},
   "source": [
    "```r\n",
    "## \n",
    "## ORDINARY NONPARAMETRIC BOOTSTRAP\n",
    "## \n",
    "## \n",
    "## Call:\n",
    "## boot(data = Default, statistic = boot.fn, R = 1000)\n",
    "## \n",
    "## \n",
    "## Bootstrap Statistics :\n",
    "##       original     bias    std. error\n",
    "## t1* -1.154e+01 -8.008e-03   4.239e-01\n",
    "## t2*  2.081e-05  5.871e-08   4.583e-06\n",
    "## t3*  5.647e-03  2.300e-06   2.268e-04\n",
    "```"
   ]
  },
  {
   "cell_type": "markdown",
   "metadata": {},
   "source": [
    "Les estimées bootstrap sont très proches des valeurs fournies par `summary`. C'est bon signe !"
   ]
  }
 ],
 "metadata": {
  "hide_input": false,
  "interactive_sols": {
   "cbx_id": 1
  },
  "kernelspec": {
   "display_name": "Python 3 (ipykernel)",
   "language": "python",
   "name": "python3"
  },
  "language_info": {
   "codemirror_mode": {
    "name": "ipython",
    "version": 3
   },
   "file_extension": ".py",
   "mimetype": "text/x-python",
   "name": "python",
   "nbconvert_exporter": "python",
   "pygments_lexer": "ipython3",
   "version": "3.9.12"
  },
  "latex_envs": {
   "LaTeX_envs_menu_present": true,
   "autoclose": false,
   "autocomplete": true,
   "bibliofile": "biblio.bib",
   "cite_by": "apalike",
   "current_citInitial": 1,
   "eqLabelWithNumbers": true,
   "eqNumInitial": 0,
   "hotkeys": {
    "equation": "ctrl-e",
    "itemize": "Ctrl-I"
   },
   "labels_anchors": false,
   "latex_user_defs": false,
   "report_style_numbering": false,
   "user_envs_cfg": false
  },
  "nbTranslate": {
   "displayLangs": [
    "fr",
    "en"
   ],
   "hotkey": "alt-t",
   "langInMainMenu": true,
   "sourceLang": "en",
   "targetLang": "fr",
   "useGoogleTranslate": true
  },
  "toc": {
   "base_numbering": "1",
   "nav_menu": {
    "height": "300px",
    "width": "252px"
   },
   "number_sections": true,
   "sideBar": true,
   "skip_h1_title": false,
   "title_cell": "Table of Contents",
   "title_sidebar": "Contents",
   "toc_cell": true,
   "toc_position": {
    "height": "415px",
    "left": "0px",
    "right": "938.011px",
    "top": "105px",
    "width": "212px"
   },
   "toc_section_display": "block",
   "toc_window_display": false
  },
  "toc_position": {
   "left": "1438.38px",
   "right": "21.6167px",
   "top": "124px"
  }
 },
 "nbformat": 4,
 "nbformat_minor": 4
}
