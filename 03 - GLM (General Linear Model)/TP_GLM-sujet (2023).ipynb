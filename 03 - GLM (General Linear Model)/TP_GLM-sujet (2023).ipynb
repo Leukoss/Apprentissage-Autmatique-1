{
 "cells": [
  {
   "cell_type": "markdown",
   "metadata": {},
   "source": [
    "# Pratique des modèles linéaires généralisés <a class=\"tocSkip\"> "
   ]
  },
  {
   "cell_type": "markdown",
   "metadata": {},
   "source": [
    "Cette série d'exercices vise à participer à la compréhension de la théorie des GLM, à mettre en oeuvre les méthodes sous Python, dans différents cas de figures de modèles statistiques et de jeux de données. \n",
    "On utilisera la librairie statsmodels, qui permet d'obtenir des résultats suivant une syntaxe et des présentations proches de celles de R. \n",
    "\n",
    "De plus, votre serviteur vous fournit plusieurs fonctions utilitaires pour afficher des résumés statistiques et des graphiques dans la librairie `GLMRegression_in_Python_like_in_R`. Vous êtes invités à consulter le source des fonctions qui vous sont fournies. \n"
   ]
  },
  {
   "cell_type": "markdown",
   "metadata": {
    "toc": true
   },
   "source": [
    "<h1>Table of Contents<span class=\"tocSkip\"></span></h1>\n",
    "<div class=\"toc\"><ul class=\"toc-item\"><li><span><a href=\"#Préparation\" data-toc-modified-id=\"Préparation-0\"><span class=\"toc-item-num\">0&nbsp;&nbsp;</span>Préparation</a></span></li><li><span><a href=\"#Proba-de-survie-sur-le-Titanic\" data-toc-modified-id=\"Proba-de-survie-sur-le-Titanic-1\"><span class=\"toc-item-num\">1&nbsp;&nbsp;</span>Proba de survie sur le Titanic</a></span><ul class=\"toc-item\"><li><span><a href=\"#Lecture-et-analyse-des-données\" data-toc-modified-id=\"Lecture-et-analyse-des-données-1.1\"><span class=\"toc-item-num\">1.1&nbsp;&nbsp;</span>Lecture et analyse des données</a></span></li><li><span><a href=\"#Modèle-de-régression-logistique\" data-toc-modified-id=\"Modèle-de-régression-logistique-1.2\"><span class=\"toc-item-num\">1.2&nbsp;&nbsp;</span>Modèle de régression logistique</a></span></li><li><span><a href=\"#Régression-binomiale\" data-toc-modified-id=\"Régression-binomiale-1.3\"><span class=\"toc-item-num\">1.3&nbsp;&nbsp;</span>Régression binomiale</a></span><ul class=\"toc-item\"><li><span><a href=\"#Données-binomiales\" data-toc-modified-id=\"Données-binomiales-1.3.1\"><span class=\"toc-item-num\">1.3.1&nbsp;&nbsp;</span>Données binomiales</a></span></li></ul></li><li><span><a href=\"#Regroupements\" data-toc-modified-id=\"Regroupements-1.4\"><span class=\"toc-item-num\">1.4&nbsp;&nbsp;</span>Regroupements</a></span></li><li><span><a href=\"#Régressions-binomiales\" data-toc-modified-id=\"Régressions-binomiales-1.5\"><span class=\"toc-item-num\">1.5&nbsp;&nbsp;</span>Régressions binomiales</a></span></li></ul></li><li><span><a href=\"#Crimes-sur-les-campus\" data-toc-modified-id=\"Crimes-sur-les-campus-2\"><span class=\"toc-item-num\">2&nbsp;&nbsp;</span>Crimes sur les campus</a></span><ul class=\"toc-item\"><li><span><a href=\"#Lecture-et-analyse\" data-toc-modified-id=\"Lecture-et-analyse-2.1\"><span class=\"toc-item-num\">2.1&nbsp;&nbsp;</span>Lecture et analyse</a></span></li><li><span><a href=\"#Modèle-de-Poisson\" data-toc-modified-id=\"Modèle-de-Poisson-2.2\"><span class=\"toc-item-num\">2.2&nbsp;&nbsp;</span>Modèle de Poisson</a></span><ul class=\"toc-item\"><li><span><a href=\"#Notion-de--modèle-de-Poisson-et-d'offset\" data-toc-modified-id=\"Notion-de--modèle-de-Poisson-et-d'offset-2.2.1\"><span class=\"toc-item-num\">2.2.1&nbsp;&nbsp;</span>Notion de  modèle de Poisson et d'offset</a></span></li><li><span><a href=\"#Régression-de-Poisson\" data-toc-modified-id=\"Régression-de-Poisson-2.2.2\"><span class=\"toc-item-num\">2.2.2&nbsp;&nbsp;</span>Régression de Poisson</a></span></li><li><span><a href=\"#Régression-avec-une-binomiale-négative\" data-toc-modified-id=\"Régression-avec-une-binomiale-négative-2.2.3\"><span class=\"toc-item-num\">2.2.3&nbsp;&nbsp;</span>Régression avec une binomiale négative</a></span></li></ul></li></ul></li><li><span><a href=\"#Réussite-en-maths\" data-toc-modified-id=\"Réussite-en-maths-3\"><span class=\"toc-item-num\">3&nbsp;&nbsp;</span>Réussite en maths</a></span><ul class=\"toc-item\"><li><span><a href=\"#Lecture-et-analyse\" data-toc-modified-id=\"Lecture-et-analyse-3.1\"><span class=\"toc-item-num\">3.1&nbsp;&nbsp;</span>Lecture et analyse</a></span></li><li><span><a href=\"#Régression\" data-toc-modified-id=\"Régression-3.2\"><span class=\"toc-item-num\">3.2&nbsp;&nbsp;</span>Régression</a></span></li></ul></li><li><span><a href=\"#Richesse-écologique\" data-toc-modified-id=\"Richesse-écologique-4\"><span class=\"toc-item-num\">4&nbsp;&nbsp;</span>Richesse écologique</a></span><ul class=\"toc-item\"><li><span><a href=\"#Lecture-et-analyse\" data-toc-modified-id=\"Lecture-et-analyse-4.1\"><span class=\"toc-item-num\">4.1&nbsp;&nbsp;</span>Lecture et analyse</a></span><ul class=\"toc-item\"><li><span><a href=\"#Tracés\" data-toc-modified-id=\"Tracés-4.1.1\"><span class=\"toc-item-num\">4.1.1&nbsp;&nbsp;</span>Tracés</a></span></li><li><span><a href=\"#Tests-statistiques\" data-toc-modified-id=\"Tests-statistiques-4.1.2\"><span class=\"toc-item-num\">4.1.2&nbsp;&nbsp;</span>Tests statistiques</a></span></li></ul></li><li><span><a href=\"#Premier-modèle.\" data-toc-modified-id=\"Premier-modèle.-4.2\"><span class=\"toc-item-num\">4.2&nbsp;&nbsp;</span>Premier modèle.</a></span></li><li><span><a href=\"#2e-modèle\" data-toc-modified-id=\"2e-modèle-4.3\"><span class=\"toc-item-num\">4.3&nbsp;&nbsp;</span>2e modèle</a></span></li><li><span><a href=\"#diagnostic\" data-toc-modified-id=\"diagnostic-4.4\"><span class=\"toc-item-num\">4.4&nbsp;&nbsp;</span>diagnostic</a></span><ul class=\"toc-item\"><li><span><a href=\"#Tracez-les-quelques-figures-de-diagnostic\" data-toc-modified-id=\"Tracez-les-quelques-figures-de-diagnostic-4.4.1\"><span class=\"toc-item-num\">4.4.1&nbsp;&nbsp;</span>Tracez les quelques figures de diagnostic</a></span></li><li><span><a href=\"#Exploitation-des-prédictions\" data-toc-modified-id=\"Exploitation-des-prédictions-4.4.2\"><span class=\"toc-item-num\">4.4.2&nbsp;&nbsp;</span>Exploitation des prédictions</a></span></li></ul></li></ul></li><li><span><a href=\"#Quine-Data\" data-toc-modified-id=\"Quine-Data-5\"><span class=\"toc-item-num\">5&nbsp;&nbsp;</span>Quine Data</a></span></li><li><span><a href=\"#Régression-linéaire\" data-toc-modified-id=\"Régression-linéaire-6\"><span class=\"toc-item-num\">6&nbsp;&nbsp;</span>Régression linéaire</a></span></li></ul></div>"
   ]
  },
  {
   "cell_type": "code",
   "execution_count": 1,
   "metadata": {},
   "outputs": [],
   "source": [
    "import pandas as pd \n",
    "import numpy as np\n",
    "import statsmodels.api as sm\n",
    "import statsmodels.formula.api as smf\n",
    "import matplotlib.pyplot as plt\n",
    "import seaborn as sns\n",
    "#\n",
    "from GLMRegression_in_Python_like_in_R import GLMsummary, glm_residplot\n",
    "from LinearRegression_in_Python_like_in_R_2023 import lm, summary, vif"
   ]
  },
  {
   "cell_type": "markdown",
   "metadata": {},
   "source": [
    "## Préparation\n",
    "\n",
    "Consulter la description et la syntaxe de la fonction GLM de statsmodels à cette adresse : https://www.statsmodels.org/stable/glm.html\n",
    "Avec les méthodes et attributs associés au modèle : https://www.statsmodels.org/stable/generated/statsmodels.genmod.generalized_linear_model.GLMResults.html#statsmodels.genmod.generalized_linear_model.GLMResults\n",
    "\n",
    "Vous pourrez également consulter avec intérêt l'aide du pendant R. : https://www.rdocumentation.org/packages/stats/versions/3.6.2/topics/glm\n",
    "\n",
    "Il est possible d'utiliser l'approche \"formule\" dans glm ou lm (modèle linéaire) : celle-ci consiste à préciser la variable réponse et les variables indépendantes. Prenez le temps de consulter la syntaxe ici : https://www.statsmodels.org/stable/example_formulas.html\n",
    "Vous pourrez effectuer quelque chose comme\n",
    "```\n",
    "glm('response ~ predictor1 + predictor2 + C(predictor3) + predictor4*predictor5 -1', data=DATA, family=...)\n",
    "```"
   ]
  },
  {
   "cell_type": "markdown",
   "metadata": {
    "heading_collapsed": true
   },
   "source": [
    "## Proba de survie sur le Titanic"
   ]
  },
  {
   "cell_type": "markdown",
   "metadata": {
    "hidden": true
   },
   "source": [
    "Dans cet exercice, nous allons revoir la régression logistique, sous l'angle d'un GLM, puis transformer le problème pour faire apparaître une véritable régression biomiale, qui sera bien entendu traitée avec un GLM. \n",
    "\n",
    "Cet exercice est inspiré du post suivant :\n",
    "https://towardsdatascience.com/the-binomial-regression-model-everything-you-need-to-know-5216f1a483d3\n",
    "dans lequel il y a des choses intéressantes, mais également d'autres assez discutables.  \n"
   ]
  },
  {
   "cell_type": "markdown",
   "metadata": {
    "hidden": true
   },
   "source": [
    "### Lecture et analyse des données"
   ]
  },
  {
   "cell_type": "markdown",
   "metadata": {
    "hidden": true
   },
   "source": [
    ">Vous commencerez par charger le fichier de données, `titanic.csv`, afficherez les premères lignes et les infos de type des données. Quelles sont les données quantitatives, catégorielles, ordinales ? "
   ]
  },
  {
   "cell_type": "code",
   "execution_count": null,
   "metadata": {
    "hidden": true
   },
   "outputs": [],
   "source": []
  },
  {
   "cell_type": "markdown",
   "metadata": {
    "hidden": true
   },
   "source": [
    "> Pour des questions pratiques, renommer les colonnes `'Siblings/Spouses Aboard', 'Parents/Children Aboard'` en \n",
    "`'ParentsChildrenAboard', 'SiblingsSpousesAboard'`"
   ]
  },
  {
   "cell_type": "code",
   "execution_count": null,
   "metadata": {
    "hidden": true
   },
   "outputs": [],
   "source": []
  },
  {
   "cell_type": "code",
   "execution_count": null,
   "metadata": {
    "hidden": true
   },
   "outputs": [],
   "source": []
  },
  {
   "cell_type": "markdown",
   "metadata": {
    "hidden": true
   },
   "source": [
    "### Modèle de régression logistique"
   ]
  },
  {
   "cell_type": "markdown",
   "metadata": {
    "hidden": true
   },
   "source": [
    ">On s'intéresse évidemment à la survie en fonction des autres paramètres. La variable `Survived` est une variable binaire (de Bernouilli) ; et on va mettre en oeuvre une régressoin logistique comme on l'a vu lors du TP précédent. \n",
    ">\n",
    ">Simplement, plutôt que de construire les matrices endog et exog, nous allons utiliser la version \"formule\" en utilisant la méthode `smf.glm(..)`. \n",
    ">\n",
    ">  -  a) Utiliser cette fonction pour définir le modèle puis l'apprendre.\n",
    ">  -  b) Vous pourrez ensuite afficher les caractéristiques  avec la méthode `.summary()` ou utiliser la fonction fournie `GLMsummary`. "
   ]
  },
  {
   "cell_type": "code",
   "execution_count": null,
   "metadata": {
    "hidden": true
   },
   "outputs": [],
   "source": []
  },
  {
   "cell_type": "markdown",
   "metadata": {
    "hidden": true
   },
   "source": [
    "> Quelles sont les variables qui ne semblent pas significatives ? Supprimez les du modèle et réitérez. "
   ]
  },
  {
   "cell_type": "code",
   "execution_count": null,
   "metadata": {
    "hidden": true
   },
   "outputs": [],
   "source": []
  },
  {
   "cell_type": "markdown",
   "metadata": {
    "hidden": true
   },
   "source": [
    "> Comparez les AIC dans les deux cas. Ceci confirme-t-il l'intérêt de supprimer ces variables ?"
   ]
  },
  {
   "cell_type": "code",
   "execution_count": null,
   "metadata": {
    "hidden": true
   },
   "outputs": [],
   "source": []
  },
  {
   "cell_type": "markdown",
   "metadata": {
    "hidden": true
   },
   "source": [
    "> calculer la table de confusion, avec un seuil à 0.5, et l'*accuracy* (utiliser par exemple pandas crosstab, `pd.crosstab()`)"
   ]
  },
  {
   "cell_type": "code",
   "execution_count": null,
   "metadata": {
    "hidden": true
   },
   "outputs": [],
   "source": []
  },
  {
   "cell_type": "code",
   "execution_count": null,
   "metadata": {
    "hidden": true
   },
   "outputs": [],
   "source": []
  },
  {
   "cell_type": "code",
   "execution_count": null,
   "metadata": {
    "hidden": true
   },
   "outputs": [],
   "source": []
  },
  {
   "cell_type": "markdown",
   "metadata": {
    "hidden": true
   },
   "source": [
    "### Régression binomiale"
   ]
  },
  {
   "cell_type": "markdown",
   "metadata": {
    "hidden": true
   },
   "source": [
    "Il y a parfois des observations multiples correspondant à une même situation : par exemples deux hommes de même age, dans la même classe et avec leur épouse à bord. Avec deux résultats de survie différents. A l'intérieur d'une même catégorie, on va donc avoir des survivants et d'autre pas. Il s'agit d'un ensemble de résultats de Bernouilli, et ceci correspond à un loi binomiale, qui mesure le nombre de \"succès\" (ou d'échecs) parmi $n$ essais. "
   ]
  },
  {
   "cell_type": "markdown",
   "metadata": {
    "hidden": true
   },
   "source": [
    "Pour être plus proche de cette situation, nous allons transformer les données afin d'obtenir des catégories plus importantes (quantitativement) et peut-être rendre la prédiction plus robuste d'ailleurs. "
   ]
  },
  {
   "cell_type": "markdown",
   "metadata": {
    "hidden": true
   },
   "source": [
    "#### Données binomiales\n",
    "> On va créer des catégories d'age de 5 ans (de 0 à5, de 5 à 10, de 10 à 15, etc). Vous utiliserez pour ce faire la fonction `pd.cut(..)` etg ajouterez une colonne `Age_Range`à notre dataframe. "
   ]
  },
  {
   "cell_type": "code",
   "execution_count": 11,
   "metadata": {
    "hidden": true
   },
   "outputs": [
    {
     "data": {
      "text/html": [
       "<div>\n",
       "<style scoped>\n",
       "    .dataframe tbody tr th:only-of-type {\n",
       "        vertical-align: middle;\n",
       "    }\n",
       "\n",
       "    .dataframe tbody tr th {\n",
       "        vertical-align: top;\n",
       "    }\n",
       "\n",
       "    .dataframe thead th {\n",
       "        text-align: right;\n",
       "    }\n",
       "</style>\n",
       "<table border=\"1\" class=\"dataframe\">\n",
       "  <thead>\n",
       "    <tr style=\"text-align: right;\">\n",
       "      <th></th>\n",
       "      <th>Survived</th>\n",
       "      <th>Pclass</th>\n",
       "      <th>Name</th>\n",
       "      <th>Sex</th>\n",
       "      <th>Age</th>\n",
       "      <th>SiblingsSpousesAboard</th>\n",
       "      <th>ParentsChildrenAboard</th>\n",
       "      <th>Fare</th>\n",
       "      <th>Age_Range</th>\n",
       "    </tr>\n",
       "  </thead>\n",
       "  <tbody>\n",
       "    <tr>\n",
       "      <th>0</th>\n",
       "      <td>0</td>\n",
       "      <td>3</td>\n",
       "      <td>Mr. Owen Harris Braund</td>\n",
       "      <td>male</td>\n",
       "      <td>22.0</td>\n",
       "      <td>1</td>\n",
       "      <td>0</td>\n",
       "      <td>7.2500</td>\n",
       "      <td>25</td>\n",
       "    </tr>\n",
       "    <tr>\n",
       "      <th>1</th>\n",
       "      <td>1</td>\n",
       "      <td>1</td>\n",
       "      <td>Mrs. John Bradley (Florence Briggs Thayer) Cum...</td>\n",
       "      <td>female</td>\n",
       "      <td>38.0</td>\n",
       "      <td>1</td>\n",
       "      <td>0</td>\n",
       "      <td>71.2833</td>\n",
       "      <td>40</td>\n",
       "    </tr>\n",
       "    <tr>\n",
       "      <th>2</th>\n",
       "      <td>1</td>\n",
       "      <td>3</td>\n",
       "      <td>Miss. Laina Heikkinen</td>\n",
       "      <td>female</td>\n",
       "      <td>26.0</td>\n",
       "      <td>0</td>\n",
       "      <td>0</td>\n",
       "      <td>7.9250</td>\n",
       "      <td>30</td>\n",
       "    </tr>\n",
       "    <tr>\n",
       "      <th>3</th>\n",
       "      <td>1</td>\n",
       "      <td>1</td>\n",
       "      <td>Mrs. Jacques Heath (Lily May Peel) Futrelle</td>\n",
       "      <td>female</td>\n",
       "      <td>35.0</td>\n",
       "      <td>1</td>\n",
       "      <td>0</td>\n",
       "      <td>53.1000</td>\n",
       "      <td>35</td>\n",
       "    </tr>\n",
       "    <tr>\n",
       "      <th>4</th>\n",
       "      <td>0</td>\n",
       "      <td>3</td>\n",
       "      <td>Mr. William Henry Allen</td>\n",
       "      <td>male</td>\n",
       "      <td>35.0</td>\n",
       "      <td>0</td>\n",
       "      <td>0</td>\n",
       "      <td>8.0500</td>\n",
       "      <td>35</td>\n",
       "    </tr>\n",
       "    <tr>\n",
       "      <th>5</th>\n",
       "      <td>0</td>\n",
       "      <td>3</td>\n",
       "      <td>Mr. James Moran</td>\n",
       "      <td>male</td>\n",
       "      <td>27.0</td>\n",
       "      <td>0</td>\n",
       "      <td>0</td>\n",
       "      <td>8.4583</td>\n",
       "      <td>30</td>\n",
       "    </tr>\n",
       "    <tr>\n",
       "      <th>6</th>\n",
       "      <td>0</td>\n",
       "      <td>1</td>\n",
       "      <td>Mr. Timothy J McCarthy</td>\n",
       "      <td>male</td>\n",
       "      <td>54.0</td>\n",
       "      <td>0</td>\n",
       "      <td>0</td>\n",
       "      <td>51.8625</td>\n",
       "      <td>55</td>\n",
       "    </tr>\n",
       "    <tr>\n",
       "      <th>7</th>\n",
       "      <td>0</td>\n",
       "      <td>3</td>\n",
       "      <td>Master. Gosta Leonard Palsson</td>\n",
       "      <td>male</td>\n",
       "      <td>2.0</td>\n",
       "      <td>3</td>\n",
       "      <td>1</td>\n",
       "      <td>21.0750</td>\n",
       "      <td>5</td>\n",
       "    </tr>\n",
       "    <tr>\n",
       "      <th>8</th>\n",
       "      <td>1</td>\n",
       "      <td>3</td>\n",
       "      <td>Mrs. Oscar W (Elisabeth Vilhelmina Berg) Johnson</td>\n",
       "      <td>female</td>\n",
       "      <td>27.0</td>\n",
       "      <td>0</td>\n",
       "      <td>2</td>\n",
       "      <td>11.1333</td>\n",
       "      <td>30</td>\n",
       "    </tr>\n",
       "    <tr>\n",
       "      <th>9</th>\n",
       "      <td>1</td>\n",
       "      <td>2</td>\n",
       "      <td>Mrs. Nicholas (Adele Achem) Nasser</td>\n",
       "      <td>female</td>\n",
       "      <td>14.0</td>\n",
       "      <td>1</td>\n",
       "      <td>0</td>\n",
       "      <td>30.0708</td>\n",
       "      <td>15</td>\n",
       "    </tr>\n",
       "  </tbody>\n",
       "</table>\n",
       "</div>"
      ],
      "text/plain": [
       "   Survived  Pclass                                               Name  \\\n",
       "0         0       3                             Mr. Owen Harris Braund   \n",
       "1         1       1  Mrs. John Bradley (Florence Briggs Thayer) Cum...   \n",
       "2         1       3                              Miss. Laina Heikkinen   \n",
       "3         1       1        Mrs. Jacques Heath (Lily May Peel) Futrelle   \n",
       "4         0       3                            Mr. William Henry Allen   \n",
       "5         0       3                                    Mr. James Moran   \n",
       "6         0       1                             Mr. Timothy J McCarthy   \n",
       "7         0       3                      Master. Gosta Leonard Palsson   \n",
       "8         1       3   Mrs. Oscar W (Elisabeth Vilhelmina Berg) Johnson   \n",
       "9         1       2                 Mrs. Nicholas (Adele Achem) Nasser   \n",
       "\n",
       "      Sex   Age  SiblingsSpousesAboard  ParentsChildrenAboard     Fare  \\\n",
       "0    male  22.0                      1                      0   7.2500   \n",
       "1  female  38.0                      1                      0  71.2833   \n",
       "2  female  26.0                      0                      0   7.9250   \n",
       "3  female  35.0                      1                      0  53.1000   \n",
       "4    male  35.0                      0                      0   8.0500   \n",
       "5    male  27.0                      0                      0   8.4583   \n",
       "6    male  54.0                      0                      0  51.8625   \n",
       "7    male   2.0                      3                      1  21.0750   \n",
       "8  female  27.0                      0                      2  11.1333   \n",
       "9  female  14.0                      1                      0  30.0708   \n",
       "\n",
       "  Age_Range  \n",
       "0        25  \n",
       "1        40  \n",
       "2        30  \n",
       "3        35  \n",
       "4        35  \n",
       "5        30  \n",
       "6        55  \n",
       "7         5  \n",
       "8        30  \n",
       "9        15  "
      ]
     },
     "execution_count": 11,
     "metadata": {},
     "output_type": "execute_result"
    }
   ],
   "source": [
    "#define the bins\n",
    "age_range_bins=[0,5,10,15,20,25,30,35,40,45,50,55,60,65,70,75,80]\n",
    "#define the label for each bin. Num labels = Num bins - 1\n",
    "age_range_labels=[5,10,15,20,25,30,35,40,45,50,55,60,65,70,75,80]\n",
    "#Cut up the age range into multiple bins and stuff them into a new Age_Range column\n"
   ]
  },
  {
   "cell_type": "markdown",
   "metadata": {
    "hidden": true
   },
   "source": [
    "### Regroupements"
   ]
  },
  {
   "cell_type": "markdown",
   "metadata": {
    "hidden": true
   },
   "source": [
    "> On va maintenant regrouper les données par mêmes (Class, Sex, et Age_Range). \n",
    "> Il s'agira de compter a) le nombre d'individus dans chacune de ces catégories, b)le nombre de survivants (et par différence de morts). Il vous faut obtenir un tableau ['Pclass', 'Sex', 'Age_Range', 'Survived', 'Died', 'Total']. On peut s'y prendre avec des groupby, et utiliser les fonctions d'aggrégation 'sum' et 'count'. On peut aussi faire cela avec une table croisée dynamique `pivot_table`"
   ]
  },
  {
   "cell_type": "markdown",
   "metadata": {
    "hidden": true
   },
   "source": [
    "> Si vous utilisez la table croisée, les commandes suivantes\n",
    ">```\n",
    "pt.columns = pt.columns.to_flat_index()\n",
    "pt.reset_index(inplace=True)\n",
    ">```\n",
    ">permettent d'applatir les index de colonne et de lignes. "
   ]
  },
  {
   "cell_type": "code",
   "execution_count": null,
   "metadata": {
    "hidden": true
   },
   "outputs": [],
   "source": []
  },
  {
   "cell_type": "code",
   "execution_count": null,
   "metadata": {
    "hidden": true
   },
   "outputs": [],
   "source": []
  },
  {
   "cell_type": "code",
   "execution_count": null,
   "metadata": {
    "hidden": true
   },
   "outputs": [],
   "source": []
  },
  {
   "cell_type": "code",
   "execution_count": null,
   "metadata": {
    "hidden": true
   },
   "outputs": [],
   "source": []
  },
  {
   "cell_type": "markdown",
   "metadata": {
    "hidden": true
   },
   "source": [
    "> Lorsque votre table a été créée, contrôler quels sont le stypes de vos différentes colonnes. Age_range et Sex devraient être des catégories"
   ]
  },
  {
   "cell_type": "code",
   "execution_count": null,
   "metadata": {
    "hidden": true
   },
   "outputs": [],
   "source": []
  },
  {
   "cell_type": "code",
   "execution_count": null,
   "metadata": {
    "hidden": true
   },
   "outputs": [],
   "source": []
  },
  {
   "cell_type": "code",
   "execution_count": null,
   "metadata": {
    "hidden": true
   },
   "outputs": [],
   "source": []
  },
  {
   "cell_type": "markdown",
   "metadata": {
    "hidden": true
   },
   "source": [
    "### Régressions binomiales"
   ]
  },
  {
   "cell_type": "markdown",
   "metadata": {
    "hidden": true
   },
   "source": [
    "> Mettre en oeuvre une régression binomiale en cherchant à modéliser le couple (Survie, Décès). Ceci conduit le glm à modéliser la proportion des Survies. Pour utiliser le glm, il faut spécifier `Survived + Died ~ ` dans la formule. "
   ]
  },
  {
   "cell_type": "code",
   "execution_count": null,
   "metadata": {},
   "outputs": [],
   "source": [
    "# Si vous rencontrez l'erreur \n",
    "# ValueError: The first guess on the deviance function returned a nan.  \n",
    "# This could be a boundary  problem and should be reported.\n",
    "\n",
    "I = pt.Total == 0\n",
    "pt.loc[I, 'Survived'] = 1e-15\n",
    "pt.loc[I, 'Died'] = 1e-15\n",
    "pt.loc[I, 'Total'] = 1e-15"
   ]
  },
  {
   "cell_type": "code",
   "execution_count": null,
   "metadata": {},
   "outputs": [],
   "source": []
  },
  {
   "cell_type": "code",
   "execution_count": null,
   "metadata": {},
   "outputs": [],
   "source": []
  },
  {
   "cell_type": "code",
   "execution_count": null,
   "metadata": {
    "hidden": true
   },
   "outputs": [],
   "source": []
  },
  {
   "cell_type": "markdown",
   "metadata": {
    "hidden": true
   },
   "source": [
    "> Afficher les résumés des résulats avec `GLMsummary`"
   ]
  },
  {
   "cell_type": "code",
   "execution_count": null,
   "metadata": {
    "hidden": true
   },
   "outputs": [],
   "source": []
  },
  {
   "cell_type": "markdown",
   "metadata": {
    "hidden": true
   },
   "source": [
    "> Que pensez vous du nbombre de coefficients obtenus. Sont-ils significatifs ? Quel est l'AIC du modèle ? Comparer le (et donc la vraisemblence) à celui obtenu sans regrouper les données. Etait-ce une idée raisonnable ? "
   ]
  },
  {
   "cell_type": "markdown",
   "metadata": {
    "hidden": true
   },
   "source": [
    "Afin de réduire  le nombre de coefficients, et peut-être d'améliorer les performances du modèle, on va quand même encoder nos variables ordinales `Age_range` et `Pclass` (cela se discute plus) avec des entiers. "
   ]
  },
  {
   "cell_type": "markdown",
   "metadata": {
    "hidden": true
   },
   "source": [
    "> Si ce n'est pas déjà le cas, encoder chacune des classes d'âge par un entier correspondant à la borne sup (ou inf si vous le souhaitez) de la classe. De même pour les classes. Assurez vous que les types correspondants dans le dataframe soeint bien entiers. `.replace({dictionnaire de corerspondances})` et `.astype(int)` "
   ]
  },
  {
   "cell_type": "code",
   "execution_count": null,
   "metadata": {
    "hidden": true
   },
   "outputs": [],
   "source": []
  },
  {
   "cell_type": "markdown",
   "metadata": {
    "hidden": true
   },
   "source": [
    "> Mettre en oeuvre un glm sur ces nouvelles données. Afficher les résultats et comparer les AIC. "
   ]
  },
  {
   "cell_type": "code",
   "execution_count": null,
   "metadata": {
    "hidden": true
   },
   "outputs": [],
   "source": []
  },
  {
   "cell_type": "markdown",
   "metadata": {
    "hidden": true
   },
   "source": [
    "> Afficher les figures de diagnostic, via `glm_residplot`. Cela confirme t-il qu'on peut utiliser ce modèle ?   "
   ]
  },
  {
   "cell_type": "code",
   "execution_count": null,
   "metadata": {
    "hidden": true
   },
   "outputs": [],
   "source": []
  },
  {
   "cell_type": "code",
   "execution_count": null,
   "metadata": {
    "hidden": true
   },
   "outputs": [],
   "source": []
  },
  {
   "cell_type": "markdown",
   "metadata": {
    "hidden": true
   },
   "source": [
    "> Enfin, on va définir un modèle agissant sur les *proportions*. Pour cela, définir une nouvelle colonne `PropSurvived` contenant les rapports Survived/Total, et effectuer la régression binomiale sur cette nouvelle variable. Comment se compare ce résultat aux précédents ? "
   ]
  },
  {
   "cell_type": "code",
   "execution_count": null,
   "metadata": {
    "hidden": true
   },
   "outputs": [],
   "source": []
  },
  {
   "cell_type": "code",
   "execution_count": null,
   "metadata": {
    "hidden": true
   },
   "outputs": [],
   "source": []
  },
  {
   "cell_type": "code",
   "execution_count": null,
   "metadata": {
    "hidden": true
   },
   "outputs": [],
   "source": []
  },
  {
   "cell_type": "code",
   "execution_count": null,
   "metadata": {
    "hidden": true
   },
   "outputs": [],
   "source": []
  },
  {
   "cell_type": "markdown",
   "metadata": {},
   "source": [
    "## Crimes sur les campus"
   ]
  },
  {
   "cell_type": "markdown",
   "metadata": {},
   "source": [
    "Cet exercice va nous permettre d'aborder la régression de Poisson. \n",
    "\n",
    "Aux US, les étudiants veulent se sentir en sécurité lorsqu'ils fréquentent un collège ou une université. En réponse à la législation, le ministère américain de l'éducation cherche à fournir des données et à rassurer les étudiants et les parents. Tous les établissements d'enseignement supérieur qui participent aux programmes fédéraux d'aide aux étudiants sont tenus, en vertu de la Jeanne Clery Disclosure of Campus Security Policy and Campus Crime Statistics Act et de la Higher Education Opportunity Act, de recueillir et de communiquer au ministère de l'éducation des données sur les délits commis sur les campus. Ces données sont ensuite mises à la disposition du public sur le site web du Bureau de l'éducation postsecondaire. Nous cherchons à savoir s'il existe des différences régionales en matière de criminalité violente sur les campus, en tenant compte des différences de type d'école."
   ]
  },
  {
   "cell_type": "markdown",
   "metadata": {},
   "source": [
    "Chaque ligne du site c_data.csv contient des informations sur la criminalité provenant d'un établissement d'enseignement supérieur, que ce soit un collège ou une université. Les variables comprennent :\n",
    "\n",
    "\n",
    "- Enrollment = enrollment at the school\n",
    "- type = college (C) or university (U)\n",
    "- nv = the number of violent crimes for that institution for the given year\n",
    "- nvrate = number of violent crimes per 1000 students\n",
    "- enroll1000 = enrollment at the school, in thousands\n",
    "- region = region of the country (C = Central, MW = Midwest, NE = Northeast, SE = Southeast, SW = Southwest, and W = West)"
   ]
  },
  {
   "cell_type": "markdown",
   "metadata": {},
   "source": [
    "### Lecture et analyse"
   ]
  },
  {
   "cell_type": "markdown",
   "metadata": {},
   "source": [
    ">Vous commencerez par charger le fichier de données, `c_data.csv`, afficherez les premières lignes et les infos de type des données. Quelles sont les données quantitatives, catégorielles, ordinales ? "
   ]
  },
  {
   "cell_type": "code",
   "execution_count": null,
   "metadata": {},
   "outputs": [],
   "source": []
  },
  {
   "cell_type": "code",
   "execution_count": null,
   "metadata": {},
   "outputs": [],
   "source": []
  },
  {
   "cell_type": "markdown",
   "metadata": {},
   "source": [
    "> Considérez la variable `nv`. Quelle devrait être la nature et la distribution de cette variable ? Tracer son histogramme pour vous faire ou confirmer une idée. "
   ]
  },
  {
   "cell_type": "code",
   "execution_count": null,
   "metadata": {},
   "outputs": [],
   "source": []
  },
  {
   "cell_type": "markdown",
   "metadata": {},
   "source": [
    "> Examiner quelles sont les proportions des collèges et universités dans chaque région. Vous devriez pouvoir afficher cela avec pd.crosstab et le paramètre normalize='columns'"
   ]
  },
  {
   "cell_type": "code",
   "execution_count": null,
   "metadata": {},
   "outputs": [],
   "source": []
  },
  {
   "cell_type": "markdown",
   "metadata": {},
   "source": [
    "> Pour poursuivre l'exploration, définir une table affichant les moyennes, écart-type ou variance pour les variables `nv`et `nvrate`. Typiquement, vous pourrez utiliser une table croisée `pivot_table`, avec comme paramètre d'aggrégation `aggfunc=['count', 'mean', 'std']`"
   ]
  },
  {
   "cell_type": "code",
   "execution_count": null,
   "metadata": {},
   "outputs": [],
   "source": []
  },
  {
   "cell_type": "code",
   "execution_count": null,
   "metadata": {},
   "outputs": [],
   "source": []
  },
  {
   "cell_type": "code",
   "execution_count": null,
   "metadata": {},
   "outputs": [],
   "source": []
  },
  {
   "cell_type": "markdown",
   "metadata": {},
   "source": [
    "> Tracer les boxplot de nvrate dans les différentes régions, et en fonction de la nature (type) d'établissement. Vous pouvez utiliser `sns.boxplot`, avec un paramètre `hue` qui serait le type. "
   ]
  },
  {
   "cell_type": "code",
   "execution_count": null,
   "metadata": {},
   "outputs": [],
   "source": []
  },
  {
   "cell_type": "code",
   "execution_count": null,
   "metadata": {},
   "outputs": [],
   "source": []
  },
  {
   "cell_type": "markdown",
   "metadata": {},
   "source": [
    "> Il y a un outlier dans la région \"SE\" et un taux de 0 pour les collèges de SW. Il est alors décidé de 1) retirer l'outlier, 2) de fusionner les régions SE et SW en une seule région S. Faites-le ! (vous pourrez utiliser un drop et .replace)"
   ]
  },
  {
   "cell_type": "code",
   "execution_count": null,
   "metadata": {},
   "outputs": [],
   "source": []
  },
  {
   "cell_type": "markdown",
   "metadata": {},
   "source": [
    "> Retracer les boxplots après cette correction. "
   ]
  },
  {
   "cell_type": "code",
   "execution_count": null,
   "metadata": {},
   "outputs": [],
   "source": []
  },
  {
   "cell_type": "markdown",
   "metadata": {},
   "source": [
    "### Modèle de Poisson"
   ]
  },
  {
   "cell_type": "markdown",
   "metadata": {},
   "source": [
    "####  Notion de  modèle de Poisson et d'offset"
   ]
  },
  {
   "cell_type": "markdown",
   "metadata": {},
   "source": [
    "Lorsqu'on a affaire à des problèmes de comptages, on fait souvent appel à une loi de Poisson ; et la moyenne de ces comptes, $\\lambda$ est le paramètre d'une loi de Poisson. Cependant, les nombres de violences sont évidemment liées au nombre d'étudiants, et comme les universités et collèges ont un nombre d'étudiants différents, il y a un problème d'échantillonnage statitique. Il faut tenir compte des différences de populations, et par exemple travailler avec des taux. On normalise chaque \"catégorie\" par le nombre d'étudiants et on obtient des  proportions. Ceci fait apparaître dans le modèle un terme d'`offset`, dont le coefficient est fixé à 1. "
   ]
  },
  {
   "cell_type": "markdown",
   "metadata": {},
   "source": [
    "$$\\log(\\frac{\\lambda}{enrollment}) = \\beta_0 + \\beta_1 type$$\n",
    "\n",
    "$$\\log(\\lambda) = \\beta_0 + \\beta_1 type - \\log(enrollment)$$"
   ]
  },
  {
   "cell_type": "markdown",
   "metadata": {},
   "source": [
    "#### Régression de Poisson\n",
    "\n",
    "Mettons donc en oeuvre une régression de Poisson pour prédire le nobre de violences, avec un offset qui corrige pour les effectifs, et en fonction des variables type et region"
   ]
  },
  {
   "cell_type": "code",
   "execution_count": null,
   "metadata": {},
   "outputs": [],
   "source": []
  },
  {
   "cell_type": "markdown",
   "metadata": {},
   "source": [
    "> Écrire (\"sur le papier\", pas de calculs), quel est le modèle pour le taux de crime, pour la région NE et pour la région centre. Vous devez obtenir un modèle multiplicatif. Que peut on dire sur le rapport entre ces taux ? Quel est, suivant la même démarche, le rapport entre les taux de crime entre universités et collèges. "
   ]
  },
  {
   "cell_type": "code",
   "execution_count": null,
   "metadata": {},
   "outputs": [],
   "source": []
  },
  {
   "cell_type": "markdown",
   "metadata": {},
   "source": [
    "L'analyse exploratoire suggère que l'effet du type d'institution puise varier suivant les régions. On peut essayer de modéliser cette variation par un terme d'interaction. \n",
    "\n",
    "> Introduire dans le modèle un terme d'interaction entre type et région. Afficher les résultats. En considérant les p-values, ce terme est-il utile ? le modèle s'est-il amélioré ?  "
   ]
  },
  {
   "cell_type": "code",
   "execution_count": null,
   "metadata": {},
   "outputs": [],
   "source": []
  },
  {
   "cell_type": "code",
   "execution_count": null,
   "metadata": {},
   "outputs": [],
   "source": []
  },
  {
   "cell_type": "markdown",
   "metadata": {},
   "source": [
    "> Tracer les graphes de diagnostic"
   ]
  },
  {
   "cell_type": "code",
   "execution_count": null,
   "metadata": {},
   "outputs": [],
   "source": []
  },
  {
   "cell_type": "markdown",
   "metadata": {},
   "source": [
    "#### Régression avec une binomiale négative\n",
    "\n",
    "Cependant deux choses restent ennuyeuses : (a) la déviance reste importante (b) les observations ne semblent pas vraiment Poisson, car la variance devrait être égale à la moyenne et est bien plus importante. Une manière de traiter cela est (éventuellement) d'utiliser un autre modèle statistique et la binomiale négative  est une bon candidat. Rappelons que la binomiale négative apparaît lorsque le paramètre d'une loi de Poisson est lui-même aléatoire et suit une loi Gamma. On a deux niveaux d'aléatoire qui se traduisent par une augmentation de la variance. "
   ]
  },
  {
   "cell_type": "markdown",
   "metadata": {},
   "source": [
    "> Mettre en oeuvre ! (la lien canonique est toujours un log ; on pourra donc conserver l'offset). La famille est `sm.families.NegativeBinomial()` "
   ]
  },
  {
   "cell_type": "code",
   "execution_count": null,
   "metadata": {},
   "outputs": [],
   "source": []
  },
  {
   "cell_type": "code",
   "execution_count": null,
   "metadata": {},
   "outputs": [],
   "source": []
  },
  {
   "cell_type": "code",
   "execution_count": null,
   "metadata": {},
   "outputs": [],
   "source": []
  },
  {
   "cell_type": "markdown",
   "metadata": {
    "heading_collapsed": true
   },
   "source": [
    "## Réussite en maths"
   ]
  },
  {
   "cell_type": "markdown",
   "metadata": {
    "hidden": true
   },
   "source": [
    "Il s'agit d'un autre exercice sur la régression binomiale, que vous pourriez passer dans un premier temps. "
   ]
  },
  {
   "cell_type": "markdown",
   "metadata": {
    "hidden": true
   },
   "source": [
    "Le jeu de données rapporte des taux de réussite en mathématiques, en fonction de différents paramètres. On est donc dans une situation Succès/échecs modélisés par une loi binomiale.\n",
    "\n",
    "### Lecture et analyse\n",
    "\n",
    ">- Vous lirez les données via `sm.datasets.star98.load_pandas().data`\n",
    ">- et vous pourrez consulter la description par `print(sm.datasets.star98.NOTE)`"
   ]
  },
  {
   "cell_type": "code",
   "execution_count": null,
   "metadata": {
    "hidden": true
   },
   "outputs": [],
   "source": []
  },
  {
   "cell_type": "code",
   "execution_count": null,
   "metadata": {
    "hidden": true
   },
   "outputs": [],
   "source": []
  },
  {
   "cell_type": "markdown",
   "metadata": {
    "hidden": true
   },
   "source": [
    "### Régression\n",
    "\n",
    "> Mettre en oeuvre une régression binomiale pour `NABOVE + NBELOW` en fonction de l'ensemble des variables (*sans* les termes d'interaction)"
   ]
  },
  {
   "cell_type": "code",
   "execution_count": null,
   "metadata": {
    "hidden": true
   },
   "outputs": [],
   "source": []
  },
  {
   "cell_type": "markdown",
   "metadata": {
    "hidden": true
   },
   "source": [
    "> Mettre en oeuvre une régression binomiale pour `NABOVE + NBELOW` en fonction de l'ensemble des variables  et en ajoutant des termes d'interaction via `PERMINTE*AVYRSEXP*AVSALK + PERSPENK*PTRATIO*PCTAF`\n",
    "> Comment évolue l'AIC, les coefficients sont-ils significatifs ? "
   ]
  },
  {
   "cell_type": "code",
   "execution_count": null,
   "metadata": {
    "hidden": true
   },
   "outputs": [],
   "source": []
  },
  {
   "cell_type": "markdown",
   "metadata": {
    "hidden": true
   },
   "source": [
    "Le modèle étant obtenu, comparons sa capacité de prédiction des proportions et les proportions de succès effectives dans les données. Pour ce faire,\n",
    "\n",
    "> - Calculer  les prédictions, en utilisant `res.predict`\n",
    "> - Calculer les proportions effectives dans les données\n",
    "\n",
    "Comparer ces deux quantités, par exemple en traçant l'une en fonction de l'autre. "
   ]
  },
  {
   "cell_type": "code",
   "execution_count": null,
   "metadata": {
    "hidden": true
   },
   "outputs": [],
   "source": []
  },
  {
   "cell_type": "code",
   "execution_count": null,
   "metadata": {
    "hidden": true
   },
   "outputs": [],
   "source": []
  },
  {
   "cell_type": "markdown",
   "metadata": {
    "hidden": true
   },
   "source": [
    "> Si on persiste à augmenter le nombre de termes, via des interactions, en ajoutant `PERASIAN*PERBLACK*PERHISP*PCTCHRT*PCTYRRND`, que devbient l'AIC et la signification des variables ,  "
   ]
  },
  {
   "cell_type": "code",
   "execution_count": null,
   "metadata": {
    "hidden": true
   },
   "outputs": [],
   "source": []
  },
  {
   "cell_type": "markdown",
   "metadata": {
    "hidden": true
   },
   "source": [
    "> Retirer quelques variables non significatives et réitérez. Evolution de l'AIC ? "
   ]
  },
  {
   "cell_type": "code",
   "execution_count": null,
   "metadata": {
    "hidden": true
   },
   "outputs": [],
   "source": []
  },
  {
   "cell_type": "code",
   "execution_count": null,
   "metadata": {
    "hidden": true
   },
   "outputs": [],
   "source": []
  },
  {
   "cell_type": "markdown",
   "metadata": {},
   "source": [
    "## Richesse écologique\n",
    "\n",
    "On traite à nouveau un problème de comptage, avec une régression de Poisson. \n",
    "\n",
    "Les données de cet exercice ont été recueillies au cours d'une expérience qui a permis d'étudier la relation entre le nombre d'espèces végétales et la biomasse végétale cultivée dans des parcelles ayant subi trois traitements à pH contrôlé : faible, moyen et élevé. La recherche vise à déterminer si l'augmentation de la biomasse a un effet sur la richesse des espèces et si cet effet peut être modulé par le pH. Par conséquent, l'espèce est la variable de réponse et le pH et la biomasse sont des variables explicatives. Comme le nombre d'espèces est un compte (positif et entier), nous tenterons d'ajuster une distribution de Poisson à ces données.\n",
    "\n"
   ]
  },
  {
   "cell_type": "markdown",
   "metadata": {},
   "source": [
    "### Lecture et analyse\n",
    ">Charger le fichier `species.txt` et procéder à une exploration préliminaire. Combien de variables, de données, dépendances, histogrammes, boxplot..."
   ]
  },
  {
   "cell_type": "code",
   "execution_count": null,
   "metadata": {},
   "outputs": [],
   "source": []
  },
  {
   "cell_type": "code",
   "execution_count": null,
   "metadata": {},
   "outputs": [],
   "source": []
  },
  {
   "cell_type": "code",
   "execution_count": null,
   "metadata": {},
   "outputs": [],
   "source": []
  },
  {
   "cell_type": "markdown",
   "metadata": {},
   "source": [
    "#### Tracés\n",
    "\n",
    "displot, boxplot, pairplot (il faudra réencoder pH en 'pH_encoded' sur 3 niveaux -- par exemple 0, 1, 2), "
   ]
  },
  {
   "cell_type": "code",
   "execution_count": null,
   "metadata": {},
   "outputs": [],
   "source": []
  },
  {
   "cell_type": "code",
   "execution_count": null,
   "metadata": {},
   "outputs": [],
   "source": []
  },
  {
   "cell_type": "code",
   "execution_count": null,
   "metadata": {},
   "outputs": [],
   "source": []
  },
  {
   "cell_type": "code",
   "execution_count": null,
   "metadata": {},
   "outputs": [],
   "source": []
  },
  {
   "cell_type": "markdown",
   "metadata": {},
   "source": [
    "#### Tests statistiques \n",
    "\n",
    "Une fois n'est pas coutume, on va effectuer un test statistque pour tester si nos différents groupes de pH sont significatifs, et doivent donc être pris en compte en tant que variables explicatives distinctes. Pour cela, on va utiliser un ttest et une anova. "
   ]
  },
  {
   "cell_type": "markdown",
   "metadata": {},
   "source": [
    "> Vous mettrez en oeuvre un ttest à partir de `sm.stats.ttest_ind(..)`\n",
    "> Une anova à partie de `oneway` provenant de  `import statsmodels.stats.oneway as oneway`"
   ]
  },
  {
   "cell_type": "code",
   "execution_count": 31,
   "metadata": {},
   "outputs": [],
   "source": [
    "low = species['pH']=='low'\n",
    "mid = species['pH']=='mid'\n",
    "high = species['pH']=='high'\n"
   ]
  },
  {
   "cell_type": "code",
   "execution_count": 9,
   "metadata": {},
   "outputs": [],
   "source": [
    "import statsmodels.stats.oneway as oneway"
   ]
  },
  {
   "cell_type": "code",
   "execution_count": null,
   "metadata": {},
   "outputs": [],
   "source": []
  },
  {
   "cell_type": "code",
   "execution_count": null,
   "metadata": {},
   "outputs": [],
   "source": []
  },
  {
   "cell_type": "code",
   "execution_count": null,
   "metadata": {},
   "outputs": [],
   "source": []
  },
  {
   "cell_type": "markdown",
   "metadata": {},
   "source": [
    "### Premier modèle. \n",
    "\n",
    "Les données sont donc des comptages et l'hypothèse comme quoi la réponse serait Poisson n'est pas déraisonnable. On envisage donc une régression de Poisson, avec un glm utilisant la famille de Poisson (et par défaut un lien en log). \n",
    "\n",
    ">Effectuez la régression de Species en fonction de Biomass : définissez le modèle, apprenez le (méthode.fit) et affichez le résumé (attribut summary). "
   ]
  },
  {
   "cell_type": "code",
   "execution_count": null,
   "metadata": {},
   "outputs": [],
   "source": []
  },
  {
   "cell_type": "code",
   "execution_count": null,
   "metadata": {},
   "outputs": [],
   "source": []
  },
  {
   "cell_type": "markdown",
   "metadata": {},
   "source": [
    "> Selon ce modèle, quelle serait la valeur prédite (calcul \"à la main\") sur le log(mu) lorsque la biomasse = 5 ? Qu'est-ce que cela deviendrait sur l'échelle de la réponse, c'est-à-dire le nombre d'espèces ?"
   ]
  },
  {
   "cell_type": "code",
   "execution_count": null,
   "metadata": {},
   "outputs": [],
   "source": []
  },
  {
   "cell_type": "code",
   "execution_count": null,
   "metadata": {},
   "outputs": [],
   "source": []
  },
  {
   "cell_type": "code",
   "execution_count": null,
   "metadata": {},
   "outputs": [],
   "source": []
  },
  {
   "cell_type": "markdown",
   "metadata": {},
   "source": [
    "### 2e modèle\n",
    "\n",
    "> Ajouter maintenant la variable explicative `pH`, et éventuellement un terme d'interaction. Comment évolue le modèle ? "
   ]
  },
  {
   "cell_type": "code",
   "execution_count": null,
   "metadata": {},
   "outputs": [],
   "source": []
  },
  {
   "cell_type": "markdown",
   "metadata": {},
   "source": [
    "### diagnostic \n",
    "\n",
    "#### Tracez les quelques figures de diagnostic\n"
   ]
  },
  {
   "cell_type": "markdown",
   "metadata": {},
   "source": [
    "En utilisant le fonction `glm_residplot(res)`"
   ]
  },
  {
   "cell_type": "code",
   "execution_count": null,
   "metadata": {},
   "outputs": [],
   "source": []
  },
  {
   "cell_type": "markdown",
   "metadata": {},
   "source": [
    "#### Exploitation des prédictions\n",
    "\n",
    "> Utilisez `predict()` ou `get_prediction().summary_frame()` pour obtenir les prédictions. Tracez la relation entre le nombre d'espèces et la biomasse pour chaque niveau de pH, ainsi que les données de départ. Pourquoi les courbes ne sont-elles pas des lignes ?"
   ]
  },
  {
   "cell_type": "code",
   "execution_count": null,
   "metadata": {},
   "outputs": [],
   "source": []
  },
  {
   "cell_type": "code",
   "execution_count": null,
   "metadata": {},
   "outputs": [],
   "source": []
  },
  {
   "cell_type": "code",
   "execution_count": null,
   "metadata": {},
   "outputs": [],
   "source": []
  },
  {
   "cell_type": "code",
   "execution_count": null,
   "metadata": {},
   "outputs": [],
   "source": []
  },
  {
   "cell_type": "markdown",
   "metadata": {},
   "source": [
    "> Dans la  mesure où nous disposons dans le `summary_frame` des intervalles de confiance, autant l'utiliser... Ajouter un intervalle de confiance à vos tracés.. "
   ]
  },
  {
   "cell_type": "code",
   "execution_count": null,
   "metadata": {},
   "outputs": [],
   "source": []
  },
  {
   "cell_type": "code",
   "execution_count": null,
   "metadata": {},
   "outputs": [],
   "source": []
  },
  {
   "cell_type": "markdown",
   "metadata": {},
   "source": [
    "## Quine Data\n",
    "\n",
    "La description des données est ici\n",
    "https://stat.ethz.ch/R-manual/R-devel/library/MASS/html/quine.html\n",
    "\n",
    "Pas fini !"
   ]
  },
  {
   "cell_type": "code",
   "execution_count": null,
   "metadata": {},
   "outputs": [],
   "source": []
  }
 ],
 "metadata": {
  "hide_input": false,
  "kernelspec": {
   "display_name": "Python 3 (ipykernel)",
   "language": "python",
   "name": "python3"
  },
  "language_info": {
   "codemirror_mode": {
    "name": "ipython",
    "version": 3
   },
   "file_extension": ".py",
   "mimetype": "text/x-python",
   "name": "python",
   "nbconvert_exporter": "python",
   "pygments_lexer": "ipython3",
   "version": "3.9.18"
  },
  "latex_envs": {
   "LaTeX_envs_menu_present": true,
   "autoclose": false,
   "autocomplete": false,
   "bibliofile": "latex_bib.bib",
   "cite_by": "apalike",
   "current_citInitial": 1,
   "eqLabelWithNumbers": true,
   "eqNumInitial": 1,
   "hotkeys": {
    "equation": "ctrl-e",
    "itemize": "Ctrl-I"
   },
   "labels_anchors": false,
   "latex_user_defs": false,
   "report_style_numbering": false,
   "user_envs_cfg": false
  },
  "nbTranslate": {
   "displayLangs": [
    "*"
   ],
   "hotkey": "alt-t",
   "langInMainMenu": true,
   "sourceLang": "en",
   "targetLang": "fr",
   "useGoogleTranslate": true
  },
  "toc": {
   "base_numbering": "0",
   "nav_menu": {},
   "number_sections": true,
   "sideBar": true,
   "skip_h1_title": false,
   "title_cell": "Table of Contents",
   "title_sidebar": "Contents",
   "toc_cell": true,
   "toc_position": {
    "height": "calc(100% - 180px)",
    "left": "10px",
    "top": "150px",
    "width": "214.062px"
   },
   "toc_section_display": true,
   "toc_window_display": true
  },
  "varInspector": {
   "cols": {
    "lenName": 16,
    "lenType": 16,
    "lenVar": 40
   },
   "kernels_config": {
    "python": {
     "delete_cmd_postfix": "",
     "delete_cmd_prefix": "del ",
     "library": "var_list.py",
     "varRefreshCmd": "print(var_dic_list())"
    },
    "r": {
     "delete_cmd_postfix": ") ",
     "delete_cmd_prefix": "rm(",
     "library": "var_list.r",
     "varRefreshCmd": "cat(var_dic_list()) "
    }
   },
   "types_to_exclude": [
    "module",
    "function",
    "builtin_function_or_method",
    "instance",
    "_Feature"
   ],
   "window_display": false
  }
 },
 "nbformat": 4,
 "nbformat_minor": 4
}
